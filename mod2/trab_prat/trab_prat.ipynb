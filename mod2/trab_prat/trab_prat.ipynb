{
 "cells": [
  {
   "cell_type": "code",
   "execution_count": 60,
   "metadata": {},
   "outputs": [],
   "source": [
    "import pandas as pd"
   ]
  },
  {
   "cell_type": "code",
   "execution_count": 61,
   "metadata": {},
   "outputs": [],
   "source": [
    "dir_data = 'data/BASE_TP/'"
   ]
  },
  {
   "cell_type": "code",
   "execution_count": 62,
   "metadata": {},
   "outputs": [],
   "source": [
    "import pathlib\n",
    "\n",
    "t = pathlib.Path(dir_data).iterdir()\n",
    "\n",
    "dfs = []\n",
    "for i in t:\n",
    "    dfs.append(pd.read_csv(i,  encoding = \"ISO-8859-1\", sep='|'))\n",
    "\n",
    "\n",
    "df = pd.concat(dfs, ignore_index=True)"
   ]
  },
  {
   "cell_type": "code",
   "execution_count": 63,
   "metadata": {},
   "outputs": [
    {
     "data": {
      "text/html": [
       "<div>\n",
       "<style scoped>\n",
       "    .dataframe tbody tr th:only-of-type {\n",
       "        vertical-align: middle;\n",
       "    }\n",
       "\n",
       "    .dataframe tbody tr th {\n",
       "        vertical-align: top;\n",
       "    }\n",
       "\n",
       "    .dataframe thead th {\n",
       "        text-align: right;\n",
       "    }\n",
       "</style>\n",
       "<table border=\"1\" class=\"dataframe\">\n",
       "  <thead>\n",
       "    <tr style=\"text-align: right;\">\n",
       "      <th></th>\n",
       "      <th>cod_pessoa</th>\n",
       "      <th>data_coleta</th>\n",
       "      <th>genero</th>\n",
       "      <th>data_nascimento</th>\n",
       "      <th>animal_estimacao</th>\n",
       "      <th>clima</th>\n",
       "      <th>bebida_favorita</th>\n",
       "      <th>hobbies</th>\n",
       "    </tr>\n",
       "  </thead>\n",
       "  <tbody>\n",
       "    <tr>\n",
       "      <th>0</th>\n",
       "      <td>10141824</td>\n",
       "      <td>2020-03-15</td>\n",
       "      <td>Feminino</td>\n",
       "      <td>1995-10-09</td>\n",
       "      <td>peixe</td>\n",
       "      <td>quente</td>\n",
       "      <td>Cerveja</td>\n",
       "      <td>Praticar esporte</td>\n",
       "    </tr>\n",
       "    <tr>\n",
       "      <th>1</th>\n",
       "      <td>10141910</td>\n",
       "      <td>2020-03-15</td>\n",
       "      <td>Feminino</td>\n",
       "      <td>1992-12-15</td>\n",
       "      <td>peixe</td>\n",
       "      <td>quente</td>\n",
       "      <td>Vinho</td>\n",
       "      <td>Assistir TV</td>\n",
       "    </tr>\n",
       "    <tr>\n",
       "      <th>2</th>\n",
       "      <td>10141955</td>\n",
       "      <td>2020-03-15</td>\n",
       "      <td>Feminino</td>\n",
       "      <td>1973-12-26</td>\n",
       "      <td>peixe</td>\n",
       "      <td>quente</td>\n",
       "      <td>Vinho</td>\n",
       "      <td>Dormir</td>\n",
       "    </tr>\n",
       "    <tr>\n",
       "      <th>3</th>\n",
       "      <td>10142143</td>\n",
       "      <td>2020-03-15</td>\n",
       "      <td>Masculino</td>\n",
       "      <td>1996-12-19</td>\n",
       "      <td>cachorro</td>\n",
       "      <td>quente</td>\n",
       "      <td>Cerveja</td>\n",
       "      <td>Pintar quadros</td>\n",
       "    </tr>\n",
       "    <tr>\n",
       "      <th>4</th>\n",
       "      <td>10142661</td>\n",
       "      <td>2020-03-15</td>\n",
       "      <td>Masculino</td>\n",
       "      <td>1971-12-24</td>\n",
       "      <td>tartaruga</td>\n",
       "      <td>quente</td>\n",
       "      <td>Café</td>\n",
       "      <td>Pintar quadros</td>\n",
       "    </tr>\n",
       "    <tr>\n",
       "      <th>...</th>\n",
       "      <td>...</td>\n",
       "      <td>...</td>\n",
       "      <td>...</td>\n",
       "      <td>...</td>\n",
       "      <td>...</td>\n",
       "      <td>...</td>\n",
       "      <td>...</td>\n",
       "      <td>...</td>\n",
       "    </tr>\n",
       "    <tr>\n",
       "      <th>2122</th>\n",
       "      <td>10142468</td>\n",
       "      <td>2020-11-12</td>\n",
       "      <td>Masculino</td>\n",
       "      <td>1994-09-23</td>\n",
       "      <td>gato</td>\n",
       "      <td>quente</td>\n",
       "      <td>Cerveja</td>\n",
       "      <td>Escutar música</td>\n",
       "    </tr>\n",
       "    <tr>\n",
       "      <th>2123</th>\n",
       "      <td>10142858</td>\n",
       "      <td>2020-11-12</td>\n",
       "      <td>Masculino</td>\n",
       "      <td>1963-04-06</td>\n",
       "      <td>gato</td>\n",
       "      <td>quente</td>\n",
       "      <td>refrigerante</td>\n",
       "      <td>Dormir</td>\n",
       "    </tr>\n",
       "    <tr>\n",
       "      <th>2124</th>\n",
       "      <td>10142995</td>\n",
       "      <td>2020-11-12</td>\n",
       "      <td>Masculino</td>\n",
       "      <td>1969-10-05</td>\n",
       "      <td>gato</td>\n",
       "      <td>moderado</td>\n",
       "      <td>Chá</td>\n",
       "      <td>Assistir TV</td>\n",
       "    </tr>\n",
       "    <tr>\n",
       "      <th>2125</th>\n",
       "      <td>10143260</td>\n",
       "      <td>2020-11-12</td>\n",
       "      <td>Masculino</td>\n",
       "      <td>1962-05-19</td>\n",
       "      <td>gato</td>\n",
       "      <td>moderado</td>\n",
       "      <td>Cerveja</td>\n",
       "      <td>Pintar quadros</td>\n",
       "    </tr>\n",
       "    <tr>\n",
       "      <th>2126</th>\n",
       "      <td>10143399</td>\n",
       "      <td>2020-11-12</td>\n",
       "      <td>Feminino</td>\n",
       "      <td>1988-04-17</td>\n",
       "      <td>peixe</td>\n",
       "      <td>moderado</td>\n",
       "      <td>Vinho</td>\n",
       "      <td>Praticar esporte</td>\n",
       "    </tr>\n",
       "  </tbody>\n",
       "</table>\n",
       "<p>2127 rows × 8 columns</p>\n",
       "</div>"
      ],
      "text/plain": [
       "      cod_pessoa data_coleta     genero data_nascimento animal_estimacao  \\\n",
       "0       10141824  2020-03-15   Feminino      1995-10-09            peixe   \n",
       "1       10141910  2020-03-15   Feminino      1992-12-15            peixe   \n",
       "2       10141955  2020-03-15   Feminino      1973-12-26            peixe   \n",
       "3       10142143  2020-03-15  Masculino      1996-12-19         cachorro   \n",
       "4       10142661  2020-03-15  Masculino      1971-12-24        tartaruga   \n",
       "...          ...         ...        ...             ...              ...   \n",
       "2122    10142468  2020-11-12  Masculino      1994-09-23             gato   \n",
       "2123    10142858  2020-11-12  Masculino      1963-04-06             gato   \n",
       "2124    10142995  2020-11-12  Masculino      1969-10-05             gato   \n",
       "2125    10143260  2020-11-12  Masculino      1962-05-19             gato   \n",
       "2126    10143399  2020-11-12   Feminino      1988-04-17            peixe   \n",
       "\n",
       "         clima bebida_favorita           hobbies  \n",
       "0       quente         Cerveja  Praticar esporte  \n",
       "1       quente           Vinho       Assistir TV  \n",
       "2       quente           Vinho            Dormir  \n",
       "3       quente         Cerveja    Pintar quadros  \n",
       "4       quente            Café    Pintar quadros  \n",
       "...        ...             ...               ...  \n",
       "2122    quente         Cerveja    Escutar música  \n",
       "2123    quente    refrigerante            Dormir  \n",
       "2124  moderado             Chá       Assistir TV  \n",
       "2125  moderado         Cerveja    Pintar quadros  \n",
       "2126  moderado           Vinho  Praticar esporte  \n",
       "\n",
       "[2127 rows x 8 columns]"
      ]
     },
     "execution_count": 63,
     "metadata": {},
     "output_type": "execute_result"
    }
   ],
   "source": [
    "df"
   ]
  },
  {
   "cell_type": "code",
   "execution_count": 64,
   "metadata": {},
   "outputs": [],
   "source": [
    "df['data_nascimento'] = pd.to_datetime(df['data_nascimento'])\n",
    "df['data_coleta'] = pd.to_datetime(df['data_coleta'])"
   ]
  },
  {
   "cell_type": "code",
   "execution_count": 65,
   "metadata": {},
   "outputs": [
    {
     "data": {
      "text/html": [
       "<div>\n",
       "<style scoped>\n",
       "    .dataframe tbody tr th:only-of-type {\n",
       "        vertical-align: middle;\n",
       "    }\n",
       "\n",
       "    .dataframe tbody tr th {\n",
       "        vertical-align: top;\n",
       "    }\n",
       "\n",
       "    .dataframe thead th {\n",
       "        text-align: right;\n",
       "    }\n",
       "</style>\n",
       "<table border=\"1\" class=\"dataframe\">\n",
       "  <thead>\n",
       "    <tr style=\"text-align: right;\">\n",
       "      <th></th>\n",
       "      <th>cod_pessoa</th>\n",
       "      <th>data_coleta</th>\n",
       "      <th>genero</th>\n",
       "      <th>data_nascimento</th>\n",
       "      <th>animal_estimacao</th>\n",
       "      <th>clima</th>\n",
       "      <th>bebida_favorita</th>\n",
       "      <th>hobbies</th>\n",
       "      <th>age</th>\n",
       "    </tr>\n",
       "  </thead>\n",
       "  <tbody>\n",
       "    <tr>\n",
       "      <th>0</th>\n",
       "      <td>10141824</td>\n",
       "      <td>2020-03-15</td>\n",
       "      <td>Feminino</td>\n",
       "      <td>1995-10-09</td>\n",
       "      <td>peixe</td>\n",
       "      <td>quente</td>\n",
       "      <td>Cerveja</td>\n",
       "      <td>Praticar esporte</td>\n",
       "      <td>24.0</td>\n",
       "    </tr>\n",
       "    <tr>\n",
       "      <th>1</th>\n",
       "      <td>10141910</td>\n",
       "      <td>2020-03-15</td>\n",
       "      <td>Feminino</td>\n",
       "      <td>1992-12-15</td>\n",
       "      <td>peixe</td>\n",
       "      <td>quente</td>\n",
       "      <td>Vinho</td>\n",
       "      <td>Assistir TV</td>\n",
       "      <td>27.0</td>\n",
       "    </tr>\n",
       "    <tr>\n",
       "      <th>2</th>\n",
       "      <td>10141955</td>\n",
       "      <td>2020-03-15</td>\n",
       "      <td>Feminino</td>\n",
       "      <td>1973-12-26</td>\n",
       "      <td>peixe</td>\n",
       "      <td>quente</td>\n",
       "      <td>Vinho</td>\n",
       "      <td>Dormir</td>\n",
       "      <td>46.0</td>\n",
       "    </tr>\n",
       "    <tr>\n",
       "      <th>3</th>\n",
       "      <td>10142143</td>\n",
       "      <td>2020-03-15</td>\n",
       "      <td>Masculino</td>\n",
       "      <td>1996-12-19</td>\n",
       "      <td>cachorro</td>\n",
       "      <td>quente</td>\n",
       "      <td>Cerveja</td>\n",
       "      <td>Pintar quadros</td>\n",
       "      <td>23.0</td>\n",
       "    </tr>\n",
       "    <tr>\n",
       "      <th>4</th>\n",
       "      <td>10142661</td>\n",
       "      <td>2020-03-15</td>\n",
       "      <td>Masculino</td>\n",
       "      <td>1971-12-24</td>\n",
       "      <td>tartaruga</td>\n",
       "      <td>quente</td>\n",
       "      <td>Café</td>\n",
       "      <td>Pintar quadros</td>\n",
       "      <td>48.0</td>\n",
       "    </tr>\n",
       "    <tr>\n",
       "      <th>...</th>\n",
       "      <td>...</td>\n",
       "      <td>...</td>\n",
       "      <td>...</td>\n",
       "      <td>...</td>\n",
       "      <td>...</td>\n",
       "      <td>...</td>\n",
       "      <td>...</td>\n",
       "      <td>...</td>\n",
       "      <td>...</td>\n",
       "    </tr>\n",
       "    <tr>\n",
       "      <th>2122</th>\n",
       "      <td>10142468</td>\n",
       "      <td>2020-11-12</td>\n",
       "      <td>Masculino</td>\n",
       "      <td>1994-09-23</td>\n",
       "      <td>gato</td>\n",
       "      <td>quente</td>\n",
       "      <td>Cerveja</td>\n",
       "      <td>Escutar música</td>\n",
       "      <td>26.0</td>\n",
       "    </tr>\n",
       "    <tr>\n",
       "      <th>2123</th>\n",
       "      <td>10142858</td>\n",
       "      <td>2020-11-12</td>\n",
       "      <td>Masculino</td>\n",
       "      <td>1963-04-06</td>\n",
       "      <td>gato</td>\n",
       "      <td>quente</td>\n",
       "      <td>refrigerante</td>\n",
       "      <td>Dormir</td>\n",
       "      <td>57.0</td>\n",
       "    </tr>\n",
       "    <tr>\n",
       "      <th>2124</th>\n",
       "      <td>10142995</td>\n",
       "      <td>2020-11-12</td>\n",
       "      <td>Masculino</td>\n",
       "      <td>1969-10-05</td>\n",
       "      <td>gato</td>\n",
       "      <td>moderado</td>\n",
       "      <td>Chá</td>\n",
       "      <td>Assistir TV</td>\n",
       "      <td>51.0</td>\n",
       "    </tr>\n",
       "    <tr>\n",
       "      <th>2125</th>\n",
       "      <td>10143260</td>\n",
       "      <td>2020-11-12</td>\n",
       "      <td>Masculino</td>\n",
       "      <td>1962-05-19</td>\n",
       "      <td>gato</td>\n",
       "      <td>moderado</td>\n",
       "      <td>Cerveja</td>\n",
       "      <td>Pintar quadros</td>\n",
       "      <td>58.0</td>\n",
       "    </tr>\n",
       "    <tr>\n",
       "      <th>2126</th>\n",
       "      <td>10143399</td>\n",
       "      <td>2020-11-12</td>\n",
       "      <td>Feminino</td>\n",
       "      <td>1988-04-17</td>\n",
       "      <td>peixe</td>\n",
       "      <td>moderado</td>\n",
       "      <td>Vinho</td>\n",
       "      <td>Praticar esporte</td>\n",
       "      <td>32.0</td>\n",
       "    </tr>\n",
       "  </tbody>\n",
       "</table>\n",
       "<p>2127 rows × 9 columns</p>\n",
       "</div>"
      ],
      "text/plain": [
       "      cod_pessoa data_coleta     genero data_nascimento animal_estimacao  \\\n",
       "0       10141824  2020-03-15   Feminino      1995-10-09            peixe   \n",
       "1       10141910  2020-03-15   Feminino      1992-12-15            peixe   \n",
       "2       10141955  2020-03-15   Feminino      1973-12-26            peixe   \n",
       "3       10142143  2020-03-15  Masculino      1996-12-19         cachorro   \n",
       "4       10142661  2020-03-15  Masculino      1971-12-24        tartaruga   \n",
       "...          ...         ...        ...             ...              ...   \n",
       "2122    10142468  2020-11-12  Masculino      1994-09-23             gato   \n",
       "2123    10142858  2020-11-12  Masculino      1963-04-06             gato   \n",
       "2124    10142995  2020-11-12  Masculino      1969-10-05             gato   \n",
       "2125    10143260  2020-11-12  Masculino      1962-05-19             gato   \n",
       "2126    10143399  2020-11-12   Feminino      1988-04-17            peixe   \n",
       "\n",
       "         clima bebida_favorita           hobbies   age  \n",
       "0       quente         Cerveja  Praticar esporte  24.0  \n",
       "1       quente           Vinho       Assistir TV  27.0  \n",
       "2       quente           Vinho            Dormir  46.0  \n",
       "3       quente         Cerveja    Pintar quadros  23.0  \n",
       "4       quente            Café    Pintar quadros  48.0  \n",
       "...        ...             ...               ...   ...  \n",
       "2122    quente         Cerveja    Escutar música  26.0  \n",
       "2123    quente    refrigerante            Dormir  57.0  \n",
       "2124  moderado             Chá       Assistir TV  51.0  \n",
       "2125  moderado         Cerveja    Pintar quadros  58.0  \n",
       "2126  moderado           Vinho  Praticar esporte  32.0  \n",
       "\n",
       "[2127 rows x 9 columns]"
      ]
     },
     "execution_count": 65,
     "metadata": {},
     "output_type": "execute_result"
    }
   ],
   "source": [
    "df['age'] = (df['data_coleta'] - df['data_nascimento']).astype('<m8[Y]')\n",
    "\n",
    "df"
   ]
  },
  {
   "attachments": {},
   "cell_type": "markdown",
   "metadata": {},
   "source": [
    "### Preference for cat and dogs"
   ]
  },
  {
   "cell_type": "code",
   "execution_count": 66,
   "metadata": {},
   "outputs": [
    {
     "data": {
      "text/plain": [
       "animal_estimacao\n",
       "cachorro     414\n",
       "gato         864\n",
       "peixe        432\n",
       "tartaruga    417\n",
       "dtype: int64"
      ]
     },
     "execution_count": 66,
     "metadata": {},
     "output_type": "execute_result"
    }
   ],
   "source": [
    "df.groupby('animal_estimacao').size()"
   ]
  },
  {
   "cell_type": "code",
   "execution_count": 88,
   "metadata": {},
   "outputs": [
    {
     "data": {
      "text/plain": [
       "1278"
      ]
     },
     "execution_count": 88,
     "metadata": {},
     "output_type": "execute_result"
    }
   ],
   "source": [
    "dog_cat = df[(df['animal_estimacao'] == \"cachorro\") | (df['animal_estimacao'] == \"gato\")]\n",
    "dog_cat['animal_estimacao'].count()"
   ]
  },
  {
   "attachments": {},
   "cell_type": "markdown",
   "metadata": {},
   "source": [
    "### Median of mens that likes beer and warm weather"
   ]
  },
  {
   "cell_type": "code",
   "execution_count": 100,
   "metadata": {},
   "outputs": [
    {
     "data": {
      "text/plain": [
       "43.94736842105263"
      ]
     },
     "execution_count": 100,
     "metadata": {},
     "output_type": "execute_result"
    }
   ],
   "source": [
    "df_age = df[(df['bebida_favorita'] == 'Cerveja') & (df['clima'] == 'quente') & (df['genero'] == 'Masculino')]\n",
    "media_idade = df_age['age'].mean()\n",
    "media_idade"
   ]
  },
  {
   "attachments": {},
   "cell_type": "markdown",
   "metadata": {},
   "source": [
    "### Qual é o segundo hobbie de maior preferência entre os homens?"
   ]
  },
  {
   "cell_type": "code",
   "execution_count": 70,
   "metadata": {},
   "outputs": [
    {
     "data": {
      "text/plain": [
       "hobbies\n",
       "Dormir                184\n",
       "Aprender algo novo    183\n",
       "Escrever              182\n",
       "Ler livros            177\n",
       "Praticar esporte      175\n",
       "Assistir TV           173\n",
       "Pintar quadros        171\n",
       "Escutar música        153\n",
       "dtype: int64"
      ]
     },
     "execution_count": 70,
     "metadata": {},
     "output_type": "execute_result"
    }
   ],
   "source": [
    "df_hobb = df[df['genero'] == 'Masculino'].groupby('hobbies').size().sort_values(ascending=False)\n",
    "df_hobb"
   ]
  },
  {
   "attachments": {},
   "cell_type": "markdown",
   "metadata": {},
   "source": [
    "### Qual o hobbie de maior preferência entre as mulheres que gostam de  cachorro?"
   ]
  },
  {
   "cell_type": "code",
   "execution_count": 71,
   "metadata": {},
   "outputs": [
    {
     "data": {
      "text/plain": [
       "hobbies\n",
       "Praticar esporte      22\n",
       "Dormir                21\n",
       "Escutar música        18\n",
       "Ler livros            18\n",
       "Pintar quadros        18\n",
       "Assistir TV           16\n",
       "Aprender algo novo    15\n",
       "Escrever              15\n",
       "dtype: int64"
      ]
     },
     "execution_count": 71,
     "metadata": {},
     "output_type": "execute_result"
    }
   ],
   "source": [
    "df_hobb_woman_dog = df[(df['genero'] == 'Feminino') & (df['animal_estimacao'] == 'cachorro')]\n",
    "df_hobb_woman_dog.groupby('hobbies').size().sort_values(ascending=False)"
   ]
  },
  {
   "attachments": {},
   "cell_type": "markdown",
   "metadata": {},
   "source": [
    "### Qual a bebida favorita entre as mulheres e homens?"
   ]
  },
  {
   "cell_type": "code",
   "execution_count": 73,
   "metadata": {},
   "outputs": [
    {
     "name": "stdout",
     "output_type": "stream",
     "text": [
      "genero     bebida_favorita\n",
      "Masculino  Café               258\n",
      "           Cerveja            250\n",
      "           refrigerante       226\n",
      "           Chá                223\n",
      "           Água               222\n",
      "           Vinho              219\n",
      "Feminino   Cerveja            138\n",
      "           Café               125\n",
      "           Chá                125\n",
      "           refrigerante       124\n",
      "           Vinho              114\n",
      "           Água               103\n",
      "Name: cod_pessoa, dtype: int64\n"
     ]
    }
   ],
   "source": [
    "df_men_women = df[(df['genero'] == 'Masculino') | (df['genero'] == 'Feminino')]\n",
    "count_bebidas = df_men_women.groupby(['genero', 'bebida_favorita']).count()['cod_pessoa']\n",
    "count_bebidas = count_bebidas.sort_values(ascending=False)\n",
    "print(count_bebidas)\n"
   ]
  },
  {
   "attachments": {},
   "cell_type": "markdown",
   "metadata": {},
   "source": [
    "### Qual é a média de idade das pessoas que tem como hobbie Ler livros?"
   ]
  },
  {
   "cell_type": "code",
   "execution_count": 101,
   "metadata": {},
   "outputs": [
    {
     "data": {
      "text/plain": [
       "43.583657587548636"
      ]
     },
     "execution_count": 101,
     "metadata": {},
     "output_type": "execute_result"
    }
   ],
   "source": [
    "df_books = df[df['hobbies'] == 'Ler livros']\n",
    "media_idade = df_books['age'].mean()\n",
    "media_idade"
   ]
  },
  {
   "attachments": {},
   "cell_type": "markdown",
   "metadata": {},
   "source": [
    "### Quantas pessoas tem como Hobbie Aprender algo novo e qual a sua média de idade respectivamente? "
   ]
  },
  {
   "cell_type": "code",
   "execution_count": 114,
   "metadata": {},
   "outputs": [
    {
     "name": "stdout",
     "output_type": "stream",
     "text": [
      "pessoas: 271 media de idade 44.59\n"
     ]
    }
   ],
   "source": [
    "new_things = df[df['hobbies'] == 'Aprender algo novo']\n",
    "pessoas_nt = new_things['cod_pessoa'].count()\n",
    "print(f\"pessoas: {pessoas_nt} media de idade {new_things['age'].mean():.2f}\")"
   ]
  },
  {
   "attachments": {},
   "cell_type": "markdown",
   "metadata": {},
   "source": [
    "### Qual é a idade da pessoa mais velha e qual é o animal de maior preferência entre esse grupo?"
   ]
  },
  {
   "cell_type": "code",
   "execution_count": 12,
   "metadata": {},
   "outputs": [
    {
     "data": {
      "text/html": [
       "<div>\n",
       "<style scoped>\n",
       "    .dataframe tbody tr th:only-of-type {\n",
       "        vertical-align: middle;\n",
       "    }\n",
       "\n",
       "    .dataframe tbody tr th {\n",
       "        vertical-align: top;\n",
       "    }\n",
       "\n",
       "    .dataframe thead tr th {\n",
       "        text-align: left;\n",
       "    }\n",
       "\n",
       "    .dataframe thead tr:last-of-type th {\n",
       "        text-align: right;\n",
       "    }\n",
       "</style>\n",
       "<table border=\"1\" class=\"dataframe\">\n",
       "  <thead>\n",
       "    <tr>\n",
       "      <th></th>\n",
       "      <th colspan=\"8\" halign=\"left\">cod_pessoa</th>\n",
       "      <th colspan=\"8\" halign=\"left\">age</th>\n",
       "    </tr>\n",
       "    <tr>\n",
       "      <th></th>\n",
       "      <th>count</th>\n",
       "      <th>mean</th>\n",
       "      <th>std</th>\n",
       "      <th>min</th>\n",
       "      <th>25%</th>\n",
       "      <th>50%</th>\n",
       "      <th>75%</th>\n",
       "      <th>max</th>\n",
       "      <th>count</th>\n",
       "      <th>mean</th>\n",
       "      <th>std</th>\n",
       "      <th>min</th>\n",
       "      <th>25%</th>\n",
       "      <th>50%</th>\n",
       "      <th>75%</th>\n",
       "      <th>max</th>\n",
       "    </tr>\n",
       "    <tr>\n",
       "      <th>animal_estimacao</th>\n",
       "      <th></th>\n",
       "      <th></th>\n",
       "      <th></th>\n",
       "      <th></th>\n",
       "      <th></th>\n",
       "      <th></th>\n",
       "      <th></th>\n",
       "      <th></th>\n",
       "      <th></th>\n",
       "      <th></th>\n",
       "      <th></th>\n",
       "      <th></th>\n",
       "      <th></th>\n",
       "      <th></th>\n",
       "      <th></th>\n",
       "      <th></th>\n",
       "    </tr>\n",
       "  </thead>\n",
       "  <tbody>\n",
       "    <tr>\n",
       "      <th>cachorro</th>\n",
       "      <td>5.0</td>\n",
       "      <td>1.014229e+07</td>\n",
       "      <td>667.921178</td>\n",
       "      <td>10141538.0</td>\n",
       "      <td>10141870.00</td>\n",
       "      <td>10142073.0</td>\n",
       "      <td>10142801.0</td>\n",
       "      <td>10143147.0</td>\n",
       "      <td>5.0</td>\n",
       "      <td>70.0</td>\n",
       "      <td>0.0</td>\n",
       "      <td>70.0</td>\n",
       "      <td>70.0</td>\n",
       "      <td>70.0</td>\n",
       "      <td>70.0</td>\n",
       "      <td>70.0</td>\n",
       "    </tr>\n",
       "    <tr>\n",
       "      <th>gato</th>\n",
       "      <td>10.0</td>\n",
       "      <td>1.014227e+07</td>\n",
       "      <td>513.996066</td>\n",
       "      <td>10141617.0</td>\n",
       "      <td>10141910.75</td>\n",
       "      <td>10142233.5</td>\n",
       "      <td>10142548.5</td>\n",
       "      <td>10143223.0</td>\n",
       "      <td>10.0</td>\n",
       "      <td>70.0</td>\n",
       "      <td>0.0</td>\n",
       "      <td>70.0</td>\n",
       "      <td>70.0</td>\n",
       "      <td>70.0</td>\n",
       "      <td>70.0</td>\n",
       "      <td>70.0</td>\n",
       "    </tr>\n",
       "    <tr>\n",
       "      <th>peixe</th>\n",
       "      <td>5.0</td>\n",
       "      <td>1.014252e+07</td>\n",
       "      <td>915.500246</td>\n",
       "      <td>10141655.0</td>\n",
       "      <td>10141752.00</td>\n",
       "      <td>10142200.0</td>\n",
       "      <td>10143437.0</td>\n",
       "      <td>10143555.0</td>\n",
       "      <td>5.0</td>\n",
       "      <td>70.0</td>\n",
       "      <td>0.0</td>\n",
       "      <td>70.0</td>\n",
       "      <td>70.0</td>\n",
       "      <td>70.0</td>\n",
       "      <td>70.0</td>\n",
       "      <td>70.0</td>\n",
       "    </tr>\n",
       "    <tr>\n",
       "      <th>tartaruga</th>\n",
       "      <td>6.0</td>\n",
       "      <td>1.014209e+07</td>\n",
       "      <td>431.325245</td>\n",
       "      <td>10141547.0</td>\n",
       "      <td>10141760.75</td>\n",
       "      <td>10142162.5</td>\n",
       "      <td>10142311.5</td>\n",
       "      <td>10142688.0</td>\n",
       "      <td>6.0</td>\n",
       "      <td>70.0</td>\n",
       "      <td>0.0</td>\n",
       "      <td>70.0</td>\n",
       "      <td>70.0</td>\n",
       "      <td>70.0</td>\n",
       "      <td>70.0</td>\n",
       "      <td>70.0</td>\n",
       "    </tr>\n",
       "  </tbody>\n",
       "</table>\n",
       "</div>"
      ],
      "text/plain": [
       "                 cod_pessoa                                        \\\n",
       "                      count          mean         std         min   \n",
       "animal_estimacao                                                    \n",
       "cachorro                5.0  1.014229e+07  667.921178  10141538.0   \n",
       "gato                   10.0  1.014227e+07  513.996066  10141617.0   \n",
       "peixe                   5.0  1.014252e+07  915.500246  10141655.0   \n",
       "tartaruga               6.0  1.014209e+07  431.325245  10141547.0   \n",
       "\n",
       "                                                                    age        \\\n",
       "                          25%         50%         75%         max count  mean   \n",
       "animal_estimacao                                                                \n",
       "cachorro          10141870.00  10142073.0  10142801.0  10143147.0   5.0  70.0   \n",
       "gato              10141910.75  10142233.5  10142548.5  10143223.0  10.0  70.0   \n",
       "peixe             10141752.00  10142200.0  10143437.0  10143555.0   5.0  70.0   \n",
       "tartaruga         10141760.75  10142162.5  10142311.5  10142688.0   6.0  70.0   \n",
       "\n",
       "                                                     \n",
       "                  std   min   25%   50%   75%   max  \n",
       "animal_estimacao                                     \n",
       "cachorro          0.0  70.0  70.0  70.0  70.0  70.0  \n",
       "gato              0.0  70.0  70.0  70.0  70.0  70.0  \n",
       "peixe             0.0  70.0  70.0  70.0  70.0  70.0  \n",
       "tartaruga         0.0  70.0  70.0  70.0  70.0  70.0  "
      ]
     },
     "execution_count": 12,
     "metadata": {},
     "output_type": "execute_result"
    }
   ],
   "source": [
    "idade_maxima = df['age'].max()\n",
    "df_maximo = df[df['age'] == idade_maxima]\n",
    "contagem_animais = df_maximo['animal_estimacao'].value_counts()\n",
    "\n",
    "df_maximo.groupby('animal_estimacao').describe()\n"
   ]
  },
  {
   "attachments": {},
   "cell_type": "markdown",
   "metadata": {},
   "source": [
    "### Qual é o animal de estimação de menor preferência entre os homens?"
   ]
  },
  {
   "cell_type": "code",
   "execution_count": 13,
   "metadata": {},
   "outputs": [
    {
     "data": {
      "text/plain": [
       "animal_estimacao\n",
       "cachorro     271\n",
       "gato         585\n",
       "peixe        274\n",
       "tartaruga    268\n",
       "Name: animal_estimacao, dtype: int64"
      ]
     },
     "execution_count": 13,
     "metadata": {},
     "output_type": "execute_result"
    }
   ],
   "source": [
    "homens_animal = df[(df['genero'] == 'Masculino')]\n",
    "homens_animal.groupby('animal_estimacao')['animal_estimacao'].count()"
   ]
  },
  {
   "attachments": {},
   "cell_type": "markdown",
   "metadata": {},
   "source": [
    "### Quantas pessoas que gostam do clima frio ?"
   ]
  },
  {
   "cell_type": "code",
   "execution_count": 14,
   "metadata": {},
   "outputs": [
    {
     "data": {
      "text/plain": [
       "cod_pessoa          723\n",
       "data_coleta         723\n",
       "genero              723\n",
       "data_nascimento     723\n",
       "animal_estimacao    723\n",
       "clima               723\n",
       "bebida_favorita     723\n",
       "hobbies             723\n",
       "age                 723\n",
       "dtype: int64"
      ]
     },
     "execution_count": 14,
     "metadata": {},
     "output_type": "execute_result"
    }
   ],
   "source": [
    "clima_frio = df[df['clima'] == 'frio'].count()\n",
    "clima_frio"
   ]
  }
 ],
 "metadata": {
  "kernelspec": {
   "display_name": "Python 3",
   "language": "python",
   "name": "python3"
  },
  "language_info": {
   "codemirror_mode": {
    "name": "ipython",
    "version": 3
   },
   "file_extension": ".py",
   "mimetype": "text/x-python",
   "name": "python",
   "nbconvert_exporter": "python",
   "pygments_lexer": "ipython3",
   "version": "3.10.6"
  },
  "orig_nbformat": 4
 },
 "nbformat": 4,
 "nbformat_minor": 2
}
