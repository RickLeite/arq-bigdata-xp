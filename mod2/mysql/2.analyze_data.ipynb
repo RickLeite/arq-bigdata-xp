{
 "cells": [
  {
   "cell_type": "code",
   "execution_count": 2,
   "metadata": {},
   "outputs": [],
   "source": [
    "import pymysql\n",
    "import configparser\n",
    "import pandas as pd"
   ]
  },
  {
   "cell_type": "code",
   "execution_count": 3,
   "metadata": {},
   "outputs": [],
   "source": [
    "parser = configparser.ConfigParser()\n",
    "parser.read('pipeline.conf')\n",
    "\n",
    "# Credentials for MySQL\n",
    "\n",
    "hostname = parser.get(\"mysql_config\", \"hostname\")\n",
    "port = parser.get(\"mysql_config\", \"port\")\n",
    "username = parser.get(\"mysql_config\", \"username\")\n",
    "password = parser.get(\"mysql_config\", \"password\")"
   ]
  },
  {
   "cell_type": "code",
   "execution_count": 4,
   "metadata": {},
   "outputs": [
    {
     "name": "stdout",
     "output_type": "stream",
     "text": [
      "Connection established!\n"
     ]
    }
   ],
   "source": [
    "conn = pymysql.connect(\n",
    "    host=hostname,\n",
    "    user=username,\n",
    "    password=password,\n",
    "    port=int(port)\n",
    ")\n",
    "if conn is None:\n",
    "    print(\"Connection failed\")\n",
    "else:\n",
    "    print(\"Connection established!\")"
   ]
  },
  {
   "cell_type": "code",
   "execution_count": 5,
   "metadata": {},
   "outputs": [],
   "source": [
    "cursor = conn.cursor()"
   ]
  },
  {
   "cell_type": "code",
   "execution_count": 6,
   "metadata": {},
   "outputs": [
    {
     "data": {
      "text/plain": [
       "(('board_games',),\n",
       " ('datapipe',),\n",
       " ('desafio',),\n",
       " ('information_schema',),\n",
       " ('mysql',),\n",
       " ('performance_schema',),\n",
       " ('sakila',),\n",
       " ('sys',))"
      ]
     },
     "execution_count": 6,
     "metadata": {},
     "output_type": "execute_result"
    }
   ],
   "source": [
    "cursor.execute(\"SHOW DATABASES\")\n",
    "cursor.fetchall()"
   ]
  },
  {
   "cell_type": "code",
   "execution_count": 7,
   "metadata": {},
   "outputs": [
    {
     "data": {
      "text/plain": [
       "0"
      ]
     },
     "execution_count": 7,
     "metadata": {},
     "output_type": "execute_result"
    }
   ],
   "source": [
    "cursor.execute(\"USE board_games\")"
   ]
  },
  {
   "cell_type": "code",
   "execution_count": 8,
   "metadata": {},
   "outputs": [
    {
     "data": {
      "text/plain": [
       "(('players_data',),)"
      ]
     },
     "execution_count": 8,
     "metadata": {},
     "output_type": "execute_result"
    }
   ],
   "source": [
    "cursor.execute(\"SHOW TABLES\")\n",
    "cursor.fetchall()"
   ]
  },
  {
   "cell_type": "code",
   "execution_count": 9,
   "metadata": {},
   "outputs": [
    {
     "data": {
      "text/plain": [
       "(('id', 'int', 'NO', 'PRI', None, 'auto_increment'),\n",
       " ('jogador_id', 'int', 'YES', '', None, ''),\n",
       " ('genero', 'varchar(20)', 'YES', '', None, ''),\n",
       " ('data_nascimento', 'date', 'YES', '', None, ''),\n",
       " ('jogo', 'varchar(50)', 'YES', '', None, ''),\n",
       " ('pais', 'varchar(50)', 'YES', '', None, ''),\n",
       " ('num_vitorias', 'int', 'YES', '', None, ''),\n",
       " ('num_derrotas', 'int', 'YES', '', None, ''),\n",
       " ('total_partidas', 'int', 'YES', '', None, ''))"
      ]
     },
     "execution_count": 9,
     "metadata": {},
     "output_type": "execute_result"
    }
   ],
   "source": [
    "cursor.execute(\"DESCRIBE players_data\")\n",
    "cursor.fetchall()"
   ]
  },
  {
   "cell_type": "code",
   "execution_count": 24,
   "metadata": {},
   "outputs": [
    {
     "data": {
      "text/plain": [
       "('Paraguai', Decimal('21.9754'))"
      ]
     },
     "execution_count": 24,
     "metadata": {},
     "output_type": "execute_result"
    }
   ],
   "source": [
    "# pais com menor media de vitorias\n",
    "\n",
    "cursor.execute(\"\"\"\n",
    "    SELECT pais, AVG(num_vitorias) as nv\n",
    "    FROM players_data\n",
    "    GROUP BY pais\n",
    "    ORDER BY nv ASC\n",
    "\"\"\")\n",
    "               \n",
    "cursor.fetchone()\n",
    "\n",
    "# Paraguai\n"
   ]
  },
  {
   "cell_type": "code",
   "execution_count": 37,
   "metadata": {},
   "outputs": [
    {
     "data": {
      "text/plain": [
       "('Brasil', Decimal('2038'))"
      ]
     },
     "execution_count": 37,
     "metadata": {},
     "output_type": "execute_result"
    }
   ],
   "source": [
    "# soma derrotas brasil\n",
    "\n",
    "cursor.execute(\"\"\"\n",
    "    SELECT pais, SUM(num_derrotas) as soma_vit_bra\n",
    "    FROM players_data\n",
    "    WHERE pais = 'Brasil'\n",
    "\"\"\")\n",
    "\n",
    "cursor.fetchone()\n",
    "\n",
    "# 2038"
   ]
  },
  {
   "attachments": {},
   "cell_type": "markdown",
   "metadata": {},
   "source": [
    "Qual é o segundo jogo preferido entre as mulheres?"
   ]
  },
  {
   "cell_type": "code",
   "execution_count": 68,
   "metadata": {},
   "outputs": [
    {
     "data": {
      "text/plain": [
       "(('Xadrez', 87, 2),)"
      ]
     },
     "execution_count": 68,
     "metadata": {},
     "output_type": "execute_result"
    }
   ],
   "source": [
    "cursor.execute(\"\"\"\n",
    "\n",
    "    WITH count AS\n",
    "    (\n",
    "    SELECT jogo, count(jogo) as cnt\n",
    "    FROM players_data\n",
    "    WHERE genero = 'Feminino'\n",
    "    GROUP BY jogo\n",
    "    ),\n",
    "        ranked AS (\n",
    "        SELECT *, RANK() OVER(ORDER BY cnt DESC) as ranking\n",
    "        FROM count\n",
    "        )\n",
    "SELECT * FROM ranked\n",
    "WHERE ranking = 2\n",
    "\"\"\")\n",
    "\n",
    "cursor.fetchall()\n",
    "\n",
    "# Xadrez with 87 games"
   ]
  },
  {
   "attachments": {},
   "cell_type": "markdown",
   "metadata": {},
   "source": [
    "Qual o jogo que possui o maior número de partidas?"
   ]
  },
  {
   "cell_type": "code",
   "execution_count": 71,
   "metadata": {},
   "outputs": [
    {
     "data": {
      "text/plain": [
       "(('Xadrez', 171), ('Dama', 164), ('Jogo da velha', 164))"
      ]
     },
     "execution_count": 71,
     "metadata": {},
     "output_type": "execute_result"
    }
   ],
   "source": [
    "cursor.execute(\"\"\"\n",
    "    SELECT jogo, count(total_partidas) as num_partidas\n",
    "    FROM players_data\n",
    "    GROUP BY jogo\n",
    "    ORDER BY num_partidas DESC\n",
    "\"\"\")\n",
    "\n",
    "cursor.fetchall()\n",
    "\n",
    "# Xadrez with 171"
   ]
  }
 ],
 "metadata": {
  "kernelspec": {
   "display_name": "Python 3",
   "language": "python",
   "name": "python3"
  },
  "language_info": {
   "codemirror_mode": {
    "name": "ipython",
    "version": 3
   },
   "file_extension": ".py",
   "mimetype": "text/x-python",
   "name": "python",
   "nbconvert_exporter": "python",
   "pygments_lexer": "ipython3",
   "version": "3.10.6"
  },
  "orig_nbformat": 4
 },
 "nbformat": 4,
 "nbformat_minor": 2
}
