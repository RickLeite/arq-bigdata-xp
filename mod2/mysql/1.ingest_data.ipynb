{
 "cells": [
  {
   "cell_type": "code",
   "execution_count": 1,
   "metadata": {},
   "outputs": [],
   "source": [
    "import pymysql\n",
    "import configparser\n",
    "import pandas as pd"
   ]
  },
  {
   "cell_type": "code",
   "execution_count": 2,
   "metadata": {},
   "outputs": [],
   "source": [
    "parser = configparser.ConfigParser()\n",
    "parser.read('pipeline.conf')\n",
    "\n",
    "# Credentials for MySQL\n",
    "\n",
    "hostname = parser.get(\"mysql_config\", \"hostname\")\n",
    "port = parser.get(\"mysql_config\", \"port\")\n",
    "username = parser.get(\"mysql_config\", \"username\")\n",
    "password = parser.get(\"mysql_config\", \"password\")"
   ]
  },
  {
   "cell_type": "code",
   "execution_count": 3,
   "metadata": {},
   "outputs": [
    {
     "name": "stdout",
     "output_type": "stream",
     "text": [
      "Connection established!\n"
     ]
    }
   ],
   "source": [
    "conn = pymysql.connect(\n",
    "    host=hostname,\n",
    "    user=username,\n",
    "    password=password,\n",
    "    port=int(port)\n",
    ")\n",
    "if conn is None:\n",
    "    print(\"Connection failed\")\n",
    "else:\n",
    "    print(\"Connection established!\")"
   ]
  },
  {
   "cell_type": "code",
   "execution_count": 4,
   "metadata": {},
   "outputs": [],
   "source": [
    "cursor = conn.cursor()"
   ]
  },
  {
   "cell_type": "code",
   "execution_count": 5,
   "metadata": {},
   "outputs": [
    {
     "data": {
      "text/plain": [
       "(('board_games',),\n",
       " ('datapipe',),\n",
       " ('desafio',),\n",
       " ('information_schema',),\n",
       " ('mysql',),\n",
       " ('performance_schema',),\n",
       " ('sakila',),\n",
       " ('sys',))"
      ]
     },
     "execution_count": 5,
     "metadata": {},
     "output_type": "execute_result"
    }
   ],
   "source": [
    "cursor.execute(\"SHOW DATABASES\")\n",
    "cursor.fetchall()"
   ]
  },
  {
   "cell_type": "code",
   "execution_count": 6,
   "metadata": {},
   "outputs": [
    {
     "data": {
      "text/plain": [
       "1"
      ]
     },
     "execution_count": 6,
     "metadata": {},
     "output_type": "execute_result"
    }
   ],
   "source": [
    "cursor.execute(\"DROP DATABASE IF EXISTS board_games\")"
   ]
  },
  {
   "cell_type": "code",
   "execution_count": 7,
   "metadata": {},
   "outputs": [
    {
     "data": {
      "text/plain": [
       "1"
      ]
     },
     "execution_count": 7,
     "metadata": {},
     "output_type": "execute_result"
    }
   ],
   "source": [
    "cursor.execute(\"CREATE DATABASE board_games\")"
   ]
  },
  {
   "cell_type": "code",
   "execution_count": 8,
   "metadata": {},
   "outputs": [
    {
     "data": {
      "text/plain": [
       "(('board_games',),\n",
       " ('datapipe',),\n",
       " ('desafio',),\n",
       " ('information_schema',),\n",
       " ('mysql',),\n",
       " ('performance_schema',),\n",
       " ('sakila',),\n",
       " ('sys',))"
      ]
     },
     "execution_count": 8,
     "metadata": {},
     "output_type": "execute_result"
    }
   ],
   "source": [
    "cursor.execute(\"SHOW DATABASES\")\n",
    "cursor.fetchall()"
   ]
  },
  {
   "cell_type": "code",
   "execution_count": 9,
   "metadata": {},
   "outputs": [
    {
     "data": {
      "text/plain": [
       "0"
      ]
     },
     "execution_count": 9,
     "metadata": {},
     "output_type": "execute_result"
    }
   ],
   "source": [
    "cursor.execute(\"USE board_games\")"
   ]
  },
  {
   "cell_type": "code",
   "execution_count": 10,
   "metadata": {},
   "outputs": [
    {
     "data": {
      "text/plain": [
       "0"
      ]
     },
     "execution_count": 10,
     "metadata": {},
     "output_type": "execute_result"
    }
   ],
   "source": [
    "table_query = (\"\"\"\n",
    "\n",
    "            CREATE TABLE players_data (\n",
    "                id INT NOT NULL AUTO_INCREMENT,\n",
    "                jogador_id INT,\n",
    "                genero VARCHAR(20),\n",
    "                data_nascimento DATE,\n",
    "                jogo VARCHAR(50),\n",
    "                pais VARCHAR(50), \n",
    "                num_vitorias INT,\n",
    "                num_derrotas INT,\n",
    "                total_partidas INT,\n",
    "                \n",
    "                PRIMARY KEY (id)\n",
    "                )\n",
    "                \"\"\")\n",
    "\n",
    "cursor.execute(table_query)\n",
    "\n",
    "#cursor.execute(\"ALTER TABLE players_data ADD PRIMARY KEY (id)\")"
   ]
  },
  {
   "cell_type": "code",
   "execution_count": 11,
   "metadata": {},
   "outputs": [
    {
     "data": {
      "text/plain": [
       "(('id', 'int', 'NO', 'PRI', None, 'auto_increment'),\n",
       " ('jogador_id', 'int', 'YES', '', None, ''),\n",
       " ('genero', 'varchar(20)', 'YES', '', None, ''),\n",
       " ('data_nascimento', 'date', 'YES', '', None, ''),\n",
       " ('jogo', 'varchar(50)', 'YES', '', None, ''),\n",
       " ('pais', 'varchar(50)', 'YES', '', None, ''),\n",
       " ('num_vitorias', 'int', 'YES', '', None, ''),\n",
       " ('num_derrotas', 'int', 'YES', '', None, ''),\n",
       " ('total_partidas', 'int', 'YES', '', None, ''))"
      ]
     },
     "execution_count": 11,
     "metadata": {},
     "output_type": "execute_result"
    }
   ],
   "source": [
    "cursor.execute(\"DESCRIBE players_data\")\n",
    "cursor.fetchall()"
   ]
  },
  {
   "cell_type": "code",
   "execution_count": 12,
   "metadata": {},
   "outputs": [
    {
     "name": "stdout",
     "output_type": "stream",
     "text": [
      "Field               +Type                +Null                +Key                 +Default             +Extra               \n",
      "--------------------+--------------------+--------------------+--------------------+--------------------+--------------------\n",
      "id                  |int                 |NO                  |PRI                 |None                |auto_increment      \n",
      "jogador_id          |int                 |YES                 |                    |None                |                    \n",
      "genero              |varchar(20)         |YES                 |                    |None                |                    \n",
      "data_nascimento     |date                |YES                 |                    |None                |                    \n",
      "jogo                |varchar(50)         |YES                 |                    |None                |                    \n",
      "pais                |varchar(50)         |YES                 |                    |None                |                    \n",
      "num_vitorias        |int                 |YES                 |                    |None                |                    \n",
      "num_derrotas        |int                 |YES                 |                    |None                |                    \n",
      "total_partidas      |int                 |YES                 |                    |None                |                    \n"
     ]
    }
   ],
   "source": [
    "def describe(table):\n",
    "    query = f\"DESCRIBE {table}\"\n",
    "    cursor.execute(query)\n",
    "\n",
    "    # column names from the description\n",
    "    columns = [column[0] for column in cursor.description]\n",
    "\n",
    "    # header row\n",
    "    header = \"+\".join([\"{:<20}\".format(column) for column in columns])\n",
    "    print(header)\n",
    "\n",
    "    # separator row\n",
    "    separator = \"+\".join([\"{:-<20}\".format(\"\") for column in columns])\n",
    "    print(separator)\n",
    "\n",
    "    # Print the result rows\n",
    "    results = cursor.fetchall()\n",
    "    for row in results:\n",
    "        print(\"|\".join([\"{:<20}\".format(str(column)) for column in row]))\n",
    "\n",
    "describe('players_data')\n"
   ]
  },
  {
   "cell_type": "code",
   "execution_count": 13,
   "metadata": {},
   "outputs": [
    {
     "data": {
      "text/html": [
       "<div>\n",
       "<style scoped>\n",
       "    .dataframe tbody tr th:only-of-type {\n",
       "        vertical-align: middle;\n",
       "    }\n",
       "\n",
       "    .dataframe tbody tr th {\n",
       "        vertical-align: top;\n",
       "    }\n",
       "\n",
       "    .dataframe thead th {\n",
       "        text-align: right;\n",
       "    }\n",
       "</style>\n",
       "<table border=\"1\" class=\"dataframe\">\n",
       "  <thead>\n",
       "    <tr style=\"text-align: right;\">\n",
       "      <th></th>\n",
       "      <th>jogador</th>\n",
       "      <th>genero</th>\n",
       "      <th>data_nascimento</th>\n",
       "      <th>jogo</th>\n",
       "      <th>pais</th>\n",
       "      <th>num_vitorias</th>\n",
       "      <th>num_derrotas</th>\n",
       "      <th>total_partidas</th>\n",
       "    </tr>\n",
       "  </thead>\n",
       "  <tbody>\n",
       "    <tr>\n",
       "      <th>0</th>\n",
       "      <td>jogador 1</td>\n",
       "      <td>Masculino</td>\n",
       "      <td>03/09/1990</td>\n",
       "      <td>Dama</td>\n",
       "      <td>Chile</td>\n",
       "      <td>14.0</td>\n",
       "      <td>0.0</td>\n",
       "      <td>14.0</td>\n",
       "    </tr>\n",
       "    <tr>\n",
       "      <th>1</th>\n",
       "      <td>Jogador 2</td>\n",
       "      <td>Feminino</td>\n",
       "      <td>01/05/1986</td>\n",
       "      <td>Jogo da velha</td>\n",
       "      <td>Chile</td>\n",
       "      <td>39.0</td>\n",
       "      <td>20.0</td>\n",
       "      <td>59.0</td>\n",
       "    </tr>\n",
       "    <tr>\n",
       "      <th>2</th>\n",
       "      <td>Jogador 3</td>\n",
       "      <td>Masculino</td>\n",
       "      <td>04/10/1964</td>\n",
       "      <td>Jogo da velha</td>\n",
       "      <td>Brasil</td>\n",
       "      <td>26.0</td>\n",
       "      <td>3.0</td>\n",
       "      <td>29.0</td>\n",
       "    </tr>\n",
       "    <tr>\n",
       "      <th>3</th>\n",
       "      <td>Jogador 4</td>\n",
       "      <td>Masculino</td>\n",
       "      <td>28/09/1979</td>\n",
       "      <td>Jogo da velha</td>\n",
       "      <td>Argentina</td>\n",
       "      <td>9.0</td>\n",
       "      <td>72.0</td>\n",
       "      <td>81.0</td>\n",
       "    </tr>\n",
       "    <tr>\n",
       "      <th>4</th>\n",
       "      <td>Jogador 5</td>\n",
       "      <td>Masculino</td>\n",
       "      <td>03/09/1978</td>\n",
       "      <td>Dama</td>\n",
       "      <td>Uruguai</td>\n",
       "      <td>1.0</td>\n",
       "      <td>54.0</td>\n",
       "      <td>55.0</td>\n",
       "    </tr>\n",
       "  </tbody>\n",
       "</table>\n",
       "</div>"
      ],
      "text/plain": [
       "     jogador     genero data_nascimento           jogo       pais  \\\n",
       "0  jogador 1  Masculino      03/09/1990           Dama      Chile   \n",
       "1  Jogador 2   Feminino      01/05/1986  Jogo da velha      Chile   \n",
       "2  Jogador 3  Masculino      04/10/1964  Jogo da velha     Brasil   \n",
       "3  Jogador 4  Masculino      28/09/1979  Jogo da velha  Argentina   \n",
       "4  Jogador 5  Masculino      03/09/1978           Dama    Uruguai   \n",
       "\n",
       "   num_vitorias  num_derrotas  total_partidas  \n",
       "0          14.0           0.0            14.0  \n",
       "1          39.0          20.0            59.0  \n",
       "2          26.0           3.0            29.0  \n",
       "3           9.0          72.0            81.0  \n",
       "4           1.0          54.0            55.0  "
      ]
     },
     "execution_count": 13,
     "metadata": {},
     "output_type": "execute_result"
    }
   ],
   "source": [
    "df = pd.read_csv('../data/dados_jogadores.csv', sep=';')\n",
    "df.head() "
   ]
  },
  {
   "attachments": {},
   "cell_type": "markdown",
   "metadata": {},
   "source": [
    "jogador;genero;data_nascimento;jogo;pais;num_vitorias;num_derrotas;total_partidas\n",
    "jogador 1;Masculino;03/09/1990;Dama;Chile;14;0;14\n"
   ]
  },
  {
   "cell_type": "code",
   "execution_count": 14,
   "metadata": {},
   "outputs": [
    {
     "name": "stdout",
     "output_type": "stream",
     "text": [
      "<class 'pandas.core.frame.DataFrame'>\n",
      "RangeIndex: 499 entries, 0 to 498\n",
      "Data columns (total 8 columns):\n",
      " #   Column           Non-Null Count  Dtype  \n",
      "---  ------           --------------  -----  \n",
      " 0   jogador          499 non-null    object \n",
      " 1   genero           499 non-null    object \n",
      " 2   data_nascimento  499 non-null    object \n",
      " 3   jogo             499 non-null    object \n",
      " 4   pais             499 non-null    object \n",
      " 5   num_vitorias     491 non-null    float64\n",
      " 6   num_derrotas     494 non-null    float64\n",
      " 7   total_partidas   491 non-null    float64\n",
      "dtypes: float64(3), object(5)\n",
      "memory usage: 31.3+ KB\n"
     ]
    }
   ],
   "source": [
    "df.info()"
   ]
  },
  {
   "cell_type": "code",
   "execution_count": 15,
   "metadata": {},
   "outputs": [
    {
     "name": "stderr",
     "output_type": "stream",
     "text": [
      "/tmp/ipykernel_17080/2786716525.py:1: UserWarning: Parsing dates in DD/MM/YYYY format when dayfirst=False (the default) was specified. This may lead to inconsistently parsed dates! Specify a format to ensure consistent parsing.\n",
      "  df['data_nascimento'] = pd.to_datetime(df['data_nascimento']).dt.strftime('%Y/%m/%d')\n"
     ]
    }
   ],
   "source": [
    "df['data_nascimento'] = pd.to_datetime(df['data_nascimento']).dt.strftime('%Y/%m/%d')"
   ]
  },
  {
   "cell_type": "code",
   "execution_count": 16,
   "metadata": {},
   "outputs": [
    {
     "data": {
      "text/html": [
       "<div>\n",
       "<style scoped>\n",
       "    .dataframe tbody tr th:only-of-type {\n",
       "        vertical-align: middle;\n",
       "    }\n",
       "\n",
       "    .dataframe tbody tr th {\n",
       "        vertical-align: top;\n",
       "    }\n",
       "\n",
       "    .dataframe thead th {\n",
       "        text-align: right;\n",
       "    }\n",
       "</style>\n",
       "<table border=\"1\" class=\"dataframe\">\n",
       "  <thead>\n",
       "    <tr style=\"text-align: right;\">\n",
       "      <th></th>\n",
       "      <th>jogador</th>\n",
       "      <th>genero</th>\n",
       "      <th>data_nascimento</th>\n",
       "      <th>jogo</th>\n",
       "      <th>pais</th>\n",
       "      <th>num_vitorias</th>\n",
       "      <th>num_derrotas</th>\n",
       "      <th>total_partidas</th>\n",
       "    </tr>\n",
       "  </thead>\n",
       "  <tbody>\n",
       "    <tr>\n",
       "      <th>0</th>\n",
       "      <td>jogador 1</td>\n",
       "      <td>Masculino</td>\n",
       "      <td>1990/03/09</td>\n",
       "      <td>Dama</td>\n",
       "      <td>Chile</td>\n",
       "      <td>14.0</td>\n",
       "      <td>0.0</td>\n",
       "      <td>14.0</td>\n",
       "    </tr>\n",
       "    <tr>\n",
       "      <th>1</th>\n",
       "      <td>Jogador 2</td>\n",
       "      <td>Feminino</td>\n",
       "      <td>1986/01/05</td>\n",
       "      <td>Jogo da velha</td>\n",
       "      <td>Chile</td>\n",
       "      <td>39.0</td>\n",
       "      <td>20.0</td>\n",
       "      <td>59.0</td>\n",
       "    </tr>\n",
       "    <tr>\n",
       "      <th>2</th>\n",
       "      <td>Jogador 3</td>\n",
       "      <td>Masculino</td>\n",
       "      <td>1964/04/10</td>\n",
       "      <td>Jogo da velha</td>\n",
       "      <td>Brasil</td>\n",
       "      <td>26.0</td>\n",
       "      <td>3.0</td>\n",
       "      <td>29.0</td>\n",
       "    </tr>\n",
       "  </tbody>\n",
       "</table>\n",
       "</div>"
      ],
      "text/plain": [
       "     jogador     genero data_nascimento           jogo    pais  num_vitorias  \\\n",
       "0  jogador 1  Masculino      1990/03/09           Dama   Chile          14.0   \n",
       "1  Jogador 2   Feminino      1986/01/05  Jogo da velha   Chile          39.0   \n",
       "2  Jogador 3  Masculino      1964/04/10  Jogo da velha  Brasil          26.0   \n",
       "\n",
       "   num_derrotas  total_partidas  \n",
       "0           0.0            14.0  \n",
       "1          20.0            59.0  \n",
       "2           3.0            29.0  "
      ]
     },
     "execution_count": 16,
     "metadata": {},
     "output_type": "execute_result"
    }
   ],
   "source": [
    "df.head(3)"
   ]
  },
  {
   "cell_type": "code",
   "execution_count": 17,
   "metadata": {},
   "outputs": [
    {
     "data": {
      "text/plain": [
       "jogador            0\n",
       "genero             0\n",
       "data_nascimento    0\n",
       "jogo               0\n",
       "pais               0\n",
       "num_vitorias       8\n",
       "num_derrotas       5\n",
       "total_partidas     8\n",
       "dtype: int64"
      ]
     },
     "execution_count": 17,
     "metadata": {},
     "output_type": "execute_result"
    }
   ],
   "source": [
    "df.isnull().sum()"
   ]
  },
  {
   "cell_type": "code",
   "execution_count": 18,
   "metadata": {},
   "outputs": [
    {
     "data": {
      "text/html": [
       "<div>\n",
       "<style scoped>\n",
       "    .dataframe tbody tr th:only-of-type {\n",
       "        vertical-align: middle;\n",
       "    }\n",
       "\n",
       "    .dataframe tbody tr th {\n",
       "        vertical-align: top;\n",
       "    }\n",
       "\n",
       "    .dataframe thead th {\n",
       "        text-align: right;\n",
       "    }\n",
       "</style>\n",
       "<table border=\"1\" class=\"dataframe\">\n",
       "  <thead>\n",
       "    <tr style=\"text-align: right;\">\n",
       "      <th></th>\n",
       "      <th>jogador</th>\n",
       "      <th>genero</th>\n",
       "      <th>data_nascimento</th>\n",
       "      <th>jogo</th>\n",
       "      <th>pais</th>\n",
       "      <th>num_vitorias</th>\n",
       "      <th>num_derrotas</th>\n",
       "      <th>total_partidas</th>\n",
       "    </tr>\n",
       "  </thead>\n",
       "  <tbody>\n",
       "    <tr>\n",
       "      <th>46</th>\n",
       "      <td>Jogador 47</td>\n",
       "      <td>Masculino</td>\n",
       "      <td>1978/01/31</td>\n",
       "      <td>Dama</td>\n",
       "      <td>Uruguai</td>\n",
       "      <td>NaN</td>\n",
       "      <td>68.0</td>\n",
       "      <td>85.0</td>\n",
       "    </tr>\n",
       "    <tr>\n",
       "      <th>55</th>\n",
       "      <td>Jogador 56</td>\n",
       "      <td>Feminino</td>\n",
       "      <td>1959/01/27</td>\n",
       "      <td>Dama</td>\n",
       "      <td>Paraguai</td>\n",
       "      <td>NaN</td>\n",
       "      <td>29.0</td>\n",
       "      <td>80.0</td>\n",
       "    </tr>\n",
       "    <tr>\n",
       "      <th>71</th>\n",
       "      <td>Jogador 72</td>\n",
       "      <td>Masculino</td>\n",
       "      <td>2005/03/27</td>\n",
       "      <td>Dama</td>\n",
       "      <td>Paraguai</td>\n",
       "      <td>29.0</td>\n",
       "      <td>7.0</td>\n",
       "      <td>NaN</td>\n",
       "    </tr>\n",
       "    <tr>\n",
       "      <th>86</th>\n",
       "      <td>Jogador 87</td>\n",
       "      <td>Feminino</td>\n",
       "      <td>1975/05/25</td>\n",
       "      <td>Dama</td>\n",
       "      <td>Argentina</td>\n",
       "      <td>80.0</td>\n",
       "      <td>6.0</td>\n",
       "      <td>NaN</td>\n",
       "    </tr>\n",
       "    <tr>\n",
       "      <th>97</th>\n",
       "      <td>Jogador 98</td>\n",
       "      <td>Feminino</td>\n",
       "      <td>1980/04/16</td>\n",
       "      <td>Dama</td>\n",
       "      <td>Paraguai</td>\n",
       "      <td>NaN</td>\n",
       "      <td>1.0</td>\n",
       "      <td>10.0</td>\n",
       "    </tr>\n",
       "    <tr>\n",
       "      <th>137</th>\n",
       "      <td>Jogador 138</td>\n",
       "      <td>Feminino</td>\n",
       "      <td>1963/02/16</td>\n",
       "      <td>Jogo da velha</td>\n",
       "      <td>Chile</td>\n",
       "      <td>NaN</td>\n",
       "      <td>28.0</td>\n",
       "      <td>44.0</td>\n",
       "    </tr>\n",
       "    <tr>\n",
       "      <th>246</th>\n",
       "      <td>Jogador 247</td>\n",
       "      <td>Feminino</td>\n",
       "      <td>1954/02/14</td>\n",
       "      <td>Dama</td>\n",
       "      <td>Argentina</td>\n",
       "      <td>33.0</td>\n",
       "      <td>NaN</td>\n",
       "      <td>89.0</td>\n",
       "    </tr>\n",
       "    <tr>\n",
       "      <th>251</th>\n",
       "      <td>Jogador 252</td>\n",
       "      <td>Masculino</td>\n",
       "      <td>1985/08/18</td>\n",
       "      <td>Jogo da velha</td>\n",
       "      <td>Chile</td>\n",
       "      <td>NaN</td>\n",
       "      <td>27.0</td>\n",
       "      <td>28.0</td>\n",
       "    </tr>\n",
       "    <tr>\n",
       "      <th>255</th>\n",
       "      <td>Jogador 256</td>\n",
       "      <td>Feminino</td>\n",
       "      <td>2000/09/28</td>\n",
       "      <td>Xadrez</td>\n",
       "      <td>Chile</td>\n",
       "      <td>1.0</td>\n",
       "      <td>NaN</td>\n",
       "      <td>73.0</td>\n",
       "    </tr>\n",
       "    <tr>\n",
       "      <th>287</th>\n",
       "      <td>Jogador 288</td>\n",
       "      <td>Masculino</td>\n",
       "      <td>1952/01/02</td>\n",
       "      <td>Xadrez</td>\n",
       "      <td>Brasil</td>\n",
       "      <td>3.0</td>\n",
       "      <td>NaN</td>\n",
       "      <td>17.0</td>\n",
       "    </tr>\n",
       "    <tr>\n",
       "      <th>323</th>\n",
       "      <td>Jogador 324</td>\n",
       "      <td>Feminino</td>\n",
       "      <td>1994/03/23</td>\n",
       "      <td>Dama</td>\n",
       "      <td>Brasil</td>\n",
       "      <td>NaN</td>\n",
       "      <td>1.0</td>\n",
       "      <td>7.0</td>\n",
       "    </tr>\n",
       "    <tr>\n",
       "      <th>336</th>\n",
       "      <td>Jogador 337</td>\n",
       "      <td>Masculino</td>\n",
       "      <td>1996/06/13</td>\n",
       "      <td>Dama</td>\n",
       "      <td>Argentina</td>\n",
       "      <td>36.0</td>\n",
       "      <td>NaN</td>\n",
       "      <td>64.0</td>\n",
       "    </tr>\n",
       "    <tr>\n",
       "      <th>372</th>\n",
       "      <td>Jogador 373</td>\n",
       "      <td>Feminino</td>\n",
       "      <td>2000/06/24</td>\n",
       "      <td>Xadrez</td>\n",
       "      <td>Paraguai</td>\n",
       "      <td>NaN</td>\n",
       "      <td>49.0</td>\n",
       "      <td>60.0</td>\n",
       "    </tr>\n",
       "    <tr>\n",
       "      <th>407</th>\n",
       "      <td>Jogador 408</td>\n",
       "      <td>Feminino</td>\n",
       "      <td>1970/11/23</td>\n",
       "      <td>Xadrez</td>\n",
       "      <td>Brasil</td>\n",
       "      <td>54.0</td>\n",
       "      <td>28.0</td>\n",
       "      <td>NaN</td>\n",
       "    </tr>\n",
       "    <tr>\n",
       "      <th>423</th>\n",
       "      <td>Jogador 424</td>\n",
       "      <td>Masculino</td>\n",
       "      <td>1998/08/21</td>\n",
       "      <td>Dama</td>\n",
       "      <td>Paraguai</td>\n",
       "      <td>47.0</td>\n",
       "      <td>30.0</td>\n",
       "      <td>NaN</td>\n",
       "    </tr>\n",
       "    <tr>\n",
       "      <th>453</th>\n",
       "      <td>Jogador 454</td>\n",
       "      <td>Feminino</td>\n",
       "      <td>2000/10/21</td>\n",
       "      <td>Dama</td>\n",
       "      <td>Paraguai</td>\n",
       "      <td>15.0</td>\n",
       "      <td>42.0</td>\n",
       "      <td>NaN</td>\n",
       "    </tr>\n",
       "    <tr>\n",
       "      <th>458</th>\n",
       "      <td>Jogador 459</td>\n",
       "      <td>Masculino</td>\n",
       "      <td>1999/06/17</td>\n",
       "      <td>Jogo da velha</td>\n",
       "      <td>Argentina</td>\n",
       "      <td>23.0</td>\n",
       "      <td>50.0</td>\n",
       "      <td>NaN</td>\n",
       "    </tr>\n",
       "    <tr>\n",
       "      <th>473</th>\n",
       "      <td>Jogador 474</td>\n",
       "      <td>Feminino</td>\n",
       "      <td>1977/10/22</td>\n",
       "      <td>Xadrez</td>\n",
       "      <td>Uruguai</td>\n",
       "      <td>24.0</td>\n",
       "      <td>4.0</td>\n",
       "      <td>NaN</td>\n",
       "    </tr>\n",
       "    <tr>\n",
       "      <th>490</th>\n",
       "      <td>Jogador 491</td>\n",
       "      <td>Masculino</td>\n",
       "      <td>1981/05/27</td>\n",
       "      <td>Dama</td>\n",
       "      <td>Argentina</td>\n",
       "      <td>16.0</td>\n",
       "      <td>1.0</td>\n",
       "      <td>NaN</td>\n",
       "    </tr>\n",
       "    <tr>\n",
       "      <th>492</th>\n",
       "      <td>Jogador 493</td>\n",
       "      <td>Feminino</td>\n",
       "      <td>2001/09/21</td>\n",
       "      <td>Jogo da velha</td>\n",
       "      <td>Uruguai</td>\n",
       "      <td>NaN</td>\n",
       "      <td>6.0</td>\n",
       "      <td>25.0</td>\n",
       "    </tr>\n",
       "    <tr>\n",
       "      <th>496</th>\n",
       "      <td>Jogador 497</td>\n",
       "      <td>Masculino</td>\n",
       "      <td>1962/06/01</td>\n",
       "      <td>Jogo da velha</td>\n",
       "      <td>Argentina</td>\n",
       "      <td>57.0</td>\n",
       "      <td>NaN</td>\n",
       "      <td>80.0</td>\n",
       "    </tr>\n",
       "  </tbody>\n",
       "</table>\n",
       "</div>"
      ],
      "text/plain": [
       "         jogador     genero data_nascimento           jogo       pais  \\\n",
       "46    Jogador 47  Masculino      1978/01/31           Dama    Uruguai   \n",
       "55    Jogador 56   Feminino      1959/01/27           Dama   Paraguai   \n",
       "71    Jogador 72  Masculino      2005/03/27           Dama   Paraguai   \n",
       "86    Jogador 87   Feminino      1975/05/25           Dama  Argentina   \n",
       "97    Jogador 98   Feminino      1980/04/16           Dama   Paraguai   \n",
       "137  Jogador 138   Feminino      1963/02/16  Jogo da velha      Chile   \n",
       "246  Jogador 247   Feminino      1954/02/14           Dama  Argentina   \n",
       "251  Jogador 252  Masculino      1985/08/18  Jogo da velha      Chile   \n",
       "255  Jogador 256   Feminino      2000/09/28         Xadrez      Chile   \n",
       "287  Jogador 288  Masculino      1952/01/02         Xadrez     Brasil   \n",
       "323  Jogador 324   Feminino      1994/03/23           Dama     Brasil   \n",
       "336  Jogador 337  Masculino      1996/06/13           Dama  Argentina   \n",
       "372  Jogador 373   Feminino      2000/06/24         Xadrez   Paraguai   \n",
       "407  Jogador 408   Feminino      1970/11/23         Xadrez     Brasil   \n",
       "423  Jogador 424  Masculino      1998/08/21           Dama   Paraguai   \n",
       "453  Jogador 454   Feminino      2000/10/21           Dama   Paraguai   \n",
       "458  Jogador 459  Masculino      1999/06/17  Jogo da velha  Argentina   \n",
       "473  Jogador 474   Feminino      1977/10/22         Xadrez    Uruguai   \n",
       "490  Jogador 491  Masculino      1981/05/27           Dama  Argentina   \n",
       "492  Jogador 493   Feminino      2001/09/21  Jogo da velha    Uruguai   \n",
       "496  Jogador 497  Masculino      1962/06/01  Jogo da velha  Argentina   \n",
       "\n",
       "     num_vitorias  num_derrotas  total_partidas  \n",
       "46            NaN          68.0            85.0  \n",
       "55            NaN          29.0            80.0  \n",
       "71           29.0           7.0             NaN  \n",
       "86           80.0           6.0             NaN  \n",
       "97            NaN           1.0            10.0  \n",
       "137           NaN          28.0            44.0  \n",
       "246          33.0           NaN            89.0  \n",
       "251           NaN          27.0            28.0  \n",
       "255           1.0           NaN            73.0  \n",
       "287           3.0           NaN            17.0  \n",
       "323           NaN           1.0             7.0  \n",
       "336          36.0           NaN            64.0  \n",
       "372           NaN          49.0            60.0  \n",
       "407          54.0          28.0             NaN  \n",
       "423          47.0          30.0             NaN  \n",
       "453          15.0          42.0             NaN  \n",
       "458          23.0          50.0             NaN  \n",
       "473          24.0           4.0             NaN  \n",
       "490          16.0           1.0             NaN  \n",
       "492           NaN           6.0            25.0  \n",
       "496          57.0           NaN            80.0  "
      ]
     },
     "execution_count": 18,
     "metadata": {},
     "output_type": "execute_result"
    }
   ],
   "source": [
    "df[df.isnull().any(axis=1)]"
   ]
  },
  {
   "cell_type": "code",
   "execution_count": 19,
   "metadata": {},
   "outputs": [],
   "source": [
    "df.fillna({'num_vitorias': '-1', 'num_derrotas': '-1', 'total_partidas': '-1'}, inplace=True)"
   ]
  },
  {
   "cell_type": "code",
   "execution_count": 20,
   "metadata": {},
   "outputs": [
    {
     "data": {
      "text/html": [
       "<div>\n",
       "<style scoped>\n",
       "    .dataframe tbody tr th:only-of-type {\n",
       "        vertical-align: middle;\n",
       "    }\n",
       "\n",
       "    .dataframe tbody tr th {\n",
       "        vertical-align: top;\n",
       "    }\n",
       "\n",
       "    .dataframe thead th {\n",
       "        text-align: right;\n",
       "    }\n",
       "</style>\n",
       "<table border=\"1\" class=\"dataframe\">\n",
       "  <thead>\n",
       "    <tr style=\"text-align: right;\">\n",
       "      <th></th>\n",
       "      <th>jogador</th>\n",
       "      <th>genero</th>\n",
       "      <th>data_nascimento</th>\n",
       "      <th>jogo</th>\n",
       "      <th>pais</th>\n",
       "      <th>num_vitorias</th>\n",
       "      <th>num_derrotas</th>\n",
       "      <th>total_partidas</th>\n",
       "    </tr>\n",
       "  </thead>\n",
       "  <tbody>\n",
       "  </tbody>\n",
       "</table>\n",
       "</div>"
      ],
      "text/plain": [
       "Empty DataFrame\n",
       "Columns: [jogador, genero, data_nascimento, jogo, pais, num_vitorias, num_derrotas, total_partidas]\n",
       "Index: []"
      ]
     },
     "execution_count": 20,
     "metadata": {},
     "output_type": "execute_result"
    }
   ],
   "source": [
    "df[df.isnull().any(axis=1)]"
   ]
  },
  {
   "cell_type": "code",
   "execution_count": 21,
   "metadata": {},
   "outputs": [
    {
     "data": {
      "text/html": [
       "<div>\n",
       "<style scoped>\n",
       "    .dataframe tbody tr th:only-of-type {\n",
       "        vertical-align: middle;\n",
       "    }\n",
       "\n",
       "    .dataframe tbody tr th {\n",
       "        vertical-align: top;\n",
       "    }\n",
       "\n",
       "    .dataframe thead th {\n",
       "        text-align: right;\n",
       "    }\n",
       "</style>\n",
       "<table border=\"1\" class=\"dataframe\">\n",
       "  <thead>\n",
       "    <tr style=\"text-align: right;\">\n",
       "      <th></th>\n",
       "      <th>jogador</th>\n",
       "      <th>genero</th>\n",
       "      <th>data_nascimento</th>\n",
       "      <th>jogo</th>\n",
       "      <th>pais</th>\n",
       "      <th>num_vitorias</th>\n",
       "      <th>num_derrotas</th>\n",
       "      <th>total_partidas</th>\n",
       "    </tr>\n",
       "  </thead>\n",
       "  <tbody>\n",
       "    <tr>\n",
       "      <th>0</th>\n",
       "      <td>1</td>\n",
       "      <td>Masculino</td>\n",
       "      <td>1990/03/09</td>\n",
       "      <td>Dama</td>\n",
       "      <td>Chile</td>\n",
       "      <td>14.0</td>\n",
       "      <td>0.0</td>\n",
       "      <td>14.0</td>\n",
       "    </tr>\n",
       "    <tr>\n",
       "      <th>1</th>\n",
       "      <td>2</td>\n",
       "      <td>Feminino</td>\n",
       "      <td>1986/01/05</td>\n",
       "      <td>Jogo da velha</td>\n",
       "      <td>Chile</td>\n",
       "      <td>39.0</td>\n",
       "      <td>20.0</td>\n",
       "      <td>59.0</td>\n",
       "    </tr>\n",
       "    <tr>\n",
       "      <th>2</th>\n",
       "      <td>3</td>\n",
       "      <td>Masculino</td>\n",
       "      <td>1964/04/10</td>\n",
       "      <td>Jogo da velha</td>\n",
       "      <td>Brasil</td>\n",
       "      <td>26.0</td>\n",
       "      <td>3.0</td>\n",
       "      <td>29.0</td>\n",
       "    </tr>\n",
       "  </tbody>\n",
       "</table>\n",
       "</div>"
      ],
      "text/plain": [
       "   jogador     genero data_nascimento           jogo    pais num_vitorias  \\\n",
       "0        1  Masculino      1990/03/09           Dama   Chile         14.0   \n",
       "1        2   Feminino      1986/01/05  Jogo da velha   Chile         39.0   \n",
       "2        3  Masculino      1964/04/10  Jogo da velha  Brasil         26.0   \n",
       "\n",
       "  num_derrotas total_partidas  \n",
       "0          0.0           14.0  \n",
       "1         20.0           59.0  \n",
       "2          3.0           29.0  "
      ]
     },
     "execution_count": 21,
     "metadata": {},
     "output_type": "execute_result"
    }
   ],
   "source": [
    "df['jogador'] = df['jogador'].str.extract('(\\d+)').astype(int)\n",
    "df.head(3)"
   ]
  },
  {
   "attachments": {},
   "cell_type": "markdown",
   "metadata": {},
   "source": [
    "                id INT NOT NULL AUTO_INCREMENT,\n",
    "                jogador_id INT,\n",
    "                genero VARCHAR(20),\n",
    "                data_nascimento DATE,\n",
    "                jogo VARCHAR(50),\n",
    "                pais VARCHAR(50), \n",
    "                num_vitorias INT,\n",
    "                num_derrotas INT,\n",
    "                total_partidas INT,"
   ]
  },
  {
   "cell_type": "code",
   "execution_count": 22,
   "metadata": {},
   "outputs": [],
   "source": [
    "insert_data = (\"\"\"\n",
    "        INSERT INTO players_data\n",
    "         (\n",
    "        jogador_id, genero, \n",
    "        data_nascimento, jogo, \n",
    "        pais, num_vitorias, \n",
    "        num_derrotas, total_partidas\n",
    "         )\n",
    "          VALUES (%s, %s, %s, %s, %s, %s, %s, %s)\n",
    "               \n",
    "               \"\"\")\n",
    "cursor.executemany(insert_data, df.values.tolist())\n",
    "\n",
    "conn.commit()"
   ]
  }
 ],
 "metadata": {
  "kernelspec": {
   "display_name": "Python 3",
   "language": "python",
   "name": "python3"
  },
  "language_info": {
   "codemirror_mode": {
    "name": "ipython",
    "version": 3
   },
   "file_extension": ".py",
   "mimetype": "text/x-python",
   "name": "python",
   "nbconvert_exporter": "python",
   "pygments_lexer": "ipython3",
   "version": "3.10.6"
  },
  "orig_nbformat": 4
 },
 "nbformat": 4,
 "nbformat_minor": 2
}
