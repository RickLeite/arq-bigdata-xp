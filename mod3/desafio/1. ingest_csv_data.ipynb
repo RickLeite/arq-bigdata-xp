{
 "cells": [
  {
   "cell_type": "code",
   "execution_count": 1,
   "metadata": {},
   "outputs": [],
   "source": [
    "import pandas as pd\n",
    "import pymongo"
   ]
  },
  {
   "cell_type": "code",
   "execution_count": 2,
   "metadata": {},
   "outputs": [],
   "source": [
    "client = pymongo.MongoClient('localhost')"
   ]
  },
  {
   "cell_type": "code",
   "execution_count": 3,
   "metadata": {},
   "outputs": [],
   "source": [
    "db = client['desafio']\n",
    "aeronaves = db['aeronaves']\n",
    "ocorrencias = db['ocorrencias']\n",
    "ocorrencias_tipo = db['ocorrencias_tipo']"
   ]
  },
  {
   "cell_type": "code",
   "execution_count": 4,
   "metadata": {},
   "outputs": [
    {
     "data": {
      "text/html": [
       "<div>\n",
       "<style scoped>\n",
       "    .dataframe tbody tr th:only-of-type {\n",
       "        vertical-align: middle;\n",
       "    }\n",
       "\n",
       "    .dataframe tbody tr th {\n",
       "        vertical-align: top;\n",
       "    }\n",
       "\n",
       "    .dataframe thead th {\n",
       "        text-align: right;\n",
       "    }\n",
       "</style>\n",
       "<table border=\"1\" class=\"dataframe\">\n",
       "  <thead>\n",
       "    <tr style=\"text-align: right;\">\n",
       "      <th></th>\n",
       "      <th>id_ocorrencia</th>\n",
       "      <th>classificacao</th>\n",
       "      <th>cidade</th>\n",
       "      <th>uf</th>\n",
       "      <th>pais</th>\n",
       "      <th>data</th>\n",
       "      <th>num_recomendacoes</th>\n",
       "    </tr>\n",
       "  </thead>\n",
       "  <tbody>\n",
       "    <tr>\n",
       "      <th>0</th>\n",
       "      <td>39115</td>\n",
       "      <td>ACIDENTE</td>\n",
       "      <td>CORRENTINA</td>\n",
       "      <td>BA</td>\n",
       "      <td>BRASIL</td>\n",
       "      <td>2010-02-07T17:40:00Z</td>\n",
       "      <td>2</td>\n",
       "    </tr>\n",
       "    <tr>\n",
       "      <th>1</th>\n",
       "      <td>39155</td>\n",
       "      <td>INCIDENTE</td>\n",
       "      <td>BELO HORIZONTE</td>\n",
       "      <td>MG</td>\n",
       "      <td>BRASIL</td>\n",
       "      <td>2010-02-05T12:55:00Z</td>\n",
       "      <td>0</td>\n",
       "    </tr>\n",
       "    <tr>\n",
       "      <th>2</th>\n",
       "      <td>39156</td>\n",
       "      <td>INCIDENTE GRAVE</td>\n",
       "      <td>CASCAVEL</td>\n",
       "      <td>PR</td>\n",
       "      <td>BRASIL</td>\n",
       "      <td>2010-01-10T23:15:00Z</td>\n",
       "      <td>2</td>\n",
       "    </tr>\n",
       "    <tr>\n",
       "      <th>3</th>\n",
       "      <td>39158</td>\n",
       "      <td>INCIDENTE</td>\n",
       "      <td>BELEM</td>\n",
       "      <td>PA</td>\n",
       "      <td>BRASIL</td>\n",
       "      <td>2010-01-28T16:00:00Z</td>\n",
       "      <td>0</td>\n",
       "    </tr>\n",
       "    <tr>\n",
       "      <th>4</th>\n",
       "      <td>39176</td>\n",
       "      <td>INCIDENTE</td>\n",
       "      <td>SAO LUIS</td>\n",
       "      <td>MA</td>\n",
       "      <td>BRASIL</td>\n",
       "      <td>2010-02-05T09:30:00Z</td>\n",
       "      <td>0</td>\n",
       "    </tr>\n",
       "  </tbody>\n",
       "</table>\n",
       "</div>"
      ],
      "text/plain": [
       "   id_ocorrencia    classificacao          cidade  uf    pais  \\\n",
       "0          39115         ACIDENTE      CORRENTINA  BA  BRASIL   \n",
       "1          39155        INCIDENTE  BELO HORIZONTE  MG  BRASIL   \n",
       "2          39156  INCIDENTE GRAVE        CASCAVEL  PR  BRASIL   \n",
       "3          39158        INCIDENTE           BELEM  PA  BRASIL   \n",
       "4          39176        INCIDENTE        SAO LUIS  MA  BRASIL   \n",
       "\n",
       "                   data  num_recomendacoes  \n",
       "0  2010-02-07T17:40:00Z                  2  \n",
       "1  2010-02-05T12:55:00Z                  0  \n",
       "2  2010-01-10T23:15:00Z                  2  \n",
       "3  2010-01-28T16:00:00Z                  0  \n",
       "4  2010-02-05T09:30:00Z                  0  "
      ]
     },
     "execution_count": 4,
     "metadata": {},
     "output_type": "execute_result"
    }
   ],
   "source": [
    "df_ocorrencia = pd.read_csv('../data/ocorrencia.csv', encoding='ISO-8859-1', sep=';')\n",
    "df_ocorrencia.head()"
   ]
  },
  {
   "cell_type": "code",
   "execution_count": 5,
   "metadata": {},
   "outputs": [
    {
     "data": {
      "text/plain": [
       "id_ocorrencia         int64\n",
       "classificacao        object\n",
       "cidade               object\n",
       "uf                   object\n",
       "pais                 object\n",
       "data                 object\n",
       "num_recomendacoes     int64\n",
       "dtype: object"
      ]
     },
     "execution_count": 5,
     "metadata": {},
     "output_type": "execute_result"
    }
   ],
   "source": [
    "df_ocorrencia.dtypes"
   ]
  },
  {
   "cell_type": "code",
   "execution_count": 6,
   "metadata": {},
   "outputs": [],
   "source": [
    "df_ocorrencia['data'] = df_ocorrencia['data'].str.replace('NULL', '')\n",
    "df_ocorrencia['data'] = df_ocorrencia['data'].str.replace('T', ' ').str.replace('Z', '')"
   ]
  },
  {
   "cell_type": "code",
   "execution_count": 7,
   "metadata": {},
   "outputs": [],
   "source": [
    "dtypes_ocorr_dict = {\n",
    "    'id_ocorrencia': 'int',\n",
    "    'classificacao': 'str',\n",
    "    'cidade': 'str',\n",
    "    'uf': 'str',\n",
    "    'pais': 'str',\n",
    "    'data': 'datetime64',\n",
    "    'num_recomendacoes': 'int'\n",
    "}\n",
    "\n",
    "df_ocorrencia = df_ocorrencia.astype(dtypes_ocorr_dict)\n",
    "    "
   ]
  },
  {
   "cell_type": "code",
   "execution_count": 8,
   "metadata": {},
   "outputs": [
    {
     "data": {
      "text/plain": [
       "id_ocorrencia                 int64\n",
       "classificacao                object\n",
       "cidade                       object\n",
       "uf                           object\n",
       "pais                         object\n",
       "data                 datetime64[ns]\n",
       "num_recomendacoes             int64\n",
       "dtype: object"
      ]
     },
     "execution_count": 8,
     "metadata": {},
     "output_type": "execute_result"
    }
   ],
   "source": [
    "df_ocorrencia.dtypes"
   ]
  },
  {
   "cell_type": "code",
   "execution_count": 9,
   "metadata": {},
   "outputs": [],
   "source": [
    "validator_ocorrencia={\n",
    "        '$jsonSchema': {\n",
    "            'bsonType': 'object',\n",
    "            'properties': {\n",
    "                'id_ocorrencia': {\n",
    "                    'bsonType': 'int',\n",
    "                    'description': 'id of the occurence, is not required'\n",
    "                },\n",
    "                'classificacao': {\n",
    "                    'bsonType': 'string',\n",
    "                    'description': 'classification of the occurence, is not required'\n",
    "                },\n",
    "                'cidade': {\n",
    "                    'bsonType': 'string',\n",
    "                    'description': 'city origin of the occurence, is not required'\n",
    "                },\n",
    "                'uf': {\n",
    "                    'bsonType': 'string',\n",
    "                    'description': 'UF origin of the occurence, is not required'\n",
    "                },\n",
    "                'pais': {\n",
    "                    'bsonType': 'string',\n",
    "                    'description': 'Country of occurence, is not required'\n",
    "                },\n",
    "                'data': {\n",
    "                    'bsonType': 'date',\n",
    "                    'description': 'data of the occurence, is not required'\n",
    "                },\n",
    "                'num_recomendacoes': {\n",
    "                    'bsonType': 'int',\n",
    "                    'description': 'num of recomendation for the occurence, is not required'\n",
    "                }\n",
    "            }\n",
    "        }\n",
    "    }"
   ]
  },
  {
   "cell_type": "code",
   "execution_count": 10,
   "metadata": {},
   "outputs": [
    {
     "data": {
      "text/plain": [
       "Collection(Database(MongoClient(host=['localhost:27017'], document_class=dict, tz_aware=False, connect=True), 'desafio'), 'ocorrencia')"
      ]
     },
     "execution_count": 10,
     "metadata": {},
     "output_type": "execute_result"
    }
   ],
   "source": [
    "db.create_collection(\n",
    "    'ocorrencia',\n",
    "    validator=validator_ocorrencia\n",
    ")"
   ]
  },
  {
   "cell_type": "code",
   "execution_count": 11,
   "metadata": {},
   "outputs": [
    {
     "data": {
      "text/html": [
       "<div>\n",
       "<style scoped>\n",
       "    .dataframe tbody tr th:only-of-type {\n",
       "        vertical-align: middle;\n",
       "    }\n",
       "\n",
       "    .dataframe tbody tr th {\n",
       "        vertical-align: top;\n",
       "    }\n",
       "\n",
       "    .dataframe thead th {\n",
       "        text-align: right;\n",
       "    }\n",
       "</style>\n",
       "<table border=\"1\" class=\"dataframe\">\n",
       "  <thead>\n",
       "    <tr style=\"text-align: right;\">\n",
       "      <th></th>\n",
       "      <th>id_ocorrencia_t</th>\n",
       "      <th>tipo</th>\n",
       "    </tr>\n",
       "  </thead>\n",
       "  <tbody>\n",
       "    <tr>\n",
       "      <th>0</th>\n",
       "      <td>39115</td>\n",
       "      <td>PANE SECA</td>\n",
       "    </tr>\n",
       "    <tr>\n",
       "      <th>1</th>\n",
       "      <td>39155</td>\n",
       "      <td>VAZAMENTO DE COMBUSTIVEL</td>\n",
       "    </tr>\n",
       "    <tr>\n",
       "      <th>2</th>\n",
       "      <td>39156</td>\n",
       "      <td>FOGO EM VOO</td>\n",
       "    </tr>\n",
       "    <tr>\n",
       "      <th>3</th>\n",
       "      <td>39158</td>\n",
       "      <td>SUPERAQUECIMENTO</td>\n",
       "    </tr>\n",
       "    <tr>\n",
       "      <th>4</th>\n",
       "      <td>39176</td>\n",
       "      <td>FALHA OU MAU FUNCIONAMENTO DE SISTEMA / COMPON...</td>\n",
       "    </tr>\n",
       "  </tbody>\n",
       "</table>\n",
       "</div>"
      ],
      "text/plain": [
       "   id_ocorrencia_t                                               tipo\n",
       "0            39115                                          PANE SECA\n",
       "1            39155                           VAZAMENTO DE COMBUSTIVEL\n",
       "2            39156                                        FOGO EM VOO\n",
       "3            39158                                   SUPERAQUECIMENTO\n",
       "4            39176  FALHA OU MAU FUNCIONAMENTO DE SISTEMA / COMPON..."
      ]
     },
     "execution_count": 11,
     "metadata": {},
     "output_type": "execute_result"
    }
   ],
   "source": [
    "df_ocorrencia_tipo = pd.read_csv(\"../data/ocorrencia_tipo.csv\", encoding='utf-8', sep=';')\n",
    "df_ocorrencia_tipo.head()"
   ]
  },
  {
   "cell_type": "code",
   "execution_count": 12,
   "metadata": {},
   "outputs": [],
   "source": [
    "validator_ocorrencia_tipo = {\n",
    "    '$jsonSchema': {\n",
    "        'bsonType': 'object',\n",
    "        'properties': {\n",
    "            'id_ocorrencia_t': {\n",
    "                'bsonType': 'int',\n",
    "                'description': 'id of the occurence, is not required'\n",
    "            },\n",
    "            'tipo': {\n",
    "                'bsonType': 'string',\n",
    "                'description': 'type of occurence, is not required'\n",
    "            }\n",
    "        }\n",
    "    }\n",
    "}\n"
   ]
  },
  {
   "cell_type": "code",
   "execution_count": 13,
   "metadata": {},
   "outputs": [
    {
     "data": {
      "text/plain": [
       "Collection(Database(MongoClient(host=['localhost:27017'], document_class=dict, tz_aware=False, connect=True), 'desafio'), 'ocorrencia_tipo')"
      ]
     },
     "execution_count": 13,
     "metadata": {},
     "output_type": "execute_result"
    }
   ],
   "source": [
    "db.create_collection(\n",
    "    'ocorrencia_tipo',\n",
    "    validator=validator_ocorrencia_tipo\n",
    ")"
   ]
  },
  {
   "cell_type": "code",
   "execution_count": 14,
   "metadata": {},
   "outputs": [
    {
     "data": {
      "text/plain": [
       "id_ocorrencia_t     int64\n",
       "tipo               object\n",
       "dtype: object"
      ]
     },
     "execution_count": 14,
     "metadata": {},
     "output_type": "execute_result"
    }
   ],
   "source": [
    "df_ocorrencia_tipo.dtypes"
   ]
  },
  {
   "cell_type": "code",
   "execution_count": 15,
   "metadata": {},
   "outputs": [],
   "source": [
    "dtypes_ocorrencia_tipo_dict = {\n",
    "    'id_ocorrencia_t': 'int',\n",
    "    'tipo': 'str'\n",
    "}\n",
    "\n",
    "df_ocorrencia_tipo = df_ocorrencia_tipo.astype(dtypes_ocorrencia_tipo_dict)"
   ]
  },
  {
   "cell_type": "code",
   "execution_count": null,
   "metadata": {},
   "outputs": [],
   "source": []
  },
  {
   "cell_type": "code",
   "execution_count": 16,
   "metadata": {},
   "outputs": [
    {
     "data": {
      "text/html": [
       "<div>\n",
       "<style scoped>\n",
       "    .dataframe tbody tr th:only-of-type {\n",
       "        vertical-align: middle;\n",
       "    }\n",
       "\n",
       "    .dataframe tbody tr th {\n",
       "        vertical-align: top;\n",
       "    }\n",
       "\n",
       "    .dataframe thead th {\n",
       "        text-align: right;\n",
       "    }\n",
       "</style>\n",
       "<table border=\"1\" class=\"dataframe\">\n",
       "  <thead>\n",
       "    <tr style=\"text-align: right;\">\n",
       "      <th></th>\n",
       "      <th>id_ocorrencia_a</th>\n",
       "      <th>matricula</th>\n",
       "      <th>operador_categoria</th>\n",
       "      <th>tipo_veiculo</th>\n",
       "      <th>fabricante</th>\n",
       "      <th>modelo</th>\n",
       "      <th>motor_tipo</th>\n",
       "      <th>motor_quantidade</th>\n",
       "      <th>assentos</th>\n",
       "      <th>ano_fabricacao</th>\n",
       "      <th>pais_fabricante</th>\n",
       "      <th>registro_segmento</th>\n",
       "      <th>voo_origem</th>\n",
       "      <th>voo_destino</th>\n",
       "      <th>fase_operacao</th>\n",
       "    </tr>\n",
       "  </thead>\n",
       "  <tbody>\n",
       "    <tr>\n",
       "      <th>0</th>\n",
       "      <td>39115</td>\n",
       "      <td>PTNQX</td>\n",
       "      <td>***</td>\n",
       "      <td>AVIAO</td>\n",
       "      <td>NEIVA INDUSTRIA AERONAUTICA</td>\n",
       "      <td>EMB-711A</td>\n",
       "      <td>PISTAO</td>\n",
       "      <td>MONOMOTOR</td>\n",
       "      <td>4</td>\n",
       "      <td>1979</td>\n",
       "      <td>BRASIL</td>\n",
       "      <td>PARTICULAR</td>\n",
       "      <td>BRIGADEIRO ARARIPE MACEDO</td>\n",
       "      <td>CORRENTINA</td>\n",
       "      <td>DECOLAGEM</td>\n",
       "    </tr>\n",
       "    <tr>\n",
       "      <th>1</th>\n",
       "      <td>39155</td>\n",
       "      <td>PTLVI</td>\n",
       "      <td>***</td>\n",
       "      <td>AVIAO</td>\n",
       "      <td>BEECH AIRCRAFT</td>\n",
       "      <td>C90</td>\n",
       "      <td>TURBOELICE</td>\n",
       "      <td>BIMOTOR</td>\n",
       "      <td>8</td>\n",
       "      <td>1979</td>\n",
       "      <td>BRASIL</td>\n",
       "      <td>PARTICULAR</td>\n",
       "      <td>FORA DE AERODROMO</td>\n",
       "      <td>FORA DE AERODROMO</td>\n",
       "      <td>DECOLAGEM</td>\n",
       "    </tr>\n",
       "    <tr>\n",
       "      <th>2</th>\n",
       "      <td>39156</td>\n",
       "      <td>PPPTO</td>\n",
       "      <td>***</td>\n",
       "      <td>AVIAO</td>\n",
       "      <td>AEROSPATIALE AND ALENIA</td>\n",
       "      <td>ATR-72-212A</td>\n",
       "      <td>TURBOELICE</td>\n",
       "      <td>BIMOTOR</td>\n",
       "      <td>73</td>\n",
       "      <td>2008</td>\n",
       "      <td>BRASIL</td>\n",
       "      <td>REGULAR</td>\n",
       "      <td>AFONSO PENA</td>\n",
       "      <td>ADALBERTO MENDES DA SILVA</td>\n",
       "      <td>ARREMETIDA NO AR</td>\n",
       "    </tr>\n",
       "    <tr>\n",
       "      <th>3</th>\n",
       "      <td>39158</td>\n",
       "      <td>PRLGJ</td>\n",
       "      <td>REGULAR</td>\n",
       "      <td>AVIAO</td>\n",
       "      <td>BOEING COMPANY</td>\n",
       "      <td>757-225</td>\n",
       "      <td>JATO</td>\n",
       "      <td>BIMOTOR</td>\n",
       "      <td>5</td>\n",
       "      <td>1984</td>\n",
       "      <td>BRASIL</td>\n",
       "      <td>REGULAR</td>\n",
       "      <td>FORA DE AERODROMO</td>\n",
       "      <td>FORA DE AERODROMO</td>\n",
       "      <td>SUBIDA</td>\n",
       "    </tr>\n",
       "    <tr>\n",
       "      <th>4</th>\n",
       "      <td>39176</td>\n",
       "      <td>PRMAA</td>\n",
       "      <td>REGULAR</td>\n",
       "      <td>AVIAO</td>\n",
       "      <td>AIRBUS INDUSTRIE</td>\n",
       "      <td>A320-232</td>\n",
       "      <td>JATO</td>\n",
       "      <td>BIMOTOR</td>\n",
       "      <td>184</td>\n",
       "      <td>2001</td>\n",
       "      <td>BRASIL</td>\n",
       "      <td>REGULAR</td>\n",
       "      <td>FORA DE AERODROMO</td>\n",
       "      <td>FORA DE AERODROMO</td>\n",
       "      <td>SUBIDA</td>\n",
       "    </tr>\n",
       "  </tbody>\n",
       "</table>\n",
       "</div>"
      ],
      "text/plain": [
       "   id_ocorrencia_a matricula operador_categoria tipo_veiculo  \\\n",
       "0            39115     PTNQX                ***        AVIAO   \n",
       "1            39155     PTLVI                ***        AVIAO   \n",
       "2            39156     PPPTO                ***        AVIAO   \n",
       "3            39158     PRLGJ            REGULAR        AVIAO   \n",
       "4            39176     PRMAA            REGULAR        AVIAO   \n",
       "\n",
       "                    fabricante       modelo  motor_tipo motor_quantidade  \\\n",
       "0  NEIVA INDUSTRIA AERONAUTICA     EMB-711A      PISTAO        MONOMOTOR   \n",
       "1               BEECH AIRCRAFT          C90  TURBOELICE          BIMOTOR   \n",
       "2      AEROSPATIALE AND ALENIA  ATR-72-212A  TURBOELICE          BIMOTOR   \n",
       "3               BOEING COMPANY      757-225        JATO          BIMOTOR   \n",
       "4             AIRBUS INDUSTRIE     A320-232        JATO          BIMOTOR   \n",
       "\n",
       "   assentos  ano_fabricacao pais_fabricante registro_segmento  \\\n",
       "0         4            1979          BRASIL        PARTICULAR   \n",
       "1         8            1979          BRASIL        PARTICULAR   \n",
       "2        73            2008          BRASIL           REGULAR   \n",
       "3         5            1984          BRASIL           REGULAR   \n",
       "4       184            2001          BRASIL           REGULAR   \n",
       "\n",
       "                  voo_origem                voo_destino     fase_operacao  \n",
       "0  BRIGADEIRO ARARIPE MACEDO                 CORRENTINA         DECOLAGEM  \n",
       "1          FORA DE AERODROMO          FORA DE AERODROMO         DECOLAGEM  \n",
       "2                AFONSO PENA  ADALBERTO MENDES DA SILVA  ARREMETIDA NO AR  \n",
       "3          FORA DE AERODROMO          FORA DE AERODROMO            SUBIDA  \n",
       "4          FORA DE AERODROMO          FORA DE AERODROMO            SUBIDA  "
      ]
     },
     "execution_count": 16,
     "metadata": {},
     "output_type": "execute_result"
    }
   ],
   "source": [
    "df_aeronave = pd.read_csv(\"../data/aeronave.csv\", encoding='iso-8859-1', sep=';')\n",
    "df_aeronave.head()"
   ]
  },
  {
   "cell_type": "code",
   "execution_count": 17,
   "metadata": {},
   "outputs": [],
   "source": [
    "validator_aeronave = {\n",
    "    '$jsonSchema': {\n",
    "        'bsonType': 'object',\n",
    "        'required': [\"assentos\", \"ano_favricacao\"],\n",
    "        'properties': {\n",
    "            'id_ocorrencia_a': {\n",
    "                'bsonType': 'int',\n",
    "                'description': 'id of the occurence, is not required'\n",
    "            },\n",
    "            'matricula': {\n",
    "                'bsonType': 'string',\n",
    "                'description': 'matricula of the occurence, is not required'\n",
    "            },\n",
    "            'operador_categoria': {\n",
    "                'bsonType': 'string',\n",
    "                'description': 'operador_categoria of the occurence, is not required'\n",
    "            },\n",
    "            'tipo_veiculo': {\n",
    "                'bsonType': 'string',\n",
    "                'description': 'tipo_veiculo of the occurence, is not required'\n",
    "            },\n",
    "            'fabricante': {\n",
    "                'bsonType': 'string',\n",
    "                'description': 'fabricante of the occurence, is not required'\n",
    "            },\n",
    "            'modelo': {\n",
    "                'bsonType': 'string',\n",
    "                'description': 'modelo of the occurence, is not required'\n",
    "            },\n",
    "            'motor_tipo': {\n",
    "                'bsonType': 'string',\n",
    "                'description': 'motor_tipo of the occurence, is not required'\n",
    "            },\n",
    "            'motor_quantidade': {\n",
    "                'bsonType': 'int',\n",
    "                'description': 'motor_quantidade of the occurence, is not required'\n",
    "            },\n",
    "            'assentos': {\n",
    "                'bsonType': 'int',\n",
    "                'minimum': 1,\n",
    "                'maximum': 1000,\n",
    "                'description': 'assentos of the occurence, must be an integer in [ 1, 1000 ] and is required'\n",
    "            },\n",
    "            'ano_fabricacao': {\n",
    "                'bsonType': 'int',\n",
    "                'minimum': 1950,\n",
    "                'maximum': 2030,\n",
    "                'description': 'ano_fabricacao of the occurence, must be an integer in [ 1950, 2030 ] and is required'\n",
    "            },\n",
    "            'pais_fabricante': {\n",
    "                'bsonType': 'string',\n",
    "                'description': 'pais_fabricante of the occurence, is not required'\n",
    "            },\n",
    "            'registro_segmento': {\n",
    "                'bsonType': 'string',\n",
    "                'description': 'registro_segmento of the occurence, is not required'\n",
    "            },\n",
    "            'voo_origem': {\n",
    "                'bsonType': 'string',\n",
    "                'description': 'voo_origem of the occurence, is not required'\n",
    "            },\n",
    "            'voo_destino': {\n",
    "                'bsonType': 'string',\n",
    "                'description': 'voo_destino of the occurence, is not required'\n",
    "            },\n",
    "            'fase_operacao': {\n",
    "                'bsonType': 'string',\n",
    "                'description': 'fase_operacao of the occurence, is not required'\n",
    "            }\n",
    "        }\n",
    "    }\n",
    "}"
   ]
  },
  {
   "cell_type": "code",
   "execution_count": 18,
   "metadata": {},
   "outputs": [
    {
     "data": {
      "text/plain": [
       "Collection(Database(MongoClient(host=['localhost:27017'], document_class=dict, tz_aware=False, connect=True), 'desafio'), 'aeronave')"
      ]
     },
     "execution_count": 18,
     "metadata": {},
     "output_type": "execute_result"
    }
   ],
   "source": [
    "db.create_collection(\n",
    "    'aeronave',\n",
    "    validator=validator_aeronave\n",
    ")"
   ]
  },
  {
   "cell_type": "code",
   "execution_count": 19,
   "metadata": {},
   "outputs": [
    {
     "data": {
      "text/plain": [
       "id_ocorrencia_a        int64\n",
       "matricula             object\n",
       "operador_categoria    object\n",
       "tipo_veiculo          object\n",
       "fabricante            object\n",
       "modelo                object\n",
       "motor_tipo            object\n",
       "motor_quantidade      object\n",
       "assentos               int64\n",
       "ano_fabricacao         int64\n",
       "pais_fabricante       object\n",
       "registro_segmento     object\n",
       "voo_origem            object\n",
       "voo_destino           object\n",
       "fase_operacao         object\n",
       "dtype: object"
      ]
     },
     "execution_count": 19,
     "metadata": {},
     "output_type": "execute_result"
    }
   ],
   "source": [
    "df_aeronave.dtypes"
   ]
  },
  {
   "cell_type": "code",
   "execution_count": 20,
   "metadata": {},
   "outputs": [],
   "source": [
    "dtypes_aeronave = {\n",
    "    'id_ocorrencia_a': 'int',\n",
    "    'matricula': 'str',\n",
    "    'operador_categoria': 'str',\n",
    "    'tipo_veiculo': 'str',\n",
    "    'fabricante': 'str',\n",
    "    'modelo': 'str',\n",
    "    'motor_tipo': 'str',\n",
    "    'motor_quantidade': 'str',\n",
    "    'assentos': 'int',\n",
    "    'ano_fabricacao': 'int',\n",
    "    'pais_fabricante': 'str',\n",
    "    'registro_segmento': 'str',\n",
    "    'voo_origem': 'str',\n",
    "    'voo_destino': 'str',\n",
    "    'fase_operacao': 'str'\n",
    "}\n",
    "\n",
    "df_aeronave = df_aeronave.astype(dtypes_aeronave)    \n",
    "    "
   ]
  },
  {
   "cell_type": "code",
   "execution_count": 21,
   "metadata": {},
   "outputs": [
    {
     "data": {
      "text/plain": [
       "id_ocorrencia_a        int64\n",
       "matricula             object\n",
       "operador_categoria    object\n",
       "tipo_veiculo          object\n",
       "fabricante            object\n",
       "modelo                object\n",
       "motor_tipo            object\n",
       "motor_quantidade      object\n",
       "assentos               int64\n",
       "ano_fabricacao         int64\n",
       "pais_fabricante       object\n",
       "registro_segmento     object\n",
       "voo_origem            object\n",
       "voo_destino           object\n",
       "fase_operacao         object\n",
       "dtype: object"
      ]
     },
     "execution_count": 21,
     "metadata": {},
     "output_type": "execute_result"
    }
   ],
   "source": [
    "df_aeronave.dtypes"
   ]
  },
  {
   "cell_type": "code",
   "execution_count": 22,
   "metadata": {},
   "outputs": [],
   "source": [
    "def documents_inserted_validation(inserted, df):\n",
    "    inserted_rows = inserted.inserted_ids\n",
    "\n",
    "    print(\"Inserted Count: \", len(inserted_rows))\n",
    "    print(\"Df Count: \", len(df))\n",
    "\n",
    "    if len(inserted_rows) == len(df):\n",
    "        print(\"All documents were inserted\")\n",
    "    else:\n",
    "        print(f'{len(df) - len(inserted_rows)} documents were not inserted')\n",
    "        print('as the following:')\n",
    "        print(df[~df['id_ocorrencia_a'].isin(inserted_rows)])"
   ]
  },
  {
   "cell_type": "code",
   "execution_count": 23,
   "metadata": {},
   "outputs": [
    {
     "name": "stdout",
     "output_type": "stream",
     "text": [
      "Inserted Count:  5213\n",
      "Df Count:  5213\n",
      "All documents were inserted\n"
     ]
    }
   ],
   "source": [
    "insert_aeronaves_coll  =  aeronaves.insert_many(df_aeronave.to_dict('records'))\n",
    "documents_inserted_validation(insert_aeronaves_coll, df_aeronave)"
   ]
  },
  {
   "cell_type": "code",
   "execution_count": 24,
   "metadata": {},
   "outputs": [
    {
     "name": "stdout",
     "output_type": "stream",
     "text": [
      "Inserted Count:  5155\n",
      "Df Count:  5155\n",
      "All documents were inserted\n"
     ]
    }
   ],
   "source": [
    "insert_ocorrencias_coll = ocorrencias.insert_many(df_ocorrencia.to_dict('records'))\n",
    "documents_inserted_validation(insert_ocorrencias_coll, df_ocorrencia)"
   ]
  },
  {
   "cell_type": "code",
   "execution_count": 25,
   "metadata": {},
   "outputs": [
    {
     "name": "stdout",
     "output_type": "stream",
     "text": [
      "Inserted Count:  5244\n",
      "Df Count:  5244\n",
      "All documents were inserted\n"
     ]
    }
   ],
   "source": [
    "insert_ocorrencias_tipo_coll = ocorrencias_tipo.insert_many(df_ocorrencia_tipo.to_dict('records'))\n",
    "documents_inserted_validation(insert_ocorrencias_tipo_coll, df_ocorrencia_tipo)"
   ]
  }
 ],
 "metadata": {
  "kernelspec": {
   "display_name": "Python 3",
   "language": "python",
   "name": "python3"
  },
  "language_info": {
   "codemirror_mode": {
    "name": "ipython",
    "version": 3
   },
   "file_extension": ".py",
   "mimetype": "text/x-python",
   "name": "python",
   "nbconvert_exporter": "python",
   "pygments_lexer": "ipython3",
   "version": "3.10.6"
  },
  "orig_nbformat": 4
 },
 "nbformat": 4,
 "nbformat_minor": 2
}
