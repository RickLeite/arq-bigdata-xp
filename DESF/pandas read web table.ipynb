{
 "cells": [
  {
   "cell_type": "code",
   "execution_count": 2,
   "metadata": {},
   "outputs": [],
   "source": [
    "import pandas as pd\n",
    "import lxml.html"
   ]
  },
  {
   "cell_type": "code",
   "execution_count": 3,
   "metadata": {},
   "outputs": [],
   "source": [
    "HTML = 'https://profleandrolessa.wordpress.com/exercicio-de-coleta-de-dados/'"
   ]
  },
  {
   "cell_type": "code",
   "execution_count": 8,
   "metadata": {},
   "outputs": [
    {
     "data": {
      "text/html": [
       "<div>\n",
       "<style scoped>\n",
       "    .dataframe tbody tr th:only-of-type {\n",
       "        vertical-align: middle;\n",
       "    }\n",
       "\n",
       "    .dataframe tbody tr th {\n",
       "        vertical-align: top;\n",
       "    }\n",
       "\n",
       "    .dataframe thead th {\n",
       "        text-align: right;\n",
       "    }\n",
       "</style>\n",
       "<table border=\"1\" class=\"dataframe\">\n",
       "  <thead>\n",
       "    <tr style=\"text-align: right;\">\n",
       "      <th></th>\n",
       "      <th>cod_produto</th>\n",
       "      <th>nome_produto</th>\n",
       "      <th>cod_classe_produto</th>\n",
       "      <th>classe_produto</th>\n",
       "      <th>valor</th>\n",
       "    </tr>\n",
       "  </thead>\n",
       "  <tbody>\n",
       "    <tr>\n",
       "      <th>0</th>\n",
       "      <td>1000</td>\n",
       "      <td>Sabão em pó</td>\n",
       "      <td>1</td>\n",
       "      <td>Produtos de Limpeza</td>\n",
       "      <td>9,9</td>\n",
       "    </tr>\n",
       "    <tr>\n",
       "      <th>1</th>\n",
       "      <td>1001</td>\n",
       "      <td>Amaciante</td>\n",
       "      <td>1</td>\n",
       "      <td>Produtos de Limpeza</td>\n",
       "      <td>22</td>\n",
       "    </tr>\n",
       "    <tr>\n",
       "      <th>2</th>\n",
       "      <td>1002</td>\n",
       "      <td>Detergente</td>\n",
       "      <td>1</td>\n",
       "      <td>Produtos de Limpeza</td>\n",
       "      <td>1,99</td>\n",
       "    </tr>\n",
       "    <tr>\n",
       "      <th>3</th>\n",
       "      <td>1003</td>\n",
       "      <td>Água sanitária</td>\n",
       "      <td>1</td>\n",
       "      <td>Produtos de Limpeza</td>\n",
       "      <td>12</td>\n",
       "    </tr>\n",
       "    <tr>\n",
       "      <th>4</th>\n",
       "      <td>1004</td>\n",
       "      <td>Esponja de aço</td>\n",
       "      <td>1</td>\n",
       "      <td>Produtos de Limpeza</td>\n",
       "      <td>4</td>\n",
       "    </tr>\n",
       "    <tr>\n",
       "      <th>...</th>\n",
       "      <td>...</td>\n",
       "      <td>...</td>\n",
       "      <td>...</td>\n",
       "      <td>...</td>\n",
       "      <td>...</td>\n",
       "    </tr>\n",
       "    <tr>\n",
       "      <th>82</th>\n",
       "      <td>1082</td>\n",
       "      <td>Peixe</td>\n",
       "      <td>5</td>\n",
       "      <td>Carnes e Frios</td>\n",
       "      <td>29,99</td>\n",
       "    </tr>\n",
       "    <tr>\n",
       "      <th>83</th>\n",
       "      <td>1083</td>\n",
       "      <td>Frango</td>\n",
       "      <td>5</td>\n",
       "      <td>Carnes e Frios</td>\n",
       "      <td>1,99</td>\n",
       "    </tr>\n",
       "    <tr>\n",
       "      <th>84</th>\n",
       "      <td>1084</td>\n",
       "      <td>Carne vermelha</td>\n",
       "      <td>5</td>\n",
       "      <td>Carnes e Frios</td>\n",
       "      <td>56,99</td>\n",
       "    </tr>\n",
       "    <tr>\n",
       "      <th>85</th>\n",
       "      <td>1085</td>\n",
       "      <td>Carne seca</td>\n",
       "      <td>5</td>\n",
       "      <td>Carnes e Frios</td>\n",
       "      <td>64,99</td>\n",
       "    </tr>\n",
       "    <tr>\n",
       "      <th>86</th>\n",
       "      <td>1086</td>\n",
       "      <td>Salsicha</td>\n",
       "      <td>5</td>\n",
       "      <td>Carnes e Frios</td>\n",
       "      <td>15,9</td>\n",
       "    </tr>\n",
       "  </tbody>\n",
       "</table>\n",
       "<p>87 rows × 5 columns</p>\n",
       "</div>"
      ],
      "text/plain": [
       "    cod_produto    nome_produto  cod_classe_produto       classe_produto  \\\n",
       "0          1000     Sabão em pó                   1  Produtos de Limpeza   \n",
       "1          1001       Amaciante                   1  Produtos de Limpeza   \n",
       "2          1002      Detergente                   1  Produtos de Limpeza   \n",
       "3          1003  Água sanitária                   1  Produtos de Limpeza   \n",
       "4          1004  Esponja de aço                   1  Produtos de Limpeza   \n",
       "..          ...             ...                 ...                  ...   \n",
       "82         1082           Peixe                   5       Carnes e Frios   \n",
       "83         1083          Frango                   5       Carnes e Frios   \n",
       "84         1084  Carne vermelha                   5       Carnes e Frios   \n",
       "85         1085      Carne seca                   5       Carnes e Frios   \n",
       "86         1086        Salsicha                   5       Carnes e Frios   \n",
       "\n",
       "    valor  \n",
       "0     9,9  \n",
       "1      22  \n",
       "2    1,99  \n",
       "3      12  \n",
       "4       4  \n",
       "..    ...  \n",
       "82  29,99  \n",
       "83   1,99  \n",
       "84  56,99  \n",
       "85  64,99  \n",
       "86   15,9  \n",
       "\n",
       "[87 rows x 5 columns]"
      ]
     },
     "execution_count": 8,
     "metadata": {},
     "output_type": "execute_result"
    }
   ],
   "source": [
    "df = pd.read_html(HTML, encoding='utf-8', thousands='.', header=0)\n",
    "df[0]\n"
   ]
  },
  {
   "cell_type": "code",
   "execution_count": 12,
   "metadata": {},
   "outputs": [
    {
     "data": {
      "text/plain": [
       "cod_produto            int64\n",
       "nome_produto          object\n",
       "cod_classe_produto     int64\n",
       "classe_produto        object\n",
       "valor                 object\n",
       "dtype: object"
      ]
     },
     "execution_count": 12,
     "metadata": {},
     "output_type": "execute_result"
    }
   ],
   "source": [
    "df[0].dtypes"
   ]
  },
  {
   "cell_type": "code",
   "execution_count": 14,
   "metadata": {},
   "outputs": [
    {
     "data": {
      "text/plain": [
       "(87, 5)"
      ]
     },
     "execution_count": 14,
     "metadata": {},
     "output_type": "execute_result"
    }
   ],
   "source": [
    "df[0].shape"
   ]
  }
 ],
 "metadata": {
  "kernelspec": {
   "display_name": "Python 3",
   "language": "python",
   "name": "python3"
  },
  "language_info": {
   "codemirror_mode": {
    "name": "ipython",
    "version": 3
   },
   "file_extension": ".py",
   "mimetype": "text/x-python",
   "name": "python",
   "nbconvert_exporter": "python",
   "pygments_lexer": "ipython3",
   "version": "3.10.6"
  },
  "orig_nbformat": 4
 },
 "nbformat": 4,
 "nbformat_minor": 2
}
