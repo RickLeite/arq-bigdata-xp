{
  "cells": [
    {
      "cell_type": "code",
      "execution_count": 133,
      "metadata": {
        "id": "4Aiv4DYTSMCO"
      },
      "outputs": [],
      "source": [
        "import pandas as pd"
      ]
    },
    {
      "cell_type": "code",
      "execution_count": 134,
      "metadata": {
        "colab": {
          "base_uri": "https://localhost:8080/",
          "height": 238
        },
        "id": "Gdji0fNLVGP0",
        "outputId": "21284f58-7fd1-4e77-9a12-be6a6375eeaf"
      },
      "outputs": [
        {
          "data": {
            "text/html": [
              "<div>\n",
              "<style scoped>\n",
              "    .dataframe tbody tr th:only-of-type {\n",
              "        vertical-align: middle;\n",
              "    }\n",
              "\n",
              "    .dataframe tbody tr th {\n",
              "        vertical-align: top;\n",
              "    }\n",
              "\n",
              "    .dataframe thead th {\n",
              "        text-align: right;\n",
              "    }\n",
              "</style>\n",
              "<table border=\"1\" class=\"dataframe\">\n",
              "  <thead>\n",
              "    <tr style=\"text-align: right;\">\n",
              "      <th></th>\n",
              "      <th>estado</th>\n",
              "      <th>sigla_estado</th>\n",
              "      <th>pais</th>\n",
              "    </tr>\n",
              "    <tr>\n",
              "      <th>id_estado</th>\n",
              "      <th></th>\n",
              "      <th></th>\n",
              "      <th></th>\n",
              "    </tr>\n",
              "  </thead>\n",
              "  <tbody>\n",
              "    <tr>\n",
              "      <th>1</th>\n",
              "      <td>Acre</td>\n",
              "      <td>ac</td>\n",
              "      <td>Brasil</td>\n",
              "    </tr>\n",
              "    <tr>\n",
              "      <th>2</th>\n",
              "      <td>Alagoas</td>\n",
              "      <td>al</td>\n",
              "      <td>Brasil</td>\n",
              "    </tr>\n",
              "    <tr>\n",
              "      <th>3</th>\n",
              "      <td>Amapá</td>\n",
              "      <td>ap</td>\n",
              "      <td>Brasil</td>\n",
              "    </tr>\n",
              "    <tr>\n",
              "      <th>4</th>\n",
              "      <td>Amazonas</td>\n",
              "      <td>am</td>\n",
              "      <td>Brasil</td>\n",
              "    </tr>\n",
              "    <tr>\n",
              "      <th>5</th>\n",
              "      <td>Bahia</td>\n",
              "      <td>ba</td>\n",
              "      <td>Brasil</td>\n",
              "    </tr>\n",
              "  </tbody>\n",
              "</table>\n",
              "</div>"
            ],
            "text/plain": [
              "             estado sigla_estado    pais\n",
              "id_estado                               \n",
              "1              Acre           ac  Brasil\n",
              "2           Alagoas           al  Brasil\n",
              "3             Amapá           ap  Brasil\n",
              "4          Amazonas           am  Brasil\n",
              "5             Bahia           ba  Brasil"
            ]
          },
          "execution_count": 134,
          "metadata": {},
          "output_type": "execute_result"
        }
      ],
      "source": [
        "estados = pd.read_csv('data/DESM1/estados_brasileiros.csv', sep=';', index_col=0)\n",
        "estados.head()"
      ]
    },
    {
      "cell_type": "code",
      "execution_count": 135,
      "metadata": {
        "colab": {
          "base_uri": "https://localhost:8080/",
          "height": 206
        },
        "id": "JBeo99Ym1Lrn",
        "outputId": "1fa7f4c6-c47e-4cf7-9974-45ceb938dece"
      },
      "outputs": [
        {
          "data": {
            "text/html": [
              "<div>\n",
              "<style scoped>\n",
              "    .dataframe tbody tr th:only-of-type {\n",
              "        vertical-align: middle;\n",
              "    }\n",
              "\n",
              "    .dataframe tbody tr th {\n",
              "        vertical-align: top;\n",
              "    }\n",
              "\n",
              "    .dataframe thead th {\n",
              "        text-align: right;\n",
              "    }\n",
              "</style>\n",
              "<table border=\"1\" class=\"dataframe\">\n",
              "  <thead>\n",
              "    <tr style=\"text-align: right;\">\n",
              "      <th></th>\n",
              "      <th>id_cliente</th>\n",
              "      <th>peso</th>\n",
              "      <th>colesterol</th>\n",
              "      <th>genero</th>\n",
              "      <th>id_estado</th>\n",
              "    </tr>\n",
              "  </thead>\n",
              "  <tbody>\n",
              "    <tr>\n",
              "      <th>0</th>\n",
              "      <td>1</td>\n",
              "      <td>102.0</td>\n",
              "      <td>111</td>\n",
              "      <td>Masculino</td>\n",
              "      <td>23</td>\n",
              "    </tr>\n",
              "    <tr>\n",
              "      <th>1</th>\n",
              "      <td>2</td>\n",
              "      <td>115.0</td>\n",
              "      <td>135</td>\n",
              "      <td>Masculino</td>\n",
              "      <td>7</td>\n",
              "    </tr>\n",
              "    <tr>\n",
              "      <th>2</th>\n",
              "      <td>3</td>\n",
              "      <td>115.0</td>\n",
              "      <td>136</td>\n",
              "      <td>Masculino</td>\n",
              "      <td>4</td>\n",
              "    </tr>\n",
              "    <tr>\n",
              "      <th>3</th>\n",
              "      <td>4</td>\n",
              "      <td>140.0</td>\n",
              "      <td>167</td>\n",
              "      <td>Feminino</td>\n",
              "      <td>24</td>\n",
              "    </tr>\n",
              "    <tr>\n",
              "      <th>4</th>\n",
              "      <td>5</td>\n",
              "      <td>130.0</td>\n",
              "      <td>158</td>\n",
              "      <td>Masculino</td>\n",
              "      <td>26</td>\n",
              "    </tr>\n",
              "  </tbody>\n",
              "</table>\n",
              "</div>"
            ],
            "text/plain": [
              "   id_cliente   peso  colesterol     genero  id_estado\n",
              "0           1  102.0         111  Masculino         23\n",
              "1           2  115.0         135  Masculino          7\n",
              "2           3  115.0         136  Masculino          4\n",
              "3           4  140.0         167   Feminino         24\n",
              "4           5  130.0         158  Masculino         26"
            ]
          },
          "execution_count": 135,
          "metadata": {},
          "output_type": "execute_result"
        }
      ],
      "source": [
        "clientes = pd.read_excel('data/DESM1/dados_clientes.xlsx')\n",
        "clientes.head()"
      ]
    },
    {
      "cell_type": "code",
      "execution_count": 136,
      "metadata": {
        "colab": {
          "base_uri": "https://localhost:8080/",
          "height": 206
        },
        "id": "Skoy48uH03Bk",
        "outputId": "eac4b2a5-a57c-4123-fd3e-f7013a26481f"
      },
      "outputs": [
        {
          "data": {
            "text/html": [
              "<div>\n",
              "<style scoped>\n",
              "    .dataframe tbody tr th:only-of-type {\n",
              "        vertical-align: middle;\n",
              "    }\n",
              "\n",
              "    .dataframe tbody tr th {\n",
              "        vertical-align: top;\n",
              "    }\n",
              "\n",
              "    .dataframe thead th {\n",
              "        text-align: right;\n",
              "    }\n",
              "</style>\n",
              "<table border=\"1\" class=\"dataframe\">\n",
              "  <thead>\n",
              "    <tr style=\"text-align: right;\">\n",
              "      <th></th>\n",
              "      <th>id_cliente</th>\n",
              "      <th>idade</th>\n",
              "    </tr>\n",
              "  </thead>\n",
              "  <tbody>\n",
              "    <tr>\n",
              "      <th>0</th>\n",
              "      <td>1</td>\n",
              "      <td>17</td>\n",
              "    </tr>\n",
              "    <tr>\n",
              "      <th>1</th>\n",
              "      <td>2</td>\n",
              "      <td>28</td>\n",
              "    </tr>\n",
              "    <tr>\n",
              "      <th>2</th>\n",
              "      <td>3</td>\n",
              "      <td>62</td>\n",
              "    </tr>\n",
              "    <tr>\n",
              "      <th>3</th>\n",
              "      <td>4</td>\n",
              "      <td>55</td>\n",
              "    </tr>\n",
              "    <tr>\n",
              "      <th>4</th>\n",
              "      <td>5</td>\n",
              "      <td>44</td>\n",
              "    </tr>\n",
              "  </tbody>\n",
              "</table>\n",
              "</div>"
            ],
            "text/plain": [
              "   id_cliente  idade\n",
              "0           1     17\n",
              "1           2     28\n",
              "2           3     62\n",
              "3           4     55\n",
              "4           5     44"
            ]
          },
          "execution_count": 136,
          "metadata": {},
          "output_type": "execute_result"
        }
      ],
      "source": [
        "idades = pd.read_csv('data/DESM1/idade_clientes.csv', sep=';')\n",
        "idades.head()"
      ]
    },
    {
      "cell_type": "markdown",
      "metadata": {
        "id": "PS_K87ZV1jli"
      },
      "source": [
        "#Preparando"
      ]
    },
    {
      "cell_type": "code",
      "execution_count": 137,
      "metadata": {
        "colab": {
          "base_uri": "https://localhost:8080/",
          "height": 143
        },
        "id": "CX1JBSsXZb3N",
        "outputId": "6e9c8b64-b5cd-4ad4-fb01-b0c54a02400c"
      },
      "outputs": [
        {
          "data": {
            "text/html": [
              "<div>\n",
              "<style scoped>\n",
              "    .dataframe tbody tr th:only-of-type {\n",
              "        vertical-align: middle;\n",
              "    }\n",
              "\n",
              "    .dataframe tbody tr th {\n",
              "        vertical-align: top;\n",
              "    }\n",
              "\n",
              "    .dataframe thead th {\n",
              "        text-align: right;\n",
              "    }\n",
              "</style>\n",
              "<table border=\"1\" class=\"dataframe\">\n",
              "  <thead>\n",
              "    <tr style=\"text-align: right;\">\n",
              "      <th></th>\n",
              "      <th>estado</th>\n",
              "      <th>sigla_estado</th>\n",
              "      <th>pais</th>\n",
              "    </tr>\n",
              "    <tr>\n",
              "      <th>id_estado</th>\n",
              "      <th></th>\n",
              "      <th></th>\n",
              "      <th></th>\n",
              "    </tr>\n",
              "  </thead>\n",
              "  <tbody>\n",
              "    <tr>\n",
              "      <th>18</th>\n",
              "      <td>Piauí</td>\n",
              "      <td>pi</td>\n",
              "      <td>NaN</td>\n",
              "    </tr>\n",
              "    <tr>\n",
              "      <th>24</th>\n",
              "      <td>Santa Catarina</td>\n",
              "      <td>sc</td>\n",
              "      <td>NaN</td>\n",
              "    </tr>\n",
              "  </tbody>\n",
              "</table>\n",
              "</div>"
            ],
            "text/plain": [
              "                   estado sigla_estado pais\n",
              "id_estado                                  \n",
              "18                  Piauí           pi  NaN\n",
              "24         Santa Catarina           sc  NaN"
            ]
          },
          "execution_count": 137,
          "metadata": {},
          "output_type": "execute_result"
        }
      ],
      "source": [
        "null_estados = estados.isnull()\n",
        "estados[null_estados.any(axis=1)]"
      ]
    },
    {
      "cell_type": "code",
      "execution_count": 138,
      "metadata": {
        "colab": {
          "base_uri": "https://localhost:8080/",
          "height": 143
        },
        "id": "lalyg43LaerB",
        "outputId": "747a40b2-3ffa-47af-bfb1-b80836324ae2"
      },
      "outputs": [
        {
          "name": "stderr",
          "output_type": "stream",
          "text": [
            "/tmp/ipykernel_10359/1613897693.py:6: UserWarning:\n",
            "\n",
            "Boolean Series key will be reindexed to match DataFrame index.\n",
            "\n"
          ]
        },
        {
          "data": {
            "text/html": [
              "<div>\n",
              "<style scoped>\n",
              "    .dataframe tbody tr th:only-of-type {\n",
              "        vertical-align: middle;\n",
              "    }\n",
              "\n",
              "    .dataframe tbody tr th {\n",
              "        vertical-align: top;\n",
              "    }\n",
              "\n",
              "    .dataframe thead th {\n",
              "        text-align: right;\n",
              "    }\n",
              "</style>\n",
              "<table border=\"1\" class=\"dataframe\">\n",
              "  <thead>\n",
              "    <tr style=\"text-align: right;\">\n",
              "      <th></th>\n",
              "      <th>estado</th>\n",
              "      <th>sigla_estado</th>\n",
              "      <th>pais</th>\n",
              "    </tr>\n",
              "    <tr>\n",
              "      <th>id_estado</th>\n",
              "      <th></th>\n",
              "      <th></th>\n",
              "      <th></th>\n",
              "    </tr>\n",
              "  </thead>\n",
              "  <tbody>\n",
              "  </tbody>\n",
              "</table>\n",
              "</div>"
            ],
            "text/plain": [
              "Empty DataFrame\n",
              "Columns: [estado, sigla_estado, pais]\n",
              "Index: []"
            ]
          },
          "execution_count": 138,
          "metadata": {},
          "output_type": "execute_result"
        }
      ],
      "source": [
        "#estados.loc[estados['pais'].isnull(), 'pais'] = 'Brasil'\n",
        "# estados = estados.fillna(value='Brazil')\n",
        "\n",
        "estados.dropna(subset=['pais'], inplace=True)\n",
        "\n",
        "estados[null_estados.any(axis=1)]\n"
      ]
    },
    {
      "cell_type": "code",
      "execution_count": 139,
      "metadata": {
        "colab": {
          "base_uri": "https://localhost:8080/",
          "height": 206
        },
        "id": "5TR_9xIq0uBZ",
        "outputId": "f69aa839-6887-4e16-d81c-a0de636a9db7"
      },
      "outputs": [
        {
          "data": {
            "text/html": [
              "<div>\n",
              "<style scoped>\n",
              "    .dataframe tbody tr th:only-of-type {\n",
              "        vertical-align: middle;\n",
              "    }\n",
              "\n",
              "    .dataframe tbody tr th {\n",
              "        vertical-align: top;\n",
              "    }\n",
              "\n",
              "    .dataframe thead th {\n",
              "        text-align: right;\n",
              "    }\n",
              "</style>\n",
              "<table border=\"1\" class=\"dataframe\">\n",
              "  <thead>\n",
              "    <tr style=\"text-align: right;\">\n",
              "      <th></th>\n",
              "      <th>id_cliente</th>\n",
              "      <th>peso</th>\n",
              "      <th>colesterol</th>\n",
              "      <th>genero</th>\n",
              "      <th>id_estado</th>\n",
              "    </tr>\n",
              "  </thead>\n",
              "  <tbody>\n",
              "    <tr>\n",
              "      <th>63</th>\n",
              "      <td>64</td>\n",
              "      <td>NaN</td>\n",
              "      <td>211</td>\n",
              "      <td>Masculino</td>\n",
              "      <td>12</td>\n",
              "    </tr>\n",
              "    <tr>\n",
              "      <th>101</th>\n",
              "      <td>102</td>\n",
              "      <td>NaN</td>\n",
              "      <td>230</td>\n",
              "      <td>Feminino</td>\n",
              "      <td>24</td>\n",
              "    </tr>\n",
              "    <tr>\n",
              "      <th>146</th>\n",
              "      <td>147</td>\n",
              "      <td>NaN</td>\n",
              "      <td>171</td>\n",
              "      <td>Masculino</td>\n",
              "      <td>23</td>\n",
              "    </tr>\n",
              "    <tr>\n",
              "      <th>195</th>\n",
              "      <td>196</td>\n",
              "      <td>NaN</td>\n",
              "      <td>143</td>\n",
              "      <td>Feminino</td>\n",
              "      <td>15</td>\n",
              "    </tr>\n",
              "    <tr>\n",
              "      <th>215</th>\n",
              "      <td>216</td>\n",
              "      <td>NaN</td>\n",
              "      <td>180</td>\n",
              "      <td>Masculino</td>\n",
              "      <td>13</td>\n",
              "    </tr>\n",
              "  </tbody>\n",
              "</table>\n",
              "</div>"
            ],
            "text/plain": [
              "     id_cliente  peso  colesterol     genero  id_estado\n",
              "63           64   NaN         211  Masculino         12\n",
              "101         102   NaN         230   Feminino         24\n",
              "146         147   NaN         171  Masculino         23\n",
              "195         196   NaN         143   Feminino         15\n",
              "215         216   NaN         180  Masculino         13"
            ]
          },
          "execution_count": 139,
          "metadata": {},
          "output_type": "execute_result"
        }
      ],
      "source": [
        "null_clientes = clientes.isnull()\n",
        "clientes[null_clientes.any(axis=1)]"
      ]
    },
    {
      "cell_type": "code",
      "execution_count": 140,
      "metadata": {},
      "outputs": [
        {
          "name": "stderr",
          "output_type": "stream",
          "text": [
            "/tmp/ipykernel_10359/1144129017.py:3: UserWarning:\n",
            "\n",
            "Boolean Series key will be reindexed to match DataFrame index.\n",
            "\n"
          ]
        },
        {
          "data": {
            "text/html": [
              "<div>\n",
              "<style scoped>\n",
              "    .dataframe tbody tr th:only-of-type {\n",
              "        vertical-align: middle;\n",
              "    }\n",
              "\n",
              "    .dataframe tbody tr th {\n",
              "        vertical-align: top;\n",
              "    }\n",
              "\n",
              "    .dataframe thead th {\n",
              "        text-align: right;\n",
              "    }\n",
              "</style>\n",
              "<table border=\"1\" class=\"dataframe\">\n",
              "  <thead>\n",
              "    <tr style=\"text-align: right;\">\n",
              "      <th></th>\n",
              "      <th>id_cliente</th>\n",
              "      <th>peso</th>\n",
              "      <th>colesterol</th>\n",
              "      <th>genero</th>\n",
              "      <th>id_estado</th>\n",
              "    </tr>\n",
              "  </thead>\n",
              "  <tbody>\n",
              "  </tbody>\n",
              "</table>\n",
              "</div>"
            ],
            "text/plain": [
              "Empty DataFrame\n",
              "Columns: [id_cliente, peso, colesterol, genero, id_estado]\n",
              "Index: []"
            ]
          },
          "execution_count": 140,
          "metadata": {},
          "output_type": "execute_result"
        }
      ],
      "source": [
        "# clientes.peso.fillna(round(clientes.peso.mean(),2), inplace=True) #- Substituir valores do peso nulos com a media\n",
        "clientes.dropna(subset=['peso'], inplace=True)\n",
        "clientes[null_clientes.any(axis=1)]"
      ]
    },
    {
      "cell_type": "code",
      "execution_count": 141,
      "metadata": {
        "colab": {
          "base_uri": "https://localhost:8080/",
          "height": 49
        },
        "id": "bokrbUfD2g3A",
        "outputId": "93e251b8-0510-45a6-83a8-fdf21f39f8ae"
      },
      "outputs": [
        {
          "data": {
            "text/html": [
              "<div>\n",
              "<style scoped>\n",
              "    .dataframe tbody tr th:only-of-type {\n",
              "        vertical-align: middle;\n",
              "    }\n",
              "\n",
              "    .dataframe tbody tr th {\n",
              "        vertical-align: top;\n",
              "    }\n",
              "\n",
              "    .dataframe thead th {\n",
              "        text-align: right;\n",
              "    }\n",
              "</style>\n",
              "<table border=\"1\" class=\"dataframe\">\n",
              "  <thead>\n",
              "    <tr style=\"text-align: right;\">\n",
              "      <th></th>\n",
              "      <th>id_cliente</th>\n",
              "      <th>idade</th>\n",
              "    </tr>\n",
              "  </thead>\n",
              "  <tbody>\n",
              "  </tbody>\n",
              "</table>\n",
              "</div>"
            ],
            "text/plain": [
              "Empty DataFrame\n",
              "Columns: [id_cliente, idade]\n",
              "Index: []"
            ]
          },
          "execution_count": 141,
          "metadata": {},
          "output_type": "execute_result"
        }
      ],
      "source": [
        "null_idades = idades.isnull()\n",
        "idades[null_idades.any(axis=1)]"
      ]
    },
    {
      "cell_type": "code",
      "execution_count": 142,
      "metadata": {
        "colab": {
          "base_uri": "https://localhost:8080/"
        },
        "id": "iI7d3Nrp16yh",
        "outputId": "fdec314d-e542-4c80-b904-72360dca74ef"
      },
      "outputs": [
        {
          "data": {
            "text/plain": [
              "id_cliente    274.00000\n",
              "idade          42.79159\n",
              "dtype: float64"
            ]
          },
          "execution_count": 142,
          "metadata": {},
          "output_type": "execute_result"
        }
      ],
      "source": [
        "idades.mean()"
      ]
    },
    {
      "cell_type": "code",
      "execution_count": 143,
      "metadata": {
        "colab": {
          "base_uri": "https://localhost:8080/",
          "height": 300
        },
        "id": "hrwVsD1h7ZSP",
        "outputId": "a92a5cc2-0724-498c-d4e4-c316c8fec376"
      },
      "outputs": [
        {
          "data": {
            "text/html": [
              "<div>\n",
              "<style scoped>\n",
              "    .dataframe tbody tr th:only-of-type {\n",
              "        vertical-align: middle;\n",
              "    }\n",
              "\n",
              "    .dataframe tbody tr th {\n",
              "        vertical-align: top;\n",
              "    }\n",
              "\n",
              "    .dataframe thead th {\n",
              "        text-align: right;\n",
              "    }\n",
              "</style>\n",
              "<table border=\"1\" class=\"dataframe\">\n",
              "  <thead>\n",
              "    <tr style=\"text-align: right;\">\n",
              "      <th></th>\n",
              "      <th>id_cliente</th>\n",
              "      <th>peso</th>\n",
              "      <th>colesterol</th>\n",
              "      <th>id_estado</th>\n",
              "    </tr>\n",
              "  </thead>\n",
              "  <tbody>\n",
              "    <tr>\n",
              "      <th>count</th>\n",
              "      <td>542.000000</td>\n",
              "      <td>542.000000</td>\n",
              "      <td>542.000000</td>\n",
              "      <td>542.000000</td>\n",
              "    </tr>\n",
              "    <tr>\n",
              "      <th>mean</th>\n",
              "      <td>275.190037</td>\n",
              "      <td>143.440959</td>\n",
              "      <td>170.280443</td>\n",
              "      <td>13.800738</td>\n",
              "    </tr>\n",
              "    <tr>\n",
              "      <th>std</th>\n",
              "      <td>158.194932</td>\n",
              "      <td>30.836868</td>\n",
              "      <td>39.185218</td>\n",
              "      <td>7.604659</td>\n",
              "    </tr>\n",
              "    <tr>\n",
              "      <th>min</th>\n",
              "      <td>1.000000</td>\n",
              "      <td>95.000000</td>\n",
              "      <td>102.000000</td>\n",
              "      <td>1.000000</td>\n",
              "    </tr>\n",
              "    <tr>\n",
              "      <th>25%</th>\n",
              "      <td>138.250000</td>\n",
              "      <td>116.000000</td>\n",
              "      <td>136.000000</td>\n",
              "      <td>7.000000</td>\n",
              "    </tr>\n",
              "    <tr>\n",
              "      <th>50%</th>\n",
              "      <td>276.500000</td>\n",
              "      <td>140.000000</td>\n",
              "      <td>169.000000</td>\n",
              "      <td>13.000000</td>\n",
              "    </tr>\n",
              "    <tr>\n",
              "      <th>75%</th>\n",
              "      <td>411.750000</td>\n",
              "      <td>171.000000</td>\n",
              "      <td>207.750000</td>\n",
              "      <td>20.000000</td>\n",
              "    </tr>\n",
              "    <tr>\n",
              "      <th>max</th>\n",
              "      <td>547.000000</td>\n",
              "      <td>203.000000</td>\n",
              "      <td>235.000000</td>\n",
              "      <td>27.000000</td>\n",
              "    </tr>\n",
              "  </tbody>\n",
              "</table>\n",
              "</div>"
            ],
            "text/plain": [
              "       id_cliente        peso  colesterol   id_estado\n",
              "count  542.000000  542.000000  542.000000  542.000000\n",
              "mean   275.190037  143.440959  170.280443   13.800738\n",
              "std    158.194932   30.836868   39.185218    7.604659\n",
              "min      1.000000   95.000000  102.000000    1.000000\n",
              "25%    138.250000  116.000000  136.000000    7.000000\n",
              "50%    276.500000  140.000000  169.000000   13.000000\n",
              "75%    411.750000  171.000000  207.750000   20.000000\n",
              "max    547.000000  203.000000  235.000000   27.000000"
            ]
          },
          "execution_count": 143,
          "metadata": {},
          "output_type": "execute_result"
        }
      ],
      "source": [
        "clientes.describe()"
      ]
    },
    {
      "cell_type": "code",
      "execution_count": 144,
      "metadata": {
        "id": "K4CcmbI28B9v"
      },
      "outputs": [],
      "source": [
        "import matplotlib.pyplot as plt\n",
        "from sklearn.preprocessing import LabelEncoder"
      ]
    },
    {
      "cell_type": "code",
      "execution_count": 145,
      "metadata": {
        "colab": {
          "base_uri": "https://localhost:8080/",
          "height": 298
        },
        "id": "m3EqDRXN8Hp9",
        "outputId": "31cec43c-1bb7-42bc-83cd-bcce494a20b1"
      },
      "outputs": [
        {
          "data": {
            "text/plain": [
              "array([[<Axes: title={'center': 'idade'}>]], dtype=object)"
            ]
          },
          "execution_count": 145,
          "metadata": {},
          "output_type": "execute_result"
        },
        {
          "data": {
            "image/png": "[encoded data removed]",
            "text/plain": [
              "<Figure size 640x480 with 1 Axes>"
            ]
          },
          "metadata": {},
          "output_type": "display_data"
        }
      ],
      "source": [
        "idades.hist(column = 'idade', bins=30 )"
      ]
    },
    {
      "cell_type": "code",
      "execution_count": 146,
      "metadata": {
        "colab": {
          "base_uri": "https://localhost:8080/",
          "height": 424
        },
        "id": "haIC56xg9j75",
        "outputId": "0f21e15a-e663-4cd3-8a73-dbe89de899ae"
      },
      "outputs": [
        {
          "data": {
            "text/html": [
              "<div>\n",
              "<style scoped>\n",
              "    .dataframe tbody tr th:only-of-type {\n",
              "        vertical-align: middle;\n",
              "    }\n",
              "\n",
              "    .dataframe tbody tr th {\n",
              "        vertical-align: top;\n",
              "    }\n",
              "\n",
              "    .dataframe thead th {\n",
              "        text-align: right;\n",
              "    }\n",
              "</style>\n",
              "<table border=\"1\" class=\"dataframe\">\n",
              "  <thead>\n",
              "    <tr style=\"text-align: right;\">\n",
              "      <th></th>\n",
              "      <th>id_cliente</th>\n",
              "      <th>peso</th>\n",
              "      <th>colesterol</th>\n",
              "      <th>genero</th>\n",
              "      <th>id_estado</th>\n",
              "      <th>genero_number</th>\n",
              "    </tr>\n",
              "  </thead>\n",
              "  <tbody>\n",
              "    <tr>\n",
              "      <th>0</th>\n",
              "      <td>1</td>\n",
              "      <td>102.0</td>\n",
              "      <td>111</td>\n",
              "      <td>Masculino</td>\n",
              "      <td>23</td>\n",
              "      <td>1</td>\n",
              "    </tr>\n",
              "    <tr>\n",
              "      <th>1</th>\n",
              "      <td>2</td>\n",
              "      <td>115.0</td>\n",
              "      <td>135</td>\n",
              "      <td>Masculino</td>\n",
              "      <td>7</td>\n",
              "      <td>1</td>\n",
              "    </tr>\n",
              "    <tr>\n",
              "      <th>2</th>\n",
              "      <td>3</td>\n",
              "      <td>115.0</td>\n",
              "      <td>136</td>\n",
              "      <td>Masculino</td>\n",
              "      <td>4</td>\n",
              "      <td>1</td>\n",
              "    </tr>\n",
              "    <tr>\n",
              "      <th>3</th>\n",
              "      <td>4</td>\n",
              "      <td>140.0</td>\n",
              "      <td>167</td>\n",
              "      <td>Feminino</td>\n",
              "      <td>24</td>\n",
              "      <td>0</td>\n",
              "    </tr>\n",
              "    <tr>\n",
              "      <th>4</th>\n",
              "      <td>5</td>\n",
              "      <td>130.0</td>\n",
              "      <td>158</td>\n",
              "      <td>Masculino</td>\n",
              "      <td>26</td>\n",
              "      <td>1</td>\n",
              "    </tr>\n",
              "    <tr>\n",
              "      <th>...</th>\n",
              "      <td>...</td>\n",
              "      <td>...</td>\n",
              "      <td>...</td>\n",
              "      <td>...</td>\n",
              "      <td>...</td>\n",
              "      <td>...</td>\n",
              "    </tr>\n",
              "    <tr>\n",
              "      <th>542</th>\n",
              "      <td>543</td>\n",
              "      <td>172.0</td>\n",
              "      <td>207</td>\n",
              "      <td>Masculino</td>\n",
              "      <td>22</td>\n",
              "      <td>1</td>\n",
              "    </tr>\n",
              "    <tr>\n",
              "      <th>543</th>\n",
              "      <td>544</td>\n",
              "      <td>129.0</td>\n",
              "      <td>157</td>\n",
              "      <td>Masculino</td>\n",
              "      <td>1</td>\n",
              "      <td>1</td>\n",
              "    </tr>\n",
              "    <tr>\n",
              "      <th>544</th>\n",
              "      <td>545</td>\n",
              "      <td>107.0</td>\n",
              "      <td>115</td>\n",
              "      <td>Masculino</td>\n",
              "      <td>6</td>\n",
              "      <td>1</td>\n",
              "    </tr>\n",
              "    <tr>\n",
              "      <th>545</th>\n",
              "      <td>546</td>\n",
              "      <td>117.0</td>\n",
              "      <td>147</td>\n",
              "      <td>Masculino</td>\n",
              "      <td>20</td>\n",
              "      <td>1</td>\n",
              "    </tr>\n",
              "    <tr>\n",
              "      <th>546</th>\n",
              "      <td>547</td>\n",
              "      <td>148.0</td>\n",
              "      <td>176</td>\n",
              "      <td>Masculino</td>\n",
              "      <td>8</td>\n",
              "      <td>1</td>\n",
              "    </tr>\n",
              "  </tbody>\n",
              "</table>\n",
              "<p>542 rows × 6 columns</p>\n",
              "</div>"
            ],
            "text/plain": [
              "     id_cliente   peso  colesterol     genero  id_estado  genero_number\n",
              "0             1  102.0         111  Masculino         23              1\n",
              "1             2  115.0         135  Masculino          7              1\n",
              "2             3  115.0         136  Masculino          4              1\n",
              "3             4  140.0         167   Feminino         24              0\n",
              "4             5  130.0         158  Masculino         26              1\n",
              "..          ...    ...         ...        ...        ...            ...\n",
              "542         543  172.0         207  Masculino         22              1\n",
              "543         544  129.0         157  Masculino          1              1\n",
              "544         545  107.0         115  Masculino          6              1\n",
              "545         546  117.0         147  Masculino         20              1\n",
              "546         547  148.0         176  Masculino          8              1\n",
              "\n",
              "[542 rows x 6 columns]"
            ]
          },
          "execution_count": 146,
          "metadata": {},
          "output_type": "execute_result"
        }
      ],
      "source": [
        "LE = LabelEncoder()\n",
        "clientes['genero_number'] = LE.fit_transform(clientes['genero']) \n",
        "clientes"
      ]
    },
    {
      "cell_type": "code",
      "execution_count": 147,
      "metadata": {
        "colab": {
          "base_uri": "https://localhost:8080/",
          "height": 424
        },
        "id": "8zdaRCRQ-NVS",
        "outputId": "e85ff174-0f48-44cd-ce3c-ad743db0b8f4"
      },
      "outputs": [
        {
          "data": {
            "text/html": [
              "<div>\n",
              "<style scoped>\n",
              "    .dataframe tbody tr th:only-of-type {\n",
              "        vertical-align: middle;\n",
              "    }\n",
              "\n",
              "    .dataframe tbody tr th {\n",
              "        vertical-align: top;\n",
              "    }\n",
              "\n",
              "    .dataframe thead th {\n",
              "        text-align: right;\n",
              "    }\n",
              "</style>\n",
              "<table border=\"1\" class=\"dataframe\">\n",
              "  <thead>\n",
              "    <tr style=\"text-align: right;\">\n",
              "      <th></th>\n",
              "      <th>id_cliente</th>\n",
              "      <th>peso</th>\n",
              "      <th>colesterol</th>\n",
              "      <th>genero</th>\n",
              "      <th>id_estado</th>\n",
              "      <th>genero_number</th>\n",
              "      <th>estado</th>\n",
              "      <th>sigla_estado</th>\n",
              "      <th>pais</th>\n",
              "    </tr>\n",
              "  </thead>\n",
              "  <tbody>\n",
              "    <tr>\n",
              "      <th>0</th>\n",
              "      <td>1</td>\n",
              "      <td>102.0</td>\n",
              "      <td>111</td>\n",
              "      <td>Masculino</td>\n",
              "      <td>23</td>\n",
              "      <td>1</td>\n",
              "      <td>Roraima</td>\n",
              "      <td>rr</td>\n",
              "      <td>Brasil</td>\n",
              "    </tr>\n",
              "    <tr>\n",
              "      <th>17</th>\n",
              "      <td>2</td>\n",
              "      <td>115.0</td>\n",
              "      <td>135</td>\n",
              "      <td>Masculino</td>\n",
              "      <td>7</td>\n",
              "      <td>1</td>\n",
              "      <td>Distrito Federal</td>\n",
              "      <td>df</td>\n",
              "      <td>Brasil</td>\n",
              "    </tr>\n",
              "    <tr>\n",
              "      <th>39</th>\n",
              "      <td>3</td>\n",
              "      <td>115.0</td>\n",
              "      <td>136</td>\n",
              "      <td>Masculino</td>\n",
              "      <td>4</td>\n",
              "      <td>1</td>\n",
              "      <td>Amazonas</td>\n",
              "      <td>am</td>\n",
              "      <td>Brasil</td>\n",
              "    </tr>\n",
              "    <tr>\n",
              "      <th>64</th>\n",
              "      <td>5</td>\n",
              "      <td>130.0</td>\n",
              "      <td>158</td>\n",
              "      <td>Masculino</td>\n",
              "      <td>26</td>\n",
              "      <td>1</td>\n",
              "      <td>Sergipe</td>\n",
              "      <td>se</td>\n",
              "      <td>Brasil</td>\n",
              "    </tr>\n",
              "    <tr>\n",
              "      <th>83</th>\n",
              "      <td>6</td>\n",
              "      <td>198.0</td>\n",
              "      <td>227</td>\n",
              "      <td>Masculino</td>\n",
              "      <td>8</td>\n",
              "      <td>1</td>\n",
              "      <td>Espírito Santo</td>\n",
              "      <td>es</td>\n",
              "      <td>Brasil</td>\n",
              "    </tr>\n",
              "    <tr>\n",
              "      <th>...</th>\n",
              "      <td>...</td>\n",
              "      <td>...</td>\n",
              "      <td>...</td>\n",
              "      <td>...</td>\n",
              "      <td>...</td>\n",
              "      <td>...</td>\n",
              "      <td>...</td>\n",
              "      <td>...</td>\n",
              "      <td>...</td>\n",
              "    </tr>\n",
              "    <tr>\n",
              "      <th>418</th>\n",
              "      <td>543</td>\n",
              "      <td>172.0</td>\n",
              "      <td>207</td>\n",
              "      <td>Masculino</td>\n",
              "      <td>22</td>\n",
              "      <td>1</td>\n",
              "      <td>Rôndonia</td>\n",
              "      <td>ro</td>\n",
              "      <td>Brasil</td>\n",
              "    </tr>\n",
              "    <tr>\n",
              "      <th>430</th>\n",
              "      <td>544</td>\n",
              "      <td>129.0</td>\n",
              "      <td>157</td>\n",
              "      <td>Masculino</td>\n",
              "      <td>1</td>\n",
              "      <td>1</td>\n",
              "      <td>Acre</td>\n",
              "      <td>ac</td>\n",
              "      <td>Brasil</td>\n",
              "    </tr>\n",
              "    <tr>\n",
              "      <th>155</th>\n",
              "      <td>545</td>\n",
              "      <td>107.0</td>\n",
              "      <td>115</td>\n",
              "      <td>Masculino</td>\n",
              "      <td>6</td>\n",
              "      <td>1</td>\n",
              "      <td>Ceará</td>\n",
              "      <td>ce</td>\n",
              "      <td>Brasil</td>\n",
              "    </tr>\n",
              "    <tr>\n",
              "      <th>372</th>\n",
              "      <td>546</td>\n",
              "      <td>117.0</td>\n",
              "      <td>147</td>\n",
              "      <td>Masculino</td>\n",
              "      <td>20</td>\n",
              "      <td>1</td>\n",
              "      <td>Rio Grande do Norte</td>\n",
              "      <td>rn</td>\n",
              "      <td>Brasil</td>\n",
              "    </tr>\n",
              "    <tr>\n",
              "      <th>100</th>\n",
              "      <td>547</td>\n",
              "      <td>148.0</td>\n",
              "      <td>176</td>\n",
              "      <td>Masculino</td>\n",
              "      <td>8</td>\n",
              "      <td>1</td>\n",
              "      <td>Espírito Santo</td>\n",
              "      <td>es</td>\n",
              "      <td>Brasil</td>\n",
              "    </tr>\n",
              "  </tbody>\n",
              "</table>\n",
              "<p>498 rows × 9 columns</p>\n",
              "</div>"
            ],
            "text/plain": [
              "     id_cliente   peso  colesterol     genero  id_estado  genero_number  \\\n",
              "0             1  102.0         111  Masculino         23              1   \n",
              "17            2  115.0         135  Masculino          7              1   \n",
              "39            3  115.0         136  Masculino          4              1   \n",
              "64            5  130.0         158  Masculino         26              1   \n",
              "83            6  198.0         227  Masculino          8              1   \n",
              "..          ...    ...         ...        ...        ...            ...   \n",
              "418         543  172.0         207  Masculino         22              1   \n",
              "430         544  129.0         157  Masculino          1              1   \n",
              "155         545  107.0         115  Masculino          6              1   \n",
              "372         546  117.0         147  Masculino         20              1   \n",
              "100         547  148.0         176  Masculino          8              1   \n",
              "\n",
              "                  estado sigla_estado    pais  \n",
              "0                Roraima           rr  Brasil  \n",
              "17      Distrito Federal           df  Brasil  \n",
              "39              Amazonas           am  Brasil  \n",
              "64               Sergipe           se  Brasil  \n",
              "83        Espírito Santo           es  Brasil  \n",
              "..                   ...          ...     ...  \n",
              "418             Rôndonia           ro  Brasil  \n",
              "430                 Acre           ac  Brasil  \n",
              "155                Ceará           ce  Brasil  \n",
              "372  Rio Grande do Norte           rn  Brasil  \n",
              "100       Espírito Santo           es  Brasil  \n",
              "\n",
              "[498 rows x 9 columns]"
            ]
          },
          "execution_count": 147,
          "metadata": {},
          "output_type": "execute_result"
        }
      ],
      "source": [
        "clientes_estado = pd.merge(clientes, estados, how='inner', on='id_estado')\n",
        "clientes_estado.sort_values(\"id_cliente\")\n"
      ]
    },
    {
      "cell_type": "code",
      "execution_count": 148,
      "metadata": {
        "colab": {
          "base_uri": "https://localhost:8080/",
          "height": 424
        },
        "id": "H6aSDTOhAqt_",
        "outputId": "769aa62c-0d1e-46c7-a12b-0c3e66cfed31"
      },
      "outputs": [
        {
          "data": {
            "text/html": [
              "<div>\n",
              "<style scoped>\n",
              "    .dataframe tbody tr th:only-of-type {\n",
              "        vertical-align: middle;\n",
              "    }\n",
              "\n",
              "    .dataframe tbody tr th {\n",
              "        vertical-align: top;\n",
              "    }\n",
              "\n",
              "    .dataframe thead th {\n",
              "        text-align: right;\n",
              "    }\n",
              "</style>\n",
              "<table border=\"1\" class=\"dataframe\">\n",
              "  <thead>\n",
              "    <tr style=\"text-align: right;\">\n",
              "      <th></th>\n",
              "      <th>id_cliente</th>\n",
              "      <th>peso</th>\n",
              "      <th>colesterol</th>\n",
              "      <th>genero</th>\n",
              "      <th>id_estado</th>\n",
              "      <th>genero_number</th>\n",
              "      <th>estado</th>\n",
              "      <th>sigla_estado</th>\n",
              "      <th>pais</th>\n",
              "      <th>idade</th>\n",
              "    </tr>\n",
              "  </thead>\n",
              "  <tbody>\n",
              "    <tr>\n",
              "      <th>0</th>\n",
              "      <td>1</td>\n",
              "      <td>102.0</td>\n",
              "      <td>111</td>\n",
              "      <td>Masculino</td>\n",
              "      <td>23</td>\n",
              "      <td>1</td>\n",
              "      <td>Roraima</td>\n",
              "      <td>rr</td>\n",
              "      <td>Brasil</td>\n",
              "      <td>17</td>\n",
              "    </tr>\n",
              "    <tr>\n",
              "      <th>17</th>\n",
              "      <td>2</td>\n",
              "      <td>115.0</td>\n",
              "      <td>135</td>\n",
              "      <td>Masculino</td>\n",
              "      <td>7</td>\n",
              "      <td>1</td>\n",
              "      <td>Distrito Federal</td>\n",
              "      <td>df</td>\n",
              "      <td>Brasil</td>\n",
              "      <td>28</td>\n",
              "    </tr>\n",
              "    <tr>\n",
              "      <th>39</th>\n",
              "      <td>3</td>\n",
              "      <td>115.0</td>\n",
              "      <td>136</td>\n",
              "      <td>Masculino</td>\n",
              "      <td>4</td>\n",
              "      <td>1</td>\n",
              "      <td>Amazonas</td>\n",
              "      <td>am</td>\n",
              "      <td>Brasil</td>\n",
              "      <td>62</td>\n",
              "    </tr>\n",
              "    <tr>\n",
              "      <th>64</th>\n",
              "      <td>5</td>\n",
              "      <td>130.0</td>\n",
              "      <td>158</td>\n",
              "      <td>Masculino</td>\n",
              "      <td>26</td>\n",
              "      <td>1</td>\n",
              "      <td>Sergipe</td>\n",
              "      <td>se</td>\n",
              "      <td>Brasil</td>\n",
              "      <td>44</td>\n",
              "    </tr>\n",
              "    <tr>\n",
              "      <th>83</th>\n",
              "      <td>6</td>\n",
              "      <td>198.0</td>\n",
              "      <td>227</td>\n",
              "      <td>Masculino</td>\n",
              "      <td>8</td>\n",
              "      <td>1</td>\n",
              "      <td>Espírito Santo</td>\n",
              "      <td>es</td>\n",
              "      <td>Brasil</td>\n",
              "      <td>17</td>\n",
              "    </tr>\n",
              "    <tr>\n",
              "      <th>...</th>\n",
              "      <td>...</td>\n",
              "      <td>...</td>\n",
              "      <td>...</td>\n",
              "      <td>...</td>\n",
              "      <td>...</td>\n",
              "      <td>...</td>\n",
              "      <td>...</td>\n",
              "      <td>...</td>\n",
              "      <td>...</td>\n",
              "      <td>...</td>\n",
              "    </tr>\n",
              "    <tr>\n",
              "      <th>418</th>\n",
              "      <td>543</td>\n",
              "      <td>172.0</td>\n",
              "      <td>207</td>\n",
              "      <td>Masculino</td>\n",
              "      <td>22</td>\n",
              "      <td>1</td>\n",
              "      <td>Rôndonia</td>\n",
              "      <td>ro</td>\n",
              "      <td>Brasil</td>\n",
              "      <td>20</td>\n",
              "    </tr>\n",
              "    <tr>\n",
              "      <th>430</th>\n",
              "      <td>544</td>\n",
              "      <td>129.0</td>\n",
              "      <td>157</td>\n",
              "      <td>Masculino</td>\n",
              "      <td>1</td>\n",
              "      <td>1</td>\n",
              "      <td>Acre</td>\n",
              "      <td>ac</td>\n",
              "      <td>Brasil</td>\n",
              "      <td>66</td>\n",
              "    </tr>\n",
              "    <tr>\n",
              "      <th>155</th>\n",
              "      <td>545</td>\n",
              "      <td>107.0</td>\n",
              "      <td>115</td>\n",
              "      <td>Masculino</td>\n",
              "      <td>6</td>\n",
              "      <td>1</td>\n",
              "      <td>Ceará</td>\n",
              "      <td>ce</td>\n",
              "      <td>Brasil</td>\n",
              "      <td>36</td>\n",
              "    </tr>\n",
              "    <tr>\n",
              "      <th>372</th>\n",
              "      <td>546</td>\n",
              "      <td>117.0</td>\n",
              "      <td>147</td>\n",
              "      <td>Masculino</td>\n",
              "      <td>20</td>\n",
              "      <td>1</td>\n",
              "      <td>Rio Grande do Norte</td>\n",
              "      <td>rn</td>\n",
              "      <td>Brasil</td>\n",
              "      <td>57</td>\n",
              "    </tr>\n",
              "    <tr>\n",
              "      <th>100</th>\n",
              "      <td>547</td>\n",
              "      <td>148.0</td>\n",
              "      <td>176</td>\n",
              "      <td>Masculino</td>\n",
              "      <td>8</td>\n",
              "      <td>1</td>\n",
              "      <td>Espírito Santo</td>\n",
              "      <td>es</td>\n",
              "      <td>Brasil</td>\n",
              "      <td>61</td>\n",
              "    </tr>\n",
              "  </tbody>\n",
              "</table>\n",
              "<p>498 rows × 10 columns</p>\n",
              "</div>"
            ],
            "text/plain": [
              "     id_cliente   peso  colesterol     genero  id_estado  genero_number  \\\n",
              "0             1  102.0         111  Masculino         23              1   \n",
              "17            2  115.0         135  Masculino          7              1   \n",
              "39            3  115.0         136  Masculino          4              1   \n",
              "64            5  130.0         158  Masculino         26              1   \n",
              "83            6  198.0         227  Masculino          8              1   \n",
              "..          ...    ...         ...        ...        ...            ...   \n",
              "418         543  172.0         207  Masculino         22              1   \n",
              "430         544  129.0         157  Masculino          1              1   \n",
              "155         545  107.0         115  Masculino          6              1   \n",
              "372         546  117.0         147  Masculino         20              1   \n",
              "100         547  148.0         176  Masculino          8              1   \n",
              "\n",
              "                  estado sigla_estado    pais  idade  \n",
              "0                Roraima           rr  Brasil     17  \n",
              "17      Distrito Federal           df  Brasil     28  \n",
              "39              Amazonas           am  Brasil     62  \n",
              "64               Sergipe           se  Brasil     44  \n",
              "83        Espírito Santo           es  Brasil     17  \n",
              "..                   ...          ...     ...    ...  \n",
              "418             Rôndonia           ro  Brasil     20  \n",
              "430                 Acre           ac  Brasil     66  \n",
              "155                Ceará           ce  Brasil     36  \n",
              "372  Rio Grande do Norte           rn  Brasil     57  \n",
              "100       Espírito Santo           es  Brasil     61  \n",
              "\n",
              "[498 rows x 10 columns]"
            ]
          },
          "execution_count": 148,
          "metadata": {},
          "output_type": "execute_result"
        }
      ],
      "source": [
        "base_completa = pd.merge(clientes_estado, idades, how='inner', on='id_cliente')\n",
        "base_completa.sort_values(\"id_cliente\")"
      ]
    },
    {
      "cell_type": "code",
      "execution_count": 149,
      "metadata": {
        "colab": {
          "base_uri": "https://localhost:8080/",
          "height": 424
        },
        "id": "OH5eSyQ7Fefp",
        "outputId": "3906839f-dd67-47ff-bba6-4da0668764d7"
      },
      "outputs": [
        {
          "data": {
            "text/html": [
              "<div>\n",
              "<style scoped>\n",
              "    .dataframe tbody tr th:only-of-type {\n",
              "        vertical-align: middle;\n",
              "    }\n",
              "\n",
              "    .dataframe tbody tr th {\n",
              "        vertical-align: top;\n",
              "    }\n",
              "\n",
              "    .dataframe thead th {\n",
              "        text-align: right;\n",
              "    }\n",
              "</style>\n",
              "<table border=\"1\" class=\"dataframe\">\n",
              "  <thead>\n",
              "    <tr style=\"text-align: right;\">\n",
              "      <th></th>\n",
              "      <th>id_cliente</th>\n",
              "      <th>peso</th>\n",
              "      <th>colesterol</th>\n",
              "      <th>genero</th>\n",
              "      <th>id_estado</th>\n",
              "      <th>genero_number</th>\n",
              "      <th>estado</th>\n",
              "      <th>sigla_estado</th>\n",
              "      <th>pais</th>\n",
              "      <th>idade</th>\n",
              "    </tr>\n",
              "  </thead>\n",
              "  <tbody>\n",
              "    <tr>\n",
              "      <th>0</th>\n",
              "      <td>1</td>\n",
              "      <td>102.0</td>\n",
              "      <td>111</td>\n",
              "      <td>Masculino</td>\n",
              "      <td>23</td>\n",
              "      <td>1</td>\n",
              "      <td>Roraima</td>\n",
              "      <td>rr</td>\n",
              "      <td>Brasil</td>\n",
              "      <td>17</td>\n",
              "    </tr>\n",
              "    <tr>\n",
              "      <th>1</th>\n",
              "      <td>54</td>\n",
              "      <td>149.0</td>\n",
              "      <td>183</td>\n",
              "      <td>Masculino</td>\n",
              "      <td>23</td>\n",
              "      <td>1</td>\n",
              "      <td>Roraima</td>\n",
              "      <td>rr</td>\n",
              "      <td>Brasil</td>\n",
              "      <td>48</td>\n",
              "    </tr>\n",
              "    <tr>\n",
              "      <th>2</th>\n",
              "      <td>61</td>\n",
              "      <td>113.0</td>\n",
              "      <td>129</td>\n",
              "      <td>Feminino</td>\n",
              "      <td>23</td>\n",
              "      <td>0</td>\n",
              "      <td>Roraima</td>\n",
              "      <td>rr</td>\n",
              "      <td>Brasil</td>\n",
              "      <td>70</td>\n",
              "    </tr>\n",
              "    <tr>\n",
              "      <th>3</th>\n",
              "      <td>154</td>\n",
              "      <td>134.0</td>\n",
              "      <td>162</td>\n",
              "      <td>Feminino</td>\n",
              "      <td>23</td>\n",
              "      <td>0</td>\n",
              "      <td>Roraima</td>\n",
              "      <td>rr</td>\n",
              "      <td>Brasil</td>\n",
              "      <td>26</td>\n",
              "    </tr>\n",
              "    <tr>\n",
              "      <th>4</th>\n",
              "      <td>164</td>\n",
              "      <td>133.0</td>\n",
              "      <td>155</td>\n",
              "      <td>Feminino</td>\n",
              "      <td>23</td>\n",
              "      <td>0</td>\n",
              "      <td>Roraima</td>\n",
              "      <td>rr</td>\n",
              "      <td>Brasil</td>\n",
              "      <td>51</td>\n",
              "    </tr>\n",
              "    <tr>\n",
              "      <th>...</th>\n",
              "      <td>...</td>\n",
              "      <td>...</td>\n",
              "      <td>...</td>\n",
              "      <td>...</td>\n",
              "      <td>...</td>\n",
              "      <td>...</td>\n",
              "      <td>...</td>\n",
              "      <td>...</td>\n",
              "      <td>...</td>\n",
              "      <td>...</td>\n",
              "    </tr>\n",
              "    <tr>\n",
              "      <th>493</th>\n",
              "      <td>456</td>\n",
              "      <td>134.0</td>\n",
              "      <td>168</td>\n",
              "      <td>Masculino</td>\n",
              "      <td>12</td>\n",
              "      <td>1</td>\n",
              "      <td>Mato Grosso do Sul</td>\n",
              "      <td>ms</td>\n",
              "      <td>Brasil</td>\n",
              "      <td>29</td>\n",
              "    </tr>\n",
              "    <tr>\n",
              "      <th>494</th>\n",
              "      <td>464</td>\n",
              "      <td>144.0</td>\n",
              "      <td>171</td>\n",
              "      <td>Feminino</td>\n",
              "      <td>12</td>\n",
              "      <td>0</td>\n",
              "      <td>Mato Grosso do Sul</td>\n",
              "      <td>ms</td>\n",
              "      <td>Brasil</td>\n",
              "      <td>32</td>\n",
              "    </tr>\n",
              "    <tr>\n",
              "      <th>495</th>\n",
              "      <td>492</td>\n",
              "      <td>142.0</td>\n",
              "      <td>172</td>\n",
              "      <td>Masculino</td>\n",
              "      <td>12</td>\n",
              "      <td>1</td>\n",
              "      <td>Mato Grosso do Sul</td>\n",
              "      <td>ms</td>\n",
              "      <td>Brasil</td>\n",
              "      <td>64</td>\n",
              "    </tr>\n",
              "    <tr>\n",
              "      <th>496</th>\n",
              "      <td>493</td>\n",
              "      <td>153.0</td>\n",
              "      <td>192</td>\n",
              "      <td>Masculino</td>\n",
              "      <td>12</td>\n",
              "      <td>1</td>\n",
              "      <td>Mato Grosso do Sul</td>\n",
              "      <td>ms</td>\n",
              "      <td>Brasil</td>\n",
              "      <td>70</td>\n",
              "    </tr>\n",
              "    <tr>\n",
              "      <th>497</th>\n",
              "      <td>502</td>\n",
              "      <td>152.0</td>\n",
              "      <td>178</td>\n",
              "      <td>Masculino</td>\n",
              "      <td>12</td>\n",
              "      <td>1</td>\n",
              "      <td>Mato Grosso do Sul</td>\n",
              "      <td>ms</td>\n",
              "      <td>Brasil</td>\n",
              "      <td>41</td>\n",
              "    </tr>\n",
              "  </tbody>\n",
              "</table>\n",
              "<p>498 rows × 10 columns</p>\n",
              "</div>"
            ],
            "text/plain": [
              "     id_cliente   peso  colesterol     genero  id_estado  genero_number  \\\n",
              "0             1  102.0         111  Masculino         23              1   \n",
              "1            54  149.0         183  Masculino         23              1   \n",
              "2            61  113.0         129   Feminino         23              0   \n",
              "3           154  134.0         162   Feminino         23              0   \n",
              "4           164  133.0         155   Feminino         23              0   \n",
              "..          ...    ...         ...        ...        ...            ...   \n",
              "493         456  134.0         168  Masculino         12              1   \n",
              "494         464  144.0         171   Feminino         12              0   \n",
              "495         492  142.0         172  Masculino         12              1   \n",
              "496         493  153.0         192  Masculino         12              1   \n",
              "497         502  152.0         178  Masculino         12              1   \n",
              "\n",
              "                 estado sigla_estado    pais  idade  \n",
              "0               Roraima           rr  Brasil     17  \n",
              "1               Roraima           rr  Brasil     48  \n",
              "2               Roraima           rr  Brasil     70  \n",
              "3               Roraima           rr  Brasil     26  \n",
              "4               Roraima           rr  Brasil     51  \n",
              "..                  ...          ...     ...    ...  \n",
              "493  Mato Grosso do Sul           ms  Brasil     29  \n",
              "494  Mato Grosso do Sul           ms  Brasil     32  \n",
              "495  Mato Grosso do Sul           ms  Brasil     64  \n",
              "496  Mato Grosso do Sul           ms  Brasil     70  \n",
              "497  Mato Grosso do Sul           ms  Brasil     41  \n",
              "\n",
              "[498 rows x 10 columns]"
            ]
          },
          "execution_count": 149,
          "metadata": {},
          "output_type": "execute_result"
        }
      ],
      "source": [
        "base_completa.reset_index(drop=True)"
      ]
    },
    {
      "cell_type": "code",
      "execution_count": 150,
      "metadata": {
        "colab": {
          "base_uri": "https://localhost:8080/",
          "height": 298
        },
        "id": "hHyi76svGct7",
        "outputId": "f253d7fe-e1cd-4002-b81c-e3c4766a4bde"
      },
      "outputs": [
        {
          "data": {
            "text/plain": [
              "array([[<Axes: title={'center': 'idade'}>]], dtype=object)"
            ]
          },
          "execution_count": 150,
          "metadata": {},
          "output_type": "execute_result"
        },
        {
          "data": {
            "image/png": "[encoded data removed]",
            "text/plain": [
              "<Figure size 640x480 with 1 Axes>"
            ]
          },
          "metadata": {},
          "output_type": "display_data"
        }
      ],
      "source": [
        "base_completa.hist('idade', bins=30)"
      ]
    },
    {
      "cell_type": "code",
      "execution_count": 151,
      "metadata": {
        "colab": {
          "base_uri": "https://localhost:8080/",
          "height": 424
        },
        "id": "AwHnxZjnHOvI",
        "outputId": "2b8c2d3b-a99d-4f6f-9718-0cb24eb5a424"
      },
      "outputs": [
        {
          "data": {
            "text/html": [
              "<div>\n",
              "<style scoped>\n",
              "    .dataframe tbody tr th:only-of-type {\n",
              "        vertical-align: middle;\n",
              "    }\n",
              "\n",
              "    .dataframe tbody tr th {\n",
              "        vertical-align: top;\n",
              "    }\n",
              "\n",
              "    .dataframe thead th {\n",
              "        text-align: right;\n",
              "    }\n",
              "</style>\n",
              "<table border=\"1\" class=\"dataframe\">\n",
              "  <thead>\n",
              "    <tr style=\"text-align: right;\">\n",
              "      <th></th>\n",
              "      <th>cod_cliente</th>\n",
              "      <th>peso</th>\n",
              "      <th>colesterol</th>\n",
              "      <th>genero</th>\n",
              "      <th>id_estado</th>\n",
              "      <th>cod_genero</th>\n",
              "      <th>estado</th>\n",
              "      <th>sigla_estado</th>\n",
              "      <th>pais</th>\n",
              "      <th>idade</th>\n",
              "    </tr>\n",
              "  </thead>\n",
              "  <tbody>\n",
              "    <tr>\n",
              "      <th>0</th>\n",
              "      <td>1</td>\n",
              "      <td>102.0</td>\n",
              "      <td>111</td>\n",
              "      <td>Masculino</td>\n",
              "      <td>23</td>\n",
              "      <td>1</td>\n",
              "      <td>Roraima</td>\n",
              "      <td>rr</td>\n",
              "      <td>Brasil</td>\n",
              "      <td>17</td>\n",
              "    </tr>\n",
              "    <tr>\n",
              "      <th>1</th>\n",
              "      <td>54</td>\n",
              "      <td>149.0</td>\n",
              "      <td>183</td>\n",
              "      <td>Masculino</td>\n",
              "      <td>23</td>\n",
              "      <td>1</td>\n",
              "      <td>Roraima</td>\n",
              "      <td>rr</td>\n",
              "      <td>Brasil</td>\n",
              "      <td>48</td>\n",
              "    </tr>\n",
              "    <tr>\n",
              "      <th>2</th>\n",
              "      <td>61</td>\n",
              "      <td>113.0</td>\n",
              "      <td>129</td>\n",
              "      <td>Feminino</td>\n",
              "      <td>23</td>\n",
              "      <td>0</td>\n",
              "      <td>Roraima</td>\n",
              "      <td>rr</td>\n",
              "      <td>Brasil</td>\n",
              "      <td>70</td>\n",
              "    </tr>\n",
              "    <tr>\n",
              "      <th>3</th>\n",
              "      <td>154</td>\n",
              "      <td>134.0</td>\n",
              "      <td>162</td>\n",
              "      <td>Feminino</td>\n",
              "      <td>23</td>\n",
              "      <td>0</td>\n",
              "      <td>Roraima</td>\n",
              "      <td>rr</td>\n",
              "      <td>Brasil</td>\n",
              "      <td>26</td>\n",
              "    </tr>\n",
              "    <tr>\n",
              "      <th>4</th>\n",
              "      <td>164</td>\n",
              "      <td>133.0</td>\n",
              "      <td>155</td>\n",
              "      <td>Feminino</td>\n",
              "      <td>23</td>\n",
              "      <td>0</td>\n",
              "      <td>Roraima</td>\n",
              "      <td>rr</td>\n",
              "      <td>Brasil</td>\n",
              "      <td>51</td>\n",
              "    </tr>\n",
              "    <tr>\n",
              "      <th>...</th>\n",
              "      <td>...</td>\n",
              "      <td>...</td>\n",
              "      <td>...</td>\n",
              "      <td>...</td>\n",
              "      <td>...</td>\n",
              "      <td>...</td>\n",
              "      <td>...</td>\n",
              "      <td>...</td>\n",
              "      <td>...</td>\n",
              "      <td>...</td>\n",
              "    </tr>\n",
              "    <tr>\n",
              "      <th>493</th>\n",
              "      <td>456</td>\n",
              "      <td>134.0</td>\n",
              "      <td>168</td>\n",
              "      <td>Masculino</td>\n",
              "      <td>12</td>\n",
              "      <td>1</td>\n",
              "      <td>Mato Grosso do Sul</td>\n",
              "      <td>ms</td>\n",
              "      <td>Brasil</td>\n",
              "      <td>29</td>\n",
              "    </tr>\n",
              "    <tr>\n",
              "      <th>494</th>\n",
              "      <td>464</td>\n",
              "      <td>144.0</td>\n",
              "      <td>171</td>\n",
              "      <td>Feminino</td>\n",
              "      <td>12</td>\n",
              "      <td>0</td>\n",
              "      <td>Mato Grosso do Sul</td>\n",
              "      <td>ms</td>\n",
              "      <td>Brasil</td>\n",
              "      <td>32</td>\n",
              "    </tr>\n",
              "    <tr>\n",
              "      <th>495</th>\n",
              "      <td>492</td>\n",
              "      <td>142.0</td>\n",
              "      <td>172</td>\n",
              "      <td>Masculino</td>\n",
              "      <td>12</td>\n",
              "      <td>1</td>\n",
              "      <td>Mato Grosso do Sul</td>\n",
              "      <td>ms</td>\n",
              "      <td>Brasil</td>\n",
              "      <td>64</td>\n",
              "    </tr>\n",
              "    <tr>\n",
              "      <th>496</th>\n",
              "      <td>493</td>\n",
              "      <td>153.0</td>\n",
              "      <td>192</td>\n",
              "      <td>Masculino</td>\n",
              "      <td>12</td>\n",
              "      <td>1</td>\n",
              "      <td>Mato Grosso do Sul</td>\n",
              "      <td>ms</td>\n",
              "      <td>Brasil</td>\n",
              "      <td>70</td>\n",
              "    </tr>\n",
              "    <tr>\n",
              "      <th>497</th>\n",
              "      <td>502</td>\n",
              "      <td>152.0</td>\n",
              "      <td>178</td>\n",
              "      <td>Masculino</td>\n",
              "      <td>12</td>\n",
              "      <td>1</td>\n",
              "      <td>Mato Grosso do Sul</td>\n",
              "      <td>ms</td>\n",
              "      <td>Brasil</td>\n",
              "      <td>41</td>\n",
              "    </tr>\n",
              "  </tbody>\n",
              "</table>\n",
              "<p>498 rows × 10 columns</p>\n",
              "</div>"
            ],
            "text/plain": [
              "     cod_cliente   peso  colesterol     genero  id_estado  cod_genero  \\\n",
              "0              1  102.0         111  Masculino         23           1   \n",
              "1             54  149.0         183  Masculino         23           1   \n",
              "2             61  113.0         129   Feminino         23           0   \n",
              "3            154  134.0         162   Feminino         23           0   \n",
              "4            164  133.0         155   Feminino         23           0   \n",
              "..           ...    ...         ...        ...        ...         ...   \n",
              "493          456  134.0         168  Masculino         12           1   \n",
              "494          464  144.0         171   Feminino         12           0   \n",
              "495          492  142.0         172  Masculino         12           1   \n",
              "496          493  153.0         192  Masculino         12           1   \n",
              "497          502  152.0         178  Masculino         12           1   \n",
              "\n",
              "                 estado sigla_estado    pais  idade  \n",
              "0               Roraima           rr  Brasil     17  \n",
              "1               Roraima           rr  Brasil     48  \n",
              "2               Roraima           rr  Brasil     70  \n",
              "3               Roraima           rr  Brasil     26  \n",
              "4               Roraima           rr  Brasil     51  \n",
              "..                  ...          ...     ...    ...  \n",
              "493  Mato Grosso do Sul           ms  Brasil     29  \n",
              "494  Mato Grosso do Sul           ms  Brasil     32  \n",
              "495  Mato Grosso do Sul           ms  Brasil     64  \n",
              "496  Mato Grosso do Sul           ms  Brasil     70  \n",
              "497  Mato Grosso do Sul           ms  Brasil     41  \n",
              "\n",
              "[498 rows x 10 columns]"
            ]
          },
          "execution_count": 151,
          "metadata": {},
          "output_type": "execute_result"
        }
      ],
      "source": [
        "base_completa.rename(columns={'id_cliente': 'cod_cliente', 'genero_number' : 'cod_genero'}, inplace=True)\n",
        "base_completa"
      ]
    },
    {
      "cell_type": "code",
      "execution_count": 152,
      "metadata": {
        "id": "uByApk-bHsyJ"
      },
      "outputs": [],
      "source": [
        "base_completa['sigla_estado'] = base_completa.sigla_estado.str.upper()"
      ]
    },
    {
      "cell_type": "code",
      "execution_count": 153,
      "metadata": {
        "colab": {
          "base_uri": "https://localhost:8080/",
          "height": 424
        },
        "id": "GzWI7u3KN07m",
        "outputId": "fe45f607-284a-4f47-dae8-eba005755322"
      },
      "outputs": [
        {
          "data": {
            "text/html": [
              "<div>\n",
              "<style scoped>\n",
              "    .dataframe tbody tr th:only-of-type {\n",
              "        vertical-align: middle;\n",
              "    }\n",
              "\n",
              "    .dataframe tbody tr th {\n",
              "        vertical-align: top;\n",
              "    }\n",
              "\n",
              "    .dataframe thead th {\n",
              "        text-align: right;\n",
              "    }\n",
              "</style>\n",
              "<table border=\"1\" class=\"dataframe\">\n",
              "  <thead>\n",
              "    <tr style=\"text-align: right;\">\n",
              "      <th></th>\n",
              "      <th>cod_cliente</th>\n",
              "      <th>cod_genero</th>\n",
              "      <th>genero</th>\n",
              "      <th>idade</th>\n",
              "      <th>peso</th>\n",
              "      <th>colesterol</th>\n",
              "      <th>id_estado</th>\n",
              "      <th>estado</th>\n",
              "      <th>sigla_estado</th>\n",
              "      <th>pais</th>\n",
              "    </tr>\n",
              "  </thead>\n",
              "  <tbody>\n",
              "    <tr>\n",
              "      <th>0</th>\n",
              "      <td>1</td>\n",
              "      <td>1</td>\n",
              "      <td>Masculino</td>\n",
              "      <td>17</td>\n",
              "      <td>102.0</td>\n",
              "      <td>111</td>\n",
              "      <td>23</td>\n",
              "      <td>Roraima</td>\n",
              "      <td>RR</td>\n",
              "      <td>Brasil</td>\n",
              "    </tr>\n",
              "    <tr>\n",
              "      <th>1</th>\n",
              "      <td>54</td>\n",
              "      <td>1</td>\n",
              "      <td>Masculino</td>\n",
              "      <td>48</td>\n",
              "      <td>149.0</td>\n",
              "      <td>183</td>\n",
              "      <td>23</td>\n",
              "      <td>Roraima</td>\n",
              "      <td>RR</td>\n",
              "      <td>Brasil</td>\n",
              "    </tr>\n",
              "    <tr>\n",
              "      <th>2</th>\n",
              "      <td>61</td>\n",
              "      <td>0</td>\n",
              "      <td>Feminino</td>\n",
              "      <td>70</td>\n",
              "      <td>113.0</td>\n",
              "      <td>129</td>\n",
              "      <td>23</td>\n",
              "      <td>Roraima</td>\n",
              "      <td>RR</td>\n",
              "      <td>Brasil</td>\n",
              "    </tr>\n",
              "    <tr>\n",
              "      <th>3</th>\n",
              "      <td>154</td>\n",
              "      <td>0</td>\n",
              "      <td>Feminino</td>\n",
              "      <td>26</td>\n",
              "      <td>134.0</td>\n",
              "      <td>162</td>\n",
              "      <td>23</td>\n",
              "      <td>Roraima</td>\n",
              "      <td>RR</td>\n",
              "      <td>Brasil</td>\n",
              "    </tr>\n",
              "    <tr>\n",
              "      <th>4</th>\n",
              "      <td>164</td>\n",
              "      <td>0</td>\n",
              "      <td>Feminino</td>\n",
              "      <td>51</td>\n",
              "      <td>133.0</td>\n",
              "      <td>155</td>\n",
              "      <td>23</td>\n",
              "      <td>Roraima</td>\n",
              "      <td>RR</td>\n",
              "      <td>Brasil</td>\n",
              "    </tr>\n",
              "    <tr>\n",
              "      <th>...</th>\n",
              "      <td>...</td>\n",
              "      <td>...</td>\n",
              "      <td>...</td>\n",
              "      <td>...</td>\n",
              "      <td>...</td>\n",
              "      <td>...</td>\n",
              "      <td>...</td>\n",
              "      <td>...</td>\n",
              "      <td>...</td>\n",
              "      <td>...</td>\n",
              "    </tr>\n",
              "    <tr>\n",
              "      <th>493</th>\n",
              "      <td>456</td>\n",
              "      <td>1</td>\n",
              "      <td>Masculino</td>\n",
              "      <td>29</td>\n",
              "      <td>134.0</td>\n",
              "      <td>168</td>\n",
              "      <td>12</td>\n",
              "      <td>Mato Grosso do Sul</td>\n",
              "      <td>MS</td>\n",
              "      <td>Brasil</td>\n",
              "    </tr>\n",
              "    <tr>\n",
              "      <th>494</th>\n",
              "      <td>464</td>\n",
              "      <td>0</td>\n",
              "      <td>Feminino</td>\n",
              "      <td>32</td>\n",
              "      <td>144.0</td>\n",
              "      <td>171</td>\n",
              "      <td>12</td>\n",
              "      <td>Mato Grosso do Sul</td>\n",
              "      <td>MS</td>\n",
              "      <td>Brasil</td>\n",
              "    </tr>\n",
              "    <tr>\n",
              "      <th>495</th>\n",
              "      <td>492</td>\n",
              "      <td>1</td>\n",
              "      <td>Masculino</td>\n",
              "      <td>64</td>\n",
              "      <td>142.0</td>\n",
              "      <td>172</td>\n",
              "      <td>12</td>\n",
              "      <td>Mato Grosso do Sul</td>\n",
              "      <td>MS</td>\n",
              "      <td>Brasil</td>\n",
              "    </tr>\n",
              "    <tr>\n",
              "      <th>496</th>\n",
              "      <td>493</td>\n",
              "      <td>1</td>\n",
              "      <td>Masculino</td>\n",
              "      <td>70</td>\n",
              "      <td>153.0</td>\n",
              "      <td>192</td>\n",
              "      <td>12</td>\n",
              "      <td>Mato Grosso do Sul</td>\n",
              "      <td>MS</td>\n",
              "      <td>Brasil</td>\n",
              "    </tr>\n",
              "    <tr>\n",
              "      <th>497</th>\n",
              "      <td>502</td>\n",
              "      <td>1</td>\n",
              "      <td>Masculino</td>\n",
              "      <td>41</td>\n",
              "      <td>152.0</td>\n",
              "      <td>178</td>\n",
              "      <td>12</td>\n",
              "      <td>Mato Grosso do Sul</td>\n",
              "      <td>MS</td>\n",
              "      <td>Brasil</td>\n",
              "    </tr>\n",
              "  </tbody>\n",
              "</table>\n",
              "<p>498 rows × 10 columns</p>\n",
              "</div>"
            ],
            "text/plain": [
              "     cod_cliente  cod_genero     genero  idade   peso  colesterol  id_estado  \\\n",
              "0              1           1  Masculino     17  102.0         111         23   \n",
              "1             54           1  Masculino     48  149.0         183         23   \n",
              "2             61           0   Feminino     70  113.0         129         23   \n",
              "3            154           0   Feminino     26  134.0         162         23   \n",
              "4            164           0   Feminino     51  133.0         155         23   \n",
              "..           ...         ...        ...    ...    ...         ...        ...   \n",
              "493          456           1  Masculino     29  134.0         168         12   \n",
              "494          464           0   Feminino     32  144.0         171         12   \n",
              "495          492           1  Masculino     64  142.0         172         12   \n",
              "496          493           1  Masculino     70  153.0         192         12   \n",
              "497          502           1  Masculino     41  152.0         178         12   \n",
              "\n",
              "                 estado sigla_estado    pais  \n",
              "0               Roraima           RR  Brasil  \n",
              "1               Roraima           RR  Brasil  \n",
              "2               Roraima           RR  Brasil  \n",
              "3               Roraima           RR  Brasil  \n",
              "4               Roraima           RR  Brasil  \n",
              "..                  ...          ...     ...  \n",
              "493  Mato Grosso do Sul           MS  Brasil  \n",
              "494  Mato Grosso do Sul           MS  Brasil  \n",
              "495  Mato Grosso do Sul           MS  Brasil  \n",
              "496  Mato Grosso do Sul           MS  Brasil  \n",
              "497  Mato Grosso do Sul           MS  Brasil  \n",
              "\n",
              "[498 rows x 10 columns]"
            ]
          },
          "execution_count": 153,
          "metadata": {},
          "output_type": "execute_result"
        }
      ],
      "source": [
        "base_completa = base_completa[['cod_cliente', 'cod_genero', 'genero', 'idade', 'peso', 'colesterol', 'id_estado', 'estado', 'sigla_estado', 'pais'  ]].reset_index(drop=True)\n",
        "base_completa"
      ]
    },
    {
      "cell_type": "markdown",
      "metadata": {
        "id": "Jolf1rhzPooq"
      },
      "source": [
        "#Aplicando Elbow Method"
      ]
    },
    {
      "cell_type": "code",
      "execution_count": 154,
      "metadata": {
        "id": "d6zmytIVPYAt"
      },
      "outputs": [],
      "source": [
        "from sklearn.cluster import KMeans\n",
        "import matplotlib.pyplot as plt"
      ]
    },
    {
      "cell_type": "code",
      "execution_count": 158,
      "metadata": {
        "id": "Rkv04KPKPaI8"
      },
      "outputs": [],
      "source": [
        "#Elbow Method in K-means Clustering\n",
        "\n",
        "def calcular_wcss(dados):\n",
        "  wcss = []\n",
        "  for k in range(1, 11):\n",
        "    kmeans = KMeans(n_clusters = k, n_init='auto')\n",
        "    kmeans.fit(X=dados)\n",
        "    wcss.append(kmeans.inertia_)\n",
        "  return wcss"
      ]
    },
    {
      "cell_type": "code",
      "execution_count": 159,
      "metadata": {
        "colab": {
          "base_uri": "https://localhost:8080/",
          "height": 206
        },
        "id": "wpFHb4wCRlMI",
        "outputId": "fcca71ea-4ca6-40a0-cd85-ce08202f2a12"
      },
      "outputs": [
        {
          "data": {
            "text/html": [
              "<div>\n",
              "<style scoped>\n",
              "    .dataframe tbody tr th:only-of-type {\n",
              "        vertical-align: middle;\n",
              "    }\n",
              "\n",
              "    .dataframe tbody tr th {\n",
              "        vertical-align: top;\n",
              "    }\n",
              "\n",
              "    .dataframe thead th {\n",
              "        text-align: right;\n",
              "    }\n",
              "</style>\n",
              "<table border=\"1\" class=\"dataframe\">\n",
              "  <thead>\n",
              "    <tr style=\"text-align: right;\">\n",
              "      <th></th>\n",
              "      <th>peso</th>\n",
              "      <th>colesterol</th>\n",
              "    </tr>\n",
              "  </thead>\n",
              "  <tbody>\n",
              "    <tr>\n",
              "      <th>0</th>\n",
              "      <td>102.0</td>\n",
              "      <td>111</td>\n",
              "    </tr>\n",
              "    <tr>\n",
              "      <th>1</th>\n",
              "      <td>149.0</td>\n",
              "      <td>183</td>\n",
              "    </tr>\n",
              "    <tr>\n",
              "      <th>2</th>\n",
              "      <td>113.0</td>\n",
              "      <td>129</td>\n",
              "    </tr>\n",
              "    <tr>\n",
              "      <th>3</th>\n",
              "      <td>134.0</td>\n",
              "      <td>162</td>\n",
              "    </tr>\n",
              "    <tr>\n",
              "      <th>4</th>\n",
              "      <td>133.0</td>\n",
              "      <td>155</td>\n",
              "    </tr>\n",
              "  </tbody>\n",
              "</table>\n",
              "</div>"
            ],
            "text/plain": [
              "    peso  colesterol\n",
              "0  102.0         111\n",
              "1  149.0         183\n",
              "2  113.0         129\n",
              "3  134.0         162\n",
              "4  133.0         155"
            ]
          },
          "execution_count": 159,
          "metadata": {},
          "output_type": "execute_result"
        }
      ],
      "source": [
        "dados_calc = base_completa[['peso', 'colesterol']]\n",
        "dados_calc.head()"
      ]
    },
    {
      "cell_type": "code",
      "execution_count": 160,
      "metadata": {
        "id": "qBE4IG40R5GX"
      },
      "outputs": [],
      "source": [
        "wcss_clientes = calcular_wcss(dados_calc)"
      ]
    },
    {
      "cell_type": "code",
      "execution_count": 161,
      "metadata": {
        "colab": {
          "base_uri": "https://localhost:8080/"
        },
        "id": "_8nCqwoESNr-",
        "outputId": "61035dbd-b68a-4f5a-83aa-d37ed2061f08"
      },
      "outputs": [
        {
          "name": "stdout",
          "output_type": "stream",
          "text": [
            "for cluster 0, value of 1248240.668674699\n",
            "for cluster 1, value of 298948.2448183639\n",
            "for cluster 2, value of 127855.87745425905\n",
            "for cluster 3, value of 74792.59232437\n",
            "for cluster 4, value of 49074.34708289366\n",
            "for cluster 5, value of 34073.67229258765\n",
            "for cluster 6, value of 25196.643265709747\n",
            "for cluster 7, value of 20441.831678154194\n",
            "for cluster 8, value of 16049.967277528322\n",
            "for cluster 9, value of 13488.336324172353\n"
          ]
        }
      ],
      "source": [
        "# visualizando dados\n",
        "for i in range(len(wcss_clientes)):\n",
        "  print(f\"for cluster {i}, value of {wcss_clientes[i]}\")"
      ]
    },
    {
      "cell_type": "markdown",
      "metadata": {
        "id": "5DVeZQrQT4n_"
      },
      "source": [
        "# Visualizando Grafico"
      ]
    },
    {
      "cell_type": "code",
      "execution_count": 162,
      "metadata": {
        "id": "XuAcAKbdT3vk"
      },
      "outputs": [],
      "source": [
        "import plotly.express as px \n",
        "import plotly.offline as py\n",
        "import plotly.graph_objects as go # concatenização de graficos"
      ]
    },
    {
      "cell_type": "code",
      "execution_count": 163,
      "metadata": {
        "colab": {
          "base_uri": "https://localhost:8080/",
          "height": 542
        },
        "id": "myNBiEgsUvjY",
        "outputId": "b42e175a-90ac-469e-91bf-8fb8f15d3779"
      },
      "outputs": [
        {
          "data": {
            "application/vnd.plotly.v1+json": {
              "config": {
                "plotlyServerURL": "https://plot.ly"
              },
              "data": [
                {
                  "hovertemplate": "x=%{x}<br>y=%{y}<extra></extra>",
                  "legendgroup": "",
                  "line": {
                    "color": "#636efa",
                    "dash": "solid"
                  },
                  "marker": {
                    "symbol": "circle"
                  },
                  "mode": "lines",
                  "name": "",
                  "orientation": "v",
                  "showlegend": false,
                  "type": "scatter",
                  "x": [
                    0,
                    1,
                    2,
                    3,
                    4,
                    5,
                    6,
                    7,
                    8,
                    9
                  ],
                  "xaxis": "x",
                  "y": [
                    1248240.668674699,
                    298948.2448183639,
                    127855.87745425905,
                    74792.59232437,
                    49074.34708289366,
                    34073.67229258765,
                    25196.643265709747,
                    20441.831678154194,
                    16049.967277528322,
                    13488.336324172353
                  ],
                  "yaxis": "y"
                }
              ],
              "layout": {
                "legend": {
                  "tracegroupgap": 0
                },
                "margin": {
                  "t": 60
                },
                "template": {
                  "data": {
                    "bar": [
                      {
                        "error_x": {
                          "color": "#2a3f5f"
                        },
                        "error_y": {
                          "color": "#2a3f5f"
                        },
                        "marker": {
                          "line": {
                            "color": "#E5ECF6",
                            "width": 0.5
                          },
                          "pattern": {
                            "fillmode": "overlay",
                            "size": 10,
                            "solidity": 0.2
                          }
                        },
                        "type": "bar"
                      }
                    ],
                    "barpolar": [
                      {
                        "marker": {
                          "line": {
                            "color": "#E5ECF6",
                            "width": 0.5
                          },
                          "pattern": {
                            "fillmode": "overlay",
                            "size": 10,
                            "solidity": 0.2
                          }
                        },
                        "type": "barpolar"
                      }
                    ],
                    "carpet": [
                      {
                        "aaxis": {
                          "endlinecolor": "#2a3f5f",
                          "gridcolor": "white",
                          "linecolor": "white",
                          "minorgridcolor": "white",
                          "startlinecolor": "#2a3f5f"
                        },
                        "baxis": {
                          "endlinecolor": "#2a3f5f",
                          "gridcolor": "white",
                          "linecolor": "white",
                          "minorgridcolor": "white",
                          "startlinecolor": "#2a3f5f"
                        },
                        "type": "carpet"
                      }
                    ],
                    "choropleth": [
                      {
                        "colorbar": {
                          "outlinewidth": 0,
                          "ticks": ""
                        },
                        "type": "choropleth"
                      }
                    ],
                    "contour": [
                      {
                        "colorbar": {
                          "outlinewidth": 0,
                          "ticks": ""
                        },
                        "colorscale": [
                          [
                            0,
                            "#0d0887"
                          ],
                          [
                            0.1111111111111111,
                            "#46039f"
                          ],
                          [
                            0.2222222222222222,
                            "#7201a8"
                          ],
                          [
                            0.3333333333333333,
                            "#9c179e"
                          ],
                          [
                            0.4444444444444444,
                            "#bd3786"
                          ],
                          [
                            0.5555555555555556,
                            "#d8576b"
                          ],
                          [
                            0.6666666666666666,
                            "#ed7953"
                          ],
                          [
                            0.7777777777777778,
                            "#fb9f3a"
                          ],
                          [
                            0.8888888888888888,
                            "#fdca26"
                          ],
                          [
                            1,
                            "#f0f921"
                          ]
                        ],
                        "type": "contour"
                      }
                    ],
                    "contourcarpet": [
                      {
                        "colorbar": {
                          "outlinewidth": 0,
                          "ticks": ""
                        },
                        "type": "contourcarpet"
                      }
                    ],
                    "heatmap": [
                      {
                        "colorbar": {
                          "outlinewidth": 0,
                          "ticks": ""
                        },
                        "colorscale": [
                          [
                            0,
                            "#0d0887"
                          ],
                          [
                            0.1111111111111111,
                            "#46039f"
                          ],
                          [
                            0.2222222222222222,
                            "#7201a8"
                          ],
                          [
                            0.3333333333333333,
                            "#9c179e"
                          ],
                          [
                            0.4444444444444444,
                            "#bd3786"
                          ],
                          [
                            0.5555555555555556,
                            "#d8576b"
                          ],
                          [
                            0.6666666666666666,
                            "#ed7953"
                          ],
                          [
                            0.7777777777777778,
                            "#fb9f3a"
                          ],
                          [
                            0.8888888888888888,
                            "#fdca26"
                          ],
                          [
                            1,
                            "#f0f921"
                          ]
                        ],
                        "type": "heatmap"
                      }
                    ],
                    "heatmapgl": [
                      {
                        "colorbar": {
                          "outlinewidth": 0,
                          "ticks": ""
                        },
                        "colorscale": [
                          [
                            0,
                            "#0d0887"
                          ],
                          [
                            0.1111111111111111,
                            "#46039f"
                          ],
                          [
                            0.2222222222222222,
                            "#7201a8"
                          ],
                          [
                            0.3333333333333333,
                            "#9c179e"
                          ],
                          [
                            0.4444444444444444,
                            "#bd3786"
                          ],
                          [
                            0.5555555555555556,
                            "#d8576b"
                          ],
                          [
                            0.6666666666666666,
                            "#ed7953"
                          ],
                          [
                            0.7777777777777778,
                            "#fb9f3a"
                          ],
                          [
                            0.8888888888888888,
                            "#fdca26"
                          ],
                          [
                            1,
                            "#f0f921"
                          ]
                        ],
                        "type": "heatmapgl"
                      }
                    ],
                    "histogram": [
                      {
                        "marker": {
                          "pattern": {
                            "fillmode": "overlay",
                            "size": 10,
                            "solidity": 0.2
                          }
                        },
                        "type": "histogram"
                      }
                    ],
                    "histogram2d": [
                      {
                        "colorbar": {
                          "outlinewidth": 0,
                          "ticks": ""
                        },
                        "colorscale": [
                          [
                            0,
                            "#0d0887"
                          ],
                          [
                            0.1111111111111111,
                            "#46039f"
                          ],
                          [
                            0.2222222222222222,
                            "#7201a8"
                          ],
                          [
                            0.3333333333333333,
                            "#9c179e"
                          ],
                          [
                            0.4444444444444444,
                            "#bd3786"
                          ],
                          [
                            0.5555555555555556,
                            "#d8576b"
                          ],
                          [
                            0.6666666666666666,
                            "#ed7953"
                          ],
                          [
                            0.7777777777777778,
                            "#fb9f3a"
                          ],
                          [
                            0.8888888888888888,
                            "#fdca26"
                          ],
                          [
                            1,
                            "#f0f921"
                          ]
                        ],
                        "type": "histogram2d"
                      }
                    ],
                    "histogram2dcontour": [
                      {
                        "colorbar": {
                          "outlinewidth": 0,
                          "ticks": ""
                        },
                        "colorscale": [
                          [
                            0,
                            "#0d0887"
                          ],
                          [
                            0.1111111111111111,
                            "#46039f"
                          ],
                          [
                            0.2222222222222222,
                            "#7201a8"
                          ],
                          [
                            0.3333333333333333,
                            "#9c179e"
                          ],
                          [
                            0.4444444444444444,
                            "#bd3786"
                          ],
                          [
                            0.5555555555555556,
                            "#d8576b"
                          ],
                          [
                            0.6666666666666666,
                            "#ed7953"
                          ],
                          [
                            0.7777777777777778,
                            "#fb9f3a"
                          ],
                          [
                            0.8888888888888888,
                            "#fdca26"
                          ],
                          [
                            1,
                            "#f0f921"
                          ]
                        ],
                        "type": "histogram2dcontour"
                      }
                    ],
                    "mesh3d": [
                      {
                        "colorbar": {
                          "outlinewidth": 0,
                          "ticks": ""
                        },
                        "type": "mesh3d"
                      }
                    ],
                    "parcoords": [
                      {
                        "line": {
                          "colorbar": {
                            "outlinewidth": 0,
                            "ticks": ""
                          }
                        },
                        "type": "parcoords"
                      }
                    ],
                    "pie": [
                      {
                        "automargin": true,
                        "type": "pie"
                      }
                    ],
                    "scatter": [
                      {
                        "fillpattern": {
                          "fillmode": "overlay",
                          "size": 10,
                          "solidity": 0.2
                        },
                        "type": "scatter"
                      }
                    ],
                    "scatter3d": [
                      {
                        "line": {
                          "colorbar": {
                            "outlinewidth": 0,
                            "ticks": ""
                          }
                        },
                        "marker": {
                          "colorbar": {
                            "outlinewidth": 0,
                            "ticks": ""
                          }
                        },
                        "type": "scatter3d"
                      }
                    ],
                    "scattercarpet": [
                      {
                        "marker": {
                          "colorbar": {
                            "outlinewidth": 0,
                            "ticks": ""
                          }
                        },
                        "type": "scattercarpet"
                      }
                    ],
                    "scattergeo": [
                      {
                        "marker": {
                          "colorbar": {
                            "outlinewidth": 0,
                            "ticks": ""
                          }
                        },
                        "type": "scattergeo"
                      }
                    ],
                    "scattergl": [
                      {
                        "marker": {
                          "colorbar": {
                            "outlinewidth": 0,
                            "ticks": ""
                          }
                        },
                        "type": "scattergl"
                      }
                    ],
                    "scattermapbox": [
                      {
                        "marker": {
                          "colorbar": {
                            "outlinewidth": 0,
                            "ticks": ""
                          }
                        },
                        "type": "scattermapbox"
                      }
                    ],
                    "scatterpolar": [
                      {
                        "marker": {
                          "colorbar": {
                            "outlinewidth": 0,
                            "ticks": ""
                          }
                        },
                        "type": "scatterpolar"
                      }
                    ],
                    "scatterpolargl": [
                      {
                        "marker": {
                          "colorbar": {
                            "outlinewidth": 0,
                            "ticks": ""
                          }
                        },
                        "type": "scatterpolargl"
                      }
                    ],
                    "scatterternary": [
                      {
                        "marker": {
                          "colorbar": {
                            "outlinewidth": 0,
                            "ticks": ""
                          }
                        },
                        "type": "scatterternary"
                      }
                    ],
                    "surface": [
                      {
                        "colorbar": {
                          "outlinewidth": 0,
                          "ticks": ""
                        },
                        "colorscale": [
                          [
                            0,
                            "#0d0887"
                          ],
                          [
                            0.1111111111111111,
                            "#46039f"
                          ],
                          [
                            0.2222222222222222,
                            "#7201a8"
                          ],
                          [
                            0.3333333333333333,
                            "#9c179e"
                          ],
                          [
                            0.4444444444444444,
                            "#bd3786"
                          ],
                          [
                            0.5555555555555556,
                            "#d8576b"
                          ],
                          [
                            0.6666666666666666,
                            "#ed7953"
                          ],
                          [
                            0.7777777777777778,
                            "#fb9f3a"
                          ],
                          [
                            0.8888888888888888,
                            "#fdca26"
                          ],
                          [
                            1,
                            "#f0f921"
                          ]
                        ],
                        "type": "surface"
                      }
                    ],
                    "table": [
                      {
                        "cells": {
                          "fill": {
                            "color": "#EBF0F8"
                          },
                          "line": {
                            "color": "white"
                          }
                        },
                        "header": {
                          "fill": {
                            "color": "#C8D4E3"
                          },
                          "line": {
                            "color": "white"
                          }
                        },
                        "type": "table"
                      }
                    ]
                  },
                  "layout": {
                    "annotationdefaults": {
                      "arrowcolor": "#2a3f5f",
                      "arrowhead": 0,
                      "arrowwidth": 1
                    },
                    "autotypenumbers": "strict",
                    "coloraxis": {
                      "colorbar": {
                        "outlinewidth": 0,
                        "ticks": ""
                      }
                    },
                    "colorscale": {
                      "diverging": [
                        [
                          0,
                          "#8e0152"
                        ],
                        [
                          0.1,
                          "#c51b7d"
                        ],
                        [
                          0.2,
                          "#de77ae"
                        ],
                        [
                          0.3,
                          "#f1b6da"
                        ],
                        [
                          0.4,
                          "#fde0ef"
                        ],
                        [
                          0.5,
                          "#f7f7f7"
                        ],
                        [
                          0.6,
                          "#e6f5d0"
                        ],
                        [
                          0.7,
                          "#b8e186"
                        ],
                        [
                          0.8,
                          "#7fbc41"
                        ],
                        [
                          0.9,
                          "#4d9221"
                        ],
                        [
                          1,
                          "#276419"
                        ]
                      ],
                      "sequential": [
                        [
                          0,
                          "#0d0887"
                        ],
                        [
                          0.1111111111111111,
                          "#46039f"
                        ],
                        [
                          0.2222222222222222,
                          "#7201a8"
                        ],
                        [
                          0.3333333333333333,
                          "#9c179e"
                        ],
                        [
                          0.4444444444444444,
                          "#bd3786"
                        ],
                        [
                          0.5555555555555556,
                          "#d8576b"
                        ],
                        [
                          0.6666666666666666,
                          "#ed7953"
                        ],
                        [
                          0.7777777777777778,
                          "#fb9f3a"
                        ],
                        [
                          0.8888888888888888,
                          "#fdca26"
                        ],
                        [
                          1,
                          "#f0f921"
                        ]
                      ],
                      "sequentialminus": [
                        [
                          0,
                          "#0d0887"
                        ],
                        [
                          0.1111111111111111,
                          "#46039f"
                        ],
                        [
                          0.2222222222222222,
                          "#7201a8"
                        ],
                        [
                          0.3333333333333333,
                          "#9c179e"
                        ],
                        [
                          0.4444444444444444,
                          "#bd3786"
                        ],
                        [
                          0.5555555555555556,
                          "#d8576b"
                        ],
                        [
                          0.6666666666666666,
                          "#ed7953"
                        ],
                        [
                          0.7777777777777778,
                          "#fb9f3a"
                        ],
                        [
                          0.8888888888888888,
                          "#fdca26"
                        ],
                        [
                          1,
                          "#f0f921"
                        ]
                      ]
                    },
                    "colorway": [
                      "#636efa",
                      "#EF553B",
                      "#00cc96",
                      "#ab63fa",
                      "#FFA15A",
                      "#19d3f3",
                      "#FF6692",
                      "#B6E880",
                      "#FF97FF",
                      "#FECB52"
                    ],
                    "font": {
                      "color": "#2a3f5f"
                    },
                    "geo": {
                      "bgcolor": "white",
                      "lakecolor": "white",
                      "landcolor": "#E5ECF6",
                      "showlakes": true,
                      "showland": true,
                      "subunitcolor": "white"
                    },
                    "hoverlabel": {
                      "align": "left"
                    },
                    "hovermode": "closest",
                    "mapbox": {
                      "style": "light"
                    },
                    "paper_bgcolor": "white",
                    "plot_bgcolor": "#E5ECF6",
                    "polar": {
                      "angularaxis": {
                        "gridcolor": "white",
                        "linecolor": "white",
                        "ticks": ""
                      },
                      "bgcolor": "#E5ECF6",
                      "radialaxis": {
                        "gridcolor": "white",
                        "linecolor": "white",
                        "ticks": ""
                      }
                    },
                    "scene": {
                      "xaxis": {
                        "backgroundcolor": "#E5ECF6",
                        "gridcolor": "white",
                        "gridwidth": 2,
                        "linecolor": "white",
                        "showbackground": true,
                        "ticks": "",
                        "zerolinecolor": "white"
                      },
                      "yaxis": {
                        "backgroundcolor": "#E5ECF6",
                        "gridcolor": "white",
                        "gridwidth": 2,
                        "linecolor": "white",
                        "showbackground": true,
                        "ticks": "",
                        "zerolinecolor": "white"
                      },
                      "zaxis": {
                        "backgroundcolor": "#E5ECF6",
                        "gridcolor": "white",
                        "gridwidth": 2,
                        "linecolor": "white",
                        "showbackground": true,
                        "ticks": "",
                        "zerolinecolor": "white"
                      }
                    },
                    "shapedefaults": {
                      "line": {
                        "color": "#2a3f5f"
                      }
                    },
                    "ternary": {
                      "aaxis": {
                        "gridcolor": "white",
                        "linecolor": "white",
                        "ticks": ""
                      },
                      "baxis": {
                        "gridcolor": "white",
                        "linecolor": "white",
                        "ticks": ""
                      },
                      "bgcolor": "#E5ECF6",
                      "caxis": {
                        "gridcolor": "white",
                        "linecolor": "white",
                        "ticks": ""
                      }
                    },
                    "title": {
                      "x": 0.05
                    },
                    "xaxis": {
                      "automargin": true,
                      "gridcolor": "white",
                      "linecolor": "white",
                      "ticks": "",
                      "title": {
                        "standoff": 15
                      },
                      "zerolinecolor": "white",
                      "zerolinewidth": 2
                    },
                    "yaxis": {
                      "automargin": true,
                      "gridcolor": "white",
                      "linecolor": "white",
                      "ticks": "",
                      "title": {
                        "standoff": 15
                      },
                      "zerolinecolor": "white",
                      "zerolinewidth": 2
                    }
                  }
                },
                "xaxis": {
                  "anchor": "y",
                  "domain": [
                    0,
                    1
                  ],
                  "title": {
                    "text": "x"
                  }
                },
                "yaxis": {
                  "anchor": "x",
                  "domain": [
                    0,
                    1
                  ],
                  "title": {
                    "text": "y"
                  }
                }
              }
            }
          },
          "metadata": {},
          "output_type": "display_data"
        }
      ],
      "source": [
        "grafico_wcss = px.line( x= range(10),\n",
        "                       y=wcss_clientes\n",
        "                       )\n",
        "grafico_wcss.show()"
      ]
    },
    {
      "cell_type": "code",
      "execution_count": 164,
      "metadata": {
        "colab": {
          "base_uri": "https://localhost:8080/",
          "height": 542
        },
        "id": "4Dws20OHU_Uc",
        "outputId": "e887ce80-ce16-44e8-f228-3a2a275655e4"
      },
      "outputs": [
        {
          "data": {
            "application/vnd.plotly.v1+json": {
              "config": {
                "plotlyServerURL": "https://plot.ly"
              },
              "data": [
                {
                  "hovertemplate": "x=%{x}<br>y=%{y}<extra></extra>",
                  "legendgroup": "",
                  "line": {
                    "color": "#636efa",
                    "dash": "solid"
                  },
                  "marker": {
                    "symbol": "circle"
                  },
                  "mode": "lines",
                  "name": "",
                  "orientation": "v",
                  "showlegend": false,
                  "type": "scatter",
                  "x": [
                    0,
                    1,
                    2,
                    3,
                    4,
                    5,
                    6,
                    7,
                    8,
                    9
                  ],
                  "xaxis": "x",
                  "y": [
                    1248240.668674699,
                    298948.2448183639,
                    127855.87745425905,
                    74792.59232437,
                    49074.34708289366,
                    34073.67229258765,
                    25196.643265709747,
                    20441.831678154194,
                    16049.967277528322,
                    13488.336324172353
                  ],
                  "yaxis": "y"
                }
              ],
              "layout": {
                "legend": {
                  "tracegroupgap": 0
                },
                "margin": {
                  "t": 60
                },
                "template": {
                  "data": {
                    "bar": [
                      {
                        "error_x": {
                          "color": "rgb(51,51,51)"
                        },
                        "error_y": {
                          "color": "rgb(51,51,51)"
                        },
                        "marker": {
                          "line": {
                            "color": "rgb(237,237,237)",
                            "width": 0.5
                          },
                          "pattern": {
                            "fillmode": "overlay",
                            "size": 10,
                            "solidity": 0.2
                          }
                        },
                        "type": "bar"
                      }
                    ],
                    "barpolar": [
                      {
                        "marker": {
                          "line": {
                            "color": "rgb(237,237,237)",
                            "width": 0.5
                          },
                          "pattern": {
                            "fillmode": "overlay",
                            "size": 10,
                            "solidity": 0.2
                          }
                        },
                        "type": "barpolar"
                      }
                    ],
                    "carpet": [
                      {
                        "aaxis": {
                          "endlinecolor": "rgb(51,51,51)",
                          "gridcolor": "white",
                          "linecolor": "white",
                          "minorgridcolor": "white",
                          "startlinecolor": "rgb(51,51,51)"
                        },
                        "baxis": {
                          "endlinecolor": "rgb(51,51,51)",
                          "gridcolor": "white",
                          "linecolor": "white",
                          "minorgridcolor": "white",
                          "startlinecolor": "rgb(51,51,51)"
                        },
                        "type": "carpet"
                      }
                    ],
                    "choropleth": [
                      {
                        "colorbar": {
                          "outlinewidth": 0,
                          "tickcolor": "rgb(237,237,237)",
                          "ticklen": 6,
                          "ticks": "inside"
                        },
                        "type": "choropleth"
                      }
                    ],
                    "contour": [
                      {
                        "colorbar": {
                          "outlinewidth": 0,
                          "tickcolor": "rgb(237,237,237)",
                          "ticklen": 6,
                          "ticks": "inside"
                        },
                        "colorscale": [
                          [
                            0,
                            "rgb(20,44,66)"
                          ],
                          [
                            1,
                            "rgb(90,179,244)"
                          ]
                        ],
                        "type": "contour"
                      }
                    ],
                    "contourcarpet": [
                      {
                        "colorbar": {
                          "outlinewidth": 0,
                          "tickcolor": "rgb(237,237,237)",
                          "ticklen": 6,
                          "ticks": "inside"
                        },
                        "type": "contourcarpet"
                      }
                    ],
                    "heatmap": [
                      {
                        "colorbar": {
                          "outlinewidth": 0,
                          "tickcolor": "rgb(237,237,237)",
                          "ticklen": 6,
                          "ticks": "inside"
                        },
                        "colorscale": [
                          [
                            0,
                            "rgb(20,44,66)"
                          ],
                          [
                            1,
                            "rgb(90,179,244)"
                          ]
                        ],
                        "type": "heatmap"
                      }
                    ],
                    "heatmapgl": [
                      {
                        "colorbar": {
                          "outlinewidth": 0,
                          "tickcolor": "rgb(237,237,237)",
                          "ticklen": 6,
                          "ticks": "inside"
                        },
                        "colorscale": [
                          [
                            0,
                            "rgb(20,44,66)"
                          ],
                          [
                            1,
                            "rgb(90,179,244)"
                          ]
                        ],
                        "type": "heatmapgl"
                      }
                    ],
                    "histogram": [
                      {
                        "marker": {
                          "pattern": {
                            "fillmode": "overlay",
                            "size": 10,
                            "solidity": 0.2
                          }
                        },
                        "type": "histogram"
                      }
                    ],
                    "histogram2d": [
                      {
                        "colorbar": {
                          "outlinewidth": 0,
                          "tickcolor": "rgb(237,237,237)",
                          "ticklen": 6,
                          "ticks": "inside"
                        },
                        "colorscale": [
                          [
                            0,
                            "rgb(20,44,66)"
                          ],
                          [
                            1,
                            "rgb(90,179,244)"
                          ]
                        ],
                        "type": "histogram2d"
                      }
                    ],
                    "histogram2dcontour": [
                      {
                        "colorbar": {
                          "outlinewidth": 0,
                          "tickcolor": "rgb(237,237,237)",
                          "ticklen": 6,
                          "ticks": "inside"
                        },
                        "colorscale": [
                          [
                            0,
                            "rgb(20,44,66)"
                          ],
                          [
                            1,
                            "rgb(90,179,244)"
                          ]
                        ],
                        "type": "histogram2dcontour"
                      }
                    ],
                    "mesh3d": [
                      {
                        "colorbar": {
                          "outlinewidth": 0,
                          "tickcolor": "rgb(237,237,237)",
                          "ticklen": 6,
                          "ticks": "inside"
                        },
                        "type": "mesh3d"
                      }
                    ],
                    "parcoords": [
                      {
                        "line": {
                          "colorbar": {
                            "outlinewidth": 0,
                            "tickcolor": "rgb(237,237,237)",
                            "ticklen": 6,
                            "ticks": "inside"
                          }
                        },
                        "type": "parcoords"
                      }
                    ],
                    "pie": [
                      {
                        "automargin": true,
                        "type": "pie"
                      }
                    ],
                    "scatter": [
                      {
                        "fillpattern": {
                          "fillmode": "overlay",
                          "size": 10,
                          "solidity": 0.2
                        },
                        "type": "scatter"
                      }
                    ],
                    "scatter3d": [
                      {
                        "line": {
                          "colorbar": {
                            "outlinewidth": 0,
                            "tickcolor": "rgb(237,237,237)",
                            "ticklen": 6,
                            "ticks": "inside"
                          }
                        },
                        "marker": {
                          "colorbar": {
                            "outlinewidth": 0,
                            "tickcolor": "rgb(237,237,237)",
                            "ticklen": 6,
                            "ticks": "inside"
                          }
                        },
                        "type": "scatter3d"
                      }
                    ],
                    "scattercarpet": [
                      {
                        "marker": {
                          "colorbar": {
                            "outlinewidth": 0,
                            "tickcolor": "rgb(237,237,237)",
                            "ticklen": 6,
                            "ticks": "inside"
                          }
                        },
                        "type": "scattercarpet"
                      }
                    ],
                    "scattergeo": [
                      {
                        "marker": {
                          "colorbar": {
                            "outlinewidth": 0,
                            "tickcolor": "rgb(237,237,237)",
                            "ticklen": 6,
                            "ticks": "inside"
                          }
                        },
                        "type": "scattergeo"
                      }
                    ],
                    "scattergl": [
                      {
                        "marker": {
                          "colorbar": {
                            "outlinewidth": 0,
                            "tickcolor": "rgb(237,237,237)",
                            "ticklen": 6,
                            "ticks": "inside"
                          }
                        },
                        "type": "scattergl"
                      }
                    ],
                    "scattermapbox": [
                      {
                        "marker": {
                          "colorbar": {
                            "outlinewidth": 0,
                            "tickcolor": "rgb(237,237,237)",
                            "ticklen": 6,
                            "ticks": "inside"
                          }
                        },
                        "type": "scattermapbox"
                      }
                    ],
                    "scatterpolar": [
                      {
                        "marker": {
                          "colorbar": {
                            "outlinewidth": 0,
                            "tickcolor": "rgb(237,237,237)",
                            "ticklen": 6,
                            "ticks": "inside"
                          }
                        },
                        "type": "scatterpolar"
                      }
                    ],
                    "scatterpolargl": [
                      {
                        "marker": {
                          "colorbar": {
                            "outlinewidth": 0,
                            "tickcolor": "rgb(237,237,237)",
                            "ticklen": 6,
                            "ticks": "inside"
                          }
                        },
                        "type": "scatterpolargl"
                      }
                    ],
                    "scatterternary": [
                      {
                        "marker": {
                          "colorbar": {
                            "outlinewidth": 0,
                            "tickcolor": "rgb(237,237,237)",
                            "ticklen": 6,
                            "ticks": "inside"
                          }
                        },
                        "type": "scatterternary"
                      }
                    ],
                    "surface": [
                      {
                        "colorbar": {
                          "outlinewidth": 0,
                          "tickcolor": "rgb(237,237,237)",
                          "ticklen": 6,
                          "ticks": "inside"
                        },
                        "colorscale": [
                          [
                            0,
                            "rgb(20,44,66)"
                          ],
                          [
                            1,
                            "rgb(90,179,244)"
                          ]
                        ],
                        "type": "surface"
                      }
                    ],
                    "table": [
                      {
                        "cells": {
                          "fill": {
                            "color": "rgb(237,237,237)"
                          },
                          "line": {
                            "color": "white"
                          }
                        },
                        "header": {
                          "fill": {
                            "color": "rgb(217,217,217)"
                          },
                          "line": {
                            "color": "white"
                          }
                        },
                        "type": "table"
                      }
                    ]
                  },
                  "layout": {
                    "annotationdefaults": {
                      "arrowhead": 0,
                      "arrowwidth": 1
                    },
                    "autotypenumbers": "strict",
                    "coloraxis": {
                      "colorbar": {
                        "outlinewidth": 0,
                        "tickcolor": "rgb(237,237,237)",
                        "ticklen": 6,
                        "ticks": "inside"
                      }
                    },
                    "colorscale": {
                      "sequential": [
                        [
                          0,
                          "rgb(20,44,66)"
                        ],
                        [
                          1,
                          "rgb(90,179,244)"
                        ]
                      ],
                      "sequentialminus": [
                        [
                          0,
                          "rgb(20,44,66)"
                        ],
                        [
                          1,
                          "rgb(90,179,244)"
                        ]
                      ]
                    },
                    "colorway": [
                      "#F8766D",
                      "#A3A500",
                      "#00BF7D",
                      "#00B0F6",
                      "#E76BF3"
                    ],
                    "font": {
                      "color": "rgb(51,51,51)"
                    },
                    "geo": {
                      "bgcolor": "white",
                      "lakecolor": "white",
                      "landcolor": "rgb(237,237,237)",
                      "showlakes": true,
                      "showland": true,
                      "subunitcolor": "white"
                    },
                    "hoverlabel": {
                      "align": "left"
                    },
                    "hovermode": "closest",
                    "paper_bgcolor": "white",
                    "plot_bgcolor": "rgb(237,237,237)",
                    "polar": {
                      "angularaxis": {
                        "gridcolor": "white",
                        "linecolor": "white",
                        "showgrid": true,
                        "tickcolor": "rgb(51,51,51)",
                        "ticks": "outside"
                      },
                      "bgcolor": "rgb(237,237,237)",
                      "radialaxis": {
                        "gridcolor": "white",
                        "linecolor": "white",
                        "showgrid": true,
                        "tickcolor": "rgb(51,51,51)",
                        "ticks": "outside"
                      }
                    },
                    "scene": {
                      "xaxis": {
                        "backgroundcolor": "rgb(237,237,237)",
                        "gridcolor": "white",
                        "gridwidth": 2,
                        "linecolor": "white",
                        "showbackground": true,
                        "showgrid": true,
                        "tickcolor": "rgb(51,51,51)",
                        "ticks": "outside",
                        "zerolinecolor": "white"
                      },
                      "yaxis": {
                        "backgroundcolor": "rgb(237,237,237)",
                        "gridcolor": "white",
                        "gridwidth": 2,
                        "linecolor": "white",
                        "showbackground": true,
                        "showgrid": true,
                        "tickcolor": "rgb(51,51,51)",
                        "ticks": "outside",
                        "zerolinecolor": "white"
                      },
                      "zaxis": {
                        "backgroundcolor": "rgb(237,237,237)",
                        "gridcolor": "white",
                        "gridwidth": 2,
                        "linecolor": "white",
                        "showbackground": true,
                        "showgrid": true,
                        "tickcolor": "rgb(51,51,51)",
                        "ticks": "outside",
                        "zerolinecolor": "white"
                      }
                    },
                    "shapedefaults": {
                      "fillcolor": "black",
                      "line": {
                        "width": 0
                      },
                      "opacity": 0.3
                    },
                    "ternary": {
                      "aaxis": {
                        "gridcolor": "white",
                        "linecolor": "white",
                        "showgrid": true,
                        "tickcolor": "rgb(51,51,51)",
                        "ticks": "outside"
                      },
                      "baxis": {
                        "gridcolor": "white",
                        "linecolor": "white",
                        "showgrid": true,
                        "tickcolor": "rgb(51,51,51)",
                        "ticks": "outside"
                      },
                      "bgcolor": "rgb(237,237,237)",
                      "caxis": {
                        "gridcolor": "white",
                        "linecolor": "white",
                        "showgrid": true,
                        "tickcolor": "rgb(51,51,51)",
                        "ticks": "outside"
                      }
                    },
                    "xaxis": {
                      "automargin": true,
                      "gridcolor": "white",
                      "linecolor": "white",
                      "showgrid": true,
                      "tickcolor": "rgb(51,51,51)",
                      "ticks": "outside",
                      "title": {
                        "standoff": 15
                      },
                      "zerolinecolor": "white"
                    },
                    "yaxis": {
                      "automargin": true,
                      "gridcolor": "white",
                      "linecolor": "white",
                      "showgrid": true,
                      "tickcolor": "rgb(51,51,51)",
                      "ticks": "outside",
                      "title": {
                        "standoff": 15
                      },
                      "zerolinecolor": "white"
                    }
                  }
                },
                "title": {
                  "text": "Calculando o WCSS"
                },
                "xaxis": {
                  "anchor": "y",
                  "domain": [
                    0,
                    1
                  ],
                  "title": {
                    "text": "Numero de clusters"
                  }
                },
                "yaxis": {
                  "anchor": "x",
                  "domain": [
                    0,
                    1
                  ],
                  "title": {
                    "text": "Valor do Wcss"
                  }
                }
              }
            }
          },
          "metadata": {},
          "output_type": "display_data"
        }
      ],
      "source": [
        "fig = go.Figure(grafico_wcss)\n",
        "fig.update_layout(title='Calculando o WCSS',\n",
        "                  xaxis_title= 'Numero de clusters',\n",
        "                  yaxis_title= 'Valor do Wcss',\n",
        "                  template = 'ggplot2')\n",
        "\n",
        "fig.show()"
      ]
    },
    {
      "cell_type": "code",
      "execution_count": 165,
      "metadata": {
        "colab": {
          "base_uri": "https://localhost:8080/",
          "height": 493
        },
        "id": "s9L4zr_DVke9",
        "outputId": "b8b2a57b-6773-46c4-9b13-16657eed2377"
      },
      "outputs": [
        {
          "name": "stderr",
          "output_type": "stream",
          "text": [
            "/home/wedivv/.local/lib/python3.10/site-packages/sklearn/cluster/_kmeans.py:870: FutureWarning:\n",
            "\n",
            "The default value of `n_init` will change from 10 to 'auto' in 1.4. Set the value of `n_init` explicitly to suppress the warning\n",
            "\n"
          ]
        },
        {
          "data": {
            "text/html": [
              "<div>\n",
              "<style scoped>\n",
              "    .dataframe tbody tr th:only-of-type {\n",
              "        vertical-align: middle;\n",
              "    }\n",
              "\n",
              "    .dataframe tbody tr th {\n",
              "        vertical-align: top;\n",
              "    }\n",
              "\n",
              "    .dataframe thead th {\n",
              "        text-align: right;\n",
              "    }\n",
              "</style>\n",
              "<table border=\"1\" class=\"dataframe\">\n",
              "  <thead>\n",
              "    <tr style=\"text-align: right;\">\n",
              "      <th></th>\n",
              "      <th>cod_cliente</th>\n",
              "      <th>cod_genero</th>\n",
              "      <th>genero</th>\n",
              "      <th>idade</th>\n",
              "      <th>peso</th>\n",
              "      <th>colesterol</th>\n",
              "      <th>id_estado</th>\n",
              "      <th>estado</th>\n",
              "      <th>sigla_estado</th>\n",
              "      <th>pais</th>\n",
              "      <th>cluster</th>\n",
              "    </tr>\n",
              "  </thead>\n",
              "  <tbody>\n",
              "    <tr>\n",
              "      <th>0</th>\n",
              "      <td>1</td>\n",
              "      <td>1</td>\n",
              "      <td>Masculino</td>\n",
              "      <td>17</td>\n",
              "      <td>102.0</td>\n",
              "      <td>111</td>\n",
              "      <td>23</td>\n",
              "      <td>Roraima</td>\n",
              "      <td>RR</td>\n",
              "      <td>Brasil</td>\n",
              "      <td>0</td>\n",
              "    </tr>\n",
              "    <tr>\n",
              "      <th>1</th>\n",
              "      <td>54</td>\n",
              "      <td>1</td>\n",
              "      <td>Masculino</td>\n",
              "      <td>48</td>\n",
              "      <td>149.0</td>\n",
              "      <td>183</td>\n",
              "      <td>23</td>\n",
              "      <td>Roraima</td>\n",
              "      <td>RR</td>\n",
              "      <td>Brasil</td>\n",
              "      <td>1</td>\n",
              "    </tr>\n",
              "    <tr>\n",
              "      <th>2</th>\n",
              "      <td>61</td>\n",
              "      <td>0</td>\n",
              "      <td>Feminino</td>\n",
              "      <td>70</td>\n",
              "      <td>113.0</td>\n",
              "      <td>129</td>\n",
              "      <td>23</td>\n",
              "      <td>Roraima</td>\n",
              "      <td>RR</td>\n",
              "      <td>Brasil</td>\n",
              "      <td>0</td>\n",
              "    </tr>\n",
              "    <tr>\n",
              "      <th>3</th>\n",
              "      <td>154</td>\n",
              "      <td>0</td>\n",
              "      <td>Feminino</td>\n",
              "      <td>26</td>\n",
              "      <td>134.0</td>\n",
              "      <td>162</td>\n",
              "      <td>23</td>\n",
              "      <td>Roraima</td>\n",
              "      <td>RR</td>\n",
              "      <td>Brasil</td>\n",
              "      <td>1</td>\n",
              "    </tr>\n",
              "    <tr>\n",
              "      <th>4</th>\n",
              "      <td>164</td>\n",
              "      <td>0</td>\n",
              "      <td>Feminino</td>\n",
              "      <td>51</td>\n",
              "      <td>133.0</td>\n",
              "      <td>155</td>\n",
              "      <td>23</td>\n",
              "      <td>Roraima</td>\n",
              "      <td>RR</td>\n",
              "      <td>Brasil</td>\n",
              "      <td>1</td>\n",
              "    </tr>\n",
              "    <tr>\n",
              "      <th>...</th>\n",
              "      <td>...</td>\n",
              "      <td>...</td>\n",
              "      <td>...</td>\n",
              "      <td>...</td>\n",
              "      <td>...</td>\n",
              "      <td>...</td>\n",
              "      <td>...</td>\n",
              "      <td>...</td>\n",
              "      <td>...</td>\n",
              "      <td>...</td>\n",
              "      <td>...</td>\n",
              "    </tr>\n",
              "    <tr>\n",
              "      <th>493</th>\n",
              "      <td>456</td>\n",
              "      <td>1</td>\n",
              "      <td>Masculino</td>\n",
              "      <td>29</td>\n",
              "      <td>134.0</td>\n",
              "      <td>168</td>\n",
              "      <td>12</td>\n",
              "      <td>Mato Grosso do Sul</td>\n",
              "      <td>MS</td>\n",
              "      <td>Brasil</td>\n",
              "      <td>1</td>\n",
              "    </tr>\n",
              "    <tr>\n",
              "      <th>494</th>\n",
              "      <td>464</td>\n",
              "      <td>0</td>\n",
              "      <td>Feminino</td>\n",
              "      <td>32</td>\n",
              "      <td>144.0</td>\n",
              "      <td>171</td>\n",
              "      <td>12</td>\n",
              "      <td>Mato Grosso do Sul</td>\n",
              "      <td>MS</td>\n",
              "      <td>Brasil</td>\n",
              "      <td>1</td>\n",
              "    </tr>\n",
              "    <tr>\n",
              "      <th>495</th>\n",
              "      <td>492</td>\n",
              "      <td>1</td>\n",
              "      <td>Masculino</td>\n",
              "      <td>64</td>\n",
              "      <td>142.0</td>\n",
              "      <td>172</td>\n",
              "      <td>12</td>\n",
              "      <td>Mato Grosso do Sul</td>\n",
              "      <td>MS</td>\n",
              "      <td>Brasil</td>\n",
              "      <td>1</td>\n",
              "    </tr>\n",
              "    <tr>\n",
              "      <th>496</th>\n",
              "      <td>493</td>\n",
              "      <td>1</td>\n",
              "      <td>Masculino</td>\n",
              "      <td>70</td>\n",
              "      <td>153.0</td>\n",
              "      <td>192</td>\n",
              "      <td>12</td>\n",
              "      <td>Mato Grosso do Sul</td>\n",
              "      <td>MS</td>\n",
              "      <td>Brasil</td>\n",
              "      <td>1</td>\n",
              "    </tr>\n",
              "    <tr>\n",
              "      <th>497</th>\n",
              "      <td>502</td>\n",
              "      <td>1</td>\n",
              "      <td>Masculino</td>\n",
              "      <td>41</td>\n",
              "      <td>152.0</td>\n",
              "      <td>178</td>\n",
              "      <td>12</td>\n",
              "      <td>Mato Grosso do Sul</td>\n",
              "      <td>MS</td>\n",
              "      <td>Brasil</td>\n",
              "      <td>1</td>\n",
              "    </tr>\n",
              "  </tbody>\n",
              "</table>\n",
              "<p>498 rows × 11 columns</p>\n",
              "</div>"
            ],
            "text/plain": [
              "     cod_cliente  cod_genero     genero  idade   peso  colesterol  id_estado  \\\n",
              "0              1           1  Masculino     17  102.0         111         23   \n",
              "1             54           1  Masculino     48  149.0         183         23   \n",
              "2             61           0   Feminino     70  113.0         129         23   \n",
              "3            154           0   Feminino     26  134.0         162         23   \n",
              "4            164           0   Feminino     51  133.0         155         23   \n",
              "..           ...         ...        ...    ...    ...         ...        ...   \n",
              "493          456           1  Masculino     29  134.0         168         12   \n",
              "494          464           0   Feminino     32  144.0         171         12   \n",
              "495          492           1  Masculino     64  142.0         172         12   \n",
              "496          493           1  Masculino     70  153.0         192         12   \n",
              "497          502           1  Masculino     41  152.0         178         12   \n",
              "\n",
              "                 estado sigla_estado    pais  cluster  \n",
              "0               Roraima           RR  Brasil        0  \n",
              "1               Roraima           RR  Brasil        1  \n",
              "2               Roraima           RR  Brasil        0  \n",
              "3               Roraima           RR  Brasil        1  \n",
              "4               Roraima           RR  Brasil        1  \n",
              "..                  ...          ...     ...      ...  \n",
              "493  Mato Grosso do Sul           MS  Brasil        1  \n",
              "494  Mato Grosso do Sul           MS  Brasil        1  \n",
              "495  Mato Grosso do Sul           MS  Brasil        1  \n",
              "496  Mato Grosso do Sul           MS  Brasil        1  \n",
              "497  Mato Grosso do Sul           MS  Brasil        1  \n",
              "\n",
              "[498 rows x 11 columns]"
            ]
          },
          "execution_count": 165,
          "metadata": {},
          "output_type": "execute_result"
        }
      ],
      "source": [
        "kmeans_clientes = KMeans(n_clusters=3, random_state=1)\n",
        "base_completa['cluster'] = kmeans_clientes.fit_predict(dados_calc)\n",
        "base_completa"
      ]
    },
    {
      "cell_type": "code",
      "execution_count": 166,
      "metadata": {
        "colab": {
          "base_uri": "https://localhost:8080/"
        },
        "id": "PY_8LO7lX3l7",
        "outputId": "1416398b-076b-493d-f43d-3bef0be160e7"
      },
      "outputs": [
        {
          "data": {
            "text/plain": [
              "array([[110.42857143, 125.91428571],\n",
              "       [141.97575758, 173.16363636],\n",
              "       [182.25316456, 217.0443038 ]])"
            ]
          },
          "execution_count": 166,
          "metadata": {},
          "output_type": "execute_result"
        }
      ],
      "source": [
        "centroides_cluster = kmeans_clientes.cluster_centers_\n",
        "centroides_cluster"
      ]
    },
    {
      "cell_type": "code",
      "execution_count": 167,
      "metadata": {
        "colab": {
          "base_uri": "https://localhost:8080/",
          "height": 542
        },
        "id": "fRjz76btZj8O",
        "outputId": "b22ccf32-c3c4-4b58-8979-e4b66418b58e"
      },
      "outputs": [
        {
          "data": {
            "application/vnd.plotly.v1+json": {
              "config": {
                "plotlyServerURL": "https://plot.ly"
              },
              "data": [
                {
                  "hovertemplate": "x=%{x}<br>y=%{y}<br>color=%{marker.color}<extra></extra>",
                  "legendgroup": "",
                  "marker": {
                    "color": [
                      0,
                      1,
                      0,
                      1,
                      1,
                      0,
                      1,
                      0,
                      0,
                      1,
                      2,
                      2,
                      0,
                      1,
                      2,
                      0,
                      0,
                      0,
                      1,
                      2,
                      1,
                      1,
                      2,
                      0,
                      2,
                      2,
                      2,
                      0,
                      2,
                      2,
                      1,
                      2,
                      0,
                      0,
                      0,
                      0,
                      2,
                      0,
                      2,
                      0,
                      0,
                      0,
                      2,
                      0,
                      0,
                      0,
                      0,
                      2,
                      2,
                      0,
                      2,
                      0,
                      2,
                      2,
                      0,
                      1,
                      2,
                      0,
                      1,
                      1,
                      0,
                      0,
                      1,
                      2,
                      1,
                      0,
                      1,
                      0,
                      0,
                      1,
                      0,
                      2,
                      2,
                      2,
                      2,
                      0,
                      1,
                      1,
                      1,
                      2,
                      1,
                      2,
                      0,
                      2,
                      2,
                      1,
                      1,
                      0,
                      2,
                      0,
                      2,
                      1,
                      2,
                      1,
                      1,
                      1,
                      1,
                      2,
                      1,
                      0,
                      1,
                      1,
                      1,
                      1,
                      2,
                      2,
                      0,
                      2,
                      0,
                      0,
                      1,
                      1,
                      2,
                      2,
                      0,
                      1,
                      1,
                      0,
                      1,
                      0,
                      1,
                      0,
                      1,
                      2,
                      0,
                      2,
                      0,
                      2,
                      2,
                      2,
                      0,
                      2,
                      2,
                      2,
                      1,
                      0,
                      2,
                      2,
                      1,
                      1,
                      0,
                      0,
                      0,
                      1,
                      1,
                      2,
                      1,
                      0,
                      0,
                      2,
                      1,
                      1,
                      2,
                      0,
                      1,
                      0,
                      0,
                      0,
                      0,
                      1,
                      1,
                      0,
                      0,
                      2,
                      1,
                      1,
                      2,
                      2,
                      2,
                      2,
                      0,
                      0,
                      2,
                      1,
                      0,
                      2,
                      2,
                      0,
                      1,
                      2,
                      2,
                      0,
                      1,
                      1,
                      2,
                      1,
                      1,
                      0,
                      0,
                      2,
                      1,
                      2,
                      1,
                      2,
                      2,
                      2,
                      2,
                      2,
                      1,
                      2,
                      0,
                      0,
                      1,
                      0,
                      2,
                      2,
                      0,
                      1,
                      1,
                      0,
                      1,
                      2,
                      1,
                      2,
                      2,
                      2,
                      2,
                      0,
                      0,
                      1,
                      2,
                      0,
                      0,
                      1,
                      1,
                      1,
                      0,
                      0,
                      2,
                      2,
                      0,
                      1,
                      1,
                      1,
                      1,
                      1,
                      1,
                      2,
                      0,
                      0,
                      2,
                      0,
                      0,
                      2,
                      1,
                      2,
                      0,
                      1,
                      0,
                      0,
                      1,
                      1,
                      0,
                      2,
                      0,
                      0,
                      1,
                      1,
                      0,
                      0,
                      2,
                      0,
                      1,
                      1,
                      2,
                      2,
                      1,
                      2,
                      1,
                      2,
                      2,
                      2,
                      0,
                      1,
                      2,
                      0,
                      2,
                      1,
                      2,
                      2,
                      1,
                      0,
                      0,
                      0,
                      2,
                      1,
                      0,
                      0,
                      1,
                      1,
                      0,
                      2,
                      2,
                      2,
                      2,
                      2,
                      2,
                      2,
                      2,
                      0,
                      2,
                      0,
                      0,
                      1,
                      2,
                      1,
                      2,
                      1,
                      2,
                      0,
                      0,
                      0,
                      2,
                      1,
                      1,
                      0,
                      2,
                      1,
                      0,
                      0,
                      2,
                      2,
                      0,
                      2,
                      0,
                      1,
                      0,
                      0,
                      0,
                      1,
                      2,
                      1,
                      2,
                      1,
                      1,
                      0,
                      0,
                      2,
                      1,
                      1,
                      2,
                      2,
                      2,
                      2,
                      2,
                      2,
                      2,
                      1,
                      1,
                      2,
                      0,
                      1,
                      0,
                      0,
                      2,
                      2,
                      2,
                      1,
                      2,
                      0,
                      0,
                      0,
                      0,
                      0,
                      1,
                      1,
                      0,
                      1,
                      0,
                      2,
                      1,
                      2,
                      0,
                      1,
                      2,
                      0,
                      1,
                      2,
                      2,
                      0,
                      2,
                      1,
                      0,
                      0,
                      0,
                      1,
                      1,
                      2,
                      1,
                      1,
                      0,
                      1,
                      2,
                      0,
                      0,
                      0,
                      2,
                      1,
                      1,
                      1,
                      2,
                      1,
                      0,
                      0,
                      1,
                      0,
                      1,
                      0,
                      0,
                      1,
                      2,
                      1,
                      0,
                      0,
                      2,
                      1,
                      2,
                      2,
                      2,
                      0,
                      1,
                      0,
                      0,
                      1,
                      2,
                      1,
                      1,
                      0,
                      2,
                      0,
                      1,
                      1,
                      0,
                      1,
                      1,
                      0,
                      0,
                      0,
                      0,
                      1,
                      2,
                      1,
                      1,
                      1,
                      0,
                      1,
                      1,
                      0,
                      1,
                      1,
                      0,
                      0,
                      2,
                      0,
                      1,
                      1,
                      0,
                      1,
                      0,
                      2,
                      2,
                      1,
                      0,
                      1,
                      0,
                      1,
                      0,
                      0,
                      2,
                      2,
                      2,
                      2,
                      0,
                      0,
                      0,
                      2,
                      0,
                      1,
                      0,
                      0,
                      0,
                      1,
                      2,
                      0,
                      1,
                      0,
                      1,
                      0,
                      1,
                      2,
                      1,
                      2,
                      1,
                      1,
                      1,
                      1,
                      1,
                      1
                    ],
                    "coloraxis": "coloraxis",
                    "symbol": "circle"
                  },
                  "mode": "markers",
                  "name": "",
                  "orientation": "v",
                  "showlegend": false,
                  "type": "scatter",
                  "x": [
                    102,
                    149,
                    113,
                    134,
                    133,
                    115,
                    146,
                    125,
                    124,
                    127,
                    183,
                    199,
                    115,
                    151,
                    200,
                    120,
                    125,
                    115,
                    156,
                    183,
                    128,
                    157,
                    170,
                    113,
                    192,
                    183,
                    173,
                    109,
                    176,
                    195,
                    132,
                    168,
                    119,
                    110,
                    117,
                    100,
                    200,
                    105,
                    162,
                    115,
                    117,
                    105,
                    164,
                    119,
                    113,
                    101,
                    105,
                    203,
                    186,
                    120,
                    200,
                    111,
                    188,
                    190,
                    99,
                    129,
                    186,
                    111,
                    151,
                    151,
                    104,
                    113,
                    154,
                    185,
                    130,
                    114,
                    130,
                    115,
                    121,
                    126,
                    100,
                    159,
                    180,
                    197,
                    185,
                    119,
                    158,
                    140,
                    138,
                    182,
                    132,
                    167,
                    122,
                    198,
                    169,
                    124,
                    150,
                    96,
                    195,
                    115,
                    191,
                    133,
                    191,
                    140,
                    154,
                    149,
                    141,
                    192,
                    134,
                    97,
                    148,
                    145,
                    125,
                    156,
                    181,
                    181,
                    120,
                    176,
                    102,
                    110,
                    153,
                    141,
                    190,
                    191,
                    100,
                    150,
                    137,
                    103,
                    133,
                    106,
                    158,
                    98,
                    145,
                    196,
                    114,
                    192,
                    101,
                    181,
                    189,
                    171,
                    103,
                    186,
                    188,
                    178,
                    139,
                    102,
                    176,
                    203,
                    141,
                    141,
                    97,
                    100,
                    102,
                    153,
                    137,
                    183,
                    142,
                    118,
                    115,
                    184,
                    137,
                    148,
                    171,
                    119,
                    157,
                    107,
                    104,
                    109,
                    95,
                    138,
                    128,
                    121,
                    103,
                    180,
                    124,
                    156,
                    185,
                    191,
                    180,
                    197,
                    109,
                    104,
                    171,
                    151,
                    126,
                    188,
                    158,
                    96,
                    152,
                    195,
                    166,
                    122,
                    142,
                    154,
                    198,
                    154,
                    154,
                    105,
                    107,
                    203,
                    145,
                    180,
                    128,
                    203,
                    178,
                    174,
                    197,
                    168,
                    129,
                    186,
                    123,
                    100,
                    128,
                    113,
                    169,
                    176,
                    104,
                    146,
                    128,
                    108,
                    134,
                    180,
                    157,
                    194,
                    189,
                    168,
                    193,
                    123,
                    124,
                    156,
                    200,
                    117,
                    108,
                    158,
                    150,
                    132,
                    100,
                    108,
                    199,
                    172,
                    121,
                    155,
                    150,
                    136,
                    133,
                    153,
                    144,
                    185,
                    120,
                    105,
                    186,
                    100,
                    107,
                    191,
                    132,
                    182,
                    113,
                    129,
                    116,
                    111,
                    141,
                    131,
                    107,
                    183,
                    100,
                    120,
                    158,
                    154,
                    116,
                    100,
                    201,
                    111,
                    149,
                    134,
                    190,
                    196,
                    159,
                    199,
                    130,
                    174,
                    192,
                    175,
                    111,
                    146,
                    181,
                    101,
                    177,
                    154,
                    184,
                    167,
                    126,
                    98,
                    115,
                    111,
                    176,
                    127,
                    114,
                    123,
                    140,
                    137,
                    113,
                    179,
                    167,
                    171,
                    184,
                    161,
                    173,
                    184,
                    171,
                    117,
                    180,
                    121,
                    101,
                    151,
                    172,
                    152,
                    183,
                    129,
                    180,
                    124,
                    103,
                    116,
                    187,
                    135,
                    128,
                    110,
                    160,
                    140,
                    109,
                    98,
                    192,
                    179,
                    118,
                    179,
                    119,
                    142,
                    115,
                    116,
                    108,
                    150,
                    187,
                    146,
                    179,
                    150,
                    142,
                    116,
                    104,
                    171,
                    150,
                    134,
                    169,
                    182,
                    194,
                    177,
                    172,
                    175,
                    180,
                    131,
                    138,
                    190,
                    106,
                    148,
                    97,
                    114,
                    181,
                    187,
                    180,
                    153,
                    170,
                    110,
                    123,
                    107,
                    96,
                    101,
                    158,
                    127,
                    100,
                    147,
                    109,
                    171,
                    132,
                    181,
                    117,
                    149,
                    185,
                    97,
                    152,
                    168,
                    168,
                    126,
                    201,
                    127,
                    116,
                    117,
                    104,
                    154,
                    134,
                    172,
                    157,
                    137,
                    106,
                    135,
                    188,
                    103,
                    116,
                    99,
                    173,
                    127,
                    150,
                    151,
                    166,
                    145,
                    102,
                    116,
                    154,
                    106,
                    131,
                    113,
                    118,
                    154,
                    187,
                    141,
                    125,
                    110,
                    160,
                    132,
                    187,
                    188,
                    172,
                    96,
                    149,
                    118,
                    122,
                    145,
                    174,
                    128,
                    155,
                    122,
                    184,
                    107,
                    129,
                    134,
                    110,
                    132,
                    143,
                    112,
                    110,
                    104,
                    103,
                    135,
                    161,
                    148,
                    147,
                    134,
                    119,
                    145,
                    127,
                    118,
                    140,
                    133,
                    113,
                    108,
                    196,
                    112,
                    157,
                    156,
                    108,
                    134,
                    112,
                    196,
                    171,
                    132,
                    119,
                    158,
                    118,
                    128,
                    101,
                    117,
                    188,
                    203,
                    174,
                    168,
                    117,
                    106,
                    110,
                    166,
                    103,
                    140,
                    97,
                    107,
                    97,
                    129,
                    203,
                    117,
                    154,
                    112,
                    155,
                    123,
                    126,
                    181,
                    125,
                    182,
                    145,
                    134,
                    144,
                    142,
                    153,
                    152
                  ],
                  "xaxis": "x",
                  "y": [
                    111,
                    183,
                    129,
                    162,
                    155,
                    135,
                    179,
                    148,
                    151,
                    152,
                    214,
                    232,
                    131,
                    190,
                    232,
                    142,
                    149,
                    135,
                    192,
                    218,
                    154,
                    196,
                    208,
                    130,
                    228,
                    213,
                    208,
                    127,
                    212,
                    231,
                    159,
                    211,
                    145,
                    124,
                    133,
                    110,
                    228,
                    113,
                    196,
                    136,
                    139,
                    118,
                    197,
                    141,
                    130,
                    110,
                    116,
                    232,
                    220,
                    143,
                    232,
                    129,
                    220,
                    226,
                    106,
                    157,
                    219,
                    126,
                    183,
                    186,
                    116,
                    124,
                    190,
                    226,
                    158,
                    131,
                    158,
                    138,
                    143,
                    152,
                    107,
                    202,
                    212,
                    224,
                    219,
                    144,
                    189,
                    167,
                    169,
                    221,
                    162,
                    200,
                    143,
                    227,
                    204,
                    152,
                    185,
                    105,
                    222,
                    132,
                    222,
                    164,
                    222,
                    173,
                    187,
                    184,
                    168,
                    224,
                    169,
                    108,
                    176,
                    176,
                    152,
                    195,
                    214,
                    219,
                    138,
                    208,
                    114,
                    124,
                    188,
                    170,
                    222,
                    223,
                    107,
                    180,
                    163,
                    115,
                    158,
                    114,
                    190,
                    105,
                    169,
                    227,
                    136,
                    226,
                    110,
                    222,
                    223,
                    205,
                    113,
                    221,
                    222,
                    213,
                    167,
                    115,
                    209,
                    231,
                    172,
                    172,
                    112,
                    110,
                    116,
                    190,
                    167,
                    212,
                    170,
                    133,
                    134,
                    225,
                    167,
                    174,
                    205,
                    139,
                    194,
                    115,
                    116,
                    125,
                    102,
                    167,
                    156,
                    142,
                    107,
                    213,
                    152,
                    194,
                    221,
                    226,
                    220,
                    232,
                    122,
                    109,
                    211,
                    178,
                    147,
                    224,
                    201,
                    102,
                    189,
                    225,
                    203,
                    146,
                    169,
                    184,
                    227,
                    189,
                    187,
                    116,
                    115,
                    233,
                    174,
                    215,
                    155,
                    234,
                    213,
                    208,
                    225,
                    204,
                    157,
                    221,
                    146,
                    106,
                    151,
                    132,
                    199,
                    211,
                    113,
                    179,
                    156,
                    122,
                    158,
                    216,
                    191,
                    227,
                    223,
                    204,
                    224,
                    147,
                    148,
                    195,
                    233,
                    142,
                    121,
                    195,
                    191,
                    161,
                    110,
                    120,
                    227,
                    205,
                    145,
                    196,
                    178,
                    169,
                    163,
                    189,
                    172,
                    220,
                    139,
                    108,
                    224,
                    110,
                    126,
                    226,
                    166,
                    218,
                    128,
                    162,
                    144,
                    126,
                    174,
                    165,
                    122,
                    219,
                    106,
                    144,
                    196,
                    191,
                    138,
                    102,
                    235,
                    128,
                    183,
                    167,
                    223,
                    228,
                    193,
                    228,
                    158,
                    209,
                    224,
                    214,
                    123,
                    181,
                    214,
                    108,
                    217,
                    190,
                    226,
                    199,
                    154,
                    106,
                    139,
                    130,
                    216,
                    150,
                    133,
                    149,
                    168,
                    166,
                    131,
                    214,
                    204,
                    212,
                    222,
                    201,
                    211,
                    220,
                    204,
                    141,
                    218,
                    146,
                    109,
                    184,
                    210,
                    193,
                    218,
                    155,
                    216,
                    149,
                    116,
                    136,
                    222,
                    170,
                    156,
                    119,
                    202,
                    166,
                    129,
                    107,
                    225,
                    217,
                    135,
                    211,
                    138,
                    175,
                    137,
                    130,
                    123,
                    185,
                    221,
                    177,
                    216,
                    179,
                    168,
                    136,
                    108,
                    205,
                    182,
                    160,
                    204,
                    222,
                    224,
                    214,
                    205,
                    215,
                    219,
                    159,
                    171,
                    222,
                    122,
                    177,
                    104,
                    132,
                    224,
                    225,
                    219,
                    191,
                    204,
                    128,
                    145,
                    121,
                    108,
                    105,
                    198,
                    151,
                    110,
                    180,
                    116,
                    212,
                    159,
                    217,
                    147,
                    183,
                    220,
                    106,
                    195,
                    201,
                    204,
                    149,
                    228,
                    156,
                    141,
                    129,
                    109,
                    192,
                    163,
                    211,
                    194,
                    169,
                    118,
                    166,
                    226,
                    117,
                    139,
                    105,
                    212,
                    159,
                    178,
                    188,
                    199,
                    175,
                    111,
                    139,
                    189,
                    120,
                    162,
                    128,
                    129,
                    185,
                    226,
                    176,
                    150,
                    128,
                    199,
                    166,
                    220,
                    221,
                    207,
                    105,
                    185,
                    140,
                    145,
                    173,
                    214,
                    160,
                    185,
                    144,
                    222,
                    120,
                    157,
                    164,
                    128,
                    163,
                    168,
                    133,
                    127,
                    116,
                    111,
                    170,
                    199,
                    176,
                    172,
                    159,
                    146,
                    171,
                    155,
                    133,
                    173,
                    158,
                    129,
                    127,
                    232,
                    134,
                    194,
                    191,
                    123,
                    158,
                    124,
                    225,
                    211,
                    165,
                    141,
                    193,
                    131,
                    153,
                    112,
                    140,
                    223,
                    228,
                    208,
                    199,
                    138,
                    115,
                    120,
                    200,
                    110,
                    168,
                    106,
                    117,
                    104,
                    156,
                    235,
                    134,
                    195,
                    127,
                    191,
                    151,
                    152,
                    216,
                    154,
                    218,
                    176,
                    168,
                    171,
                    172,
                    192,
                    178
                  ],
                  "yaxis": "y"
                },
                {
                  "marker": {
                    "color": "LightSeaGreen",
                    "size": 7
                  },
                  "mode": "markers",
                  "type": "scatter",
                  "x": [
                    110.42857142857139,
                    141.97575757575757,
                    182.25316455696196
                  ],
                  "y": [
                    125.91428571428561,
                    173.16363636363636,
                    217.04430379746827
                  ]
                }
              ],
              "layout": {
                "coloraxis": {
                  "colorbar": {
                    "title": {
                      "text": "color"
                    }
                  },
                  "colorscale": [
                    [
                      0,
                      "#0d0887"
                    ],
                    [
                      0.1111111111111111,
                      "#46039f"
                    ],
                    [
                      0.2222222222222222,
                      "#7201a8"
                    ],
                    [
                      0.3333333333333333,
                      "#9c179e"
                    ],
                    [
                      0.4444444444444444,
                      "#bd3786"
                    ],
                    [
                      0.5555555555555556,
                      "#d8576b"
                    ],
                    [
                      0.6666666666666666,
                      "#ed7953"
                    ],
                    [
                      0.7777777777777778,
                      "#fb9f3a"
                    ],
                    [
                      0.8888888888888888,
                      "#fdca26"
                    ],
                    [
                      1,
                      "#f0f921"
                    ]
                  ]
                },
                "legend": {
                  "tracegroupgap": 0
                },
                "margin": {
                  "t": 60
                },
                "template": {
                  "data": {
                    "bar": [
                      {
                        "error_x": {
                          "color": "#2a3f5f"
                        },
                        "error_y": {
                          "color": "#2a3f5f"
                        },
                        "marker": {
                          "line": {
                            "color": "#E5ECF6",
                            "width": 0.5
                          },
                          "pattern": {
                            "fillmode": "overlay",
                            "size": 10,
                            "solidity": 0.2
                          }
                        },
                        "type": "bar"
                      }
                    ],
                    "barpolar": [
                      {
                        "marker": {
                          "line": {
                            "color": "#E5ECF6",
                            "width": 0.5
                          },
                          "pattern": {
                            "fillmode": "overlay",
                            "size": 10,
                            "solidity": 0.2
                          }
                        },
                        "type": "barpolar"
                      }
                    ],
                    "carpet": [
                      {
                        "aaxis": {
                          "endlinecolor": "#2a3f5f",
                          "gridcolor": "white",
                          "linecolor": "white",
                          "minorgridcolor": "white",
                          "startlinecolor": "#2a3f5f"
                        },
                        "baxis": {
                          "endlinecolor": "#2a3f5f",
                          "gridcolor": "white",
                          "linecolor": "white",
                          "minorgridcolor": "white",
                          "startlinecolor": "#2a3f5f"
                        },
                        "type": "carpet"
                      }
                    ],
                    "choropleth": [
                      {
                        "colorbar": {
                          "outlinewidth": 0,
                          "ticks": ""
                        },
                        "type": "choropleth"
                      }
                    ],
                    "contour": [
                      {
                        "colorbar": {
                          "outlinewidth": 0,
                          "ticks": ""
                        },
                        "colorscale": [
                          [
                            0,
                            "#0d0887"
                          ],
                          [
                            0.1111111111111111,
                            "#46039f"
                          ],
                          [
                            0.2222222222222222,
                            "#7201a8"
                          ],
                          [
                            0.3333333333333333,
                            "#9c179e"
                          ],
                          [
                            0.4444444444444444,
                            "#bd3786"
                          ],
                          [
                            0.5555555555555556,
                            "#d8576b"
                          ],
                          [
                            0.6666666666666666,
                            "#ed7953"
                          ],
                          [
                            0.7777777777777778,
                            "#fb9f3a"
                          ],
                          [
                            0.8888888888888888,
                            "#fdca26"
                          ],
                          [
                            1,
                            "#f0f921"
                          ]
                        ],
                        "type": "contour"
                      }
                    ],
                    "contourcarpet": [
                      {
                        "colorbar": {
                          "outlinewidth": 0,
                          "ticks": ""
                        },
                        "type": "contourcarpet"
                      }
                    ],
                    "heatmap": [
                      {
                        "colorbar": {
                          "outlinewidth": 0,
                          "ticks": ""
                        },
                        "colorscale": [
                          [
                            0,
                            "#0d0887"
                          ],
                          [
                            0.1111111111111111,
                            "#46039f"
                          ],
                          [
                            0.2222222222222222,
                            "#7201a8"
                          ],
                          [
                            0.3333333333333333,
                            "#9c179e"
                          ],
                          [
                            0.4444444444444444,
                            "#bd3786"
                          ],
                          [
                            0.5555555555555556,
                            "#d8576b"
                          ],
                          [
                            0.6666666666666666,
                            "#ed7953"
                          ],
                          [
                            0.7777777777777778,
                            "#fb9f3a"
                          ],
                          [
                            0.8888888888888888,
                            "#fdca26"
                          ],
                          [
                            1,
                            "#f0f921"
                          ]
                        ],
                        "type": "heatmap"
                      }
                    ],
                    "heatmapgl": [
                      {
                        "colorbar": {
                          "outlinewidth": 0,
                          "ticks": ""
                        },
                        "colorscale": [
                          [
                            0,
                            "#0d0887"
                          ],
                          [
                            0.1111111111111111,
                            "#46039f"
                          ],
                          [
                            0.2222222222222222,
                            "#7201a8"
                          ],
                          [
                            0.3333333333333333,
                            "#9c179e"
                          ],
                          [
                            0.4444444444444444,
                            "#bd3786"
                          ],
                          [
                            0.5555555555555556,
                            "#d8576b"
                          ],
                          [
                            0.6666666666666666,
                            "#ed7953"
                          ],
                          [
                            0.7777777777777778,
                            "#fb9f3a"
                          ],
                          [
                            0.8888888888888888,
                            "#fdca26"
                          ],
                          [
                            1,
                            "#f0f921"
                          ]
                        ],
                        "type": "heatmapgl"
                      }
                    ],
                    "histogram": [
                      {
                        "marker": {
                          "pattern": {
                            "fillmode": "overlay",
                            "size": 10,
                            "solidity": 0.2
                          }
                        },
                        "type": "histogram"
                      }
                    ],
                    "histogram2d": [
                      {
                        "colorbar": {
                          "outlinewidth": 0,
                          "ticks": ""
                        },
                        "colorscale": [
                          [
                            0,
                            "#0d0887"
                          ],
                          [
                            0.1111111111111111,
                            "#46039f"
                          ],
                          [
                            0.2222222222222222,
                            "#7201a8"
                          ],
                          [
                            0.3333333333333333,
                            "#9c179e"
                          ],
                          [
                            0.4444444444444444,
                            "#bd3786"
                          ],
                          [
                            0.5555555555555556,
                            "#d8576b"
                          ],
                          [
                            0.6666666666666666,
                            "#ed7953"
                          ],
                          [
                            0.7777777777777778,
                            "#fb9f3a"
                          ],
                          [
                            0.8888888888888888,
                            "#fdca26"
                          ],
                          [
                            1,
                            "#f0f921"
                          ]
                        ],
                        "type": "histogram2d"
                      }
                    ],
                    "histogram2dcontour": [
                      {
                        "colorbar": {
                          "outlinewidth": 0,
                          "ticks": ""
                        },
                        "colorscale": [
                          [
                            0,
                            "#0d0887"
                          ],
                          [
                            0.1111111111111111,
                            "#46039f"
                          ],
                          [
                            0.2222222222222222,
                            "#7201a8"
                          ],
                          [
                            0.3333333333333333,
                            "#9c179e"
                          ],
                          [
                            0.4444444444444444,
                            "#bd3786"
                          ],
                          [
                            0.5555555555555556,
                            "#d8576b"
                          ],
                          [
                            0.6666666666666666,
                            "#ed7953"
                          ],
                          [
                            0.7777777777777778,
                            "#fb9f3a"
                          ],
                          [
                            0.8888888888888888,
                            "#fdca26"
                          ],
                          [
                            1,
                            "#f0f921"
                          ]
                        ],
                        "type": "histogram2dcontour"
                      }
                    ],
                    "mesh3d": [
                      {
                        "colorbar": {
                          "outlinewidth": 0,
                          "ticks": ""
                        },
                        "type": "mesh3d"
                      }
                    ],
                    "parcoords": [
                      {
                        "line": {
                          "colorbar": {
                            "outlinewidth": 0,
                            "ticks": ""
                          }
                        },
                        "type": "parcoords"
                      }
                    ],
                    "pie": [
                      {
                        "automargin": true,
                        "type": "pie"
                      }
                    ],
                    "scatter": [
                      {
                        "fillpattern": {
                          "fillmode": "overlay",
                          "size": 10,
                          "solidity": 0.2
                        },
                        "type": "scatter"
                      }
                    ],
                    "scatter3d": [
                      {
                        "line": {
                          "colorbar": {
                            "outlinewidth": 0,
                            "ticks": ""
                          }
                        },
                        "marker": {
                          "colorbar": {
                            "outlinewidth": 0,
                            "ticks": ""
                          }
                        },
                        "type": "scatter3d"
                      }
                    ],
                    "scattercarpet": [
                      {
                        "marker": {
                          "colorbar": {
                            "outlinewidth": 0,
                            "ticks": ""
                          }
                        },
                        "type": "scattercarpet"
                      }
                    ],
                    "scattergeo": [
                      {
                        "marker": {
                          "colorbar": {
                            "outlinewidth": 0,
                            "ticks": ""
                          }
                        },
                        "type": "scattergeo"
                      }
                    ],
                    "scattergl": [
                      {
                        "marker": {
                          "colorbar": {
                            "outlinewidth": 0,
                            "ticks": ""
                          }
                        },
                        "type": "scattergl"
                      }
                    ],
                    "scattermapbox": [
                      {
                        "marker": {
                          "colorbar": {
                            "outlinewidth": 0,
                            "ticks": ""
                          }
                        },
                        "type": "scattermapbox"
                      }
                    ],
                    "scatterpolar": [
                      {
                        "marker": {
                          "colorbar": {
                            "outlinewidth": 0,
                            "ticks": ""
                          }
                        },
                        "type": "scatterpolar"
                      }
                    ],
                    "scatterpolargl": [
                      {
                        "marker": {
                          "colorbar": {
                            "outlinewidth": 0,
                            "ticks": ""
                          }
                        },
                        "type": "scatterpolargl"
                      }
                    ],
                    "scatterternary": [
                      {
                        "marker": {
                          "colorbar": {
                            "outlinewidth": 0,
                            "ticks": ""
                          }
                        },
                        "type": "scatterternary"
                      }
                    ],
                    "surface": [
                      {
                        "colorbar": {
                          "outlinewidth": 0,
                          "ticks": ""
                        },
                        "colorscale": [
                          [
                            0,
                            "#0d0887"
                          ],
                          [
                            0.1111111111111111,
                            "#46039f"
                          ],
                          [
                            0.2222222222222222,
                            "#7201a8"
                          ],
                          [
                            0.3333333333333333,
                            "#9c179e"
                          ],
                          [
                            0.4444444444444444,
                            "#bd3786"
                          ],
                          [
                            0.5555555555555556,
                            "#d8576b"
                          ],
                          [
                            0.6666666666666666,
                            "#ed7953"
                          ],
                          [
                            0.7777777777777778,
                            "#fb9f3a"
                          ],
                          [
                            0.8888888888888888,
                            "#fdca26"
                          ],
                          [
                            1,
                            "#f0f921"
                          ]
                        ],
                        "type": "surface"
                      }
                    ],
                    "table": [
                      {
                        "cells": {
                          "fill": {
                            "color": "#EBF0F8"
                          },
                          "line": {
                            "color": "white"
                          }
                        },
                        "header": {
                          "fill": {
                            "color": "#C8D4E3"
                          },
                          "line": {
                            "color": "white"
                          }
                        },
                        "type": "table"
                      }
                    ]
                  },
                  "layout": {
                    "annotationdefaults": {
                      "arrowcolor": "#2a3f5f",
                      "arrowhead": 0,
                      "arrowwidth": 1
                    },
                    "autotypenumbers": "strict",
                    "coloraxis": {
                      "colorbar": {
                        "outlinewidth": 0,
                        "ticks": ""
                      }
                    },
                    "colorscale": {
                      "diverging": [
                        [
                          0,
                          "#8e0152"
                        ],
                        [
                          0.1,
                          "#c51b7d"
                        ],
                        [
                          0.2,
                          "#de77ae"
                        ],
                        [
                          0.3,
                          "#f1b6da"
                        ],
                        [
                          0.4,
                          "#fde0ef"
                        ],
                        [
                          0.5,
                          "#f7f7f7"
                        ],
                        [
                          0.6,
                          "#e6f5d0"
                        ],
                        [
                          0.7,
                          "#b8e186"
                        ],
                        [
                          0.8,
                          "#7fbc41"
                        ],
                        [
                          0.9,
                          "#4d9221"
                        ],
                        [
                          1,
                          "#276419"
                        ]
                      ],
                      "sequential": [
                        [
                          0,
                          "#0d0887"
                        ],
                        [
                          0.1111111111111111,
                          "#46039f"
                        ],
                        [
                          0.2222222222222222,
                          "#7201a8"
                        ],
                        [
                          0.3333333333333333,
                          "#9c179e"
                        ],
                        [
                          0.4444444444444444,
                          "#bd3786"
                        ],
                        [
                          0.5555555555555556,
                          "#d8576b"
                        ],
                        [
                          0.6666666666666666,
                          "#ed7953"
                        ],
                        [
                          0.7777777777777778,
                          "#fb9f3a"
                        ],
                        [
                          0.8888888888888888,
                          "#fdca26"
                        ],
                        [
                          1,
                          "#f0f921"
                        ]
                      ],
                      "sequentialminus": [
                        [
                          0,
                          "#0d0887"
                        ],
                        [
                          0.1111111111111111,
                          "#46039f"
                        ],
                        [
                          0.2222222222222222,
                          "#7201a8"
                        ],
                        [
                          0.3333333333333333,
                          "#9c179e"
                        ],
                        [
                          0.4444444444444444,
                          "#bd3786"
                        ],
                        [
                          0.5555555555555556,
                          "#d8576b"
                        ],
                        [
                          0.6666666666666666,
                          "#ed7953"
                        ],
                        [
                          0.7777777777777778,
                          "#fb9f3a"
                        ],
                        [
                          0.8888888888888888,
                          "#fdca26"
                        ],
                        [
                          1,
                          "#f0f921"
                        ]
                      ]
                    },
                    "colorway": [
                      "#636efa",
                      "#EF553B",
                      "#00cc96",
                      "#ab63fa",
                      "#FFA15A",
                      "#19d3f3",
                      "#FF6692",
                      "#B6E880",
                      "#FF97FF",
                      "#FECB52"
                    ],
                    "font": {
                      "color": "#2a3f5f"
                    },
                    "geo": {
                      "bgcolor": "white",
                      "lakecolor": "white",
                      "landcolor": "#E5ECF6",
                      "showlakes": true,
                      "showland": true,
                      "subunitcolor": "white"
                    },
                    "hoverlabel": {
                      "align": "left"
                    },
                    "hovermode": "closest",
                    "mapbox": {
                      "style": "light"
                    },
                    "paper_bgcolor": "white",
                    "plot_bgcolor": "#E5ECF6",
                    "polar": {
                      "angularaxis": {
                        "gridcolor": "white",
                        "linecolor": "white",
                        "ticks": ""
                      },
                      "bgcolor": "#E5ECF6",
                      "radialaxis": {
                        "gridcolor": "white",
                        "linecolor": "white",
                        "ticks": ""
                      }
                    },
                    "scene": {
                      "xaxis": {
                        "backgroundcolor": "#E5ECF6",
                        "gridcolor": "white",
                        "gridwidth": 2,
                        "linecolor": "white",
                        "showbackground": true,
                        "ticks": "",
                        "zerolinecolor": "white"
                      },
                      "yaxis": {
                        "backgroundcolor": "#E5ECF6",
                        "gridcolor": "white",
                        "gridwidth": 2,
                        "linecolor": "white",
                        "showbackground": true,
                        "ticks": "",
                        "zerolinecolor": "white"
                      },
                      "zaxis": {
                        "backgroundcolor": "#E5ECF6",
                        "gridcolor": "white",
                        "gridwidth": 2,
                        "linecolor": "white",
                        "showbackground": true,
                        "ticks": "",
                        "zerolinecolor": "white"
                      }
                    },
                    "shapedefaults": {
                      "line": {
                        "color": "#2a3f5f"
                      }
                    },
                    "ternary": {
                      "aaxis": {
                        "gridcolor": "white",
                        "linecolor": "white",
                        "ticks": ""
                      },
                      "baxis": {
                        "gridcolor": "white",
                        "linecolor": "white",
                        "ticks": ""
                      },
                      "bgcolor": "#E5ECF6",
                      "caxis": {
                        "gridcolor": "white",
                        "linecolor": "white",
                        "ticks": ""
                      }
                    },
                    "title": {
                      "x": 0.05
                    },
                    "xaxis": {
                      "automargin": true,
                      "gridcolor": "white",
                      "linecolor": "white",
                      "ticks": "",
                      "title": {
                        "standoff": 15
                      },
                      "zerolinecolor": "white",
                      "zerolinewidth": 2
                    },
                    "yaxis": {
                      "automargin": true,
                      "gridcolor": "white",
                      "linecolor": "white",
                      "ticks": "",
                      "title": {
                        "standoff": 15
                      },
                      "zerolinecolor": "white",
                      "zerolinewidth": 2
                    }
                  }
                },
                "xaxis": {
                  "anchor": "y",
                  "domain": [
                    0,
                    1
                  ],
                  "title": {
                    "text": "x"
                  }
                },
                "yaxis": {
                  "anchor": "x",
                  "domain": [
                    0,
                    1
                  ],
                  "title": {
                    "text": "y"
                  }
                }
              }
            }
          },
          "metadata": {},
          "output_type": "display_data"
        }
      ],
      "source": [
        "grafico_centroide = px.scatter(x = base_completa['peso'],\n",
        "                                y = base_completa['colesterol'],\n",
        "                                color= base_completa['cluster'])\n",
        "grafico_centroide.add_scatter(x=centroides_cluster[:,0], y=centroides_cluster[:,1], mode=\"markers\",\n",
        "                marker=dict(size=7, color=\"LightSeaGreen\"))"
      ]
    },
    {
      "cell_type": "code",
      "execution_count": 168,
      "metadata": {},
      "outputs": [],
      "source": [
        "def plotar_grafico(X, Y, cluster_labels, xlabel, ylabel):\n",
        "    grafico = px.scatter(x=X, y=Y, color=cluster_labels)\n",
        "\n",
        "    grafico.add_scatter(x=centroides_cluster[:,0], y=centroides_cluster[:,1], mode=\"markers\",\n",
        "                marker=dict(size=17, color=\"LightSeaGreen\"))\n",
        "\n",
        "    fig = go.Figure(grafico)\n",
        "    fig.update_layout(title='Análise de Clusters',\n",
        "                    xaxis_title=xlabel,\n",
        "                    yaxis_title=ylabel)\n",
        "    fig.show()\n"
      ]
    },
    {
      "attachments": {},
      "cell_type": "markdown",
      "metadata": {},
      "source": [
        "# Segmentando"
      ]
    },
    {
      "cell_type": "code",
      "execution_count": 169,
      "metadata": {},
      "outputs": [
        {
          "data": {
            "application/vnd.plotly.v1+json": {
              "config": {
                "plotlyServerURL": "https://plot.ly"
              },
              "data": [
                {
                  "hovertemplate": "x=%{x}<br>y=%{y}<br>color=%{marker.color}<extra></extra>",
                  "legendgroup": "",
                  "marker": {
                    "color": [
                      0,
                      1,
                      0,
                      1,
                      1,
                      0,
                      1,
                      0,
                      0,
                      1,
                      2,
                      2,
                      0,
                      1,
                      2,
                      0,
                      0,
                      0,
                      1,
                      2,
                      1,
                      1,
                      2,
                      0,
                      2,
                      2,
                      2,
                      0,
                      2,
                      2,
                      1,
                      2,
                      0,
                      0,
                      0,
                      0,
                      2,
                      0,
                      2,
                      0,
                      0,
                      0,
                      2,
                      0,
                      0,
                      0,
                      0,
                      2,
                      2,
                      0,
                      2,
                      0,
                      2,
                      2,
                      0,
                      1,
                      2,
                      0,
                      1,
                      1,
                      0,
                      0,
                      1,
                      2,
                      1,
                      0,
                      1,
                      0,
                      0,
                      1,
                      0,
                      2,
                      2,
                      2,
                      2,
                      0,
                      1,
                      1,
                      1,
                      2,
                      1,
                      2,
                      0,
                      2,
                      2,
                      1,
                      1,
                      0,
                      2,
                      0,
                      2,
                      1,
                      2,
                      1,
                      1,
                      1,
                      1,
                      2,
                      1,
                      0,
                      1,
                      1,
                      1,
                      1,
                      2,
                      2,
                      0,
                      2,
                      0,
                      0,
                      1,
                      1,
                      2,
                      2,
                      0,
                      1,
                      1,
                      0,
                      1,
                      0,
                      1,
                      0,
                      1,
                      2,
                      0,
                      2,
                      0,
                      2,
                      2,
                      2,
                      0,
                      2,
                      2,
                      2,
                      1,
                      0,
                      2,
                      2,
                      1,
                      1,
                      0,
                      0,
                      0,
                      1,
                      1,
                      2,
                      1,
                      0,
                      0,
                      2,
                      1,
                      1,
                      2,
                      0,
                      1,
                      0,
                      0,
                      0,
                      0,
                      1,
                      1,
                      0,
                      0,
                      2,
                      1,
                      1,
                      2,
                      2,
                      2,
                      2,
                      0,
                      0,
                      2,
                      1,
                      0,
                      2,
                      2,
                      0,
                      1,
                      2,
                      2,
                      0,
                      1,
                      1,
                      2,
                      1,
                      1,
                      0,
                      0,
                      2,
                      1,
                      2,
                      1,
                      2,
                      2,
                      2,
                      2,
                      2,
                      1,
                      2,
                      0,
                      0,
                      1,
                      0,
                      2,
                      2,
                      0,
                      1,
                      1,
                      0,
                      1,
                      2,
                      1,
                      2,
                      2,
                      2,
                      2,
                      0,
                      0,
                      1,
                      2,
                      0,
                      0,
                      1,
                      1,
                      1,
                      0,
                      0,
                      2,
                      2,
                      0,
                      1,
                      1,
                      1,
                      1,
                      1,
                      1,
                      2,
                      0,
                      0,
                      2,
                      0,
                      0,
                      2,
                      1,
                      2,
                      0,
                      1,
                      0,
                      0,
                      1,
                      1,
                      0,
                      2,
                      0,
                      0,
                      1,
                      1,
                      0,
                      0,
                      2,
                      0,
                      1,
                      1,
                      2,
                      2,
                      1,
                      2,
                      1,
                      2,
                      2,
                      2,
                      0,
                      1,
                      2,
                      0,
                      2,
                      1,
                      2,
                      2,
                      1,
                      0,
                      0,
                      0,
                      2,
                      1,
                      0,
                      0,
                      1,
                      1,
                      0,
                      2,
                      2,
                      2,
                      2,
                      2,
                      2,
                      2,
                      2,
                      0,
                      2,
                      0,
                      0,
                      1,
                      2,
                      1,
                      2,
                      1,
                      2,
                      0,
                      0,
                      0,
                      2,
                      1,
                      1,
                      0,
                      2,
                      1,
                      0,
                      0,
                      2,
                      2,
                      0,
                      2,
                      0,
                      1,
                      0,
                      0,
                      0,
                      1,
                      2,
                      1,
                      2,
                      1,
                      1,
                      0,
                      0,
                      2,
                      1,
                      1,
                      2,
                      2,
                      2,
                      2,
                      2,
                      2,
                      2,
                      1,
                      1,
                      2,
                      0,
                      1,
                      0,
                      0,
                      2,
                      2,
                      2,
                      1,
                      2,
                      0,
                      0,
                      0,
                      0,
                      0,
                      1,
                      1,
                      0,
                      1,
                      0,
                      2,
                      1,
                      2,
                      0,
                      1,
                      2,
                      0,
                      1,
                      2,
                      2,
                      0,
                      2,
                      1,
                      0,
                      0,
                      0,
                      1,
                      1,
                      2,
                      1,
                      1,
                      0,
                      1,
                      2,
                      0,
                      0,
                      0,
                      2,
                      1,
                      1,
                      1,
                      2,
                      1,
                      0,
                      0,
                      1,
                      0,
                      1,
                      0,
                      0,
                      1,
                      2,
                      1,
                      0,
                      0,
                      2,
                      1,
                      2,
                      2,
                      2,
                      0,
                      1,
                      0,
                      0,
                      1,
                      2,
                      1,
                      1,
                      0,
                      2,
                      0,
                      1,
                      1,
                      0,
                      1,
                      1,
                      0,
                      0,
                      0,
                      0,
                      1,
                      2,
                      1,
                      1,
                      1,
                      0,
                      1,
                      1,
                      0,
                      1,
                      1,
                      0,
                      0,
                      2,
                      0,
                      1,
                      1,
                      0,
                      1,
                      0,
                      2,
                      2,
                      1,
                      0,
                      1,
                      0,
                      1,
                      0,
                      0,
                      2,
                      2,
                      2,
                      2,
                      0,
                      0,
                      0,
                      2,
                      0,
                      1,
                      0,
                      0,
                      0,
                      1,
                      2,
                      0,
                      1,
                      0,
                      1,
                      0,
                      1,
                      2,
                      1,
                      2,
                      1,
                      1,
                      1,
                      1,
                      1,
                      1
                    ],
                    "coloraxis": "coloraxis",
                    "symbol": "circle"
                  },
                  "mode": "markers",
                  "name": "",
                  "orientation": "v",
                  "showlegend": false,
                  "type": "scatter",
                  "x": [
                    102,
                    149,
                    113,
                    134,
                    133,
                    115,
                    146,
                    125,
                    124,
                    127,
                    183,
                    199,
                    115,
                    151,
                    200,
                    120,
                    125,
                    115,
                    156,
                    183,
                    128,
                    157,
                    170,
                    113,
                    192,
                    183,
                    173,
                    109,
                    176,
                    195,
                    132,
                    168,
                    119,
                    110,
                    117,
                    100,
                    200,
                    105,
                    162,
                    115,
                    117,
                    105,
                    164,
                    119,
                    113,
                    101,
                    105,
                    203,
                    186,
                    120,
                    200,
                    111,
                    188,
                    190,
                    99,
                    129,
                    186,
                    111,
                    151,
                    151,
                    104,
                    113,
                    154,
                    185,
                    130,
                    114,
                    130,
                    115,
                    121,
                    126,
                    100,
                    159,
                    180,
                    197,
                    185,
                    119,
                    158,
                    140,
                    138,
                    182,
                    132,
                    167,
                    122,
                    198,
                    169,
                    124,
                    150,
                    96,
                    195,
                    115,
                    191,
                    133,
                    191,
                    140,
                    154,
                    149,
                    141,
                    192,
                    134,
                    97,
                    148,
                    145,
                    125,
                    156,
                    181,
                    181,
                    120,
                    176,
                    102,
                    110,
                    153,
                    141,
                    190,
                    191,
                    100,
                    150,
                    137,
                    103,
                    133,
                    106,
                    158,
                    98,
                    145,
                    196,
                    114,
                    192,
                    101,
                    181,
                    189,
                    171,
                    103,
                    186,
                    188,
                    178,
                    139,
                    102,
                    176,
                    203,
                    141,
                    141,
                    97,
                    100,
                    102,
                    153,
                    137,
                    183,
                    142,
                    118,
                    115,
                    184,
                    137,
                    148,
                    171,
                    119,
                    157,
                    107,
                    104,
                    109,
                    95,
                    138,
                    128,
                    121,
                    103,
                    180,
                    124,
                    156,
                    185,
                    191,
                    180,
                    197,
                    109,
                    104,
                    171,
                    151,
                    126,
                    188,
                    158,
                    96,
                    152,
                    195,
                    166,
                    122,
                    142,
                    154,
                    198,
                    154,
                    154,
                    105,
                    107,
                    203,
                    145,
                    180,
                    128,
                    203,
                    178,
                    174,
                    197,
                    168,
                    129,
                    186,
                    123,
                    100,
                    128,
                    113,
                    169,
                    176,
                    104,
                    146,
                    128,
                    108,
                    134,
                    180,
                    157,
                    194,
                    189,
                    168,
                    193,
                    123,
                    124,
                    156,
                    200,
                    117,
                    108,
                    158,
                    150,
                    132,
                    100,
                    108,
                    199,
                    172,
                    121,
                    155,
                    150,
                    136,
                    133,
                    153,
                    144,
                    185,
                    120,
                    105,
                    186,
                    100,
                    107,
                    191,
                    132,
                    182,
                    113,
                    129,
                    116,
                    111,
                    141,
                    131,
                    107,
                    183,
                    100,
                    120,
                    158,
                    154,
                    116,
                    100,
                    201,
                    111,
                    149,
                    134,
                    190,
                    196,
                    159,
                    199,
                    130,
                    174,
                    192,
                    175,
                    111,
                    146,
                    181,
                    101,
                    177,
                    154,
                    184,
                    167,
                    126,
                    98,
                    115,
                    111,
                    176,
                    127,
                    114,
                    123,
                    140,
                    137,
                    113,
                    179,
                    167,
                    171,
                    184,
                    161,
                    173,
                    184,
                    171,
                    117,
                    180,
                    121,
                    101,
                    151,
                    172,
                    152,
                    183,
                    129,
                    180,
                    124,
                    103,
                    116,
                    187,
                    135,
                    128,
                    110,
                    160,
                    140,
                    109,
                    98,
                    192,
                    179,
                    118,
                    179,
                    119,
                    142,
                    115,
                    116,
                    108,
                    150,
                    187,
                    146,
                    179,
                    150,
                    142,
                    116,
                    104,
                    171,
                    150,
                    134,
                    169,
                    182,
                    194,
                    177,
                    172,
                    175,
                    180,
                    131,
                    138,
                    190,
                    106,
                    148,
                    97,
                    114,
                    181,
                    187,
                    180,
                    153,
                    170,
                    110,
                    123,
                    107,
                    96,
                    101,
                    158,
                    127,
                    100,
                    147,
                    109,
                    171,
                    132,
                    181,
                    117,
                    149,
                    185,
                    97,
                    152,
                    168,
                    168,
                    126,
                    201,
                    127,
                    116,
                    117,
                    104,
                    154,
                    134,
                    172,
                    157,
                    137,
                    106,
                    135,
                    188,
                    103,
                    116,
                    99,
                    173,
                    127,
                    150,
                    151,
                    166,
                    145,
                    102,
                    116,
                    154,
                    106,
                    131,
                    113,
                    118,
                    154,
                    187,
                    141,
                    125,
                    110,
                    160,
                    132,
                    187,
                    188,
                    172,
                    96,
                    149,
                    118,
                    122,
                    145,
                    174,
                    128,
                    155,
                    122,
                    184,
                    107,
                    129,
                    134,
                    110,
                    132,
                    143,
                    112,
                    110,
                    104,
                    103,
                    135,
                    161,
                    148,
                    147,
                    134,
                    119,
                    145,
                    127,
                    118,
                    140,
                    133,
                    113,
                    108,
                    196,
                    112,
                    157,
                    156,
                    108,
                    134,
                    112,
                    196,
                    171,
                    132,
                    119,
                    158,
                    118,
                    128,
                    101,
                    117,
                    188,
                    203,
                    174,
                    168,
                    117,
                    106,
                    110,
                    166,
                    103,
                    140,
                    97,
                    107,
                    97,
                    129,
                    203,
                    117,
                    154,
                    112,
                    155,
                    123,
                    126,
                    181,
                    125,
                    182,
                    145,
                    134,
                    144,
                    142,
                    153,
                    152
                  ],
                  "xaxis": "x",
                  "y": [
                    111,
                    183,
                    129,
                    162,
                    155,
                    135,
                    179,
                    148,
                    151,
                    152,
                    214,
                    232,
                    131,
                    190,
                    232,
                    142,
                    149,
                    135,
                    192,
                    218,
                    154,
                    196,
                    208,
                    130,
                    228,
                    213,
                    208,
                    127,
                    212,
                    231,
                    159,
                    211,
                    145,
                    124,
                    133,
                    110,
                    228,
                    113,
                    196,
                    136,
                    139,
                    118,
                    197,
                    141,
                    130,
                    110,
                    116,
                    232,
                    220,
                    143,
                    232,
                    129,
                    220,
                    226,
                    106,
                    157,
                    219,
                    126,
                    183,
                    186,
                    116,
                    124,
                    190,
                    226,
                    158,
                    131,
                    158,
                    138,
                    143,
                    152,
                    107,
                    202,
                    212,
                    224,
                    219,
                    144,
                    189,
                    167,
                    169,
                    221,
                    162,
                    200,
                    143,
                    227,
                    204,
                    152,
                    185,
                    105,
                    222,
                    132,
                    222,
                    164,
                    222,
                    173,
                    187,
                    184,
                    168,
                    224,
                    169,
                    108,
                    176,
                    176,
                    152,
                    195,
                    214,
                    219,
                    138,
                    208,
                    114,
                    124,
                    188,
                    170,
                    222,
                    223,
                    107,
                    180,
                    163,
                    115,
                    158,
                    114,
                    190,
                    105,
                    169,
                    227,
                    136,
                    226,
                    110,
                    222,
                    223,
                    205,
                    113,
                    221,
                    222,
                    213,
                    167,
                    115,
                    209,
                    231,
                    172,
                    172,
                    112,
                    110,
                    116,
                    190,
                    167,
                    212,
                    170,
                    133,
                    134,
                    225,
                    167,
                    174,
                    205,
                    139,
                    194,
                    115,
                    116,
                    125,
                    102,
                    167,
                    156,
                    142,
                    107,
                    213,
                    152,
                    194,
                    221,
                    226,
                    220,
                    232,
                    122,
                    109,
                    211,
                    178,
                    147,
                    224,
                    201,
                    102,
                    189,
                    225,
                    203,
                    146,
                    169,
                    184,
                    227,
                    189,
                    187,
                    116,
                    115,
                    233,
                    174,
                    215,
                    155,
                    234,
                    213,
                    208,
                    225,
                    204,
                    157,
                    221,
                    146,
                    106,
                    151,
                    132,
                    199,
                    211,
                    113,
                    179,
                    156,
                    122,
                    158,
                    216,
                    191,
                    227,
                    223,
                    204,
                    224,
                    147,
                    148,
                    195,
                    233,
                    142,
                    121,
                    195,
                    191,
                    161,
                    110,
                    120,
                    227,
                    205,
                    145,
                    196,
                    178,
                    169,
                    163,
                    189,
                    172,
                    220,
                    139,
                    108,
                    224,
                    110,
                    126,
                    226,
                    166,
                    218,
                    128,
                    162,
                    144,
                    126,
                    174,
                    165,
                    122,
                    219,
                    106,
                    144,
                    196,
                    191,
                    138,
                    102,
                    235,
                    128,
                    183,
                    167,
                    223,
                    228,
                    193,
                    228,
                    158,
                    209,
                    224,
                    214,
                    123,
                    181,
                    214,
                    108,
                    217,
                    190,
                    226,
                    199,
                    154,
                    106,
                    139,
                    130,
                    216,
                    150,
                    133,
                    149,
                    168,
                    166,
                    131,
                    214,
                    204,
                    212,
                    222,
                    201,
                    211,
                    220,
                    204,
                    141,
                    218,
                    146,
                    109,
                    184,
                    210,
                    193,
                    218,
                    155,
                    216,
                    149,
                    116,
                    136,
                    222,
                    170,
                    156,
                    119,
                    202,
                    166,
                    129,
                    107,
                    225,
                    217,
                    135,
                    211,
                    138,
                    175,
                    137,
                    130,
                    123,
                    185,
                    221,
                    177,
                    216,
                    179,
                    168,
                    136,
                    108,
                    205,
                    182,
                    160,
                    204,
                    222,
                    224,
                    214,
                    205,
                    215,
                    219,
                    159,
                    171,
                    222,
                    122,
                    177,
                    104,
                    132,
                    224,
                    225,
                    219,
                    191,
                    204,
                    128,
                    145,
                    121,
                    108,
                    105,
                    198,
                    151,
                    110,
                    180,
                    116,
                    212,
                    159,
                    217,
                    147,
                    183,
                    220,
                    106,
                    195,
                    201,
                    204,
                    149,
                    228,
                    156,
                    141,
                    129,
                    109,
                    192,
                    163,
                    211,
                    194,
                    169,
                    118,
                    166,
                    226,
                    117,
                    139,
                    105,
                    212,
                    159,
                    178,
                    188,
                    199,
                    175,
                    111,
                    139,
                    189,
                    120,
                    162,
                    128,
                    129,
                    185,
                    226,
                    176,
                    150,
                    128,
                    199,
                    166,
                    220,
                    221,
                    207,
                    105,
                    185,
                    140,
                    145,
                    173,
                    214,
                    160,
                    185,
                    144,
                    222,
                    120,
                    157,
                    164,
                    128,
                    163,
                    168,
                    133,
                    127,
                    116,
                    111,
                    170,
                    199,
                    176,
                    172,
                    159,
                    146,
                    171,
                    155,
                    133,
                    173,
                    158,
                    129,
                    127,
                    232,
                    134,
                    194,
                    191,
                    123,
                    158,
                    124,
                    225,
                    211,
                    165,
                    141,
                    193,
                    131,
                    153,
                    112,
                    140,
                    223,
                    228,
                    208,
                    199,
                    138,
                    115,
                    120,
                    200,
                    110,
                    168,
                    106,
                    117,
                    104,
                    156,
                    235,
                    134,
                    195,
                    127,
                    191,
                    151,
                    152,
                    216,
                    154,
                    218,
                    176,
                    168,
                    171,
                    172,
                    192,
                    178
                  ],
                  "yaxis": "y"
                },
                {
                  "marker": {
                    "color": "LightSeaGreen",
                    "size": 17
                  },
                  "mode": "markers",
                  "type": "scatter",
                  "x": [
                    110.42857142857139,
                    141.97575757575757,
                    182.25316455696196
                  ],
                  "y": [
                    125.91428571428561,
                    173.16363636363636,
                    217.04430379746827
                  ]
                }
              ],
              "layout": {
                "coloraxis": {
                  "colorbar": {
                    "title": {
                      "text": "color"
                    }
                  },
                  "colorscale": [
                    [
                      0,
                      "#0d0887"
                    ],
                    [
                      0.1111111111111111,
                      "#46039f"
                    ],
                    [
                      0.2222222222222222,
                      "#7201a8"
                    ],
                    [
                      0.3333333333333333,
                      "#9c179e"
                    ],
                    [
                      0.4444444444444444,
                      "#bd3786"
                    ],
                    [
                      0.5555555555555556,
                      "#d8576b"
                    ],
                    [
                      0.6666666666666666,
                      "#ed7953"
                    ],
                    [
                      0.7777777777777778,
                      "#fb9f3a"
                    ],
                    [
                      0.8888888888888888,
                      "#fdca26"
                    ],
                    [
                      1,
                      "#f0f921"
                    ]
                  ]
                },
                "legend": {
                  "tracegroupgap": 0
                },
                "margin": {
                  "t": 60
                },
                "template": {
                  "data": {
                    "bar": [
                      {
                        "error_x": {
                          "color": "#2a3f5f"
                        },
                        "error_y": {
                          "color": "#2a3f5f"
                        },
                        "marker": {
                          "line": {
                            "color": "#E5ECF6",
                            "width": 0.5
                          },
                          "pattern": {
                            "fillmode": "overlay",
                            "size": 10,
                            "solidity": 0.2
                          }
                        },
                        "type": "bar"
                      }
                    ],
                    "barpolar": [
                      {
                        "marker": {
                          "line": {
                            "color": "#E5ECF6",
                            "width": 0.5
                          },
                          "pattern": {
                            "fillmode": "overlay",
                            "size": 10,
                            "solidity": 0.2
                          }
                        },
                        "type": "barpolar"
                      }
                    ],
                    "carpet": [
                      {
                        "aaxis": {
                          "endlinecolor": "#2a3f5f",
                          "gridcolor": "white",
                          "linecolor": "white",
                          "minorgridcolor": "white",
                          "startlinecolor": "#2a3f5f"
                        },
                        "baxis": {
                          "endlinecolor": "#2a3f5f",
                          "gridcolor": "white",
                          "linecolor": "white",
                          "minorgridcolor": "white",
                          "startlinecolor": "#2a3f5f"
                        },
                        "type": "carpet"
                      }
                    ],
                    "choropleth": [
                      {
                        "colorbar": {
                          "outlinewidth": 0,
                          "ticks": ""
                        },
                        "type": "choropleth"
                      }
                    ],
                    "contour": [
                      {
                        "colorbar": {
                          "outlinewidth": 0,
                          "ticks": ""
                        },
                        "colorscale": [
                          [
                            0,
                            "#0d0887"
                          ],
                          [
                            0.1111111111111111,
                            "#46039f"
                          ],
                          [
                            0.2222222222222222,
                            "#7201a8"
                          ],
                          [
                            0.3333333333333333,
                            "#9c179e"
                          ],
                          [
                            0.4444444444444444,
                            "#bd3786"
                          ],
                          [
                            0.5555555555555556,
                            "#d8576b"
                          ],
                          [
                            0.6666666666666666,
                            "#ed7953"
                          ],
                          [
                            0.7777777777777778,
                            "#fb9f3a"
                          ],
                          [
                            0.8888888888888888,
                            "#fdca26"
                          ],
                          [
                            1,
                            "#f0f921"
                          ]
                        ],
                        "type": "contour"
                      }
                    ],
                    "contourcarpet": [
                      {
                        "colorbar": {
                          "outlinewidth": 0,
                          "ticks": ""
                        },
                        "type": "contourcarpet"
                      }
                    ],
                    "heatmap": [
                      {
                        "colorbar": {
                          "outlinewidth": 0,
                          "ticks": ""
                        },
                        "colorscale": [
                          [
                            0,
                            "#0d0887"
                          ],
                          [
                            0.1111111111111111,
                            "#46039f"
                          ],
                          [
                            0.2222222222222222,
                            "#7201a8"
                          ],
                          [
                            0.3333333333333333,
                            "#9c179e"
                          ],
                          [
                            0.4444444444444444,
                            "#bd3786"
                          ],
                          [
                            0.5555555555555556,
                            "#d8576b"
                          ],
                          [
                            0.6666666666666666,
                            "#ed7953"
                          ],
                          [
                            0.7777777777777778,
                            "#fb9f3a"
                          ],
                          [
                            0.8888888888888888,
                            "#fdca26"
                          ],
                          [
                            1,
                            "#f0f921"
                          ]
                        ],
                        "type": "heatmap"
                      }
                    ],
                    "heatmapgl": [
                      {
                        "colorbar": {
                          "outlinewidth": 0,
                          "ticks": ""
                        },
                        "colorscale": [
                          [
                            0,
                            "#0d0887"
                          ],
                          [
                            0.1111111111111111,
                            "#46039f"
                          ],
                          [
                            0.2222222222222222,
                            "#7201a8"
                          ],
                          [
                            0.3333333333333333,
                            "#9c179e"
                          ],
                          [
                            0.4444444444444444,
                            "#bd3786"
                          ],
                          [
                            0.5555555555555556,
                            "#d8576b"
                          ],
                          [
                            0.6666666666666666,
                            "#ed7953"
                          ],
                          [
                            0.7777777777777778,
                            "#fb9f3a"
                          ],
                          [
                            0.8888888888888888,
                            "#fdca26"
                          ],
                          [
                            1,
                            "#f0f921"
                          ]
                        ],
                        "type": "heatmapgl"
                      }
                    ],
                    "histogram": [
                      {
                        "marker": {
                          "pattern": {
                            "fillmode": "overlay",
                            "size": 10,
                            "solidity": 0.2
                          }
                        },
                        "type": "histogram"
                      }
                    ],
                    "histogram2d": [
                      {
                        "colorbar": {
                          "outlinewidth": 0,
                          "ticks": ""
                        },
                        "colorscale": [
                          [
                            0,
                            "#0d0887"
                          ],
                          [
                            0.1111111111111111,
                            "#46039f"
                          ],
                          [
                            0.2222222222222222,
                            "#7201a8"
                          ],
                          [
                            0.3333333333333333,
                            "#9c179e"
                          ],
                          [
                            0.4444444444444444,
                            "#bd3786"
                          ],
                          [
                            0.5555555555555556,
                            "#d8576b"
                          ],
                          [
                            0.6666666666666666,
                            "#ed7953"
                          ],
                          [
                            0.7777777777777778,
                            "#fb9f3a"
                          ],
                          [
                            0.8888888888888888,
                            "#fdca26"
                          ],
                          [
                            1,
                            "#f0f921"
                          ]
                        ],
                        "type": "histogram2d"
                      }
                    ],
                    "histogram2dcontour": [
                      {
                        "colorbar": {
                          "outlinewidth": 0,
                          "ticks": ""
                        },
                        "colorscale": [
                          [
                            0,
                            "#0d0887"
                          ],
                          [
                            0.1111111111111111,
                            "#46039f"
                          ],
                          [
                            0.2222222222222222,
                            "#7201a8"
                          ],
                          [
                            0.3333333333333333,
                            "#9c179e"
                          ],
                          [
                            0.4444444444444444,
                            "#bd3786"
                          ],
                          [
                            0.5555555555555556,
                            "#d8576b"
                          ],
                          [
                            0.6666666666666666,
                            "#ed7953"
                          ],
                          [
                            0.7777777777777778,
                            "#fb9f3a"
                          ],
                          [
                            0.8888888888888888,
                            "#fdca26"
                          ],
                          [
                            1,
                            "#f0f921"
                          ]
                        ],
                        "type": "histogram2dcontour"
                      }
                    ],
                    "mesh3d": [
                      {
                        "colorbar": {
                          "outlinewidth": 0,
                          "ticks": ""
                        },
                        "type": "mesh3d"
                      }
                    ],
                    "parcoords": [
                      {
                        "line": {
                          "colorbar": {
                            "outlinewidth": 0,
                            "ticks": ""
                          }
                        },
                        "type": "parcoords"
                      }
                    ],
                    "pie": [
                      {
                        "automargin": true,
                        "type": "pie"
                      }
                    ],
                    "scatter": [
                      {
                        "fillpattern": {
                          "fillmode": "overlay",
                          "size": 10,
                          "solidity": 0.2
                        },
                        "type": "scatter"
                      }
                    ],
                    "scatter3d": [
                      {
                        "line": {
                          "colorbar": {
                            "outlinewidth": 0,
                            "ticks": ""
                          }
                        },
                        "marker": {
                          "colorbar": {
                            "outlinewidth": 0,
                            "ticks": ""
                          }
                        },
                        "type": "scatter3d"
                      }
                    ],
                    "scattercarpet": [
                      {
                        "marker": {
                          "colorbar": {
                            "outlinewidth": 0,
                            "ticks": ""
                          }
                        },
                        "type": "scattercarpet"
                      }
                    ],
                    "scattergeo": [
                      {
                        "marker": {
                          "colorbar": {
                            "outlinewidth": 0,
                            "ticks": ""
                          }
                        },
                        "type": "scattergeo"
                      }
                    ],
                    "scattergl": [
                      {
                        "marker": {
                          "colorbar": {
                            "outlinewidth": 0,
                            "ticks": ""
                          }
                        },
                        "type": "scattergl"
                      }
                    ],
                    "scattermapbox": [
                      {
                        "marker": {
                          "colorbar": {
                            "outlinewidth": 0,
                            "ticks": ""
                          }
                        },
                        "type": "scattermapbox"
                      }
                    ],
                    "scatterpolar": [
                      {
                        "marker": {
                          "colorbar": {
                            "outlinewidth": 0,
                            "ticks": ""
                          }
                        },
                        "type": "scatterpolar"
                      }
                    ],
                    "scatterpolargl": [
                      {
                        "marker": {
                          "colorbar": {
                            "outlinewidth": 0,
                            "ticks": ""
                          }
                        },
                        "type": "scatterpolargl"
                      }
                    ],
                    "scatterternary": [
                      {
                        "marker": {
                          "colorbar": {
                            "outlinewidth": 0,
                            "ticks": ""
                          }
                        },
                        "type": "scatterternary"
                      }
                    ],
                    "surface": [
                      {
                        "colorbar": {
                          "outlinewidth": 0,
                          "ticks": ""
                        },
                        "colorscale": [
                          [
                            0,
                            "#0d0887"
                          ],
                          [
                            0.1111111111111111,
                            "#46039f"
                          ],
                          [
                            0.2222222222222222,
                            "#7201a8"
                          ],
                          [
                            0.3333333333333333,
                            "#9c179e"
                          ],
                          [
                            0.4444444444444444,
                            "#bd3786"
                          ],
                          [
                            0.5555555555555556,
                            "#d8576b"
                          ],
                          [
                            0.6666666666666666,
                            "#ed7953"
                          ],
                          [
                            0.7777777777777778,
                            "#fb9f3a"
                          ],
                          [
                            0.8888888888888888,
                            "#fdca26"
                          ],
                          [
                            1,
                            "#f0f921"
                          ]
                        ],
                        "type": "surface"
                      }
                    ],
                    "table": [
                      {
                        "cells": {
                          "fill": {
                            "color": "#EBF0F8"
                          },
                          "line": {
                            "color": "white"
                          }
                        },
                        "header": {
                          "fill": {
                            "color": "#C8D4E3"
                          },
                          "line": {
                            "color": "white"
                          }
                        },
                        "type": "table"
                      }
                    ]
                  },
                  "layout": {
                    "annotationdefaults": {
                      "arrowcolor": "#2a3f5f",
                      "arrowhead": 0,
                      "arrowwidth": 1
                    },
                    "autotypenumbers": "strict",
                    "coloraxis": {
                      "colorbar": {
                        "outlinewidth": 0,
                        "ticks": ""
                      }
                    },
                    "colorscale": {
                      "diverging": [
                        [
                          0,
                          "#8e0152"
                        ],
                        [
                          0.1,
                          "#c51b7d"
                        ],
                        [
                          0.2,
                          "#de77ae"
                        ],
                        [
                          0.3,
                          "#f1b6da"
                        ],
                        [
                          0.4,
                          "#fde0ef"
                        ],
                        [
                          0.5,
                          "#f7f7f7"
                        ],
                        [
                          0.6,
                          "#e6f5d0"
                        ],
                        [
                          0.7,
                          "#b8e186"
                        ],
                        [
                          0.8,
                          "#7fbc41"
                        ],
                        [
                          0.9,
                          "#4d9221"
                        ],
                        [
                          1,
                          "#276419"
                        ]
                      ],
                      "sequential": [
                        [
                          0,
                          "#0d0887"
                        ],
                        [
                          0.1111111111111111,
                          "#46039f"
                        ],
                        [
                          0.2222222222222222,
                          "#7201a8"
                        ],
                        [
                          0.3333333333333333,
                          "#9c179e"
                        ],
                        [
                          0.4444444444444444,
                          "#bd3786"
                        ],
                        [
                          0.5555555555555556,
                          "#d8576b"
                        ],
                        [
                          0.6666666666666666,
                          "#ed7953"
                        ],
                        [
                          0.7777777777777778,
                          "#fb9f3a"
                        ],
                        [
                          0.8888888888888888,
                          "#fdca26"
                        ],
                        [
                          1,
                          "#f0f921"
                        ]
                      ],
                      "sequentialminus": [
                        [
                          0,
                          "#0d0887"
                        ],
                        [
                          0.1111111111111111,
                          "#46039f"
                        ],
                        [
                          0.2222222222222222,
                          "#7201a8"
                        ],
                        [
                          0.3333333333333333,
                          "#9c179e"
                        ],
                        [
                          0.4444444444444444,
                          "#bd3786"
                        ],
                        [
                          0.5555555555555556,
                          "#d8576b"
                        ],
                        [
                          0.6666666666666666,
                          "#ed7953"
                        ],
                        [
                          0.7777777777777778,
                          "#fb9f3a"
                        ],
                        [
                          0.8888888888888888,
                          "#fdca26"
                        ],
                        [
                          1,
                          "#f0f921"
                        ]
                      ]
                    },
                    "colorway": [
                      "#636efa",
                      "#EF553B",
                      "#00cc96",
                      "#ab63fa",
                      "#FFA15A",
                      "#19d3f3",
                      "#FF6692",
                      "#B6E880",
                      "#FF97FF",
                      "#FECB52"
                    ],
                    "font": {
                      "color": "#2a3f5f"
                    },
                    "geo": {
                      "bgcolor": "white",
                      "lakecolor": "white",
                      "landcolor": "#E5ECF6",
                      "showlakes": true,
                      "showland": true,
                      "subunitcolor": "white"
                    },
                    "hoverlabel": {
                      "align": "left"
                    },
                    "hovermode": "closest",
                    "mapbox": {
                      "style": "light"
                    },
                    "paper_bgcolor": "white",
                    "plot_bgcolor": "#E5ECF6",
                    "polar": {
                      "angularaxis": {
                        "gridcolor": "white",
                        "linecolor": "white",
                        "ticks": ""
                      },
                      "bgcolor": "#E5ECF6",
                      "radialaxis": {
                        "gridcolor": "white",
                        "linecolor": "white",
                        "ticks": ""
                      }
                    },
                    "scene": {
                      "xaxis": {
                        "backgroundcolor": "#E5ECF6",
                        "gridcolor": "white",
                        "gridwidth": 2,
                        "linecolor": "white",
                        "showbackground": true,
                        "ticks": "",
                        "zerolinecolor": "white"
                      },
                      "yaxis": {
                        "backgroundcolor": "#E5ECF6",
                        "gridcolor": "white",
                        "gridwidth": 2,
                        "linecolor": "white",
                        "showbackground": true,
                        "ticks": "",
                        "zerolinecolor": "white"
                      },
                      "zaxis": {
                        "backgroundcolor": "#E5ECF6",
                        "gridcolor": "white",
                        "gridwidth": 2,
                        "linecolor": "white",
                        "showbackground": true,
                        "ticks": "",
                        "zerolinecolor": "white"
                      }
                    },
                    "shapedefaults": {
                      "line": {
                        "color": "#2a3f5f"
                      }
                    },
                    "ternary": {
                      "aaxis": {
                        "gridcolor": "white",
                        "linecolor": "white",
                        "ticks": ""
                      },
                      "baxis": {
                        "gridcolor": "white",
                        "linecolor": "white",
                        "ticks": ""
                      },
                      "bgcolor": "#E5ECF6",
                      "caxis": {
                        "gridcolor": "white",
                        "linecolor": "white",
                        "ticks": ""
                      }
                    },
                    "title": {
                      "x": 0.05
                    },
                    "xaxis": {
                      "automargin": true,
                      "gridcolor": "white",
                      "linecolor": "white",
                      "ticks": "",
                      "title": {
                        "standoff": 15
                      },
                      "zerolinecolor": "white",
                      "zerolinewidth": 2
                    },
                    "yaxis": {
                      "automargin": true,
                      "gridcolor": "white",
                      "linecolor": "white",
                      "ticks": "",
                      "title": {
                        "standoff": 15
                      },
                      "zerolinecolor": "white",
                      "zerolinewidth": 2
                    }
                  }
                },
                "title": {
                  "text": "Análise de Clusters"
                },
                "xaxis": {
                  "anchor": "y",
                  "domain": [
                    0,
                    1
                  ],
                  "title": {
                    "text": "peso"
                  }
                },
                "yaxis": {
                  "anchor": "x",
                  "domain": [
                    0,
                    1
                  ],
                  "title": {
                    "text": "colesterol"
                  }
                }
              }
            }
          },
          "metadata": {},
          "output_type": "display_data"
        }
      ],
      "source": [
        "x = 'peso'\n",
        "y = 'colesterol'\n",
        "cluster_labels = base_completa['cluster']\n",
        "\n",
        "plotar_grafico(base_completa[x], base_completa[y], cluster_labels, x, y)\n"
      ]
    },
    {
      "cell_type": "code",
      "execution_count": 170,
      "metadata": {},
      "outputs": [],
      "source": [
        "cluster_clientes = base_completa"
      ]
    },
    {
      "cell_type": "code",
      "execution_count": 171,
      "metadata": {},
      "outputs": [],
      "source": [
        "cluster_clientes.loc[cluster_clientes['cluster'] == 0, 'nome_cluster'] = 'Baixo Risco'\n",
        "cluster_clientes.loc[cluster_clientes['cluster'] == 1, 'nome_cluster'] = 'Alto Risco'\n",
        "cluster_clientes.loc[cluster_clientes['cluster'] == 2, 'nome_cluster'] = 'Risco Moderado'"
      ]
    },
    {
      "cell_type": "code",
      "execution_count": 172,
      "metadata": {},
      "outputs": [
        {
          "data": {
            "text/html": [
              "<div>\n",
              "<style scoped>\n",
              "    .dataframe tbody tr th:only-of-type {\n",
              "        vertical-align: middle;\n",
              "    }\n",
              "\n",
              "    .dataframe tbody tr th {\n",
              "        vertical-align: top;\n",
              "    }\n",
              "\n",
              "    .dataframe thead th {\n",
              "        text-align: right;\n",
              "    }\n",
              "</style>\n",
              "<table border=\"1\" class=\"dataframe\">\n",
              "  <thead>\n",
              "    <tr style=\"text-align: right;\">\n",
              "      <th></th>\n",
              "      <th>cod_cliente</th>\n",
              "      <th>cod_genero</th>\n",
              "      <th>genero</th>\n",
              "      <th>idade</th>\n",
              "      <th>peso</th>\n",
              "      <th>colesterol</th>\n",
              "      <th>id_estado</th>\n",
              "      <th>estado</th>\n",
              "      <th>sigla_estado</th>\n",
              "      <th>pais</th>\n",
              "      <th>cluster</th>\n",
              "      <th>nome_cluster</th>\n",
              "    </tr>\n",
              "  </thead>\n",
              "  <tbody>\n",
              "    <tr>\n",
              "      <th>0</th>\n",
              "      <td>1</td>\n",
              "      <td>1</td>\n",
              "      <td>Masculino</td>\n",
              "      <td>17</td>\n",
              "      <td>102.0</td>\n",
              "      <td>111</td>\n",
              "      <td>23</td>\n",
              "      <td>Roraima</td>\n",
              "      <td>RR</td>\n",
              "      <td>Brasil</td>\n",
              "      <td>0</td>\n",
              "      <td>Baixo Risco</td>\n",
              "    </tr>\n",
              "    <tr>\n",
              "      <th>1</th>\n",
              "      <td>54</td>\n",
              "      <td>1</td>\n",
              "      <td>Masculino</td>\n",
              "      <td>48</td>\n",
              "      <td>149.0</td>\n",
              "      <td>183</td>\n",
              "      <td>23</td>\n",
              "      <td>Roraima</td>\n",
              "      <td>RR</td>\n",
              "      <td>Brasil</td>\n",
              "      <td>1</td>\n",
              "      <td>Alto Risco</td>\n",
              "    </tr>\n",
              "    <tr>\n",
              "      <th>2</th>\n",
              "      <td>61</td>\n",
              "      <td>0</td>\n",
              "      <td>Feminino</td>\n",
              "      <td>70</td>\n",
              "      <td>113.0</td>\n",
              "      <td>129</td>\n",
              "      <td>23</td>\n",
              "      <td>Roraima</td>\n",
              "      <td>RR</td>\n",
              "      <td>Brasil</td>\n",
              "      <td>0</td>\n",
              "      <td>Baixo Risco</td>\n",
              "    </tr>\n",
              "    <tr>\n",
              "      <th>3</th>\n",
              "      <td>154</td>\n",
              "      <td>0</td>\n",
              "      <td>Feminino</td>\n",
              "      <td>26</td>\n",
              "      <td>134.0</td>\n",
              "      <td>162</td>\n",
              "      <td>23</td>\n",
              "      <td>Roraima</td>\n",
              "      <td>RR</td>\n",
              "      <td>Brasil</td>\n",
              "      <td>1</td>\n",
              "      <td>Alto Risco</td>\n",
              "    </tr>\n",
              "    <tr>\n",
              "      <th>4</th>\n",
              "      <td>164</td>\n",
              "      <td>0</td>\n",
              "      <td>Feminino</td>\n",
              "      <td>51</td>\n",
              "      <td>133.0</td>\n",
              "      <td>155</td>\n",
              "      <td>23</td>\n",
              "      <td>Roraima</td>\n",
              "      <td>RR</td>\n",
              "      <td>Brasil</td>\n",
              "      <td>1</td>\n",
              "      <td>Alto Risco</td>\n",
              "    </tr>\n",
              "    <tr>\n",
              "      <th>...</th>\n",
              "      <td>...</td>\n",
              "      <td>...</td>\n",
              "      <td>...</td>\n",
              "      <td>...</td>\n",
              "      <td>...</td>\n",
              "      <td>...</td>\n",
              "      <td>...</td>\n",
              "      <td>...</td>\n",
              "      <td>...</td>\n",
              "      <td>...</td>\n",
              "      <td>...</td>\n",
              "      <td>...</td>\n",
              "    </tr>\n",
              "    <tr>\n",
              "      <th>493</th>\n",
              "      <td>456</td>\n",
              "      <td>1</td>\n",
              "      <td>Masculino</td>\n",
              "      <td>29</td>\n",
              "      <td>134.0</td>\n",
              "      <td>168</td>\n",
              "      <td>12</td>\n",
              "      <td>Mato Grosso do Sul</td>\n",
              "      <td>MS</td>\n",
              "      <td>Brasil</td>\n",
              "      <td>1</td>\n",
              "      <td>Alto Risco</td>\n",
              "    </tr>\n",
              "    <tr>\n",
              "      <th>494</th>\n",
              "      <td>464</td>\n",
              "      <td>0</td>\n",
              "      <td>Feminino</td>\n",
              "      <td>32</td>\n",
              "      <td>144.0</td>\n",
              "      <td>171</td>\n",
              "      <td>12</td>\n",
              "      <td>Mato Grosso do Sul</td>\n",
              "      <td>MS</td>\n",
              "      <td>Brasil</td>\n",
              "      <td>1</td>\n",
              "      <td>Alto Risco</td>\n",
              "    </tr>\n",
              "    <tr>\n",
              "      <th>495</th>\n",
              "      <td>492</td>\n",
              "      <td>1</td>\n",
              "      <td>Masculino</td>\n",
              "      <td>64</td>\n",
              "      <td>142.0</td>\n",
              "      <td>172</td>\n",
              "      <td>12</td>\n",
              "      <td>Mato Grosso do Sul</td>\n",
              "      <td>MS</td>\n",
              "      <td>Brasil</td>\n",
              "      <td>1</td>\n",
              "      <td>Alto Risco</td>\n",
              "    </tr>\n",
              "    <tr>\n",
              "      <th>496</th>\n",
              "      <td>493</td>\n",
              "      <td>1</td>\n",
              "      <td>Masculino</td>\n",
              "      <td>70</td>\n",
              "      <td>153.0</td>\n",
              "      <td>192</td>\n",
              "      <td>12</td>\n",
              "      <td>Mato Grosso do Sul</td>\n",
              "      <td>MS</td>\n",
              "      <td>Brasil</td>\n",
              "      <td>1</td>\n",
              "      <td>Alto Risco</td>\n",
              "    </tr>\n",
              "    <tr>\n",
              "      <th>497</th>\n",
              "      <td>502</td>\n",
              "      <td>1</td>\n",
              "      <td>Masculino</td>\n",
              "      <td>41</td>\n",
              "      <td>152.0</td>\n",
              "      <td>178</td>\n",
              "      <td>12</td>\n",
              "      <td>Mato Grosso do Sul</td>\n",
              "      <td>MS</td>\n",
              "      <td>Brasil</td>\n",
              "      <td>1</td>\n",
              "      <td>Alto Risco</td>\n",
              "    </tr>\n",
              "  </tbody>\n",
              "</table>\n",
              "<p>498 rows × 12 columns</p>\n",
              "</div>"
            ],
            "text/plain": [
              "     cod_cliente  cod_genero     genero  idade   peso  colesterol  id_estado  \\\n",
              "0              1           1  Masculino     17  102.0         111         23   \n",
              "1             54           1  Masculino     48  149.0         183         23   \n",
              "2             61           0   Feminino     70  113.0         129         23   \n",
              "3            154           0   Feminino     26  134.0         162         23   \n",
              "4            164           0   Feminino     51  133.0         155         23   \n",
              "..           ...         ...        ...    ...    ...         ...        ...   \n",
              "493          456           1  Masculino     29  134.0         168         12   \n",
              "494          464           0   Feminino     32  144.0         171         12   \n",
              "495          492           1  Masculino     64  142.0         172         12   \n",
              "496          493           1  Masculino     70  153.0         192         12   \n",
              "497          502           1  Masculino     41  152.0         178         12   \n",
              "\n",
              "                 estado sigla_estado    pais  cluster nome_cluster  \n",
              "0               Roraima           RR  Brasil        0  Baixo Risco  \n",
              "1               Roraima           RR  Brasil        1   Alto Risco  \n",
              "2               Roraima           RR  Brasil        0  Baixo Risco  \n",
              "3               Roraima           RR  Brasil        1   Alto Risco  \n",
              "4               Roraima           RR  Brasil        1   Alto Risco  \n",
              "..                  ...          ...     ...      ...          ...  \n",
              "493  Mato Grosso do Sul           MS  Brasil        1   Alto Risco  \n",
              "494  Mato Grosso do Sul           MS  Brasil        1   Alto Risco  \n",
              "495  Mato Grosso do Sul           MS  Brasil        1   Alto Risco  \n",
              "496  Mato Grosso do Sul           MS  Brasil        1   Alto Risco  \n",
              "497  Mato Grosso do Sul           MS  Brasil        1   Alto Risco  \n",
              "\n",
              "[498 rows x 12 columns]"
            ]
          },
          "execution_count": 172,
          "metadata": {},
          "output_type": "execute_result"
        }
      ],
      "source": [
        "cluster_clientes"
      ]
    },
    {
      "cell_type": "code",
      "execution_count": 173,
      "metadata": {},
      "outputs": [
        {
          "data": {
            "text/html": [
              "<div>\n",
              "<style scoped>\n",
              "    .dataframe tbody tr th:only-of-type {\n",
              "        vertical-align: middle;\n",
              "    }\n",
              "\n",
              "    .dataframe tbody tr th {\n",
              "        vertical-align: top;\n",
              "    }\n",
              "\n",
              "    .dataframe thead th {\n",
              "        text-align: right;\n",
              "    }\n",
              "</style>\n",
              "<table border=\"1\" class=\"dataframe\">\n",
              "  <thead>\n",
              "    <tr style=\"text-align: right;\">\n",
              "      <th></th>\n",
              "      <th>count</th>\n",
              "      <th>mean</th>\n",
              "      <th>std</th>\n",
              "      <th>min</th>\n",
              "      <th>25%</th>\n",
              "      <th>50%</th>\n",
              "      <th>75%</th>\n",
              "      <th>max</th>\n",
              "    </tr>\n",
              "    <tr>\n",
              "      <th>nome_cluster</th>\n",
              "      <th></th>\n",
              "      <th></th>\n",
              "      <th></th>\n",
              "      <th></th>\n",
              "      <th></th>\n",
              "      <th></th>\n",
              "      <th></th>\n",
              "      <th></th>\n",
              "    </tr>\n",
              "  </thead>\n",
              "  <tbody>\n",
              "    <tr>\n",
              "      <th>Alto Risco</th>\n",
              "      <td>165.0</td>\n",
              "      <td>42.151515</td>\n",
              "      <td>15.043679</td>\n",
              "      <td>16.0</td>\n",
              "      <td>29.0</td>\n",
              "      <td>42.0</td>\n",
              "      <td>54.0</td>\n",
              "      <td>70.0</td>\n",
              "    </tr>\n",
              "    <tr>\n",
              "      <th>Baixo Risco</th>\n",
              "      <td>175.0</td>\n",
              "      <td>43.331429</td>\n",
              "      <td>15.054456</td>\n",
              "      <td>17.0</td>\n",
              "      <td>31.0</td>\n",
              "      <td>42.0</td>\n",
              "      <td>57.0</td>\n",
              "      <td>70.0</td>\n",
              "    </tr>\n",
              "    <tr>\n",
              "      <th>Risco Moderado</th>\n",
              "      <td>158.0</td>\n",
              "      <td>43.126582</td>\n",
              "      <td>15.172358</td>\n",
              "      <td>16.0</td>\n",
              "      <td>32.0</td>\n",
              "      <td>43.0</td>\n",
              "      <td>56.0</td>\n",
              "      <td>69.0</td>\n",
              "    </tr>\n",
              "  </tbody>\n",
              "</table>\n",
              "</div>"
            ],
            "text/plain": [
              "                count       mean        std   min   25%   50%   75%   max\n",
              "nome_cluster                                                             \n",
              "Alto Risco      165.0  42.151515  15.043679  16.0  29.0  42.0  54.0  70.0\n",
              "Baixo Risco     175.0  43.331429  15.054456  17.0  31.0  42.0  57.0  70.0\n",
              "Risco Moderado  158.0  43.126582  15.172358  16.0  32.0  43.0  56.0  69.0"
            ]
          },
          "execution_count": 173,
          "metadata": {},
          "output_type": "execute_result"
        }
      ],
      "source": [
        "cluster_clientes.groupby(\"nome_cluster\")[\"idade\"].describe()"
      ]
    },
    {
      "cell_type": "code",
      "execution_count": 174,
      "metadata": {},
      "outputs": [
        {
          "data": {
            "text/html": [
              "<div>\n",
              "<style scoped>\n",
              "    .dataframe tbody tr th:only-of-type {\n",
              "        vertical-align: middle;\n",
              "    }\n",
              "\n",
              "    .dataframe tbody tr th {\n",
              "        vertical-align: top;\n",
              "    }\n",
              "\n",
              "    .dataframe thead th {\n",
              "        text-align: right;\n",
              "    }\n",
              "</style>\n",
              "<table border=\"1\" class=\"dataframe\">\n",
              "  <thead>\n",
              "    <tr style=\"text-align: right;\">\n",
              "      <th></th>\n",
              "      <th>count</th>\n",
              "      <th>unique</th>\n",
              "      <th>top</th>\n",
              "      <th>freq</th>\n",
              "    </tr>\n",
              "    <tr>\n",
              "      <th>nome_cluster</th>\n",
              "      <th></th>\n",
              "      <th></th>\n",
              "      <th></th>\n",
              "      <th></th>\n",
              "    </tr>\n",
              "  </thead>\n",
              "  <tbody>\n",
              "    <tr>\n",
              "      <th>Alto Risco</th>\n",
              "      <td>165</td>\n",
              "      <td>25</td>\n",
              "      <td>Mato Grosso do Sul</td>\n",
              "      <td>12</td>\n",
              "    </tr>\n",
              "    <tr>\n",
              "      <th>Baixo Risco</th>\n",
              "      <td>175</td>\n",
              "      <td>25</td>\n",
              "      <td>Amazonas</td>\n",
              "      <td>13</td>\n",
              "    </tr>\n",
              "    <tr>\n",
              "      <th>Risco Moderado</th>\n",
              "      <td>158</td>\n",
              "      <td>25</td>\n",
              "      <td>Pará</td>\n",
              "      <td>10</td>\n",
              "    </tr>\n",
              "  </tbody>\n",
              "</table>\n",
              "</div>"
            ],
            "text/plain": [
              "               count unique                 top freq\n",
              "nome_cluster                                        \n",
              "Alto Risco       165     25  Mato Grosso do Sul   12\n",
              "Baixo Risco      175     25            Amazonas   13\n",
              "Risco Moderado   158     25                Pará   10"
            ]
          },
          "execution_count": 174,
          "metadata": {},
          "output_type": "execute_result"
        }
      ],
      "source": [
        "cluster_clientes.groupby(\"nome_cluster\")[\"estado\"].describe()"
      ]
    },
    {
      "cell_type": "code",
      "execution_count": 175,
      "metadata": {},
      "outputs": [
        {
          "data": {
            "text/html": [
              "<div>\n",
              "<style scoped>\n",
              "    .dataframe tbody tr th:only-of-type {\n",
              "        vertical-align: middle;\n",
              "    }\n",
              "\n",
              "    .dataframe tbody tr th {\n",
              "        vertical-align: top;\n",
              "    }\n",
              "\n",
              "    .dataframe thead th {\n",
              "        text-align: right;\n",
              "    }\n",
              "</style>\n",
              "<table border=\"1\" class=\"dataframe\">\n",
              "  <thead>\n",
              "    <tr style=\"text-align: right;\">\n",
              "      <th></th>\n",
              "      <th>count</th>\n",
              "      <th>mean</th>\n",
              "      <th>std</th>\n",
              "      <th>min</th>\n",
              "      <th>25%</th>\n",
              "      <th>50%</th>\n",
              "      <th>75%</th>\n",
              "      <th>max</th>\n",
              "    </tr>\n",
              "    <tr>\n",
              "      <th>nome_cluster</th>\n",
              "      <th></th>\n",
              "      <th></th>\n",
              "      <th></th>\n",
              "      <th></th>\n",
              "      <th></th>\n",
              "      <th></th>\n",
              "      <th></th>\n",
              "      <th></th>\n",
              "    </tr>\n",
              "  </thead>\n",
              "  <tbody>\n",
              "    <tr>\n",
              "      <th>Alto Risco</th>\n",
              "      <td>165.0</td>\n",
              "      <td>173.163636</td>\n",
              "      <td>13.633393</td>\n",
              "      <td>150.0</td>\n",
              "      <td>162.0</td>\n",
              "      <td>172.0</td>\n",
              "      <td>185.0</td>\n",
              "      <td>198.0</td>\n",
              "    </tr>\n",
              "    <tr>\n",
              "      <th>Baixo Risco</th>\n",
              "      <td>175.0</td>\n",
              "      <td>125.914286</td>\n",
              "      <td>13.973644</td>\n",
              "      <td>102.0</td>\n",
              "      <td>113.5</td>\n",
              "      <td>127.0</td>\n",
              "      <td>138.0</td>\n",
              "      <td>151.0</td>\n",
              "    </tr>\n",
              "    <tr>\n",
              "      <th>Risco Moderado</th>\n",
              "      <td>158.0</td>\n",
              "      <td>217.044304</td>\n",
              "      <td>9.629007</td>\n",
              "      <td>196.0</td>\n",
              "      <td>211.0</td>\n",
              "      <td>219.0</td>\n",
              "      <td>224.0</td>\n",
              "      <td>235.0</td>\n",
              "    </tr>\n",
              "  </tbody>\n",
              "</table>\n",
              "</div>"
            ],
            "text/plain": [
              "                count        mean        std    min    25%    50%    75%  \\\n",
              "nome_cluster                                                               \n",
              "Alto Risco      165.0  173.163636  13.633393  150.0  162.0  172.0  185.0   \n",
              "Baixo Risco     175.0  125.914286  13.973644  102.0  113.5  127.0  138.0   \n",
              "Risco Moderado  158.0  217.044304   9.629007  196.0  211.0  219.0  224.0   \n",
              "\n",
              "                  max  \n",
              "nome_cluster           \n",
              "Alto Risco      198.0  \n",
              "Baixo Risco     151.0  \n",
              "Risco Moderado  235.0  "
            ]
          },
          "execution_count": 175,
          "metadata": {},
          "output_type": "execute_result"
        }
      ],
      "source": [
        "cluster_clientes.groupby(\"nome_cluster\")[\"colesterol\"].describe()"
      ]
    },
    {
      "cell_type": "code",
      "execution_count": 176,
      "metadata": {},
      "outputs": [
        {
          "data": {
            "text/html": [
              "<div>\n",
              "<style scoped>\n",
              "    .dataframe tbody tr th:only-of-type {\n",
              "        vertical-align: middle;\n",
              "    }\n",
              "\n",
              "    .dataframe tbody tr th {\n",
              "        vertical-align: top;\n",
              "    }\n",
              "\n",
              "    .dataframe thead th {\n",
              "        text-align: right;\n",
              "    }\n",
              "</style>\n",
              "<table border=\"1\" class=\"dataframe\">\n",
              "  <thead>\n",
              "    <tr style=\"text-align: right;\">\n",
              "      <th></th>\n",
              "      <th>count</th>\n",
              "      <th>mean</th>\n",
              "      <th>std</th>\n",
              "      <th>min</th>\n",
              "      <th>25%</th>\n",
              "      <th>50%</th>\n",
              "      <th>75%</th>\n",
              "      <th>max</th>\n",
              "    </tr>\n",
              "    <tr>\n",
              "      <th>nome_cluster</th>\n",
              "      <th></th>\n",
              "      <th></th>\n",
              "      <th></th>\n",
              "      <th></th>\n",
              "      <th></th>\n",
              "      <th></th>\n",
              "      <th></th>\n",
              "      <th></th>\n",
              "    </tr>\n",
              "  </thead>\n",
              "  <tbody>\n",
              "    <tr>\n",
              "      <th>Alto Risco</th>\n",
              "      <td>165.0</td>\n",
              "      <td>141.975758</td>\n",
              "      <td>10.347588</td>\n",
              "      <td>124.0</td>\n",
              "      <td>133.0</td>\n",
              "      <td>142.0</td>\n",
              "      <td>151.00</td>\n",
              "      <td>159.0</td>\n",
              "    </tr>\n",
              "    <tr>\n",
              "      <th>Baixo Risco</th>\n",
              "      <td>175.0</td>\n",
              "      <td>110.428571</td>\n",
              "      <td>8.170193</td>\n",
              "      <td>95.0</td>\n",
              "      <td>103.5</td>\n",
              "      <td>111.0</td>\n",
              "      <td>117.00</td>\n",
              "      <td>126.0</td>\n",
              "    </tr>\n",
              "    <tr>\n",
              "      <th>Risco Moderado</th>\n",
              "      <td>158.0</td>\n",
              "      <td>182.253165</td>\n",
              "      <td>11.189700</td>\n",
              "      <td>158.0</td>\n",
              "      <td>173.0</td>\n",
              "      <td>182.0</td>\n",
              "      <td>190.75</td>\n",
              "      <td>203.0</td>\n",
              "    </tr>\n",
              "  </tbody>\n",
              "</table>\n",
              "</div>"
            ],
            "text/plain": [
              "                count        mean        std    min    25%    50%     75%  \\\n",
              "nome_cluster                                                                \n",
              "Alto Risco      165.0  141.975758  10.347588  124.0  133.0  142.0  151.00   \n",
              "Baixo Risco     175.0  110.428571   8.170193   95.0  103.5  111.0  117.00   \n",
              "Risco Moderado  158.0  182.253165  11.189700  158.0  173.0  182.0  190.75   \n",
              "\n",
              "                  max  \n",
              "nome_cluster           \n",
              "Alto Risco      159.0  \n",
              "Baixo Risco     126.0  \n",
              "Risco Moderado  203.0  "
            ]
          },
          "execution_count": 176,
          "metadata": {},
          "output_type": "execute_result"
        }
      ],
      "source": [
        "cluster_clientes.groupby(\"nome_cluster\")[\"peso\"].describe()"
      ]
    },
    {
      "cell_type": "code",
      "execution_count": 177,
      "metadata": {},
      "outputs": [],
      "source": [
        "# definindo\n",
        "alto_risco = cluster_clientes[cluster_clientes[\"nome_cluster\"] == \"Alto Risco\"]\n",
        "moderado_alto = cluster_clientes[(cluster_clientes[\"nome_cluster\"] == \"Risco Moderado\") | (cluster_clientes[\"nome_cluster\"] == \"Alto Risco\")]\n",
        "moderado_baixo = cluster_clientes[(cluster_clientes[\"nome_cluster\"] == \"Risco Moderado\") | (cluster_clientes[\"nome_cluster\"] == \"Baixo Risco\")]\n",
        "baixo_risco = cluster_clientes[cluster_clientes[\"nome_cluster\"] == \"Baixo Risco\"]\n"
      ]
    },
    {
      "attachments": {},
      "cell_type": "markdown",
      "metadata": {},
      "source": [
        "# 9 Qual o valor do centroide para o grupo de baixo risco?"
      ]
    },
    {
      "cell_type": "code",
      "execution_count": 178,
      "metadata": {},
      "outputs": [
        {
          "name": "stdout",
          "output_type": "stream",
          "text": [
            "Centroide para o grupo de baixo risco:\n",
            "peso          110.428571\n",
            "colesterol    125.914286\n",
            "dtype: float64\n"
          ]
        }
      ],
      "source": [
        "# O mesmo é verificavel no grafico.\n",
        "centroid_baixo_risco = baixo_risco[[\"peso\", \"colesterol\"]].mean()\n",
        "\n",
        "print(\"Centroide para o grupo de baixo risco:\")\n",
        "print(centroid_baixo_risco)"
      ]
    },
    {
      "attachments": {},
      "cell_type": "markdown",
      "metadata": {},
      "source": [
        "# 10 Qual a média de idades para o cluster de risco moderado alto?"
      ]
    },
    {
      "cell_type": "code",
      "execution_count": 179,
      "metadata": {},
      "outputs": [
        {
          "data": {
            "text/plain": [
              "count    323.000000\n",
              "mean      42.628483\n",
              "std       15.091174\n",
              "min       16.000000\n",
              "25%       30.000000\n",
              "50%       42.000000\n",
              "75%       55.000000\n",
              "max       70.000000\n",
              "Name: idade, dtype: float64"
            ]
          },
          "execution_count": 179,
          "metadata": {},
          "output_type": "execute_result"
        }
      ],
      "source": [
        "moderado_alto[\"idade\"].describe()\n",
        "# 42.35 anos\n",
        "# 43.05\n",
        "# 42.62"
      ]
    },
    {
      "attachments": {},
      "cell_type": "markdown",
      "metadata": {},
      "source": [
        "# 11 Qual o valor mínimo do colesterol coletado para o grupo de baixo risco?"
      ]
    },
    {
      "cell_type": "code",
      "execution_count": null,
      "metadata": {},
      "outputs": [
        {
          "data": {
            "text/plain": [
              "count    175.000000\n",
              "mean     125.914286\n",
              "std       13.973644\n",
              "min      102.000000\n",
              "25%      113.500000\n",
              "50%      127.000000\n",
              "75%      138.000000\n",
              "max      151.000000\n",
              "Name: colesterol, dtype: float64"
            ]
          },
          "execution_count": 124,
          "metadata": {},
          "output_type": "execute_result"
        }
      ],
      "source": [
        "baixo_risco[\"colesterol\"].describe()\n",
        "# 102.0"
      ]
    },
    {
      "attachments": {},
      "cell_type": "markdown",
      "metadata": {},
      "source": [
        "# 12 Qual é o desvio padrão do peso presente no cluster de alto risco?"
      ]
    },
    {
      "cell_type": "code",
      "execution_count": null,
      "metadata": {},
      "outputs": [
        {
          "data": {
            "text/plain": [
              "10.347588098347714"
            ]
          },
          "execution_count": 125,
          "metadata": {},
          "output_type": "execute_result"
        }
      ],
      "source": [
        "# calcular o desvio padrão do peso\n",
        "alto_risco[\"peso\"].std()"
      ]
    },
    {
      "attachments": {},
      "cell_type": "markdown",
      "metadata": {},
      "source": [
        "# 13 Qual o estado com maior número de pessoas que estão no grupo de risco Moderado baixo?"
      ]
    },
    {
      "cell_type": "code",
      "execution_count": null,
      "metadata": {},
      "outputs": [
        {
          "data": {
            "text/plain": [
              "estado\n",
              "Acre                    7\n",
              "São Paulo               7\n",
              "Espírito Santo          9\n",
              "Mato Grosso do Sul      9\n",
              "Pernambuco             10\n",
              "Paraíba                10\n",
              "Roraima                11\n",
              "Bahia                  11\n",
              "Sergipe                12\n",
              "Tocantins              12\n",
              "Goiás                  12\n",
              "Paraná                 13\n",
              "Rio Grande do Sul      13\n",
              "Rôndonia               13\n",
              "Mato Grosso            14\n",
              "Pará                   15\n",
              "Ceará                  16\n",
              "Amapá                  16\n",
              "Alagoas                16\n",
              "Minas Gerais           16\n",
              "Rio de Janeiro         17\n",
              "Maranhão               17\n",
              "Distrito Federal       18\n",
              "Rio Grande do Norte    18\n",
              "Amazonas               21\n",
              "dtype: int64"
            ]
          },
          "execution_count": 126,
          "metadata": {},
          "output_type": "execute_result"
        }
      ],
      "source": [
        "moderado_baixo.groupby('estado').size().sort_values()\n"
      ]
    },
    {
      "attachments": {},
      "cell_type": "markdown",
      "metadata": {},
      "source": [
        "# 14 Qual a média dos pesos para o grupo de alto risco ?"
      ]
    },
    {
      "cell_type": "code",
      "execution_count": null,
      "metadata": {},
      "outputs": [
        {
          "name": "stdout",
          "output_type": "stream",
          "text": [
            "141.97575757575757\n"
          ]
        }
      ],
      "source": [
        "# calcular a média dos pesos\n",
        "media_pesos = alto_risco[\"peso\"].mean()\n",
        "\n",
        "print(media_pesos)"
      ]
    },
    {
      "attachments": {},
      "cell_type": "markdown",
      "metadata": {},
      "source": [
        "# 15 - VERIFICANDO alternativas"
      ]
    },
    {
      "attachments": {},
      "cell_type": "markdown",
      "metadata": {},
      "source": [
        "###  desvio padrão para colesterol para o grupo de risco moderado alto para o gênero feminino."
      ]
    },
    {
      "cell_type": "code",
      "execution_count": null,
      "metadata": {},
      "outputs": [
        {
          "data": {
            "text/plain": [
              "count    164.000000\n",
              "mean     191.981707\n",
              "std       25.215506\n",
              "min      150.000000\n",
              "25%      169.000000\n",
              "50%      191.500000\n",
              "75%      218.000000\n",
              "max      235.000000\n",
              "Name: colesterol, dtype: float64"
            ]
          },
          "execution_count": 128,
          "metadata": {},
          "output_type": "execute_result"
        }
      ],
      "source": [
        "moderado_alto_feminino = moderado_alto[moderado_alto[\"cod_genero\"] == 0]\n",
        "\n",
        "# calcular a descrição estatística do peso\n",
        "moderado_alto_feminino[\"colesterol\"].describe()\n"
      ]
    },
    {
      "attachments": {},
      "cell_type": "markdown",
      "metadata": {},
      "source": [
        "### media de colesterol generos"
      ]
    },
    {
      "cell_type": "code",
      "execution_count": null,
      "metadata": {},
      "outputs": [
        {
          "data": {
            "text/html": [
              "<div>\n",
              "<style scoped>\n",
              "    .dataframe tbody tr th:only-of-type {\n",
              "        vertical-align: middle;\n",
              "    }\n",
              "\n",
              "    .dataframe tbody tr th {\n",
              "        vertical-align: top;\n",
              "    }\n",
              "\n",
              "    .dataframe thead th {\n",
              "        text-align: right;\n",
              "    }\n",
              "</style>\n",
              "<table border=\"1\" class=\"dataframe\">\n",
              "  <thead>\n",
              "    <tr style=\"text-align: right;\">\n",
              "      <th></th>\n",
              "      <th>count</th>\n",
              "      <th>mean</th>\n",
              "      <th>std</th>\n",
              "      <th>min</th>\n",
              "      <th>25%</th>\n",
              "      <th>50%</th>\n",
              "      <th>75%</th>\n",
              "      <th>max</th>\n",
              "    </tr>\n",
              "    <tr>\n",
              "      <th>genero</th>\n",
              "      <th></th>\n",
              "      <th></th>\n",
              "      <th></th>\n",
              "      <th></th>\n",
              "      <th></th>\n",
              "      <th></th>\n",
              "      <th></th>\n",
              "      <th></th>\n",
              "    </tr>\n",
              "  </thead>\n",
              "  <tbody>\n",
              "    <tr>\n",
              "      <th>Feminino</th>\n",
              "      <td>76.0</td>\n",
              "      <td>127.671053</td>\n",
              "      <td>13.209480</td>\n",
              "      <td>102.0</td>\n",
              "      <td>119.5</td>\n",
              "      <td>129.0</td>\n",
              "      <td>137.25</td>\n",
              "      <td>150.0</td>\n",
              "    </tr>\n",
              "    <tr>\n",
              "      <th>Masculino</th>\n",
              "      <td>99.0</td>\n",
              "      <td>124.565657</td>\n",
              "      <td>14.454123</td>\n",
              "      <td>102.0</td>\n",
              "      <td>111.0</td>\n",
              "      <td>122.0</td>\n",
              "      <td>139.00</td>\n",
              "      <td>151.0</td>\n",
              "    </tr>\n",
              "  </tbody>\n",
              "</table>\n",
              "</div>"
            ],
            "text/plain": [
              "           count        mean        std    min    25%    50%     75%    max\n",
              "genero                                                                     \n",
              "Feminino    76.0  127.671053  13.209480  102.0  119.5  129.0  137.25  150.0\n",
              "Masculino   99.0  124.565657  14.454123  102.0  111.0  122.0  139.00  151.0"
            ]
          },
          "execution_count": 129,
          "metadata": {},
          "output_type": "execute_result"
        }
      ],
      "source": [
        "baixo_risco.groupby(\"genero\")[\"colesterol\"].describe()"
      ]
    }
  ],
  "metadata": {
    "colab": {
      "provenance": []
    },
    "kernelspec": {
      "display_name": "Python 3",
      "name": "python3"
    },
    "language_info": {
      "codemirror_mode": {
        "name": "ipython",
        "version": 3
      },
      "file_extension": ".py",
      "mimetype": "text/x-python",
      "name": "python",
      "nbconvert_exporter": "python",
      "pygments_lexer": "ipython3",
      "version": "3.10.6"
    }
  },
  "nbformat": 4,
  "nbformat_minor": 0
}
