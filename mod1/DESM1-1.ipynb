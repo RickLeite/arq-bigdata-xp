{
 "cells": [
  {
   "cell_type": "code",
   "execution_count": 1,
   "metadata": {},
   "outputs": [
    {
     "data": {
      "text/html": [
       "<div>\n",
       "<style scoped>\n",
       "    .dataframe tbody tr th:only-of-type {\n",
       "        vertical-align: middle;\n",
       "    }\n",
       "\n",
       "    .dataframe tbody tr th {\n",
       "        vertical-align: top;\n",
       "    }\n",
       "\n",
       "    .dataframe thead th {\n",
       "        text-align: right;\n",
       "    }\n",
       "</style>\n",
       "<table border=\"1\" class=\"dataframe\">\n",
       "  <thead>\n",
       "    <tr style=\"text-align: right;\">\n",
       "      <th></th>\n",
       "      <th>estado</th>\n",
       "      <th>sigla_estado</th>\n",
       "      <th>pais</th>\n",
       "    </tr>\n",
       "    <tr>\n",
       "      <th>id_estado</th>\n",
       "      <th></th>\n",
       "      <th></th>\n",
       "      <th></th>\n",
       "    </tr>\n",
       "  </thead>\n",
       "  <tbody>\n",
       "    <tr>\n",
       "      <th>1</th>\n",
       "      <td>Acre</td>\n",
       "      <td>ac</td>\n",
       "      <td>Brasil</td>\n",
       "    </tr>\n",
       "    <tr>\n",
       "      <th>2</th>\n",
       "      <td>Alagoas</td>\n",
       "      <td>al</td>\n",
       "      <td>Brasil</td>\n",
       "    </tr>\n",
       "    <tr>\n",
       "      <th>3</th>\n",
       "      <td>Amapá</td>\n",
       "      <td>ap</td>\n",
       "      <td>Brasil</td>\n",
       "    </tr>\n",
       "    <tr>\n",
       "      <th>4</th>\n",
       "      <td>Amazonas</td>\n",
       "      <td>am</td>\n",
       "      <td>Brasil</td>\n",
       "    </tr>\n",
       "    <tr>\n",
       "      <th>5</th>\n",
       "      <td>Bahia</td>\n",
       "      <td>ba</td>\n",
       "      <td>Brasil</td>\n",
       "    </tr>\n",
       "  </tbody>\n",
       "</table>\n",
       "</div>"
      ],
      "text/plain": [
       "             estado sigla_estado    pais\n",
       "id_estado                               \n",
       "1              Acre           ac  Brasil\n",
       "2           Alagoas           al  Brasil\n",
       "3             Amapá           ap  Brasil\n",
       "4          Amazonas           am  Brasil\n",
       "5             Bahia           ba  Brasil"
      ]
     },
     "execution_count": 1,
     "metadata": {},
     "output_type": "execute_result"
    }
   ],
   "source": [
    "import pandas as pd\n",
    "\n",
    "estados = pd.read_csv('data/DESM1/estados_brasileiros.csv', sep=';', index_col=0)\n",
    "estados.head()"
   ]
  },
  {
   "cell_type": "code",
   "execution_count": 2,
   "metadata": {},
   "outputs": [
    {
     "data": {
      "text/html": [
       "<div>\n",
       "<style scoped>\n",
       "    .dataframe tbody tr th:only-of-type {\n",
       "        vertical-align: middle;\n",
       "    }\n",
       "\n",
       "    .dataframe tbody tr th {\n",
       "        vertical-align: top;\n",
       "    }\n",
       "\n",
       "    .dataframe thead th {\n",
       "        text-align: right;\n",
       "    }\n",
       "</style>\n",
       "<table border=\"1\" class=\"dataframe\">\n",
       "  <thead>\n",
       "    <tr style=\"text-align: right;\">\n",
       "      <th></th>\n",
       "      <th>id_cliente</th>\n",
       "      <th>peso</th>\n",
       "      <th>colesterol</th>\n",
       "      <th>genero</th>\n",
       "      <th>id_estado</th>\n",
       "    </tr>\n",
       "  </thead>\n",
       "  <tbody>\n",
       "    <tr>\n",
       "      <th>0</th>\n",
       "      <td>1</td>\n",
       "      <td>102.0</td>\n",
       "      <td>111</td>\n",
       "      <td>Masculino</td>\n",
       "      <td>23</td>\n",
       "    </tr>\n",
       "    <tr>\n",
       "      <th>1</th>\n",
       "      <td>2</td>\n",
       "      <td>115.0</td>\n",
       "      <td>135</td>\n",
       "      <td>Masculino</td>\n",
       "      <td>7</td>\n",
       "    </tr>\n",
       "    <tr>\n",
       "      <th>2</th>\n",
       "      <td>3</td>\n",
       "      <td>115.0</td>\n",
       "      <td>136</td>\n",
       "      <td>Masculino</td>\n",
       "      <td>4</td>\n",
       "    </tr>\n",
       "    <tr>\n",
       "      <th>3</th>\n",
       "      <td>4</td>\n",
       "      <td>140.0</td>\n",
       "      <td>167</td>\n",
       "      <td>Feminino</td>\n",
       "      <td>24</td>\n",
       "    </tr>\n",
       "    <tr>\n",
       "      <th>4</th>\n",
       "      <td>5</td>\n",
       "      <td>130.0</td>\n",
       "      <td>158</td>\n",
       "      <td>Masculino</td>\n",
       "      <td>26</td>\n",
       "    </tr>\n",
       "  </tbody>\n",
       "</table>\n",
       "</div>"
      ],
      "text/plain": [
       "   id_cliente   peso  colesterol     genero  id_estado\n",
       "0           1  102.0         111  Masculino         23\n",
       "1           2  115.0         135  Masculino          7\n",
       "2           3  115.0         136  Masculino          4\n",
       "3           4  140.0         167   Feminino         24\n",
       "4           5  130.0         158  Masculino         26"
      ]
     },
     "execution_count": 2,
     "metadata": {},
     "output_type": "execute_result"
    }
   ],
   "source": [
    "clientes = pd.read_excel('data/DESM1/dados_clientes.xlsx')\n",
    "clientes.head()"
   ]
  },
  {
   "cell_type": "code",
   "execution_count": 3,
   "metadata": {},
   "outputs": [
    {
     "data": {
      "text/html": [
       "<div>\n",
       "<style scoped>\n",
       "    .dataframe tbody tr th:only-of-type {\n",
       "        vertical-align: middle;\n",
       "    }\n",
       "\n",
       "    .dataframe tbody tr th {\n",
       "        vertical-align: top;\n",
       "    }\n",
       "\n",
       "    .dataframe thead th {\n",
       "        text-align: right;\n",
       "    }\n",
       "</style>\n",
       "<table border=\"1\" class=\"dataframe\">\n",
       "  <thead>\n",
       "    <tr style=\"text-align: right;\">\n",
       "      <th></th>\n",
       "      <th>id_cliente</th>\n",
       "      <th>idade</th>\n",
       "    </tr>\n",
       "  </thead>\n",
       "  <tbody>\n",
       "    <tr>\n",
       "      <th>0</th>\n",
       "      <td>1</td>\n",
       "      <td>17</td>\n",
       "    </tr>\n",
       "    <tr>\n",
       "      <th>1</th>\n",
       "      <td>2</td>\n",
       "      <td>28</td>\n",
       "    </tr>\n",
       "    <tr>\n",
       "      <th>2</th>\n",
       "      <td>3</td>\n",
       "      <td>62</td>\n",
       "    </tr>\n",
       "    <tr>\n",
       "      <th>3</th>\n",
       "      <td>4</td>\n",
       "      <td>55</td>\n",
       "    </tr>\n",
       "    <tr>\n",
       "      <th>4</th>\n",
       "      <td>5</td>\n",
       "      <td>44</td>\n",
       "    </tr>\n",
       "  </tbody>\n",
       "</table>\n",
       "</div>"
      ],
      "text/plain": [
       "   id_cliente  idade\n",
       "0           1     17\n",
       "1           2     28\n",
       "2           3     62\n",
       "3           4     55\n",
       "4           5     44"
      ]
     },
     "execution_count": 3,
     "metadata": {},
     "output_type": "execute_result"
    }
   ],
   "source": [
    "idades = pd.read_csv('data/DESM1/idade_clientes.csv', sep=';')\n",
    "idades.head()"
   ]
  },
  {
   "cell_type": "code",
   "execution_count": 4,
   "metadata": {},
   "outputs": [
    {
     "data": {
      "text/plain": [
       "id_cliente    274.00000\n",
       "idade          42.79159\n",
       "dtype: float64"
      ]
     },
     "execution_count": 4,
     "metadata": {},
     "output_type": "execute_result"
    }
   ],
   "source": [
    "idades.mean()"
   ]
  },
  {
   "cell_type": "code",
   "execution_count": 5,
   "metadata": {},
   "outputs": [
    {
     "data": {
      "text/html": [
       "<div>\n",
       "<style scoped>\n",
       "    .dataframe tbody tr th:only-of-type {\n",
       "        vertical-align: middle;\n",
       "    }\n",
       "\n",
       "    .dataframe tbody tr th {\n",
       "        vertical-align: top;\n",
       "    }\n",
       "\n",
       "    .dataframe thead th {\n",
       "        text-align: right;\n",
       "    }\n",
       "</style>\n",
       "<table border=\"1\" class=\"dataframe\">\n",
       "  <thead>\n",
       "    <tr style=\"text-align: right;\">\n",
       "      <th></th>\n",
       "      <th>estado</th>\n",
       "      <th>sigla_estado</th>\n",
       "      <th>pais</th>\n",
       "    </tr>\n",
       "    <tr>\n",
       "      <th>id_estado</th>\n",
       "      <th></th>\n",
       "      <th></th>\n",
       "      <th></th>\n",
       "    </tr>\n",
       "  </thead>\n",
       "  <tbody>\n",
       "    <tr>\n",
       "      <th>18</th>\n",
       "      <td>Piauí</td>\n",
       "      <td>pi</td>\n",
       "      <td>NaN</td>\n",
       "    </tr>\n",
       "    <tr>\n",
       "      <th>24</th>\n",
       "      <td>Santa Catarina</td>\n",
       "      <td>sc</td>\n",
       "      <td>NaN</td>\n",
       "    </tr>\n",
       "  </tbody>\n",
       "</table>\n",
       "</div>"
      ],
      "text/plain": [
       "                   estado sigla_estado pais\n",
       "id_estado                                  \n",
       "18                  Piauí           pi  NaN\n",
       "24         Santa Catarina           sc  NaN"
      ]
     },
     "execution_count": 5,
     "metadata": {},
     "output_type": "execute_result"
    }
   ],
   "source": [
    "null_estados = estados.isnull()\n",
    "estados[null_estados.any(axis=1)]\n",
    "#estados.loc[estados['pais'].isnull(), 'pais'] = 'Brasil'\n",
    "# estados = estados.fillna(value='Brazil')\n"
   ]
  },
  {
   "cell_type": "code",
   "execution_count": 6,
   "metadata": {},
   "outputs": [
    {
     "name": "stderr",
     "output_type": "stream",
     "text": [
      "/tmp/ipykernel_14138/2471757708.py:2: UserWarning: Boolean Series key will be reindexed to match DataFrame index.\n",
      "  estados[null_estados.any(axis=1)]\n"
     ]
    },
    {
     "data": {
      "text/html": [
       "<div>\n",
       "<style scoped>\n",
       "    .dataframe tbody tr th:only-of-type {\n",
       "        vertical-align: middle;\n",
       "    }\n",
       "\n",
       "    .dataframe tbody tr th {\n",
       "        vertical-align: top;\n",
       "    }\n",
       "\n",
       "    .dataframe thead th {\n",
       "        text-align: right;\n",
       "    }\n",
       "</style>\n",
       "<table border=\"1\" class=\"dataframe\">\n",
       "  <thead>\n",
       "    <tr style=\"text-align: right;\">\n",
       "      <th></th>\n",
       "      <th>estado</th>\n",
       "      <th>sigla_estado</th>\n",
       "      <th>pais</th>\n",
       "    </tr>\n",
       "    <tr>\n",
       "      <th>id_estado</th>\n",
       "      <th></th>\n",
       "      <th></th>\n",
       "      <th></th>\n",
       "    </tr>\n",
       "  </thead>\n",
       "  <tbody>\n",
       "  </tbody>\n",
       "</table>\n",
       "</div>"
      ],
      "text/plain": [
       "Empty DataFrame\n",
       "Columns: [estado, sigla_estado, pais]\n",
       "Index: []"
      ]
     },
     "execution_count": 6,
     "metadata": {},
     "output_type": "execute_result"
    }
   ],
   "source": [
    "estados.dropna(subset=['pais'], inplace=True)\n",
    "estados[null_estados.any(axis=1)]"
   ]
  },
  {
   "cell_type": "code",
   "execution_count": 7,
   "metadata": {},
   "outputs": [
    {
     "data": {
      "text/html": [
       "<div>\n",
       "<style scoped>\n",
       "    .dataframe tbody tr th:only-of-type {\n",
       "        vertical-align: middle;\n",
       "    }\n",
       "\n",
       "    .dataframe tbody tr th {\n",
       "        vertical-align: top;\n",
       "    }\n",
       "\n",
       "    .dataframe thead th {\n",
       "        text-align: right;\n",
       "    }\n",
       "</style>\n",
       "<table border=\"1\" class=\"dataframe\">\n",
       "  <thead>\n",
       "    <tr style=\"text-align: right;\">\n",
       "      <th></th>\n",
       "      <th>id_cliente</th>\n",
       "      <th>peso</th>\n",
       "      <th>colesterol</th>\n",
       "      <th>genero</th>\n",
       "      <th>id_estado</th>\n",
       "    </tr>\n",
       "  </thead>\n",
       "  <tbody>\n",
       "    <tr>\n",
       "      <th>63</th>\n",
       "      <td>64</td>\n",
       "      <td>NaN</td>\n",
       "      <td>211</td>\n",
       "      <td>Masculino</td>\n",
       "      <td>12</td>\n",
       "    </tr>\n",
       "    <tr>\n",
       "      <th>101</th>\n",
       "      <td>102</td>\n",
       "      <td>NaN</td>\n",
       "      <td>230</td>\n",
       "      <td>Feminino</td>\n",
       "      <td>24</td>\n",
       "    </tr>\n",
       "    <tr>\n",
       "      <th>146</th>\n",
       "      <td>147</td>\n",
       "      <td>NaN</td>\n",
       "      <td>171</td>\n",
       "      <td>Masculino</td>\n",
       "      <td>23</td>\n",
       "    </tr>\n",
       "    <tr>\n",
       "      <th>195</th>\n",
       "      <td>196</td>\n",
       "      <td>NaN</td>\n",
       "      <td>143</td>\n",
       "      <td>Feminino</td>\n",
       "      <td>15</td>\n",
       "    </tr>\n",
       "    <tr>\n",
       "      <th>215</th>\n",
       "      <td>216</td>\n",
       "      <td>NaN</td>\n",
       "      <td>180</td>\n",
       "      <td>Masculino</td>\n",
       "      <td>13</td>\n",
       "    </tr>\n",
       "  </tbody>\n",
       "</table>\n",
       "</div>"
      ],
      "text/plain": [
       "     id_cliente  peso  colesterol     genero  id_estado\n",
       "63           64   NaN         211  Masculino         12\n",
       "101         102   NaN         230   Feminino         24\n",
       "146         147   NaN         171  Masculino         23\n",
       "195         196   NaN         143   Feminino         15\n",
       "215         216   NaN         180  Masculino         13"
      ]
     },
     "execution_count": 7,
     "metadata": {},
     "output_type": "execute_result"
    }
   ],
   "source": [
    "null_clientes = clientes.isnull()\n",
    "clientes[null_clientes.any(axis=1)]"
   ]
  },
  {
   "cell_type": "code",
   "execution_count": 8,
   "metadata": {},
   "outputs": [
    {
     "name": "stderr",
     "output_type": "stream",
     "text": [
      "/tmp/ipykernel_14138/2917692616.py:2: UserWarning: Boolean Series key will be reindexed to match DataFrame index.\n",
      "  clientes[null_clientes.any(axis=1)]\n"
     ]
    },
    {
     "data": {
      "text/html": [
       "<div>\n",
       "<style scoped>\n",
       "    .dataframe tbody tr th:only-of-type {\n",
       "        vertical-align: middle;\n",
       "    }\n",
       "\n",
       "    .dataframe tbody tr th {\n",
       "        vertical-align: top;\n",
       "    }\n",
       "\n",
       "    .dataframe thead th {\n",
       "        text-align: right;\n",
       "    }\n",
       "</style>\n",
       "<table border=\"1\" class=\"dataframe\">\n",
       "  <thead>\n",
       "    <tr style=\"text-align: right;\">\n",
       "      <th></th>\n",
       "      <th>id_cliente</th>\n",
       "      <th>peso</th>\n",
       "      <th>colesterol</th>\n",
       "      <th>genero</th>\n",
       "      <th>id_estado</th>\n",
       "    </tr>\n",
       "  </thead>\n",
       "  <tbody>\n",
       "  </tbody>\n",
       "</table>\n",
       "</div>"
      ],
      "text/plain": [
       "Empty DataFrame\n",
       "Columns: [id_cliente, peso, colesterol, genero, id_estado]\n",
       "Index: []"
      ]
     },
     "execution_count": 8,
     "metadata": {},
     "output_type": "execute_result"
    }
   ],
   "source": [
    "clientes.dropna(subset=['peso'], inplace=True)\n",
    "clientes[null_clientes.any(axis=1)]"
   ]
  },
  {
   "cell_type": "code",
   "execution_count": 9,
   "metadata": {},
   "outputs": [
    {
     "data": {
      "text/html": [
       "<div>\n",
       "<style scoped>\n",
       "    .dataframe tbody tr th:only-of-type {\n",
       "        vertical-align: middle;\n",
       "    }\n",
       "\n",
       "    .dataframe tbody tr th {\n",
       "        vertical-align: top;\n",
       "    }\n",
       "\n",
       "    .dataframe thead th {\n",
       "        text-align: right;\n",
       "    }\n",
       "</style>\n",
       "<table border=\"1\" class=\"dataframe\">\n",
       "  <thead>\n",
       "    <tr style=\"text-align: right;\">\n",
       "      <th></th>\n",
       "      <th>cod_cliente</th>\n",
       "      <th>peso</th>\n",
       "      <th>colesterol</th>\n",
       "      <th>genero</th>\n",
       "      <th>id_estado</th>\n",
       "      <th>estado</th>\n",
       "      <th>sigla_estado</th>\n",
       "      <th>pais</th>\n",
       "      <th>idade</th>\n",
       "    </tr>\n",
       "  </thead>\n",
       "  <tbody>\n",
       "    <tr>\n",
       "      <th>0</th>\n",
       "      <td>1</td>\n",
       "      <td>102.0</td>\n",
       "      <td>111</td>\n",
       "      <td>Masculino</td>\n",
       "      <td>23</td>\n",
       "      <td>Roraima</td>\n",
       "      <td>RR</td>\n",
       "      <td>Brasil</td>\n",
       "      <td>17</td>\n",
       "    </tr>\n",
       "    <tr>\n",
       "      <th>1</th>\n",
       "      <td>54</td>\n",
       "      <td>149.0</td>\n",
       "      <td>183</td>\n",
       "      <td>Masculino</td>\n",
       "      <td>23</td>\n",
       "      <td>Roraima</td>\n",
       "      <td>RR</td>\n",
       "      <td>Brasil</td>\n",
       "      <td>48</td>\n",
       "    </tr>\n",
       "    <tr>\n",
       "      <th>2</th>\n",
       "      <td>61</td>\n",
       "      <td>113.0</td>\n",
       "      <td>129</td>\n",
       "      <td>Feminino</td>\n",
       "      <td>23</td>\n",
       "      <td>Roraima</td>\n",
       "      <td>RR</td>\n",
       "      <td>Brasil</td>\n",
       "      <td>70</td>\n",
       "    </tr>\n",
       "    <tr>\n",
       "      <th>3</th>\n",
       "      <td>154</td>\n",
       "      <td>134.0</td>\n",
       "      <td>162</td>\n",
       "      <td>Feminino</td>\n",
       "      <td>23</td>\n",
       "      <td>Roraima</td>\n",
       "      <td>RR</td>\n",
       "      <td>Brasil</td>\n",
       "      <td>26</td>\n",
       "    </tr>\n",
       "    <tr>\n",
       "      <th>4</th>\n",
       "      <td>164</td>\n",
       "      <td>133.0</td>\n",
       "      <td>155</td>\n",
       "      <td>Feminino</td>\n",
       "      <td>23</td>\n",
       "      <td>Roraima</td>\n",
       "      <td>RR</td>\n",
       "      <td>Brasil</td>\n",
       "      <td>51</td>\n",
       "    </tr>\n",
       "    <tr>\n",
       "      <th>...</th>\n",
       "      <td>...</td>\n",
       "      <td>...</td>\n",
       "      <td>...</td>\n",
       "      <td>...</td>\n",
       "      <td>...</td>\n",
       "      <td>...</td>\n",
       "      <td>...</td>\n",
       "      <td>...</td>\n",
       "      <td>...</td>\n",
       "    </tr>\n",
       "    <tr>\n",
       "      <th>493</th>\n",
       "      <td>456</td>\n",
       "      <td>134.0</td>\n",
       "      <td>168</td>\n",
       "      <td>Masculino</td>\n",
       "      <td>12</td>\n",
       "      <td>Mato Grosso do Sul</td>\n",
       "      <td>MS</td>\n",
       "      <td>Brasil</td>\n",
       "      <td>29</td>\n",
       "    </tr>\n",
       "    <tr>\n",
       "      <th>494</th>\n",
       "      <td>464</td>\n",
       "      <td>144.0</td>\n",
       "      <td>171</td>\n",
       "      <td>Feminino</td>\n",
       "      <td>12</td>\n",
       "      <td>Mato Grosso do Sul</td>\n",
       "      <td>MS</td>\n",
       "      <td>Brasil</td>\n",
       "      <td>32</td>\n",
       "    </tr>\n",
       "    <tr>\n",
       "      <th>495</th>\n",
       "      <td>492</td>\n",
       "      <td>142.0</td>\n",
       "      <td>172</td>\n",
       "      <td>Masculino</td>\n",
       "      <td>12</td>\n",
       "      <td>Mato Grosso do Sul</td>\n",
       "      <td>MS</td>\n",
       "      <td>Brasil</td>\n",
       "      <td>64</td>\n",
       "    </tr>\n",
       "    <tr>\n",
       "      <th>496</th>\n",
       "      <td>493</td>\n",
       "      <td>153.0</td>\n",
       "      <td>192</td>\n",
       "      <td>Masculino</td>\n",
       "      <td>12</td>\n",
       "      <td>Mato Grosso do Sul</td>\n",
       "      <td>MS</td>\n",
       "      <td>Brasil</td>\n",
       "      <td>70</td>\n",
       "    </tr>\n",
       "    <tr>\n",
       "      <th>497</th>\n",
       "      <td>502</td>\n",
       "      <td>152.0</td>\n",
       "      <td>178</td>\n",
       "      <td>Masculino</td>\n",
       "      <td>12</td>\n",
       "      <td>Mato Grosso do Sul</td>\n",
       "      <td>MS</td>\n",
       "      <td>Brasil</td>\n",
       "      <td>41</td>\n",
       "    </tr>\n",
       "  </tbody>\n",
       "</table>\n",
       "<p>498 rows × 9 columns</p>\n",
       "</div>"
      ],
      "text/plain": [
       "     cod_cliente   peso  colesterol     genero  id_estado              estado  \\\n",
       "0              1  102.0         111  Masculino         23             Roraima   \n",
       "1             54  149.0         183  Masculino         23             Roraima   \n",
       "2             61  113.0         129   Feminino         23             Roraima   \n",
       "3            154  134.0         162   Feminino         23             Roraima   \n",
       "4            164  133.0         155   Feminino         23             Roraima   \n",
       "..           ...    ...         ...        ...        ...                 ...   \n",
       "493          456  134.0         168  Masculino         12  Mato Grosso do Sul   \n",
       "494          464  144.0         171   Feminino         12  Mato Grosso do Sul   \n",
       "495          492  142.0         172  Masculino         12  Mato Grosso do Sul   \n",
       "496          493  153.0         192  Masculino         12  Mato Grosso do Sul   \n",
       "497          502  152.0         178  Masculino         12  Mato Grosso do Sul   \n",
       "\n",
       "    sigla_estado    pais  idade  \n",
       "0             RR  Brasil     17  \n",
       "1             RR  Brasil     48  \n",
       "2             RR  Brasil     70  \n",
       "3             RR  Brasil     26  \n",
       "4             RR  Brasil     51  \n",
       "..           ...     ...    ...  \n",
       "493           MS  Brasil     29  \n",
       "494           MS  Brasil     32  \n",
       "495           MS  Brasil     64  \n",
       "496           MS  Brasil     70  \n",
       "497           MS  Brasil     41  \n",
       "\n",
       "[498 rows x 9 columns]"
      ]
     },
     "execution_count": 9,
     "metadata": {},
     "output_type": "execute_result"
    }
   ],
   "source": [
    "clientes_estado = pd.merge(clientes, estados, how='inner', on='id_estado')\n",
    "clientes_estado.sort_values(\"id_cliente\")\n",
    "base_completa = pd.merge(clientes_estado, idades, how='inner', on='id_cliente')\n",
    "base_completa.sort_values(\"id_cliente\")\n",
    "base_completa.rename(columns={'id_cliente': 'cod_cliente', 'genero_number' : 'cod_genero'}, inplace=True)\n",
    "base_completa['sigla_estado'] = base_completa.sigla_estado.str.upper()\n",
    "base_completa.reset_index(drop=True)\n"
   ]
  },
  {
   "cell_type": "code",
   "execution_count": 10,
   "metadata": {},
   "outputs": [
    {
     "data": {
      "text/plain": [
       "array([[<Axes: title={'center': 'idade'}>]], dtype=object)"
      ]
     },
     "execution_count": 10,
     "metadata": {},
     "output_type": "execute_result"
    },
    {
     "data": {
      "image/png": "[encoded data removed]",
      "text/plain": [
       "<Figure size 640x480 with 1 Axes>"
      ]
     },
     "metadata": {},
     "output_type": "display_data"
    }
   ],
   "source": [
    "base_completa.hist('idade', bins=30)"
   ]
  },
  {
   "cell_type": "code",
   "execution_count": 11,
   "metadata": {},
   "outputs": [],
   "source": [
    "from sklearn.cluster import KMeans\n",
    "import matplotlib.pyplot as plt\n",
    "\n",
    "#Elbow Method in K-means Clustering\n",
    "\n",
    "def calcular_wcss(dados):\n",
    "  wcss = []\n",
    "  for k in range(1, 11):\n",
    "    kmeans = KMeans(n_clusters = k, n_init=10, random_state=0)\n",
    "    kmeans.fit(X=dados)\n",
    "    wcss.append(kmeans.inertia_)\n",
    "  return wcss"
   ]
  },
  {
   "cell_type": "code",
   "execution_count": 12,
   "metadata": {},
   "outputs": [
    {
     "data": {
      "text/html": [
       "<div>\n",
       "<style scoped>\n",
       "    .dataframe tbody tr th:only-of-type {\n",
       "        vertical-align: middle;\n",
       "    }\n",
       "\n",
       "    .dataframe tbody tr th {\n",
       "        vertical-align: top;\n",
       "    }\n",
       "\n",
       "    .dataframe thead th {\n",
       "        text-align: right;\n",
       "    }\n",
       "</style>\n",
       "<table border=\"1\" class=\"dataframe\">\n",
       "  <thead>\n",
       "    <tr style=\"text-align: right;\">\n",
       "      <th></th>\n",
       "      <th>peso</th>\n",
       "      <th>colesterol</th>\n",
       "    </tr>\n",
       "  </thead>\n",
       "  <tbody>\n",
       "    <tr>\n",
       "      <th>0</th>\n",
       "      <td>102.0</td>\n",
       "      <td>111</td>\n",
       "    </tr>\n",
       "    <tr>\n",
       "      <th>1</th>\n",
       "      <td>149.0</td>\n",
       "      <td>183</td>\n",
       "    </tr>\n",
       "    <tr>\n",
       "      <th>2</th>\n",
       "      <td>113.0</td>\n",
       "      <td>129</td>\n",
       "    </tr>\n",
       "    <tr>\n",
       "      <th>3</th>\n",
       "      <td>134.0</td>\n",
       "      <td>162</td>\n",
       "    </tr>\n",
       "    <tr>\n",
       "      <th>4</th>\n",
       "      <td>133.0</td>\n",
       "      <td>155</td>\n",
       "    </tr>\n",
       "  </tbody>\n",
       "</table>\n",
       "</div>"
      ],
      "text/plain": [
       "    peso  colesterol\n",
       "0  102.0         111\n",
       "1  149.0         183\n",
       "2  113.0         129\n",
       "3  134.0         162\n",
       "4  133.0         155"
      ]
     },
     "execution_count": 12,
     "metadata": {},
     "output_type": "execute_result"
    }
   ],
   "source": [
    "dados_calc = base_completa[['peso', 'colesterol']]\n",
    "dados_calc.head()"
   ]
  },
  {
   "cell_type": "code",
   "execution_count": 13,
   "metadata": {},
   "outputs": [
    {
     "name": "stdout",
     "output_type": "stream",
     "text": [
      "for cluster 0, value of 1248240.6686746988\n",
      "for cluster 1, value of 298948.2448183639\n",
      "for cluster 2, value of 127838.91656630886\n",
      "for cluster 3, value of 73826.33539515288\n",
      "for cluster 4, value of 49003.063874672676\n",
      "for cluster 5, value of 34060.237959341765\n",
      "for cluster 6, value of 25083.602386011888\n",
      "for cluster 7, value of 20373.05335569742\n",
      "for cluster 8, value of 15959.273964232074\n",
      "for cluster 9, value of 13388.314509283886\n"
     ]
    }
   ],
   "source": [
    "wcss_clientes = calcular_wcss(dados_calc)\n",
    "# visualizando dados\n",
    "for i in range(len(wcss_clientes)):\n",
    "  print(f\"for cluster {i}, value of {wcss_clientes[i]}\")\n"
   ]
  },
  {
   "cell_type": "code",
   "execution_count": 14,
   "metadata": {},
   "outputs": [],
   "source": [
    "import plotly.express as px \n",
    "import plotly.offline as py\n",
    "import plotly.graph_objects as go # concatenização de graficos"
   ]
  },
  {
   "cell_type": "code",
   "execution_count": 15,
   "metadata": {},
   "outputs": [
    {
     "data": {
      "application/vnd.plotly.v1+json": {
       "config": {
        "plotlyServerURL": "https://plot.ly"
       },
       "data": [
        {
         "hovertemplate": "x=%{x}<br>y=%{y}<extra></extra>",
         "legendgroup": "",
         "line": {
          "color": "#636efa",
          "dash": "solid"
         },
         "marker": {
          "symbol": "circle"
         },
         "mode": "lines",
         "name": "",
         "orientation": "v",
         "showlegend": false,
         "type": "scatter",
         "x": [
          0,
          1,
          2,
          3,
          4,
          5,
          6,
          7,
          8,
          9
         ],
         "xaxis": "x",
         "y": [
          1248240.6686746988,
          298948.2448183639,
          127838.91656630886,
          73826.33539515288,
          49003.063874672676,
          34060.237959341765,
          25083.602386011888,
          20373.05335569742,
          15959.273964232074,
          13388.314509283886
         ],
         "yaxis": "y"
        }
       ],
       "layout": {
        "legend": {
         "tracegroupgap": 0
        },
        "margin": {
         "t": 60
        },
        "template": {
         "data": {
          "bar": [
           {
            "error_x": {
             "color": "#2a3f5f"
            },
            "error_y": {
             "color": "#2a3f5f"
            },
            "marker": {
             "line": {
              "color": "#E5ECF6",
              "width": 0.5
             },
             "pattern": {
              "fillmode": "overlay",
              "size": 10,
              "solidity": 0.2
             }
            },
            "type": "bar"
           }
          ],
          "barpolar": [
           {
            "marker": {
             "line": {
              "color": "#E5ECF6",
              "width": 0.5
             },
             "pattern": {
              "fillmode": "overlay",
              "size": 10,
              "solidity": 0.2
             }
            },
            "type": "barpolar"
           }
          ],
          "carpet": [
           {
            "aaxis": {
             "endlinecolor": "#2a3f5f",
             "gridcolor": "white",
             "linecolor": "white",
             "minorgridcolor": "white",
             "startlinecolor": "#2a3f5f"
            },
            "baxis": {
             "endlinecolor": "#2a3f5f",
             "gridcolor": "white",
             "linecolor": "white",
             "minorgridcolor": "white",
             "startlinecolor": "#2a3f5f"
            },
            "type": "carpet"
           }
          ],
          "choropleth": [
           {
            "colorbar": {
             "outlinewidth": 0,
             "ticks": ""
            },
            "type": "choropleth"
           }
          ],
          "contour": [
           {
            "colorbar": {
             "outlinewidth": 0,
             "ticks": ""
            },
            "colorscale": [
             [
              0,
              "#0d0887"
             ],
             [
              0.1111111111111111,
              "#46039f"
             ],
             [
              0.2222222222222222,
              "#7201a8"
             ],
             [
              0.3333333333333333,
              "#9c179e"
             ],
             [
              0.4444444444444444,
              "#bd3786"
             ],
             [
              0.5555555555555556,
              "#d8576b"
             ],
             [
              0.6666666666666666,
              "#ed7953"
             ],
             [
              0.7777777777777778,
              "#fb9f3a"
             ],
             [
              0.8888888888888888,
              "#fdca26"
             ],
             [
              1,
              "#f0f921"
             ]
            ],
            "type": "contour"
           }
          ],
          "contourcarpet": [
           {
            "colorbar": {
             "outlinewidth": 0,
             "ticks": ""
            },
            "type": "contourcarpet"
           }
          ],
          "heatmap": [
           {
            "colorbar": {
             "outlinewidth": 0,
             "ticks": ""
            },
            "colorscale": [
             [
              0,
              "#0d0887"
             ],
             [
              0.1111111111111111,
              "#46039f"
             ],
             [
              0.2222222222222222,
              "#7201a8"
             ],
             [
              0.3333333333333333,
              "#9c179e"
             ],
             [
              0.4444444444444444,
              "#bd3786"
             ],
             [
              0.5555555555555556,
              "#d8576b"
             ],
             [
              0.6666666666666666,
              "#ed7953"
             ],
             [
              0.7777777777777778,
              "#fb9f3a"
             ],
             [
              0.8888888888888888,
              "#fdca26"
             ],
             [
              1,
              "#f0f921"
             ]
            ],
            "type": "heatmap"
           }
          ],
          "heatmapgl": [
           {
            "colorbar": {
             "outlinewidth": 0,
             "ticks": ""
            },
            "colorscale": [
             [
              0,
              "#0d0887"
             ],
             [
              0.1111111111111111,
              "#46039f"
             ],
             [
              0.2222222222222222,
              "#7201a8"
             ],
             [
              0.3333333333333333,
              "#9c179e"
             ],
             [
              0.4444444444444444,
              "#bd3786"
             ],
             [
              0.5555555555555556,
              "#d8576b"
             ],
             [
              0.6666666666666666,
              "#ed7953"
             ],
             [
              0.7777777777777778,
              "#fb9f3a"
             ],
             [
              0.8888888888888888,
              "#fdca26"
             ],
             [
              1,
              "#f0f921"
             ]
            ],
            "type": "heatmapgl"
           }
          ],
          "histogram": [
           {
            "marker": {
             "pattern": {
              "fillmode": "overlay",
              "size": 10,
              "solidity": 0.2
             }
            },
            "type": "histogram"
           }
          ],
          "histogram2d": [
           {
            "colorbar": {
             "outlinewidth": 0,
             "ticks": ""
            },
            "colorscale": [
             [
              0,
              "#0d0887"
             ],
             [
              0.1111111111111111,
              "#46039f"
             ],
             [
              0.2222222222222222,
              "#7201a8"
             ],
             [
              0.3333333333333333,
              "#9c179e"
             ],
             [
              0.4444444444444444,
              "#bd3786"
             ],
             [
              0.5555555555555556,
              "#d8576b"
             ],
             [
              0.6666666666666666,
              "#ed7953"
             ],
             [
              0.7777777777777778,
              "#fb9f3a"
             ],
             [
              0.8888888888888888,
              "#fdca26"
             ],
             [
              1,
              "#f0f921"
             ]
            ],
            "type": "histogram2d"
           }
          ],
          "histogram2dcontour": [
           {
            "colorbar": {
             "outlinewidth": 0,
             "ticks": ""
            },
            "colorscale": [
             [
              0,
              "#0d0887"
             ],
             [
              0.1111111111111111,
              "#46039f"
             ],
             [
              0.2222222222222222,
              "#7201a8"
             ],
             [
              0.3333333333333333,
              "#9c179e"
             ],
             [
              0.4444444444444444,
              "#bd3786"
             ],
             [
              0.5555555555555556,
              "#d8576b"
             ],
             [
              0.6666666666666666,
              "#ed7953"
             ],
             [
              0.7777777777777778,
              "#fb9f3a"
             ],
             [
              0.8888888888888888,
              "#fdca26"
             ],
             [
              1,
              "#f0f921"
             ]
            ],
            "type": "histogram2dcontour"
           }
          ],
          "mesh3d": [
           {
            "colorbar": {
             "outlinewidth": 0,
             "ticks": ""
            },
            "type": "mesh3d"
           }
          ],
          "parcoords": [
           {
            "line": {
             "colorbar": {
              "outlinewidth": 0,
              "ticks": ""
             }
            },
            "type": "parcoords"
           }
          ],
          "pie": [
           {
            "automargin": true,
            "type": "pie"
           }
          ],
          "scatter": [
           {
            "fillpattern": {
             "fillmode": "overlay",
             "size": 10,
             "solidity": 0.2
            },
            "type": "scatter"
           }
          ],
          "scatter3d": [
           {
            "line": {
             "colorbar": {
              "outlinewidth": 0,
              "ticks": ""
             }
            },
            "marker": {
             "colorbar": {
              "outlinewidth": 0,
              "ticks": ""
             }
            },
            "type": "scatter3d"
           }
          ],
          "scattercarpet": [
           {
            "marker": {
             "colorbar": {
              "outlinewidth": 0,
              "ticks": ""
             }
            },
            "type": "scattercarpet"
           }
          ],
          "scattergeo": [
           {
            "marker": {
             "colorbar": {
              "outlinewidth": 0,
              "ticks": ""
             }
            },
            "type": "scattergeo"
           }
          ],
          "scattergl": [
           {
            "marker": {
             "colorbar": {
              "outlinewidth": 0,
              "ticks": ""
             }
            },
            "type": "scattergl"
           }
          ],
          "scattermapbox": [
           {
            "marker": {
             "colorbar": {
              "outlinewidth": 0,
              "ticks": ""
             }
            },
            "type": "scattermapbox"
           }
          ],
          "scatterpolar": [
           {
            "marker": {
             "colorbar": {
              "outlinewidth": 0,
              "ticks": ""
             }
            },
            "type": "scatterpolar"
           }
          ],
          "scatterpolargl": [
           {
            "marker": {
             "colorbar": {
              "outlinewidth": 0,
              "ticks": ""
             }
            },
            "type": "scatterpolargl"
           }
          ],
          "scatterternary": [
           {
            "marker": {
             "colorbar": {
              "outlinewidth": 0,
              "ticks": ""
             }
            },
            "type": "scatterternary"
           }
          ],
          "surface": [
           {
            "colorbar": {
             "outlinewidth": 0,
             "ticks": ""
            },
            "colorscale": [
             [
              0,
              "#0d0887"
             ],
             [
              0.1111111111111111,
              "#46039f"
             ],
             [
              0.2222222222222222,
              "#7201a8"
             ],
             [
              0.3333333333333333,
              "#9c179e"
             ],
             [
              0.4444444444444444,
              "#bd3786"
             ],
             [
              0.5555555555555556,
              "#d8576b"
             ],
             [
              0.6666666666666666,
              "#ed7953"
             ],
             [
              0.7777777777777778,
              "#fb9f3a"
             ],
             [
              0.8888888888888888,
              "#fdca26"
             ],
             [
              1,
              "#f0f921"
             ]
            ],
            "type": "surface"
           }
          ],
          "table": [
           {
            "cells": {
             "fill": {
              "color": "#EBF0F8"
             },
             "line": {
              "color": "white"
             }
            },
            "header": {
             "fill": {
              "color": "#C8D4E3"
             },
             "line": {
              "color": "white"
             }
            },
            "type": "table"
           }
          ]
         },
         "layout": {
          "annotationdefaults": {
           "arrowcolor": "#2a3f5f",
           "arrowhead": 0,
           "arrowwidth": 1
          },
          "autotypenumbers": "strict",
          "coloraxis": {
           "colorbar": {
            "outlinewidth": 0,
            "ticks": ""
           }
          },
          "colorscale": {
           "diverging": [
            [
             0,
             "#8e0152"
            ],
            [
             0.1,
             "#c51b7d"
            ],
            [
             0.2,
             "#de77ae"
            ],
            [
             0.3,
             "#f1b6da"
            ],
            [
             0.4,
             "#fde0ef"
            ],
            [
             0.5,
             "#f7f7f7"
            ],
            [
             0.6,
             "#e6f5d0"
            ],
            [
             0.7,
             "#b8e186"
            ],
            [
             0.8,
             "#7fbc41"
            ],
            [
             0.9,
             "#4d9221"
            ],
            [
             1,
             "#276419"
            ]
           ],
           "sequential": [
            [
             0,
             "#0d0887"
            ],
            [
             0.1111111111111111,
             "#46039f"
            ],
            [
             0.2222222222222222,
             "#7201a8"
            ],
            [
             0.3333333333333333,
             "#9c179e"
            ],
            [
             0.4444444444444444,
             "#bd3786"
            ],
            [
             0.5555555555555556,
             "#d8576b"
            ],
            [
             0.6666666666666666,
             "#ed7953"
            ],
            [
             0.7777777777777778,
             "#fb9f3a"
            ],
            [
             0.8888888888888888,
             "#fdca26"
            ],
            [
             1,
             "#f0f921"
            ]
           ],
           "sequentialminus": [
            [
             0,
             "#0d0887"
            ],
            [
             0.1111111111111111,
             "#46039f"
            ],
            [
             0.2222222222222222,
             "#7201a8"
            ],
            [
             0.3333333333333333,
             "#9c179e"
            ],
            [
             0.4444444444444444,
             "#bd3786"
            ],
            [
             0.5555555555555556,
             "#d8576b"
            ],
            [
             0.6666666666666666,
             "#ed7953"
            ],
            [
             0.7777777777777778,
             "#fb9f3a"
            ],
            [
             0.8888888888888888,
             "#fdca26"
            ],
            [
             1,
             "#f0f921"
            ]
           ]
          },
          "colorway": [
           "#636efa",
           "#EF553B",
           "#00cc96",
           "#ab63fa",
           "#FFA15A",
           "#19d3f3",
           "#FF6692",
           "#B6E880",
           "#FF97FF",
           "#FECB52"
          ],
          "font": {
           "color": "#2a3f5f"
          },
          "geo": {
           "bgcolor": "white",
           "lakecolor": "white",
           "landcolor": "#E5ECF6",
           "showlakes": true,
           "showland": true,
           "subunitcolor": "white"
          },
          "hoverlabel": {
           "align": "left"
          },
          "hovermode": "closest",
          "mapbox": {
           "style": "light"
          },
          "paper_bgcolor": "white",
          "plot_bgcolor": "#E5ECF6",
          "polar": {
           "angularaxis": {
            "gridcolor": "white",
            "linecolor": "white",
            "ticks": ""
           },
           "bgcolor": "#E5ECF6",
           "radialaxis": {
            "gridcolor": "white",
            "linecolor": "white",
            "ticks": ""
           }
          },
          "scene": {
           "xaxis": {
            "backgroundcolor": "#E5ECF6",
            "gridcolor": "white",
            "gridwidth": 2,
            "linecolor": "white",
            "showbackground": true,
            "ticks": "",
            "zerolinecolor": "white"
           },
           "yaxis": {
            "backgroundcolor": "#E5ECF6",
            "gridcolor": "white",
            "gridwidth": 2,
            "linecolor": "white",
            "showbackground": true,
            "ticks": "",
            "zerolinecolor": "white"
           },
           "zaxis": {
            "backgroundcolor": "#E5ECF6",
            "gridcolor": "white",
            "gridwidth": 2,
            "linecolor": "white",
            "showbackground": true,
            "ticks": "",
            "zerolinecolor": "white"
           }
          },
          "shapedefaults": {
           "line": {
            "color": "#2a3f5f"
           }
          },
          "ternary": {
           "aaxis": {
            "gridcolor": "white",
            "linecolor": "white",
            "ticks": ""
           },
           "baxis": {
            "gridcolor": "white",
            "linecolor": "white",
            "ticks": ""
           },
           "bgcolor": "#E5ECF6",
           "caxis": {
            "gridcolor": "white",
            "linecolor": "white",
            "ticks": ""
           }
          },
          "title": {
           "x": 0.05
          },
          "xaxis": {
           "automargin": true,
           "gridcolor": "white",
           "linecolor": "white",
           "ticks": "",
           "title": {
            "standoff": 15
           },
           "zerolinecolor": "white",
           "zerolinewidth": 2
          },
          "yaxis": {
           "automargin": true,
           "gridcolor": "white",
           "linecolor": "white",
           "ticks": "",
           "title": {
            "standoff": 15
           },
           "zerolinecolor": "white",
           "zerolinewidth": 2
          }
         }
        },
        "xaxis": {
         "anchor": "y",
         "domain": [
          0,
          1
         ],
         "title": {
          "text": "x"
         }
        },
        "yaxis": {
         "anchor": "x",
         "domain": [
          0,
          1
         ],
         "title": {
          "text": "y"
         }
        }
       }
      }
     },
     "metadata": {},
     "output_type": "display_data"
    }
   ],
   "source": [
    "grafico_wcss = px.line( x= range(10),\n",
    "                       y=wcss_clientes\n",
    "                       )\n",
    "grafico_wcss.show()"
   ]
  },
  {
   "cell_type": "code",
   "execution_count": 16,
   "metadata": {},
   "outputs": [
    {
     "name": "stderr",
     "output_type": "stream",
     "text": [
      "/home/wedivv/.local/lib/python3.10/site-packages/sklearn/cluster/_kmeans.py:870: FutureWarning:\n",
      "\n",
      "The default value of `n_init` will change from 10 to 'auto' in 1.4. Set the value of `n_init` explicitly to suppress the warning\n",
      "\n"
     ]
    },
    {
     "data": {
      "text/plain": [
       "array([[182.25316456, 217.0443038 ],\n",
       "       [110.35057471, 125.77011494],\n",
       "       [141.86746988, 173.03012048]])"
      ]
     },
     "execution_count": 16,
     "metadata": {},
     "output_type": "execute_result"
    }
   ],
   "source": [
    "kmeans_clientes = KMeans(n_clusters=3, random_state=0)\n",
    "base_completa['cluster'] = kmeans_clientes.fit_predict(dados_calc)\n",
    "centroides_cluster = kmeans_clientes.cluster_centers_\n",
    "centroides_cluster"
   ]
  },
  {
   "cell_type": "code",
   "execution_count": 17,
   "metadata": {},
   "outputs": [],
   "source": [
    "def plotar_grafico(X, Y, xlabel, ylabel):\n",
    "    grafico = px.scatter( x = X,\n",
    "                         y = Y,\n",
    "                         color= base_completa['cluster'])\n",
    "    \n",
    "    grafico.add_scatter(x=centroides_cluster[:,0], y=centroides_cluster[:,1], mode=\"markers\",\n",
    "            marker=dict(size=17, color=\"LightSeaGreen\"))\n",
    "    \n",
    "    fig = go.Figure(grafico)\n",
    "    fig.update_layout(title='Analise de Clusters',\n",
    "                    xaxis_title=xlabel,\n",
    "                    yaxis_title=ylabel)\n",
    "    fig.show()\n",
    "\n"
   ]
  },
  {
   "cell_type": "code",
   "execution_count": 18,
   "metadata": {},
   "outputs": [
    {
     "data": {
      "application/vnd.plotly.v1+json": {
       "config": {
        "plotlyServerURL": "https://plot.ly"
       },
       "data": [
        {
         "hovertemplate": "x=%{x}<br>y=%{y}<br>color=%{marker.color}<extra></extra>",
         "legendgroup": "",
         "marker": {
          "color": [
           1,
           2,
           1,
           2,
           2,
           1,
           2,
           1,
           2,
           2,
           0,
           0,
           1,
           2,
           0,
           1,
           1,
           1,
           2,
           0,
           2,
           2,
           0,
           1,
           0,
           0,
           0,
           1,
           0,
           0,
           2,
           0,
           1,
           1,
           1,
           1,
           0,
           1,
           0,
           1,
           1,
           1,
           0,
           1,
           1,
           1,
           1,
           0,
           0,
           1,
           0,
           1,
           0,
           0,
           1,
           2,
           0,
           1,
           2,
           2,
           1,
           1,
           2,
           0,
           2,
           1,
           2,
           1,
           1,
           2,
           1,
           0,
           0,
           0,
           0,
           1,
           2,
           2,
           2,
           0,
           2,
           0,
           1,
           0,
           0,
           2,
           2,
           1,
           0,
           1,
           0,
           2,
           0,
           2,
           2,
           2,
           2,
           0,
           2,
           1,
           2,
           2,
           2,
           2,
           0,
           0,
           1,
           0,
           1,
           1,
           2,
           2,
           0,
           0,
           1,
           2,
           2,
           1,
           2,
           1,
           2,
           1,
           2,
           0,
           1,
           0,
           1,
           0,
           0,
           0,
           1,
           0,
           0,
           0,
           2,
           1,
           0,
           0,
           2,
           2,
           1,
           1,
           1,
           2,
           2,
           0,
           2,
           1,
           1,
           0,
           2,
           2,
           0,
           1,
           2,
           1,
           1,
           1,
           1,
           2,
           2,
           1,
           1,
           0,
           2,
           2,
           0,
           0,
           0,
           0,
           1,
           1,
           0,
           2,
           1,
           0,
           0,
           1,
           2,
           0,
           0,
           1,
           2,
           2,
           0,
           2,
           2,
           1,
           1,
           0,
           2,
           0,
           2,
           0,
           0,
           0,
           0,
           0,
           2,
           0,
           1,
           1,
           2,
           1,
           0,
           0,
           1,
           2,
           2,
           1,
           2,
           0,
           2,
           0,
           0,
           0,
           0,
           1,
           1,
           2,
           0,
           1,
           1,
           2,
           2,
           2,
           1,
           1,
           0,
           0,
           1,
           2,
           2,
           2,
           2,
           2,
           2,
           0,
           1,
           1,
           0,
           1,
           1,
           0,
           2,
           0,
           1,
           2,
           1,
           1,
           2,
           2,
           1,
           0,
           1,
           1,
           2,
           2,
           1,
           1,
           0,
           1,
           2,
           2,
           0,
           0,
           2,
           0,
           2,
           0,
           0,
           0,
           1,
           2,
           0,
           1,
           0,
           2,
           0,
           0,
           2,
           1,
           1,
           1,
           0,
           2,
           1,
           1,
           2,
           2,
           1,
           0,
           0,
           0,
           0,
           0,
           0,
           0,
           0,
           1,
           0,
           1,
           1,
           2,
           0,
           2,
           0,
           2,
           0,
           1,
           1,
           1,
           0,
           2,
           2,
           1,
           0,
           2,
           1,
           1,
           0,
           0,
           1,
           0,
           1,
           2,
           1,
           1,
           1,
           2,
           0,
           2,
           0,
           2,
           2,
           1,
           1,
           0,
           2,
           2,
           0,
           0,
           0,
           0,
           0,
           0,
           0,
           2,
           2,
           0,
           1,
           2,
           1,
           1,
           0,
           0,
           0,
           2,
           0,
           1,
           1,
           1,
           1,
           1,
           2,
           2,
           1,
           2,
           1,
           0,
           2,
           0,
           1,
           2,
           0,
           1,
           2,
           0,
           0,
           1,
           0,
           2,
           1,
           1,
           1,
           2,
           2,
           0,
           2,
           2,
           1,
           2,
           0,
           1,
           1,
           1,
           0,
           2,
           2,
           2,
           0,
           2,
           1,
           1,
           2,
           1,
           2,
           1,
           1,
           2,
           0,
           2,
           1,
           1,
           0,
           2,
           0,
           0,
           0,
           1,
           2,
           1,
           1,
           2,
           0,
           2,
           2,
           1,
           0,
           1,
           2,
           2,
           1,
           2,
           2,
           1,
           1,
           1,
           1,
           2,
           0,
           2,
           2,
           2,
           1,
           2,
           2,
           1,
           2,
           2,
           1,
           1,
           0,
           1,
           2,
           2,
           1,
           2,
           1,
           0,
           0,
           2,
           1,
           2,
           1,
           2,
           1,
           1,
           0,
           0,
           0,
           0,
           1,
           1,
           1,
           0,
           1,
           2,
           1,
           1,
           1,
           2,
           0,
           1,
           2,
           1,
           2,
           1,
           2,
           0,
           2,
           0,
           2,
           2,
           2,
           2,
           2,
           2
          ],
          "coloraxis": "coloraxis",
          "symbol": "circle"
         },
         "mode": "markers",
         "name": "",
         "orientation": "v",
         "showlegend": false,
         "type": "scatter",
         "x": [
          102,
          149,
          113,
          134,
          133,
          115,
          146,
          125,
          124,
          127,
          183,
          199,
          115,
          151,
          200,
          120,
          125,
          115,
          156,
          183,
          128,
          157,
          170,
          113,
          192,
          183,
          173,
          109,
          176,
          195,
          132,
          168,
          119,
          110,
          117,
          100,
          200,
          105,
          162,
          115,
          117,
          105,
          164,
          119,
          113,
          101,
          105,
          203,
          186,
          120,
          200,
          111,
          188,
          190,
          99,
          129,
          186,
          111,
          151,
          151,
          104,
          113,
          154,
          185,
          130,
          114,
          130,
          115,
          121,
          126,
          100,
          159,
          180,
          197,
          185,
          119,
          158,
          140,
          138,
          182,
          132,
          167,
          122,
          198,
          169,
          124,
          150,
          96,
          195,
          115,
          191,
          133,
          191,
          140,
          154,
          149,
          141,
          192,
          134,
          97,
          148,
          145,
          125,
          156,
          181,
          181,
          120,
          176,
          102,
          110,
          153,
          141,
          190,
          191,
          100,
          150,
          137,
          103,
          133,
          106,
          158,
          98,
          145,
          196,
          114,
          192,
          101,
          181,
          189,
          171,
          103,
          186,
          188,
          178,
          139,
          102,
          176,
          203,
          141,
          141,
          97,
          100,
          102,
          153,
          137,
          183,
          142,
          118,
          115,
          184,
          137,
          148,
          171,
          119,
          157,
          107,
          104,
          109,
          95,
          138,
          128,
          121,
          103,
          180,
          124,
          156,
          185,
          191,
          180,
          197,
          109,
          104,
          171,
          151,
          126,
          188,
          158,
          96,
          152,
          195,
          166,
          122,
          142,
          154,
          198,
          154,
          154,
          105,
          107,
          203,
          145,
          180,
          128,
          203,
          178,
          174,
          197,
          168,
          129,
          186,
          123,
          100,
          128,
          113,
          169,
          176,
          104,
          146,
          128,
          108,
          134,
          180,
          157,
          194,
          189,
          168,
          193,
          123,
          124,
          156,
          200,
          117,
          108,
          158,
          150,
          132,
          100,
          108,
          199,
          172,
          121,
          155,
          150,
          136,
          133,
          153,
          144,
          185,
          120,
          105,
          186,
          100,
          107,
          191,
          132,
          182,
          113,
          129,
          116,
          111,
          141,
          131,
          107,
          183,
          100,
          120,
          158,
          154,
          116,
          100,
          201,
          111,
          149,
          134,
          190,
          196,
          159,
          199,
          130,
          174,
          192,
          175,
          111,
          146,
          181,
          101,
          177,
          154,
          184,
          167,
          126,
          98,
          115,
          111,
          176,
          127,
          114,
          123,
          140,
          137,
          113,
          179,
          167,
          171,
          184,
          161,
          173,
          184,
          171,
          117,
          180,
          121,
          101,
          151,
          172,
          152,
          183,
          129,
          180,
          124,
          103,
          116,
          187,
          135,
          128,
          110,
          160,
          140,
          109,
          98,
          192,
          179,
          118,
          179,
          119,
          142,
          115,
          116,
          108,
          150,
          187,
          146,
          179,
          150,
          142,
          116,
          104,
          171,
          150,
          134,
          169,
          182,
          194,
          177,
          172,
          175,
          180,
          131,
          138,
          190,
          106,
          148,
          97,
          114,
          181,
          187,
          180,
          153,
          170,
          110,
          123,
          107,
          96,
          101,
          158,
          127,
          100,
          147,
          109,
          171,
          132,
          181,
          117,
          149,
          185,
          97,
          152,
          168,
          168,
          126,
          201,
          127,
          116,
          117,
          104,
          154,
          134,
          172,
          157,
          137,
          106,
          135,
          188,
          103,
          116,
          99,
          173,
          127,
          150,
          151,
          166,
          145,
          102,
          116,
          154,
          106,
          131,
          113,
          118,
          154,
          187,
          141,
          125,
          110,
          160,
          132,
          187,
          188,
          172,
          96,
          149,
          118,
          122,
          145,
          174,
          128,
          155,
          122,
          184,
          107,
          129,
          134,
          110,
          132,
          143,
          112,
          110,
          104,
          103,
          135,
          161,
          148,
          147,
          134,
          119,
          145,
          127,
          118,
          140,
          133,
          113,
          108,
          196,
          112,
          157,
          156,
          108,
          134,
          112,
          196,
          171,
          132,
          119,
          158,
          118,
          128,
          101,
          117,
          188,
          203,
          174,
          168,
          117,
          106,
          110,
          166,
          103,
          140,
          97,
          107,
          97,
          129,
          203,
          117,
          154,
          112,
          155,
          123,
          126,
          181,
          125,
          182,
          145,
          134,
          144,
          142,
          153,
          152
         ],
         "xaxis": "x",
         "y": [
          111,
          183,
          129,
          162,
          155,
          135,
          179,
          148,
          151,
          152,
          214,
          232,
          131,
          190,
          232,
          142,
          149,
          135,
          192,
          218,
          154,
          196,
          208,
          130,
          228,
          213,
          208,
          127,
          212,
          231,
          159,
          211,
          145,
          124,
          133,
          110,
          228,
          113,
          196,
          136,
          139,
          118,
          197,
          141,
          130,
          110,
          116,
          232,
          220,
          143,
          232,
          129,
          220,
          226,
          106,
          157,
          219,
          126,
          183,
          186,
          116,
          124,
          190,
          226,
          158,
          131,
          158,
          138,
          143,
          152,
          107,
          202,
          212,
          224,
          219,
          144,
          189,
          167,
          169,
          221,
          162,
          200,
          143,
          227,
          204,
          152,
          185,
          105,
          222,
          132,
          222,
          164,
          222,
          173,
          187,
          184,
          168,
          224,
          169,
          108,
          176,
          176,
          152,
          195,
          214,
          219,
          138,
          208,
          114,
          124,
          188,
          170,
          222,
          223,
          107,
          180,
          163,
          115,
          158,
          114,
          190,
          105,
          169,
          227,
          136,
          226,
          110,
          222,
          223,
          205,
          113,
          221,
          222,
          213,
          167,
          115,
          209,
          231,
          172,
          172,
          112,
          110,
          116,
          190,
          167,
          212,
          170,
          133,
          134,
          225,
          167,
          174,
          205,
          139,
          194,
          115,
          116,
          125,
          102,
          167,
          156,
          142,
          107,
          213,
          152,
          194,
          221,
          226,
          220,
          232,
          122,
          109,
          211,
          178,
          147,
          224,
          201,
          102,
          189,
          225,
          203,
          146,
          169,
          184,
          227,
          189,
          187,
          116,
          115,
          233,
          174,
          215,
          155,
          234,
          213,
          208,
          225,
          204,
          157,
          221,
          146,
          106,
          151,
          132,
          199,
          211,
          113,
          179,
          156,
          122,
          158,
          216,
          191,
          227,
          223,
          204,
          224,
          147,
          148,
          195,
          233,
          142,
          121,
          195,
          191,
          161,
          110,
          120,
          227,
          205,
          145,
          196,
          178,
          169,
          163,
          189,
          172,
          220,
          139,
          108,
          224,
          110,
          126,
          226,
          166,
          218,
          128,
          162,
          144,
          126,
          174,
          165,
          122,
          219,
          106,
          144,
          196,
          191,
          138,
          102,
          235,
          128,
          183,
          167,
          223,
          228,
          193,
          228,
          158,
          209,
          224,
          214,
          123,
          181,
          214,
          108,
          217,
          190,
          226,
          199,
          154,
          106,
          139,
          130,
          216,
          150,
          133,
          149,
          168,
          166,
          131,
          214,
          204,
          212,
          222,
          201,
          211,
          220,
          204,
          141,
          218,
          146,
          109,
          184,
          210,
          193,
          218,
          155,
          216,
          149,
          116,
          136,
          222,
          170,
          156,
          119,
          202,
          166,
          129,
          107,
          225,
          217,
          135,
          211,
          138,
          175,
          137,
          130,
          123,
          185,
          221,
          177,
          216,
          179,
          168,
          136,
          108,
          205,
          182,
          160,
          204,
          222,
          224,
          214,
          205,
          215,
          219,
          159,
          171,
          222,
          122,
          177,
          104,
          132,
          224,
          225,
          219,
          191,
          204,
          128,
          145,
          121,
          108,
          105,
          198,
          151,
          110,
          180,
          116,
          212,
          159,
          217,
          147,
          183,
          220,
          106,
          195,
          201,
          204,
          149,
          228,
          156,
          141,
          129,
          109,
          192,
          163,
          211,
          194,
          169,
          118,
          166,
          226,
          117,
          139,
          105,
          212,
          159,
          178,
          188,
          199,
          175,
          111,
          139,
          189,
          120,
          162,
          128,
          129,
          185,
          226,
          176,
          150,
          128,
          199,
          166,
          220,
          221,
          207,
          105,
          185,
          140,
          145,
          173,
          214,
          160,
          185,
          144,
          222,
          120,
          157,
          164,
          128,
          163,
          168,
          133,
          127,
          116,
          111,
          170,
          199,
          176,
          172,
          159,
          146,
          171,
          155,
          133,
          173,
          158,
          129,
          127,
          232,
          134,
          194,
          191,
          123,
          158,
          124,
          225,
          211,
          165,
          141,
          193,
          131,
          153,
          112,
          140,
          223,
          228,
          208,
          199,
          138,
          115,
          120,
          200,
          110,
          168,
          106,
          117,
          104,
          156,
          235,
          134,
          195,
          127,
          191,
          151,
          152,
          216,
          154,
          218,
          176,
          168,
          171,
          172,
          192,
          178
         ],
         "yaxis": "y"
        },
        {
         "marker": {
          "color": "LightSeaGreen",
          "size": 17
         },
         "mode": "markers",
         "type": "scatter",
         "x": [
          182.25316455696196,
          110.35057471264363,
          141.86746987951807
         ],
         "y": [
          217.04430379746827,
          125.77011494252864,
          173.03012048192772
         ]
        }
       ],
       "layout": {
        "coloraxis": {
         "colorbar": {
          "title": {
           "text": "color"
          }
         },
         "colorscale": [
          [
           0,
           "#0d0887"
          ],
          [
           0.1111111111111111,
           "#46039f"
          ],
          [
           0.2222222222222222,
           "#7201a8"
          ],
          [
           0.3333333333333333,
           "#9c179e"
          ],
          [
           0.4444444444444444,
           "#bd3786"
          ],
          [
           0.5555555555555556,
           "#d8576b"
          ],
          [
           0.6666666666666666,
           "#ed7953"
          ],
          [
           0.7777777777777778,
           "#fb9f3a"
          ],
          [
           0.8888888888888888,
           "#fdca26"
          ],
          [
           1,
           "#f0f921"
          ]
         ]
        },
        "legend": {
         "tracegroupgap": 0
        },
        "margin": {
         "t": 60
        },
        "template": {
         "data": {
          "bar": [
           {
            "error_x": {
             "color": "#2a3f5f"
            },
            "error_y": {
             "color": "#2a3f5f"
            },
            "marker": {
             "line": {
              "color": "#E5ECF6",
              "width": 0.5
             },
             "pattern": {
              "fillmode": "overlay",
              "size": 10,
              "solidity": 0.2
             }
            },
            "type": "bar"
           }
          ],
          "barpolar": [
           {
            "marker": {
             "line": {
              "color": "#E5ECF6",
              "width": 0.5
             },
             "pattern": {
              "fillmode": "overlay",
              "size": 10,
              "solidity": 0.2
             }
            },
            "type": "barpolar"
           }
          ],
          "carpet": [
           {
            "aaxis": {
             "endlinecolor": "#2a3f5f",
             "gridcolor": "white",
             "linecolor": "white",
             "minorgridcolor": "white",
             "startlinecolor": "#2a3f5f"
            },
            "baxis": {
             "endlinecolor": "#2a3f5f",
             "gridcolor": "white",
             "linecolor": "white",
             "minorgridcolor": "white",
             "startlinecolor": "#2a3f5f"
            },
            "type": "carpet"
           }
          ],
          "choropleth": [
           {
            "colorbar": {
             "outlinewidth": 0,
             "ticks": ""
            },
            "type": "choropleth"
           }
          ],
          "contour": [
           {
            "colorbar": {
             "outlinewidth": 0,
             "ticks": ""
            },
            "colorscale": [
             [
              0,
              "#0d0887"
             ],
             [
              0.1111111111111111,
              "#46039f"
             ],
             [
              0.2222222222222222,
              "#7201a8"
             ],
             [
              0.3333333333333333,
              "#9c179e"
             ],
             [
              0.4444444444444444,
              "#bd3786"
             ],
             [
              0.5555555555555556,
              "#d8576b"
             ],
             [
              0.6666666666666666,
              "#ed7953"
             ],
             [
              0.7777777777777778,
              "#fb9f3a"
             ],
             [
              0.8888888888888888,
              "#fdca26"
             ],
             [
              1,
              "#f0f921"
             ]
            ],
            "type": "contour"
           }
          ],
          "contourcarpet": [
           {
            "colorbar": {
             "outlinewidth": 0,
             "ticks": ""
            },
            "type": "contourcarpet"
           }
          ],
          "heatmap": [
           {
            "colorbar": {
             "outlinewidth": 0,
             "ticks": ""
            },
            "colorscale": [
             [
              0,
              "#0d0887"
             ],
             [
              0.1111111111111111,
              "#46039f"
             ],
             [
              0.2222222222222222,
              "#7201a8"
             ],
             [
              0.3333333333333333,
              "#9c179e"
             ],
             [
              0.4444444444444444,
              "#bd3786"
             ],
             [
              0.5555555555555556,
              "#d8576b"
             ],
             [
              0.6666666666666666,
              "#ed7953"
             ],
             [
              0.7777777777777778,
              "#fb9f3a"
             ],
             [
              0.8888888888888888,
              "#fdca26"
             ],
             [
              1,
              "#f0f921"
             ]
            ],
            "type": "heatmap"
           }
          ],
          "heatmapgl": [
           {
            "colorbar": {
             "outlinewidth": 0,
             "ticks": ""
            },
            "colorscale": [
             [
              0,
              "#0d0887"
             ],
             [
              0.1111111111111111,
              "#46039f"
             ],
             [
              0.2222222222222222,
              "#7201a8"
             ],
             [
              0.3333333333333333,
              "#9c179e"
             ],
             [
              0.4444444444444444,
              "#bd3786"
             ],
             [
              0.5555555555555556,
              "#d8576b"
             ],
             [
              0.6666666666666666,
              "#ed7953"
             ],
             [
              0.7777777777777778,
              "#fb9f3a"
             ],
             [
              0.8888888888888888,
              "#fdca26"
             ],
             [
              1,
              "#f0f921"
             ]
            ],
            "type": "heatmapgl"
           }
          ],
          "histogram": [
           {
            "marker": {
             "pattern": {
              "fillmode": "overlay",
              "size": 10,
              "solidity": 0.2
             }
            },
            "type": "histogram"
           }
          ],
          "histogram2d": [
           {
            "colorbar": {
             "outlinewidth": 0,
             "ticks": ""
            },
            "colorscale": [
             [
              0,
              "#0d0887"
             ],
             [
              0.1111111111111111,
              "#46039f"
             ],
             [
              0.2222222222222222,
              "#7201a8"
             ],
             [
              0.3333333333333333,
              "#9c179e"
             ],
             [
              0.4444444444444444,
              "#bd3786"
             ],
             [
              0.5555555555555556,
              "#d8576b"
             ],
             [
              0.6666666666666666,
              "#ed7953"
             ],
             [
              0.7777777777777778,
              "#fb9f3a"
             ],
             [
              0.8888888888888888,
              "#fdca26"
             ],
             [
              1,
              "#f0f921"
             ]
            ],
            "type": "histogram2d"
           }
          ],
          "histogram2dcontour": [
           {
            "colorbar": {
             "outlinewidth": 0,
             "ticks": ""
            },
            "colorscale": [
             [
              0,
              "#0d0887"
             ],
             [
              0.1111111111111111,
              "#46039f"
             ],
             [
              0.2222222222222222,
              "#7201a8"
             ],
             [
              0.3333333333333333,
              "#9c179e"
             ],
             [
              0.4444444444444444,
              "#bd3786"
             ],
             [
              0.5555555555555556,
              "#d8576b"
             ],
             [
              0.6666666666666666,
              "#ed7953"
             ],
             [
              0.7777777777777778,
              "#fb9f3a"
             ],
             [
              0.8888888888888888,
              "#fdca26"
             ],
             [
              1,
              "#f0f921"
             ]
            ],
            "type": "histogram2dcontour"
           }
          ],
          "mesh3d": [
           {
            "colorbar": {
             "outlinewidth": 0,
             "ticks": ""
            },
            "type": "mesh3d"
           }
          ],
          "parcoords": [
           {
            "line": {
             "colorbar": {
              "outlinewidth": 0,
              "ticks": ""
             }
            },
            "type": "parcoords"
           }
          ],
          "pie": [
           {
            "automargin": true,
            "type": "pie"
           }
          ],
          "scatter": [
           {
            "fillpattern": {
             "fillmode": "overlay",
             "size": 10,
             "solidity": 0.2
            },
            "type": "scatter"
           }
          ],
          "scatter3d": [
           {
            "line": {
             "colorbar": {
              "outlinewidth": 0,
              "ticks": ""
             }
            },
            "marker": {
             "colorbar": {
              "outlinewidth": 0,
              "ticks": ""
             }
            },
            "type": "scatter3d"
           }
          ],
          "scattercarpet": [
           {
            "marker": {
             "colorbar": {
              "outlinewidth": 0,
              "ticks": ""
             }
            },
            "type": "scattercarpet"
           }
          ],
          "scattergeo": [
           {
            "marker": {
             "colorbar": {
              "outlinewidth": 0,
              "ticks": ""
             }
            },
            "type": "scattergeo"
           }
          ],
          "scattergl": [
           {
            "marker": {
             "colorbar": {
              "outlinewidth": 0,
              "ticks": ""
             }
            },
            "type": "scattergl"
           }
          ],
          "scattermapbox": [
           {
            "marker": {
             "colorbar": {
              "outlinewidth": 0,
              "ticks": ""
             }
            },
            "type": "scattermapbox"
           }
          ],
          "scatterpolar": [
           {
            "marker": {
             "colorbar": {
              "outlinewidth": 0,
              "ticks": ""
             }
            },
            "type": "scatterpolar"
           }
          ],
          "scatterpolargl": [
           {
            "marker": {
             "colorbar": {
              "outlinewidth": 0,
              "ticks": ""
             }
            },
            "type": "scatterpolargl"
           }
          ],
          "scatterternary": [
           {
            "marker": {
             "colorbar": {
              "outlinewidth": 0,
              "ticks": ""
             }
            },
            "type": "scatterternary"
           }
          ],
          "surface": [
           {
            "colorbar": {
             "outlinewidth": 0,
             "ticks": ""
            },
            "colorscale": [
             [
              0,
              "#0d0887"
             ],
             [
              0.1111111111111111,
              "#46039f"
             ],
             [
              0.2222222222222222,
              "#7201a8"
             ],
             [
              0.3333333333333333,
              "#9c179e"
             ],
             [
              0.4444444444444444,
              "#bd3786"
             ],
             [
              0.5555555555555556,
              "#d8576b"
             ],
             [
              0.6666666666666666,
              "#ed7953"
             ],
             [
              0.7777777777777778,
              "#fb9f3a"
             ],
             [
              0.8888888888888888,
              "#fdca26"
             ],
             [
              1,
              "#f0f921"
             ]
            ],
            "type": "surface"
           }
          ],
          "table": [
           {
            "cells": {
             "fill": {
              "color": "#EBF0F8"
             },
             "line": {
              "color": "white"
             }
            },
            "header": {
             "fill": {
              "color": "#C8D4E3"
             },
             "line": {
              "color": "white"
             }
            },
            "type": "table"
           }
          ]
         },
         "layout": {
          "annotationdefaults": {
           "arrowcolor": "#2a3f5f",
           "arrowhead": 0,
           "arrowwidth": 1
          },
          "autotypenumbers": "strict",
          "coloraxis": {
           "colorbar": {
            "outlinewidth": 0,
            "ticks": ""
           }
          },
          "colorscale": {
           "diverging": [
            [
             0,
             "#8e0152"
            ],
            [
             0.1,
             "#c51b7d"
            ],
            [
             0.2,
             "#de77ae"
            ],
            [
             0.3,
             "#f1b6da"
            ],
            [
             0.4,
             "#fde0ef"
            ],
            [
             0.5,
             "#f7f7f7"
            ],
            [
             0.6,
             "#e6f5d0"
            ],
            [
             0.7,
             "#b8e186"
            ],
            [
             0.8,
             "#7fbc41"
            ],
            [
             0.9,
             "#4d9221"
            ],
            [
             1,
             "#276419"
            ]
           ],
           "sequential": [
            [
             0,
             "#0d0887"
            ],
            [
             0.1111111111111111,
             "#46039f"
            ],
            [
             0.2222222222222222,
             "#7201a8"
            ],
            [
             0.3333333333333333,
             "#9c179e"
            ],
            [
             0.4444444444444444,
             "#bd3786"
            ],
            [
             0.5555555555555556,
             "#d8576b"
            ],
            [
             0.6666666666666666,
             "#ed7953"
            ],
            [
             0.7777777777777778,
             "#fb9f3a"
            ],
            [
             0.8888888888888888,
             "#fdca26"
            ],
            [
             1,
             "#f0f921"
            ]
           ],
           "sequentialminus": [
            [
             0,
             "#0d0887"
            ],
            [
             0.1111111111111111,
             "#46039f"
            ],
            [
             0.2222222222222222,
             "#7201a8"
            ],
            [
             0.3333333333333333,
             "#9c179e"
            ],
            [
             0.4444444444444444,
             "#bd3786"
            ],
            [
             0.5555555555555556,
             "#d8576b"
            ],
            [
             0.6666666666666666,
             "#ed7953"
            ],
            [
             0.7777777777777778,
             "#fb9f3a"
            ],
            [
             0.8888888888888888,
             "#fdca26"
            ],
            [
             1,
             "#f0f921"
            ]
           ]
          },
          "colorway": [
           "#636efa",
           "#EF553B",
           "#00cc96",
           "#ab63fa",
           "#FFA15A",
           "#19d3f3",
           "#FF6692",
           "#B6E880",
           "#FF97FF",
           "#FECB52"
          ],
          "font": {
           "color": "#2a3f5f"
          },
          "geo": {
           "bgcolor": "white",
           "lakecolor": "white",
           "landcolor": "#E5ECF6",
           "showlakes": true,
           "showland": true,
           "subunitcolor": "white"
          },
          "hoverlabel": {
           "align": "left"
          },
          "hovermode": "closest",
          "mapbox": {
           "style": "light"
          },
          "paper_bgcolor": "white",
          "plot_bgcolor": "#E5ECF6",
          "polar": {
           "angularaxis": {
            "gridcolor": "white",
            "linecolor": "white",
            "ticks": ""
           },
           "bgcolor": "#E5ECF6",
           "radialaxis": {
            "gridcolor": "white",
            "linecolor": "white",
            "ticks": ""
           }
          },
          "scene": {
           "xaxis": {
            "backgroundcolor": "#E5ECF6",
            "gridcolor": "white",
            "gridwidth": 2,
            "linecolor": "white",
            "showbackground": true,
            "ticks": "",
            "zerolinecolor": "white"
           },
           "yaxis": {
            "backgroundcolor": "#E5ECF6",
            "gridcolor": "white",
            "gridwidth": 2,
            "linecolor": "white",
            "showbackground": true,
            "ticks": "",
            "zerolinecolor": "white"
           },
           "zaxis": {
            "backgroundcolor": "#E5ECF6",
            "gridcolor": "white",
            "gridwidth": 2,
            "linecolor": "white",
            "showbackground": true,
            "ticks": "",
            "zerolinecolor": "white"
           }
          },
          "shapedefaults": {
           "line": {
            "color": "#2a3f5f"
           }
          },
          "ternary": {
           "aaxis": {
            "gridcolor": "white",
            "linecolor": "white",
            "ticks": ""
           },
           "baxis": {
            "gridcolor": "white",
            "linecolor": "white",
            "ticks": ""
           },
           "bgcolor": "#E5ECF6",
           "caxis": {
            "gridcolor": "white",
            "linecolor": "white",
            "ticks": ""
           }
          },
          "title": {
           "x": 0.05
          },
          "xaxis": {
           "automargin": true,
           "gridcolor": "white",
           "linecolor": "white",
           "ticks": "",
           "title": {
            "standoff": 15
           },
           "zerolinecolor": "white",
           "zerolinewidth": 2
          },
          "yaxis": {
           "automargin": true,
           "gridcolor": "white",
           "linecolor": "white",
           "ticks": "",
           "title": {
            "standoff": 15
           },
           "zerolinecolor": "white",
           "zerolinewidth": 2
          }
         }
        },
        "title": {
         "text": "Analise de Clusters"
        },
        "xaxis": {
         "anchor": "y",
         "domain": [
          0,
          1
         ],
         "title": {
          "text": "peso"
         }
        },
        "yaxis": {
         "anchor": "x",
         "domain": [
          0,
          1
         ],
         "title": {
          "text": "colesterol"
         }
        }
       }
      }
     },
     "metadata": {},
     "output_type": "display_data"
    }
   ],
   "source": [
    "plotar_grafico(base_completa['peso'], base_completa['colesterol'], 'peso', 'colesterol')"
   ]
  },
  {
   "cell_type": "code",
   "execution_count": 19,
   "metadata": {},
   "outputs": [],
   "source": [
    "cluster_clientes = base_completa"
   ]
  },
  {
   "cell_type": "code",
   "execution_count": 20,
   "metadata": {},
   "outputs": [],
   "source": [
    "cluster_clientes.loc[cluster_clientes['cluster'] == 0, 'nome_cluster'] = 'Alto Risco'\n",
    "cluster_clientes.loc[cluster_clientes['cluster'] == 1, 'nome_cluster'] = 'Baixo Risco'\n",
    "cluster_clientes.loc[cluster_clientes['cluster'] == 2, 'nome_cluster'] = 'Risco Moderado'"
   ]
  },
  {
   "cell_type": "code",
   "execution_count": 21,
   "metadata": {},
   "outputs": [],
   "source": [
    "# definindo\n",
    "alto_risco = cluster_clientes[cluster_clientes[\"nome_cluster\"] == \"Alto Risco\"]\n",
    "moderado_alto = cluster_clientes[(cluster_clientes[\"nome_cluster\"] == \"Risco Moderado\") | (cluster_clientes[\"nome_cluster\"] == \"Alto Risco\")]\n",
    "moderado_baixo = cluster_clientes[(cluster_clientes[\"nome_cluster\"] == \"Risco Moderado\") | (cluster_clientes[\"nome_cluster\"] == \"Baixo Risco\")]\n",
    "baixo_risco = cluster_clientes[cluster_clientes[\"nome_cluster\"] == \"Baixo Risco\"]\n"
   ]
  },
  {
   "cell_type": "code",
   "execution_count": 22,
   "metadata": {},
   "outputs": [
    {
     "data": {
      "text/plain": [
       "peso          110.350575\n",
       "colesterol    125.770115\n",
       "dtype: float64"
      ]
     },
     "execution_count": 22,
     "metadata": {},
     "output_type": "execute_result"
    }
   ],
   "source": [
    "baixo_risco[[\"peso\",\"colesterol\"]].mean()\n"
   ]
  },
  {
   "cell_type": "code",
   "execution_count": 23,
   "metadata": {},
   "outputs": [
    {
     "data": {
      "text/plain": [
       "42.574074074074076"
      ]
     },
     "execution_count": 23,
     "metadata": {},
     "output_type": "execute_result"
    }
   ],
   "source": [
    "moderado_alto[\"idade\"].mean()"
   ]
  },
  {
   "cell_type": "code",
   "execution_count": 24,
   "metadata": {},
   "outputs": [
    {
     "data": {
      "text/plain": [
       "count    174.000000\n",
       "mean     125.770115\n",
       "std       13.882830\n",
       "min      102.000000\n",
       "25%      113.250000\n",
       "50%      127.000000\n",
       "75%      138.000000\n",
       "max      151.000000\n",
       "Name: colesterol, dtype: float64"
      ]
     },
     "execution_count": 24,
     "metadata": {},
     "output_type": "execute_result"
    }
   ],
   "source": [
    "baixo_risco[\"colesterol\"].describe()"
   ]
  },
  {
   "cell_type": "code",
   "execution_count": 25,
   "metadata": {},
   "outputs": [
    {
     "data": {
      "text/plain": [
       "count    158.000000\n",
       "mean     182.253165\n",
       "std       11.189700\n",
       "min      158.000000\n",
       "25%      173.000000\n",
       "50%      182.000000\n",
       "75%      190.750000\n",
       "max      203.000000\n",
       "Name: peso, dtype: float64"
      ]
     },
     "execution_count": 25,
     "metadata": {},
     "output_type": "execute_result"
    }
   ],
   "source": [
    "alto_risco[\"peso\"].describe()"
   ]
  },
  {
   "cell_type": "code",
   "execution_count": 26,
   "metadata": {},
   "outputs": [
    {
     "data": {
      "text/html": [
       "<div>\n",
       "<style scoped>\n",
       "    .dataframe tbody tr th:only-of-type {\n",
       "        vertical-align: middle;\n",
       "    }\n",
       "\n",
       "    .dataframe tbody tr th {\n",
       "        vertical-align: top;\n",
       "    }\n",
       "\n",
       "    .dataframe thead th {\n",
       "        text-align: right;\n",
       "    }\n",
       "</style>\n",
       "<table border=\"1\" class=\"dataframe\">\n",
       "  <thead>\n",
       "    <tr style=\"text-align: right;\">\n",
       "      <th></th>\n",
       "      <th>cod_cliente</th>\n",
       "      <th>peso</th>\n",
       "      <th>colesterol</th>\n",
       "      <th>genero</th>\n",
       "      <th>id_estado</th>\n",
       "      <th>estado</th>\n",
       "      <th>sigla_estado</th>\n",
       "      <th>pais</th>\n",
       "      <th>idade</th>\n",
       "      <th>cluster</th>\n",
       "      <th>nome_cluster</th>\n",
       "    </tr>\n",
       "  </thead>\n",
       "  <tbody>\n",
       "    <tr>\n",
       "      <th>0</th>\n",
       "      <td>1</td>\n",
       "      <td>102.0</td>\n",
       "      <td>111</td>\n",
       "      <td>Masculino</td>\n",
       "      <td>23</td>\n",
       "      <td>Roraima</td>\n",
       "      <td>RR</td>\n",
       "      <td>Brasil</td>\n",
       "      <td>17</td>\n",
       "      <td>1</td>\n",
       "      <td>Baixo Risco</td>\n",
       "    </tr>\n",
       "    <tr>\n",
       "      <th>1</th>\n",
       "      <td>54</td>\n",
       "      <td>149.0</td>\n",
       "      <td>183</td>\n",
       "      <td>Masculino</td>\n",
       "      <td>23</td>\n",
       "      <td>Roraima</td>\n",
       "      <td>RR</td>\n",
       "      <td>Brasil</td>\n",
       "      <td>48</td>\n",
       "      <td>2</td>\n",
       "      <td>Risco Moderado</td>\n",
       "    </tr>\n",
       "    <tr>\n",
       "      <th>2</th>\n",
       "      <td>61</td>\n",
       "      <td>113.0</td>\n",
       "      <td>129</td>\n",
       "      <td>Feminino</td>\n",
       "      <td>23</td>\n",
       "      <td>Roraima</td>\n",
       "      <td>RR</td>\n",
       "      <td>Brasil</td>\n",
       "      <td>70</td>\n",
       "      <td>1</td>\n",
       "      <td>Baixo Risco</td>\n",
       "    </tr>\n",
       "    <tr>\n",
       "      <th>3</th>\n",
       "      <td>154</td>\n",
       "      <td>134.0</td>\n",
       "      <td>162</td>\n",
       "      <td>Feminino</td>\n",
       "      <td>23</td>\n",
       "      <td>Roraima</td>\n",
       "      <td>RR</td>\n",
       "      <td>Brasil</td>\n",
       "      <td>26</td>\n",
       "      <td>2</td>\n",
       "      <td>Risco Moderado</td>\n",
       "    </tr>\n",
       "    <tr>\n",
       "      <th>4</th>\n",
       "      <td>164</td>\n",
       "      <td>133.0</td>\n",
       "      <td>155</td>\n",
       "      <td>Feminino</td>\n",
       "      <td>23</td>\n",
       "      <td>Roraima</td>\n",
       "      <td>RR</td>\n",
       "      <td>Brasil</td>\n",
       "      <td>51</td>\n",
       "      <td>2</td>\n",
       "      <td>Risco Moderado</td>\n",
       "    </tr>\n",
       "    <tr>\n",
       "      <th>...</th>\n",
       "      <td>...</td>\n",
       "      <td>...</td>\n",
       "      <td>...</td>\n",
       "      <td>...</td>\n",
       "      <td>...</td>\n",
       "      <td>...</td>\n",
       "      <td>...</td>\n",
       "      <td>...</td>\n",
       "      <td>...</td>\n",
       "      <td>...</td>\n",
       "      <td>...</td>\n",
       "    </tr>\n",
       "    <tr>\n",
       "      <th>493</th>\n",
       "      <td>456</td>\n",
       "      <td>134.0</td>\n",
       "      <td>168</td>\n",
       "      <td>Masculino</td>\n",
       "      <td>12</td>\n",
       "      <td>Mato Grosso do Sul</td>\n",
       "      <td>MS</td>\n",
       "      <td>Brasil</td>\n",
       "      <td>29</td>\n",
       "      <td>2</td>\n",
       "      <td>Risco Moderado</td>\n",
       "    </tr>\n",
       "    <tr>\n",
       "      <th>494</th>\n",
       "      <td>464</td>\n",
       "      <td>144.0</td>\n",
       "      <td>171</td>\n",
       "      <td>Feminino</td>\n",
       "      <td>12</td>\n",
       "      <td>Mato Grosso do Sul</td>\n",
       "      <td>MS</td>\n",
       "      <td>Brasil</td>\n",
       "      <td>32</td>\n",
       "      <td>2</td>\n",
       "      <td>Risco Moderado</td>\n",
       "    </tr>\n",
       "    <tr>\n",
       "      <th>495</th>\n",
       "      <td>492</td>\n",
       "      <td>142.0</td>\n",
       "      <td>172</td>\n",
       "      <td>Masculino</td>\n",
       "      <td>12</td>\n",
       "      <td>Mato Grosso do Sul</td>\n",
       "      <td>MS</td>\n",
       "      <td>Brasil</td>\n",
       "      <td>64</td>\n",
       "      <td>2</td>\n",
       "      <td>Risco Moderado</td>\n",
       "    </tr>\n",
       "    <tr>\n",
       "      <th>496</th>\n",
       "      <td>493</td>\n",
       "      <td>153.0</td>\n",
       "      <td>192</td>\n",
       "      <td>Masculino</td>\n",
       "      <td>12</td>\n",
       "      <td>Mato Grosso do Sul</td>\n",
       "      <td>MS</td>\n",
       "      <td>Brasil</td>\n",
       "      <td>70</td>\n",
       "      <td>2</td>\n",
       "      <td>Risco Moderado</td>\n",
       "    </tr>\n",
       "    <tr>\n",
       "      <th>497</th>\n",
       "      <td>502</td>\n",
       "      <td>152.0</td>\n",
       "      <td>178</td>\n",
       "      <td>Masculino</td>\n",
       "      <td>12</td>\n",
       "      <td>Mato Grosso do Sul</td>\n",
       "      <td>MS</td>\n",
       "      <td>Brasil</td>\n",
       "      <td>41</td>\n",
       "      <td>2</td>\n",
       "      <td>Risco Moderado</td>\n",
       "    </tr>\n",
       "  </tbody>\n",
       "</table>\n",
       "<p>340 rows × 11 columns</p>\n",
       "</div>"
      ],
      "text/plain": [
       "     cod_cliente   peso  colesterol     genero  id_estado              estado  \\\n",
       "0              1  102.0         111  Masculino         23             Roraima   \n",
       "1             54  149.0         183  Masculino         23             Roraima   \n",
       "2             61  113.0         129   Feminino         23             Roraima   \n",
       "3            154  134.0         162   Feminino         23             Roraima   \n",
       "4            164  133.0         155   Feminino         23             Roraima   \n",
       "..           ...    ...         ...        ...        ...                 ...   \n",
       "493          456  134.0         168  Masculino         12  Mato Grosso do Sul   \n",
       "494          464  144.0         171   Feminino         12  Mato Grosso do Sul   \n",
       "495          492  142.0         172  Masculino         12  Mato Grosso do Sul   \n",
       "496          493  153.0         192  Masculino         12  Mato Grosso do Sul   \n",
       "497          502  152.0         178  Masculino         12  Mato Grosso do Sul   \n",
       "\n",
       "    sigla_estado    pais  idade  cluster    nome_cluster  \n",
       "0             RR  Brasil     17        1     Baixo Risco  \n",
       "1             RR  Brasil     48        2  Risco Moderado  \n",
       "2             RR  Brasil     70        1     Baixo Risco  \n",
       "3             RR  Brasil     26        2  Risco Moderado  \n",
       "4             RR  Brasil     51        2  Risco Moderado  \n",
       "..           ...     ...    ...      ...             ...  \n",
       "493           MS  Brasil     29        2  Risco Moderado  \n",
       "494           MS  Brasil     32        2  Risco Moderado  \n",
       "495           MS  Brasil     64        2  Risco Moderado  \n",
       "496           MS  Brasil     70        2  Risco Moderado  \n",
       "497           MS  Brasil     41        2  Risco Moderado  \n",
       "\n",
       "[340 rows x 11 columns]"
      ]
     },
     "execution_count": 26,
     "metadata": {},
     "output_type": "execute_result"
    }
   ],
   "source": [
    "moderado_baixo"
   ]
  },
  {
   "cell_type": "code",
   "execution_count": 27,
   "metadata": {},
   "outputs": [
    {
     "data": {
      "text/plain": [
       "estado\n",
       "Mato Grosso             8\n",
       "São Paulo               8\n",
       "Acre                   10\n",
       "Rio Grande do Sul      11\n",
       "Pernambuco             11\n",
       "Pará                   11\n",
       "Paraíba                11\n",
       "Alagoas                12\n",
       "Distrito Federal       12\n",
       "Espírito Santo         12\n",
       "Paraná                 12\n",
       "Amapá                  13\n",
       "Sergipe                13\n",
       "Rôndonia               14\n",
       "Roraima                14\n",
       "Tocantins              14\n",
       "Bahia                  14\n",
       "Maranhão               15\n",
       "Rio de Janeiro         16\n",
       "Rio Grande do Norte    17\n",
       "Ceará                  17\n",
       "Amazonas               17\n",
       "Mato Grosso do Sul     18\n",
       "Minas Gerais           19\n",
       "Goiás                  21\n",
       "dtype: int64"
      ]
     },
     "execution_count": 27,
     "metadata": {},
     "output_type": "execute_result"
    }
   ],
   "source": [
    "moderado_baixo.groupby('estado').size().sort_values()\n"
   ]
  },
  {
   "cell_type": "code",
   "execution_count": 28,
   "metadata": {},
   "outputs": [
    {
     "data": {
      "text/plain": [
       "182.25316455696202"
      ]
     },
     "execution_count": 28,
     "metadata": {},
     "output_type": "execute_result"
    }
   ],
   "source": [
    "alto_risco[\"peso\"].mean()"
   ]
  }
 ],
 "metadata": {
  "kernelspec": {
   "display_name": "Python 3",
   "language": "python",
   "name": "python3"
  },
  "language_info": {
   "codemirror_mode": {
    "name": "ipython",
    "version": 3
   },
   "file_extension": ".py",
   "mimetype": "text/x-python",
   "name": "python",
   "nbconvert_exporter": "python",
   "pygments_lexer": "ipython3",
   "version": "3.10.6"
  },
  "orig_nbformat": 4
 },
 "nbformat": 4,
 "nbformat_minor": 2
}
