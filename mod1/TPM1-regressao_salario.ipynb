{
 "cells": [
  {
   "cell_type": "code",
   "execution_count": 1,
   "metadata": {
    "id": "BM__ZpM1hfrB"
   },
   "outputs": [],
   "source": [
    "import pandas as pd\n",
    "import numpy as np\n",
    "import seaborn as sns\n",
    "from sklearn.linear_model import LinearRegression\n",
    "import plotly.express as px"
   ]
  },
  {
   "cell_type": "code",
   "execution_count": 2,
   "metadata": {
    "id": "d091hYWPluT5"
   },
   "outputs": [],
   "source": [
    "df = pd.read_csv('data/salarios_colaboradores.csv', delimiter=';')"
   ]
  },
  {
   "cell_type": "code",
   "execution_count": 3,
   "metadata": {
    "colab": {
     "base_uri": "https://localhost:8080/",
     "height": 424
    },
    "id": "QC94z7AWlzB4",
    "outputId": "aa4008fa-cfd8-4924-c491-414ee7eb2a47"
   },
   "outputs": [
    {
     "data": {
      "text/html": [
       "<div>\n",
       "<style scoped>\n",
       "    .dataframe tbody tr th:only-of-type {\n",
       "        vertical-align: middle;\n",
       "    }\n",
       "\n",
       "    .dataframe tbody tr th {\n",
       "        vertical-align: top;\n",
       "    }\n",
       "\n",
       "    .dataframe thead th {\n",
       "        text-align: right;\n",
       "    }\n",
       "</style>\n",
       "<table border=\"1\" class=\"dataframe\">\n",
       "  <thead>\n",
       "    <tr style=\"text-align: right;\">\n",
       "      <th></th>\n",
       "      <th>dias_trabalhados</th>\n",
       "      <th>salario_recebido</th>\n",
       "    </tr>\n",
       "  </thead>\n",
       "  <tbody>\n",
       "    <tr>\n",
       "      <th>0</th>\n",
       "      <td>1</td>\n",
       "      <td>552.00</td>\n",
       "    </tr>\n",
       "    <tr>\n",
       "      <th>1</th>\n",
       "      <td>2</td>\n",
       "      <td>768.00</td>\n",
       "    </tr>\n",
       "    <tr>\n",
       "      <th>2</th>\n",
       "      <td>3</td>\n",
       "      <td>1024.00</td>\n",
       "    </tr>\n",
       "    <tr>\n",
       "      <th>3</th>\n",
       "      <td>4</td>\n",
       "      <td>1516.00</td>\n",
       "    </tr>\n",
       "    <tr>\n",
       "      <th>4</th>\n",
       "      <td>5</td>\n",
       "      <td>744.00</td>\n",
       "    </tr>\n",
       "    <tr>\n",
       "      <th>...</th>\n",
       "      <td>...</td>\n",
       "      <td>...</td>\n",
       "    </tr>\n",
       "    <tr>\n",
       "      <th>57</th>\n",
       "      <td>27</td>\n",
       "      <td>625.47</td>\n",
       "    </tr>\n",
       "    <tr>\n",
       "      <th>58</th>\n",
       "      <td>28</td>\n",
       "      <td>1365.54</td>\n",
       "    </tr>\n",
       "    <tr>\n",
       "      <th>59</th>\n",
       "      <td>29</td>\n",
       "      <td>1475.97</td>\n",
       "    </tr>\n",
       "    <tr>\n",
       "      <th>60</th>\n",
       "      <td>30</td>\n",
       "      <td>1864.38</td>\n",
       "    </tr>\n",
       "    <tr>\n",
       "      <th>61</th>\n",
       "      <td>31</td>\n",
       "      <td>5478.70</td>\n",
       "    </tr>\n",
       "  </tbody>\n",
       "</table>\n",
       "<p>62 rows × 2 columns</p>\n",
       "</div>"
      ],
      "text/plain": [
       "    dias_trabalhados  salario_recebido\n",
       "0                  1            552.00\n",
       "1                  2            768.00\n",
       "2                  3           1024.00\n",
       "3                  4           1516.00\n",
       "4                  5            744.00\n",
       "..               ...               ...\n",
       "57                27            625.47\n",
       "58                28           1365.54\n",
       "59                29           1475.97\n",
       "60                30           1864.38\n",
       "61                31           5478.70\n",
       "\n",
       "[62 rows x 2 columns]"
      ]
     },
     "execution_count": 3,
     "metadata": {},
     "output_type": "execute_result"
    }
   ],
   "source": [
    "df"
   ]
  },
  {
   "attachments": {},
   "cell_type": "markdown",
   "metadata": {
    "id": "YF_K2qPTq9Ft"
   },
   "source": [
    "### Qual é o desvio padrão para a variável dias trabalhados?"
   ]
  },
  {
   "cell_type": "code",
   "execution_count": 4,
   "metadata": {
    "colab": {
     "base_uri": "https://localhost:8080/"
    },
    "id": "-a32DU5PpBsc",
    "outputId": "c6be2d8d-757d-43a8-b85d-56432955e444"
   },
   "outputs": [
    {
     "name": "stdout",
     "output_type": "stream",
     "text": [
      "9.01728758606689\n"
     ]
    }
   ],
   "source": [
    "desvio_padrão = df['dias_trabalhados'].std()\n",
    "print(desvio_padrão)"
   ]
  },
  {
   "attachments": {},
   "cell_type": "markdown",
   "metadata": {
    "id": "6I_xcuUZrCre"
   },
   "source": [
    "### O dataset possui algum valor ausente?"
   ]
  },
  {
   "cell_type": "code",
   "execution_count": 5,
   "metadata": {
    "id": "BuztOBzvpX7e"
   },
   "outputs": [],
   "source": [
    "dfnulos = df.isnull()"
   ]
  },
  {
   "cell_type": "code",
   "execution_count": 6,
   "metadata": {
    "colab": {
     "base_uri": "https://localhost:8080/",
     "height": 49
    },
    "id": "0IYi0__FpfVX",
    "outputId": "b3f2ac10-41f0-4ebf-88a6-a3f0008dc411"
   },
   "outputs": [
    {
     "data": {
      "text/html": [
       "<div>\n",
       "<style scoped>\n",
       "    .dataframe tbody tr th:only-of-type {\n",
       "        vertical-align: middle;\n",
       "    }\n",
       "\n",
       "    .dataframe tbody tr th {\n",
       "        vertical-align: top;\n",
       "    }\n",
       "\n",
       "    .dataframe thead th {\n",
       "        text-align: right;\n",
       "    }\n",
       "</style>\n",
       "<table border=\"1\" class=\"dataframe\">\n",
       "  <thead>\n",
       "    <tr style=\"text-align: right;\">\n",
       "      <th></th>\n",
       "      <th>dias_trabalhados</th>\n",
       "      <th>salario_recebido</th>\n",
       "    </tr>\n",
       "  </thead>\n",
       "  <tbody>\n",
       "  </tbody>\n",
       "</table>\n",
       "</div>"
      ],
      "text/plain": [
       "Empty DataFrame\n",
       "Columns: [dias_trabalhados, salario_recebido]\n",
       "Index: []"
      ]
     },
     "execution_count": 6,
     "metadata": {},
     "output_type": "execute_result"
    }
   ],
   "source": [
    "dfnulos[dfnulos.any(axis=1)]"
   ]
  },
  {
   "attachments": {},
   "cell_type": "markdown",
   "metadata": {
    "id": "r8-3LysrD1kY"
   },
   "source": [
    "### Existe correlação entre as variáveis do dataset?"
   ]
  },
  {
   "cell_type": "code",
   "execution_count": 7,
   "metadata": {
    "colab": {
     "base_uri": "https://localhost:8080/"
    },
    "id": "CeWWw5nwARJY",
    "outputId": "4d815b93-5ff6-43ee-e6a7-64312489e61c"
   },
   "outputs": [
    {
     "data": {
      "text/plain": [
       "array([ 1,  2,  3,  4,  5,  6,  7,  8,  9, 10, 11, 12, 13, 14, 15, 16, 17,\n",
       "       18, 19, 20, 21, 22, 23, 24, 25, 26, 27, 28, 29, 30, 31,  1,  2,  3,\n",
       "        4,  5,  6,  7,  8,  9, 10, 11, 12, 13, 14, 15, 16, 17, 18, 19, 20,\n",
       "       21, 22, 23, 24, 25, 26, 27, 28, 29, 30, 31])"
      ]
     },
     "execution_count": 7,
     "metadata": {},
     "output_type": "execute_result"
    }
   ],
   "source": [
    "#variavel independente\n",
    "x_dias_trab = df.iloc[:,0].values\n",
    "x_dias_trab"
   ]
  },
  {
   "cell_type": "code",
   "execution_count": 8,
   "metadata": {
    "colab": {
     "base_uri": "https://localhost:8080/"
    },
    "id": "V3FUX5SS_dv1",
    "outputId": "da35f1f2-9b47-465f-d16d-dbe63da2e422"
   },
   "outputs": [
    {
     "data": {
      "text/plain": [
       "array([ 552.  ,  768.  , 1024.  , 1516.  ,  744.  ,  992.  , 1360.  ,\n",
       "       1980.  ,  936.  , 1216.  , 1696.  , 2444.  , 1128.  , 1440.  ,\n",
       "       2032.  , 2908.  , 1320.  , 1664.  , 2368.  , 3372.  , 1512.  ,\n",
       "       1888.  , 2704.  , 3836.  , 1704.  , 2112.  , 3040.  , 4300.  ,\n",
       "       1896.  , 2336.  , 3376.  ,  250.  , 2512.94,  152.92, 5101.45,\n",
       "        974.68,  937.14,  760.61,  428.03, 2018.38, 2346.85, 1871.11,\n",
       "        515.46,  232.92,  745.17, 2550.42, 4066.94, 1179.65, 4120.58,\n",
       "       5988.11, 1303.07, 2898.97,  727.31, 5406.51, 4321.3 ,  792.82,\n",
       "        548.4 ,  625.47, 1365.54, 1475.97, 1864.38, 5478.7 ])"
      ]
     },
     "execution_count": 8,
     "metadata": {},
     "output_type": "execute_result"
    }
   ],
   "source": [
    "#variavel dependente - a qual queremos predizer\n",
    "y_salario_rec = df.iloc[:,1].values\n",
    "y_salario_rec"
   ]
  },
  {
   "cell_type": "code",
   "execution_count": 9,
   "metadata": {
    "colab": {
     "base_uri": "https://localhost:8080/"
    },
    "id": "_6SFilAK_2ab",
    "outputId": "5ffdb092-2b97-473c-b2bd-09484648c6db"
   },
   "outputs": [
    {
     "data": {
      "text/plain": [
       "array([[1.        , 0.38376138],\n",
       "       [0.38376138, 1.        ]])"
      ]
     },
     "execution_count": 9,
     "metadata": {},
     "output_type": "execute_result"
    }
   ],
   "source": [
    "np.corrcoef(x_dias_trab,y_salario_rec)"
   ]
  },
  {
   "attachments": {},
   "cell_type": "markdown",
   "metadata": {
    "id": "gIUnpn4tBBc9"
   },
   "source": [
    "# Correlação\n",
    "\n",
    "positiva: quando duas variáveis se movem na mesma direção\n",
    "\n",
    "negativa: quando duas variáveis se movem em direções opostas"
   ]
  },
  {
   "cell_type": "code",
   "execution_count": 10,
   "metadata": {
    "colab": {
     "base_uri": "https://localhost:8080/",
     "height": 287
    },
    "id": "exiNT40MBA54",
    "outputId": "f3c2bfe1-6381-47d6-8c86-30ba2041518e"
   },
   "outputs": [
    {
     "data": {
      "text/plain": [
       "<Axes: >"
      ]
     },
     "execution_count": 10,
     "metadata": {},
     "output_type": "execute_result"
    },
    {
     "data": {
      "image/png": "[encoded data removed]",
      "text/plain": [
       "<Figure size 640x480 with 2 Axes>"
      ]
     },
     "metadata": {},
     "output_type": "display_data"
    }
   ],
   "source": [
    "correlation = df.corr()\n",
    "\n",
    "plot = sns.heatmap(correlation, annot = True, linewidths=.3)\n",
    "plot\n"
   ]
  },
  {
   "cell_type": "code",
   "execution_count": 11,
   "metadata": {
    "colab": {
     "base_uri": "https://localhost:8080/"
    },
    "id": "Zrs5NiBHG_4V",
    "outputId": "67adda7e-6da2-4d7f-f145-adf1d552753f"
   },
   "outputs": [
    {
     "data": {
      "text/plain": [
       "array([[ 1],\n",
       "       [ 2],\n",
       "       [ 3],\n",
       "       [ 4],\n",
       "       [ 5],\n",
       "       [ 6],\n",
       "       [ 7],\n",
       "       [ 8],\n",
       "       [ 9],\n",
       "       [10],\n",
       "       [11],\n",
       "       [12],\n",
       "       [13],\n",
       "       [14],\n",
       "       [15],\n",
       "       [16],\n",
       "       [17],\n",
       "       [18],\n",
       "       [19],\n",
       "       [20],\n",
       "       [21],\n",
       "       [22],\n",
       "       [23],\n",
       "       [24],\n",
       "       [25],\n",
       "       [26],\n",
       "       [27],\n",
       "       [28],\n",
       "       [29],\n",
       "       [30],\n",
       "       [31],\n",
       "       [ 1],\n",
       "       [ 2],\n",
       "       [ 3],\n",
       "       [ 4],\n",
       "       [ 5],\n",
       "       [ 6],\n",
       "       [ 7],\n",
       "       [ 8],\n",
       "       [ 9],\n",
       "       [10],\n",
       "       [11],\n",
       "       [12],\n",
       "       [13],\n",
       "       [14],\n",
       "       [15],\n",
       "       [16],\n",
       "       [17],\n",
       "       [18],\n",
       "       [19],\n",
       "       [20],\n",
       "       [21],\n",
       "       [22],\n",
       "       [23],\n",
       "       [24],\n",
       "       [25],\n",
       "       [26],\n",
       "       [27],\n",
       "       [28],\n",
       "       [29],\n",
       "       [30],\n",
       "       [31]])"
      ]
     },
     "execution_count": 11,
     "metadata": {},
     "output_type": "execute_result"
    }
   ],
   "source": [
    "x_dias_trab = x_dias_trab.reshape(-1,1)\n",
    "x_dias_trab"
   ]
  },
  {
   "cell_type": "code",
   "execution_count": 12,
   "metadata": {
    "colab": {
     "base_uri": "https://localhost:8080/"
    },
    "id": "nC_TYh6HHjHg",
    "outputId": "25c9ed16-2dbf-4030-b829-d9852d398549"
   },
   "outputs": [
    {
     "data": {
      "text/plain": [
       "array([[ 552.  ],\n",
       "       [ 768.  ],\n",
       "       [1024.  ],\n",
       "       [1516.  ],\n",
       "       [ 744.  ],\n",
       "       [ 992.  ],\n",
       "       [1360.  ],\n",
       "       [1980.  ],\n",
       "       [ 936.  ],\n",
       "       [1216.  ],\n",
       "       [1696.  ],\n",
       "       [2444.  ],\n",
       "       [1128.  ],\n",
       "       [1440.  ],\n",
       "       [2032.  ],\n",
       "       [2908.  ],\n",
       "       [1320.  ],\n",
       "       [1664.  ],\n",
       "       [2368.  ],\n",
       "       [3372.  ],\n",
       "       [1512.  ],\n",
       "       [1888.  ],\n",
       "       [2704.  ],\n",
       "       [3836.  ],\n",
       "       [1704.  ],\n",
       "       [2112.  ],\n",
       "       [3040.  ],\n",
       "       [4300.  ],\n",
       "       [1896.  ],\n",
       "       [2336.  ],\n",
       "       [3376.  ],\n",
       "       [ 250.  ],\n",
       "       [2512.94],\n",
       "       [ 152.92],\n",
       "       [5101.45],\n",
       "       [ 974.68],\n",
       "       [ 937.14],\n",
       "       [ 760.61],\n",
       "       [ 428.03],\n",
       "       [2018.38],\n",
       "       [2346.85],\n",
       "       [1871.11],\n",
       "       [ 515.46],\n",
       "       [ 232.92],\n",
       "       [ 745.17],\n",
       "       [2550.42],\n",
       "       [4066.94],\n",
       "       [1179.65],\n",
       "       [4120.58],\n",
       "       [5988.11],\n",
       "       [1303.07],\n",
       "       [2898.97],\n",
       "       [ 727.31],\n",
       "       [5406.51],\n",
       "       [4321.3 ],\n",
       "       [ 792.82],\n",
       "       [ 548.4 ],\n",
       "       [ 625.47],\n",
       "       [1365.54],\n",
       "       [1475.97],\n",
       "       [1864.38],\n",
       "       [5478.7 ]])"
      ]
     },
     "execution_count": 12,
     "metadata": {},
     "output_type": "execute_result"
    }
   ],
   "source": [
    "y_salario_rec = y_salario_rec.reshape(-1,1)\n",
    "y_salario_rec"
   ]
  },
  {
   "attachments": {},
   "cell_type": "markdown",
   "metadata": {
    "id": "CeOFlMkvIGGO"
   },
   "source": [
    "### Aplicando algoritmo de regressão e treinando o modelo"
   ]
  },
  {
   "cell_type": "code",
   "execution_count": 13,
   "metadata": {
    "id": "7tE4d2OiHrol"
   },
   "outputs": [],
   "source": [
    "previsao_salario = LinearRegression()"
   ]
  },
  {
   "cell_type": "code",
   "execution_count": 14,
   "metadata": {
    "colab": {
     "base_uri": "https://localhost:8080/",
     "height": 75
    },
    "id": "JZR7ZxQnISIn",
    "outputId": "99eab663-bf02-45d4-c654-e367ca9b9a78"
   },
   "outputs": [
    {
     "data": {
      "text/html": [
       "<style>#sk-container-id-1 {color: black;background-color: white;}#sk-container-id-1 pre{padding: 0;}#sk-container-id-1 div.sk-toggleable {background-color: white;}#sk-container-id-1 label.sk-toggleable__label {cursor: pointer;display: block;width: 100%;margin-bottom: 0;padding: 0.3em;box-sizing: border-box;text-align: center;}#sk-container-id-1 label.sk-toggleable__label-arrow:before {content: \"▸\";float: left;margin-right: 0.25em;color: #696969;}#sk-container-id-1 label.sk-toggleable__label-arrow:hover:before {color: black;}#sk-container-id-1 div.sk-estimator:hover label.sk-toggleable__label-arrow:before {color: black;}#sk-container-id-1 div.sk-toggleable__content {max-height: 0;max-width: 0;overflow: hidden;text-align: left;background-color: #f0f8ff;}#sk-container-id-1 div.sk-toggleable__content pre {margin: 0.2em;color: black;border-radius: 0.25em;background-color: #f0f8ff;}#sk-container-id-1 input.sk-toggleable__control:checked~div.sk-toggleable__content {max-height: 200px;max-width: 100%;overflow: auto;}#sk-container-id-1 input.sk-toggleable__control:checked~label.sk-toggleable__label-arrow:before {content: \"▾\";}#sk-container-id-1 div.sk-estimator input.sk-toggleable__control:checked~label.sk-toggleable__label {background-color: #d4ebff;}#sk-container-id-1 div.sk-label input.sk-toggleable__control:checked~label.sk-toggleable__label {background-color: #d4ebff;}#sk-container-id-1 input.sk-hidden--visually {border: 0;clip: rect(1px 1px 1px 1px);clip: rect(1px, 1px, 1px, 1px);height: 1px;margin: -1px;overflow: hidden;padding: 0;position: absolute;width: 1px;}#sk-container-id-1 div.sk-estimator {font-family: monospace;background-color: #f0f8ff;border: 1px dotted black;border-radius: 0.25em;box-sizing: border-box;margin-bottom: 0.5em;}#sk-container-id-1 div.sk-estimator:hover {background-color: #d4ebff;}#sk-container-id-1 div.sk-parallel-item::after {content: \"\";width: 100%;border-bottom: 1px solid gray;flex-grow: 1;}#sk-container-id-1 div.sk-label:hover label.sk-toggleable__label {background-color: #d4ebff;}#sk-container-id-1 div.sk-serial::before {content: \"\";position: absolute;border-left: 1px solid gray;box-sizing: border-box;top: 0;bottom: 0;left: 50%;z-index: 0;}#sk-container-id-1 div.sk-serial {display: flex;flex-direction: column;align-items: center;background-color: white;padding-right: 0.2em;padding-left: 0.2em;position: relative;}#sk-container-id-1 div.sk-item {position: relative;z-index: 1;}#sk-container-id-1 div.sk-parallel {display: flex;align-items: stretch;justify-content: center;background-color: white;position: relative;}#sk-container-id-1 div.sk-item::before, #sk-container-id-1 div.sk-parallel-item::before {content: \"\";position: absolute;border-left: 1px solid gray;box-sizing: border-box;top: 0;bottom: 0;left: 50%;z-index: -1;}#sk-container-id-1 div.sk-parallel-item {display: flex;flex-direction: column;z-index: 1;position: relative;background-color: white;}#sk-container-id-1 div.sk-parallel-item:first-child::after {align-self: flex-end;width: 50%;}#sk-container-id-1 div.sk-parallel-item:last-child::after {align-self: flex-start;width: 50%;}#sk-container-id-1 div.sk-parallel-item:only-child::after {width: 0;}#sk-container-id-1 div.sk-dashed-wrapped {border: 1px dashed gray;margin: 0 0.4em 0.5em 0.4em;box-sizing: border-box;padding-bottom: 0.4em;background-color: white;}#sk-container-id-1 div.sk-label label {font-family: monospace;font-weight: bold;display: inline-block;line-height: 1.2em;}#sk-container-id-1 div.sk-label-container {text-align: center;}#sk-container-id-1 div.sk-container {/* jupyter's `normalize.less` sets `[hidden] { display: none; }` but bootstrap.min.css set `[hidden] { display: none !important; }` so we also need the `!important` here to be able to override the default hidden behavior on the sphinx rendered scikit-learn.org. See: https://github.com/scikit-learn/scikit-learn/issues/21755 */display: inline-block !important;position: relative;}#sk-container-id-1 div.sk-text-repr-fallback {display: none;}</style><div id=\"sk-container-id-1\" class=\"sk-top-container\"><div class=\"sk-text-repr-fallback\"><pre>LinearRegression()</pre><b>In a Jupyter environment, please rerun this cell to show the HTML representation or trust the notebook. <br />On GitHub, the HTML representation is unable to render, please try loading this page with nbviewer.org.</b></div><div class=\"sk-container\" hidden><div class=\"sk-item\"><div class=\"sk-estimator sk-toggleable\"><input class=\"sk-toggleable__control sk-hidden--visually\" id=\"sk-estimator-id-1\" type=\"checkbox\" checked><label for=\"sk-estimator-id-1\" class=\"sk-toggleable__label sk-toggleable__label-arrow\">LinearRegression</label><div class=\"sk-toggleable__content\"><pre>LinearRegression()</pre></div></div></div></div></div>"
      ],
      "text/plain": [
       "LinearRegression()"
      ]
     },
     "execution_count": 14,
     "metadata": {},
     "output_type": "execute_result"
    }
   ],
   "source": [
    "previsao_salario.fit(x_dias_trab, y_salario_rec)"
   ]
  },
  {
   "cell_type": "code",
   "execution_count": 15,
   "metadata": {
    "colab": {
     "base_uri": "https://localhost:8080/"
    },
    "id": "qXCV-vAzI1XF",
    "outputId": "12969026-473e-4e6a-d3e0-374a2cba101a"
   },
   "outputs": [
    {
     "data": {
      "text/plain": [
       "array([1039.21045161])"
      ]
     },
     "execution_count": 15,
     "metadata": {},
     "output_type": "execute_result"
    }
   ],
   "source": [
    "previsao_salario.intercept_"
   ]
  },
  {
   "cell_type": "code",
   "execution_count": 16,
   "metadata": {
    "colab": {
     "base_uri": "https://localhost:8080/"
    },
    "id": "NiX1Cg4GI-Yu",
    "outputId": "6b4ad78d-3984-491a-a45e-f8d8b88ab48c"
   },
   "outputs": [
    {
     "data": {
      "text/plain": [
       "array([[59.77293548]])"
      ]
     },
     "execution_count": 16,
     "metadata": {},
     "output_type": "execute_result"
    }
   ],
   "source": [
    "previsao_salario.coef_"
   ]
  },
  {
   "cell_type": "markdown",
   "metadata": {
    "id": "Pyv_r-NnJZdO"
   },
   "source": [
    "![image.png](data:image/png;base64,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)"
   ]
  },
  {
   "cell_type": "markdown",
   "metadata": {
    "id": "uxH0OrTJJwhC"
   },
   "source": [
    "constante \t**α** = 1039.21045161\n",
    "\n",
    "coeficiente angular \t**β** = 59.77293548"
   ]
  },
  {
   "cell_type": "code",
   "execution_count": 17,
   "metadata": {
    "id": "r4lkcjGEKpHm"
   },
   "outputs": [],
   "source": [
    "prev_sala = previsao_salario.predict(x_dias_trab)"
   ]
  },
  {
   "cell_type": "code",
   "execution_count": 18,
   "metadata": {
    "colab": {
     "base_uri": "https://localhost:8080/"
    },
    "id": "HXs4_WoSLkX-",
    "outputId": "671c51a1-a86f-488e-9319-e9d9f05f4af8"
   },
   "outputs": [
    {
     "data": {
      "text/plain": [
       "array([[1098.9833871 ],\n",
       "       [1158.75632258],\n",
       "       [1218.52925806],\n",
       "       [1278.30219355],\n",
       "       [1338.07512903],\n",
       "       [1397.84806452],\n",
       "       [1457.621     ],\n",
       "       [1517.39393548],\n",
       "       [1577.16687097],\n",
       "       [1636.93980645],\n",
       "       [1696.71274194],\n",
       "       [1756.48567742],\n",
       "       [1816.2586129 ],\n",
       "       [1876.03154839],\n",
       "       [1935.80448387],\n",
       "       [1995.57741935],\n",
       "       [2055.35035484],\n",
       "       [2115.12329032],\n",
       "       [2174.89622581],\n",
       "       [2234.66916129],\n",
       "       [2294.44209677],\n",
       "       [2354.21503226],\n",
       "       [2413.98796774],\n",
       "       [2473.76090323],\n",
       "       [2533.53383871],\n",
       "       [2593.30677419],\n",
       "       [2653.07970968],\n",
       "       [2712.85264516],\n",
       "       [2772.62558065],\n",
       "       [2832.39851613],\n",
       "       [2892.17145161],\n",
       "       [1098.9833871 ],\n",
       "       [1158.75632258],\n",
       "       [1218.52925806],\n",
       "       [1278.30219355],\n",
       "       [1338.07512903],\n",
       "       [1397.84806452],\n",
       "       [1457.621     ],\n",
       "       [1517.39393548],\n",
       "       [1577.16687097],\n",
       "       [1636.93980645],\n",
       "       [1696.71274194],\n",
       "       [1756.48567742],\n",
       "       [1816.2586129 ],\n",
       "       [1876.03154839],\n",
       "       [1935.80448387],\n",
       "       [1995.57741935],\n",
       "       [2055.35035484],\n",
       "       [2115.12329032],\n",
       "       [2174.89622581],\n",
       "       [2234.66916129],\n",
       "       [2294.44209677],\n",
       "       [2354.21503226],\n",
       "       [2413.98796774],\n",
       "       [2473.76090323],\n",
       "       [2533.53383871],\n",
       "       [2593.30677419],\n",
       "       [2653.07970968],\n",
       "       [2712.85264516],\n",
       "       [2772.62558065],\n",
       "       [2832.39851613],\n",
       "       [2892.17145161]])"
      ]
     },
     "execution_count": 18,
     "metadata": {},
     "output_type": "execute_result"
    }
   ],
   "source": [
    "prev_sala"
   ]
  },
  {
   "cell_type": "markdown",
   "metadata": {
    "id": "aMLDciuiL2iM"
   },
   "source": [
    "Grafico"
   ]
  },
  {
   "cell_type": "code",
   "execution_count": 19,
   "metadata": {
    "id": "6PV8_PabMExf"
   },
   "outputs": [],
   "source": [
    "grafico = px.scatter(x = x_dias_trab.ravel(), y = y_salario_rec.ravel(), labels={'x':'Dias Trabalhados', 'y':'Salário Recebido'})"
   ]
  },
  {
   "cell_type": "code",
   "execution_count": 20,
   "metadata": {
    "colab": {
     "base_uri": "https://localhost:8080/",
     "height": 542
    },
    "id": "8cOVOuLBMezc",
    "outputId": "58a859f0-5362-45f8-dfd1-439d1246bbe4"
   },
   "outputs": [
    {
     "data": {
      "application/vnd.plotly.v1+json": {
       "config": {
        "plotlyServerURL": "https://plot.ly"
       },
       "data": [
        {
         "hovertemplate": "Dias Trabalhados=%{x}<br>Salário Recebido=%{y}<extra></extra>",
         "legendgroup": "",
         "marker": {
          "color": "#636efa",
          "symbol": "circle"
         },
         "mode": "markers",
         "name": "",
         "orientation": "v",
         "showlegend": false,
         "type": "scatter",
         "x": [
          1,
          2,
          3,
          4,
          5,
          6,
          7,
          8,
          9,
          10,
          11,
          12,
          13,
          14,
          15,
          16,
          17,
          18,
          19,
          20,
          21,
          22,
          23,
          24,
          25,
          26,
          27,
          28,
          29,
          30,
          31,
          1,
          2,
          3,
          4,
          5,
          6,
          7,
          8,
          9,
          10,
          11,
          12,
          13,
          14,
          15,
          16,
          17,
          18,
          19,
          20,
          21,
          22,
          23,
          24,
          25,
          26,
          27,
          28,
          29,
          30,
          31
         ],
         "xaxis": "x",
         "y": [
          552,
          768,
          1024,
          1516,
          744,
          992,
          1360,
          1980,
          936,
          1216,
          1696,
          2444,
          1128,
          1440,
          2032,
          2908,
          1320,
          1664,
          2368,
          3372,
          1512,
          1888,
          2704,
          3836,
          1704,
          2112,
          3040,
          4300,
          1896,
          2336,
          3376,
          250,
          2512.94,
          152.92,
          5101.45,
          974.68,
          937.14,
          760.61,
          428.03,
          2018.38,
          2346.85,
          1871.11,
          515.46,
          232.92,
          745.17,
          2550.42,
          4066.94,
          1179.65,
          4120.58,
          5988.11,
          1303.07,
          2898.97,
          727.31,
          5406.51,
          4321.3,
          792.82,
          548.4,
          625.47,
          1365.54,
          1475.97,
          1864.38,
          5478.7
         ],
         "yaxis": "y"
        }
       ],
       "layout": {
        "legend": {
         "tracegroupgap": 0
        },
        "margin": {
         "t": 60
        },
        "template": {
         "data": {
          "bar": [
           {
            "error_x": {
             "color": "#2a3f5f"
            },
            "error_y": {
             "color": "#2a3f5f"
            },
            "marker": {
             "line": {
              "color": "#E5ECF6",
              "width": 0.5
             },
             "pattern": {
              "fillmode": "overlay",
              "size": 10,
              "solidity": 0.2
             }
            },
            "type": "bar"
           }
          ],
          "barpolar": [
           {
            "marker": {
             "line": {
              "color": "#E5ECF6",
              "width": 0.5
             },
             "pattern": {
              "fillmode": "overlay",
              "size": 10,
              "solidity": 0.2
             }
            },
            "type": "barpolar"
           }
          ],
          "carpet": [
           {
            "aaxis": {
             "endlinecolor": "#2a3f5f",
             "gridcolor": "white",
             "linecolor": "white",
             "minorgridcolor": "white",
             "startlinecolor": "#2a3f5f"
            },
            "baxis": {
             "endlinecolor": "#2a3f5f",
             "gridcolor": "white",
             "linecolor": "white",
             "minorgridcolor": "white",
             "startlinecolor": "#2a3f5f"
            },
            "type": "carpet"
           }
          ],
          "choropleth": [
           {
            "colorbar": {
             "outlinewidth": 0,
             "ticks": ""
            },
            "type": "choropleth"
           }
          ],
          "contour": [
           {
            "colorbar": {
             "outlinewidth": 0,
             "ticks": ""
            },
            "colorscale": [
             [
              0,
              "#0d0887"
             ],
             [
              0.1111111111111111,
              "#46039f"
             ],
             [
              0.2222222222222222,
              "#7201a8"
             ],
             [
              0.3333333333333333,
              "#9c179e"
             ],
             [
              0.4444444444444444,
              "#bd3786"
             ],
             [
              0.5555555555555556,
              "#d8576b"
             ],
             [
              0.6666666666666666,
              "#ed7953"
             ],
             [
              0.7777777777777778,
              "#fb9f3a"
             ],
             [
              0.8888888888888888,
              "#fdca26"
             ],
             [
              1,
              "#f0f921"
             ]
            ],
            "type": "contour"
           }
          ],
          "contourcarpet": [
           {
            "colorbar": {
             "outlinewidth": 0,
             "ticks": ""
            },
            "type": "contourcarpet"
           }
          ],
          "heatmap": [
           {
            "colorbar": {
             "outlinewidth": 0,
             "ticks": ""
            },
            "colorscale": [
             [
              0,
              "#0d0887"
             ],
             [
              0.1111111111111111,
              "#46039f"
             ],
             [
              0.2222222222222222,
              "#7201a8"
             ],
             [
              0.3333333333333333,
              "#9c179e"
             ],
             [
              0.4444444444444444,
              "#bd3786"
             ],
             [
              0.5555555555555556,
              "#d8576b"
             ],
             [
              0.6666666666666666,
              "#ed7953"
             ],
             [
              0.7777777777777778,
              "#fb9f3a"
             ],
             [
              0.8888888888888888,
              "#fdca26"
             ],
             [
              1,
              "#f0f921"
             ]
            ],
            "type": "heatmap"
           }
          ],
          "heatmapgl": [
           {
            "colorbar": {
             "outlinewidth": 0,
             "ticks": ""
            },
            "colorscale": [
             [
              0,
              "#0d0887"
             ],
             [
              0.1111111111111111,
              "#46039f"
             ],
             [
              0.2222222222222222,
              "#7201a8"
             ],
             [
              0.3333333333333333,
              "#9c179e"
             ],
             [
              0.4444444444444444,
              "#bd3786"
             ],
             [
              0.5555555555555556,
              "#d8576b"
             ],
             [
              0.6666666666666666,
              "#ed7953"
             ],
             [
              0.7777777777777778,
              "#fb9f3a"
             ],
             [
              0.8888888888888888,
              "#fdca26"
             ],
             [
              1,
              "#f0f921"
             ]
            ],
            "type": "heatmapgl"
           }
          ],
          "histogram": [
           {
            "marker": {
             "pattern": {
              "fillmode": "overlay",
              "size": 10,
              "solidity": 0.2
             }
            },
            "type": "histogram"
           }
          ],
          "histogram2d": [
           {
            "colorbar": {
             "outlinewidth": 0,
             "ticks": ""
            },
            "colorscale": [
             [
              0,
              "#0d0887"
             ],
             [
              0.1111111111111111,
              "#46039f"
             ],
             [
              0.2222222222222222,
              "#7201a8"
             ],
             [
              0.3333333333333333,
              "#9c179e"
             ],
             [
              0.4444444444444444,
              "#bd3786"
             ],
             [
              0.5555555555555556,
              "#d8576b"
             ],
             [
              0.6666666666666666,
              "#ed7953"
             ],
             [
              0.7777777777777778,
              "#fb9f3a"
             ],
             [
              0.8888888888888888,
              "#fdca26"
             ],
             [
              1,
              "#f0f921"
             ]
            ],
            "type": "histogram2d"
           }
          ],
          "histogram2dcontour": [
           {
            "colorbar": {
             "outlinewidth": 0,
             "ticks": ""
            },
            "colorscale": [
             [
              0,
              "#0d0887"
             ],
             [
              0.1111111111111111,
              "#46039f"
             ],
             [
              0.2222222222222222,
              "#7201a8"
             ],
             [
              0.3333333333333333,
              "#9c179e"
             ],
             [
              0.4444444444444444,
              "#bd3786"
             ],
             [
              0.5555555555555556,
              "#d8576b"
             ],
             [
              0.6666666666666666,
              "#ed7953"
             ],
             [
              0.7777777777777778,
              "#fb9f3a"
             ],
             [
              0.8888888888888888,
              "#fdca26"
             ],
             [
              1,
              "#f0f921"
             ]
            ],
            "type": "histogram2dcontour"
           }
          ],
          "mesh3d": [
           {
            "colorbar": {
             "outlinewidth": 0,
             "ticks": ""
            },
            "type": "mesh3d"
           }
          ],
          "parcoords": [
           {
            "line": {
             "colorbar": {
              "outlinewidth": 0,
              "ticks": ""
             }
            },
            "type": "parcoords"
           }
          ],
          "pie": [
           {
            "automargin": true,
            "type": "pie"
           }
          ],
          "scatter": [
           {
            "fillpattern": {
             "fillmode": "overlay",
             "size": 10,
             "solidity": 0.2
            },
            "type": "scatter"
           }
          ],
          "scatter3d": [
           {
            "line": {
             "colorbar": {
              "outlinewidth": 0,
              "ticks": ""
             }
            },
            "marker": {
             "colorbar": {
              "outlinewidth": 0,
              "ticks": ""
             }
            },
            "type": "scatter3d"
           }
          ],
          "scattercarpet": [
           {
            "marker": {
             "colorbar": {
              "outlinewidth": 0,
              "ticks": ""
             }
            },
            "type": "scattercarpet"
           }
          ],
          "scattergeo": [
           {
            "marker": {
             "colorbar": {
              "outlinewidth": 0,
              "ticks": ""
             }
            },
            "type": "scattergeo"
           }
          ],
          "scattergl": [
           {
            "marker": {
             "colorbar": {
              "outlinewidth": 0,
              "ticks": ""
             }
            },
            "type": "scattergl"
           }
          ],
          "scattermapbox": [
           {
            "marker": {
             "colorbar": {
              "outlinewidth": 0,
              "ticks": ""
             }
            },
            "type": "scattermapbox"
           }
          ],
          "scatterpolar": [
           {
            "marker": {
             "colorbar": {
              "outlinewidth": 0,
              "ticks": ""
             }
            },
            "type": "scatterpolar"
           }
          ],
          "scatterpolargl": [
           {
            "marker": {
             "colorbar": {
              "outlinewidth": 0,
              "ticks": ""
             }
            },
            "type": "scatterpolargl"
           }
          ],
          "scatterternary": [
           {
            "marker": {
             "colorbar": {
              "outlinewidth": 0,
              "ticks": ""
             }
            },
            "type": "scatterternary"
           }
          ],
          "surface": [
           {
            "colorbar": {
             "outlinewidth": 0,
             "ticks": ""
            },
            "colorscale": [
             [
              0,
              "#0d0887"
             ],
             [
              0.1111111111111111,
              "#46039f"
             ],
             [
              0.2222222222222222,
              "#7201a8"
             ],
             [
              0.3333333333333333,
              "#9c179e"
             ],
             [
              0.4444444444444444,
              "#bd3786"
             ],
             [
              0.5555555555555556,
              "#d8576b"
             ],
             [
              0.6666666666666666,
              "#ed7953"
             ],
             [
              0.7777777777777778,
              "#fb9f3a"
             ],
             [
              0.8888888888888888,
              "#fdca26"
             ],
             [
              1,
              "#f0f921"
             ]
            ],
            "type": "surface"
           }
          ],
          "table": [
           {
            "cells": {
             "fill": {
              "color": "#EBF0F8"
             },
             "line": {
              "color": "white"
             }
            },
            "header": {
             "fill": {
              "color": "#C8D4E3"
             },
             "line": {
              "color": "white"
             }
            },
            "type": "table"
           }
          ]
         },
         "layout": {
          "annotationdefaults": {
           "arrowcolor": "#2a3f5f",
           "arrowhead": 0,
           "arrowwidth": 1
          },
          "autotypenumbers": "strict",
          "coloraxis": {
           "colorbar": {
            "outlinewidth": 0,
            "ticks": ""
           }
          },
          "colorscale": {
           "diverging": [
            [
             0,
             "#8e0152"
            ],
            [
             0.1,
             "#c51b7d"
            ],
            [
             0.2,
             "#de77ae"
            ],
            [
             0.3,
             "#f1b6da"
            ],
            [
             0.4,
             "#fde0ef"
            ],
            [
             0.5,
             "#f7f7f7"
            ],
            [
             0.6,
             "#e6f5d0"
            ],
            [
             0.7,
             "#b8e186"
            ],
            [
             0.8,
             "#7fbc41"
            ],
            [
             0.9,
             "#4d9221"
            ],
            [
             1,
             "#276419"
            ]
           ],
           "sequential": [
            [
             0,
             "#0d0887"
            ],
            [
             0.1111111111111111,
             "#46039f"
            ],
            [
             0.2222222222222222,
             "#7201a8"
            ],
            [
             0.3333333333333333,
             "#9c179e"
            ],
            [
             0.4444444444444444,
             "#bd3786"
            ],
            [
             0.5555555555555556,
             "#d8576b"
            ],
            [
             0.6666666666666666,
             "#ed7953"
            ],
            [
             0.7777777777777778,
             "#fb9f3a"
            ],
            [
             0.8888888888888888,
             "#fdca26"
            ],
            [
             1,
             "#f0f921"
            ]
           ],
           "sequentialminus": [
            [
             0,
             "#0d0887"
            ],
            [
             0.1111111111111111,
             "#46039f"
            ],
            [
             0.2222222222222222,
             "#7201a8"
            ],
            [
             0.3333333333333333,
             "#9c179e"
            ],
            [
             0.4444444444444444,
             "#bd3786"
            ],
            [
             0.5555555555555556,
             "#d8576b"
            ],
            [
             0.6666666666666666,
             "#ed7953"
            ],
            [
             0.7777777777777778,
             "#fb9f3a"
            ],
            [
             0.8888888888888888,
             "#fdca26"
            ],
            [
             1,
             "#f0f921"
            ]
           ]
          },
          "colorway": [
           "#636efa",
           "#EF553B",
           "#00cc96",
           "#ab63fa",
           "#FFA15A",
           "#19d3f3",
           "#FF6692",
           "#B6E880",
           "#FF97FF",
           "#FECB52"
          ],
          "font": {
           "color": "#2a3f5f"
          },
          "geo": {
           "bgcolor": "white",
           "lakecolor": "white",
           "landcolor": "#E5ECF6",
           "showlakes": true,
           "showland": true,
           "subunitcolor": "white"
          },
          "hoverlabel": {
           "align": "left"
          },
          "hovermode": "closest",
          "mapbox": {
           "style": "light"
          },
          "paper_bgcolor": "white",
          "plot_bgcolor": "#E5ECF6",
          "polar": {
           "angularaxis": {
            "gridcolor": "white",
            "linecolor": "white",
            "ticks": ""
           },
           "bgcolor": "#E5ECF6",
           "radialaxis": {
            "gridcolor": "white",
            "linecolor": "white",
            "ticks": ""
           }
          },
          "scene": {
           "xaxis": {
            "backgroundcolor": "#E5ECF6",
            "gridcolor": "white",
            "gridwidth": 2,
            "linecolor": "white",
            "showbackground": true,
            "ticks": "",
            "zerolinecolor": "white"
           },
           "yaxis": {
            "backgroundcolor": "#E5ECF6",
            "gridcolor": "white",
            "gridwidth": 2,
            "linecolor": "white",
            "showbackground": true,
            "ticks": "",
            "zerolinecolor": "white"
           },
           "zaxis": {
            "backgroundcolor": "#E5ECF6",
            "gridcolor": "white",
            "gridwidth": 2,
            "linecolor": "white",
            "showbackground": true,
            "ticks": "",
            "zerolinecolor": "white"
           }
          },
          "shapedefaults": {
           "line": {
            "color": "#2a3f5f"
           }
          },
          "ternary": {
           "aaxis": {
            "gridcolor": "white",
            "linecolor": "white",
            "ticks": ""
           },
           "baxis": {
            "gridcolor": "white",
            "linecolor": "white",
            "ticks": ""
           },
           "bgcolor": "#E5ECF6",
           "caxis": {
            "gridcolor": "white",
            "linecolor": "white",
            "ticks": ""
           }
          },
          "title": {
           "x": 0.05
          },
          "xaxis": {
           "automargin": true,
           "gridcolor": "white",
           "linecolor": "white",
           "ticks": "",
           "title": {
            "standoff": 15
           },
           "zerolinecolor": "white",
           "zerolinewidth": 2
          },
          "yaxis": {
           "automargin": true,
           "gridcolor": "white",
           "linecolor": "white",
           "ticks": "",
           "title": {
            "standoff": 15
           },
           "zerolinecolor": "white",
           "zerolinewidth": 2
          }
         }
        },
        "xaxis": {
         "anchor": "y",
         "domain": [
          0,
          1
         ],
         "title": {
          "text": "Dias Trabalhados"
         }
        },
        "yaxis": {
         "anchor": "x",
         "domain": [
          0,
          1
         ],
         "title": {
          "text": "Salário Recebido"
         }
        }
       }
      }
     },
     "metadata": {},
     "output_type": "display_data"
    }
   ],
   "source": [
    "grafico.show()"
   ]
  },
  {
   "attachments": {
    "image.png": {
     "image/png": "[encoded data removed]"
    }
   },
   "cell_type": "markdown",
   "metadata": {},
   "source": [
    "![image.png](attachment:image.png)"
   ]
  },
  {
   "cell_type": "code",
   "execution_count": 21,
   "metadata": {
    "colab": {
     "base_uri": "https://localhost:8080/",
     "height": 542
    },
    "id": "8fG4vhuWOGvo",
    "outputId": "c8b05a4c-3819-4c21-9fe1-ed9e951b9225"
   },
   "outputs": [
    {
     "data": {
      "application/vnd.plotly.v1+json": {
       "config": {
        "plotlyServerURL": "https://plot.ly"
       },
       "data": [
        {
         "hovertemplate": "Dias Trabalhados=%{x}<br>Salário Recebido=%{y}<extra></extra>",
         "legendgroup": "",
         "marker": {
          "color": "#636efa",
          "symbol": "circle"
         },
         "mode": "markers",
         "name": "",
         "orientation": "v",
         "showlegend": false,
         "type": "scatter",
         "x": [
          1,
          2,
          3,
          4,
          5,
          6,
          7,
          8,
          9,
          10,
          11,
          12,
          13,
          14,
          15,
          16,
          17,
          18,
          19,
          20,
          21,
          22,
          23,
          24,
          25,
          26,
          27,
          28,
          29,
          30,
          31,
          1,
          2,
          3,
          4,
          5,
          6,
          7,
          8,
          9,
          10,
          11,
          12,
          13,
          14,
          15,
          16,
          17,
          18,
          19,
          20,
          21,
          22,
          23,
          24,
          25,
          26,
          27,
          28,
          29,
          30,
          31
         ],
         "xaxis": "x",
         "y": [
          552,
          768,
          1024,
          1516,
          744,
          992,
          1360,
          1980,
          936,
          1216,
          1696,
          2444,
          1128,
          1440,
          2032,
          2908,
          1320,
          1664,
          2368,
          3372,
          1512,
          1888,
          2704,
          3836,
          1704,
          2112,
          3040,
          4300,
          1896,
          2336,
          3376,
          250,
          2512.94,
          152.92,
          5101.45,
          974.68,
          937.14,
          760.61,
          428.03,
          2018.38,
          2346.85,
          1871.11,
          515.46,
          232.92,
          745.17,
          2550.42,
          4066.94,
          1179.65,
          4120.58,
          5988.11,
          1303.07,
          2898.97,
          727.31,
          5406.51,
          4321.3,
          792.82,
          548.4,
          625.47,
          1365.54,
          1475.97,
          1864.38,
          5478.7
         ],
         "yaxis": "y"
        },
        {
         "name": "previsões",
         "type": "scatter",
         "x": [
          1,
          2,
          3,
          4,
          5,
          6,
          7,
          8,
          9,
          10,
          11,
          12,
          13,
          14,
          15,
          16,
          17,
          18,
          19,
          20,
          21,
          22,
          23,
          24,
          25,
          26,
          27,
          28,
          29,
          30,
          31,
          1,
          2,
          3,
          4,
          5,
          6,
          7,
          8,
          9,
          10,
          11,
          12,
          13,
          14,
          15,
          16,
          17,
          18,
          19,
          20,
          21,
          22,
          23,
          24,
          25,
          26,
          27,
          28,
          29,
          30,
          31
         ],
         "y": [
          1098.9833870967736,
          1158.7563225806448,
          1218.5292580645157,
          1278.3021935483866,
          1338.0751290322576,
          1397.8480645161285,
          1457.6209999999996,
          1517.3939354838706,
          1577.1668709677415,
          1636.9398064516126,
          1696.7127419354836,
          1756.4856774193545,
          1816.2586129032254,
          1876.0315483870963,
          1935.8044838709675,
          1995.5774193548384,
          2055.3503548387093,
          2115.12329032258,
          2174.896225806451,
          2234.6691612903223,
          2294.4420967741935,
          2354.2150322580646,
          2413.9879677419353,
          2473.760903225806,
          2533.533838709677,
          2593.3067741935483,
          2653.0797096774195,
          2712.85264516129,
          2772.625580645161,
          2832.398516129032,
          2892.171451612903,
          1098.9833870967736,
          1158.7563225806448,
          1218.5292580645157,
          1278.3021935483866,
          1338.0751290322576,
          1397.8480645161285,
          1457.6209999999996,
          1517.3939354838706,
          1577.1668709677415,
          1636.9398064516126,
          1696.7127419354836,
          1756.4856774193545,
          1816.2586129032254,
          1876.0315483870963,
          1935.8044838709675,
          1995.5774193548384,
          2055.3503548387093,
          2115.12329032258,
          2174.896225806451,
          2234.6691612903223,
          2294.4420967741935,
          2354.2150322580646,
          2413.9879677419353,
          2473.760903225806,
          2533.533838709677,
          2593.3067741935483,
          2653.0797096774195,
          2712.85264516129,
          2772.625580645161,
          2832.398516129032,
          2892.171451612903
         ]
        }
       ],
       "layout": {
        "legend": {
         "tracegroupgap": 0
        },
        "margin": {
         "t": 60
        },
        "template": {
         "data": {
          "bar": [
           {
            "error_x": {
             "color": "#2a3f5f"
            },
            "error_y": {
             "color": "#2a3f5f"
            },
            "marker": {
             "line": {
              "color": "#E5ECF6",
              "width": 0.5
             },
             "pattern": {
              "fillmode": "overlay",
              "size": 10,
              "solidity": 0.2
             }
            },
            "type": "bar"
           }
          ],
          "barpolar": [
           {
            "marker": {
             "line": {
              "color": "#E5ECF6",
              "width": 0.5
             },
             "pattern": {
              "fillmode": "overlay",
              "size": 10,
              "solidity": 0.2
             }
            },
            "type": "barpolar"
           }
          ],
          "carpet": [
           {
            "aaxis": {
             "endlinecolor": "#2a3f5f",
             "gridcolor": "white",
             "linecolor": "white",
             "minorgridcolor": "white",
             "startlinecolor": "#2a3f5f"
            },
            "baxis": {
             "endlinecolor": "#2a3f5f",
             "gridcolor": "white",
             "linecolor": "white",
             "minorgridcolor": "white",
             "startlinecolor": "#2a3f5f"
            },
            "type": "carpet"
           }
          ],
          "choropleth": [
           {
            "colorbar": {
             "outlinewidth": 0,
             "ticks": ""
            },
            "type": "choropleth"
           }
          ],
          "contour": [
           {
            "colorbar": {
             "outlinewidth": 0,
             "ticks": ""
            },
            "colorscale": [
             [
              0,
              "#0d0887"
             ],
             [
              0.1111111111111111,
              "#46039f"
             ],
             [
              0.2222222222222222,
              "#7201a8"
             ],
             [
              0.3333333333333333,
              "#9c179e"
             ],
             [
              0.4444444444444444,
              "#bd3786"
             ],
             [
              0.5555555555555556,
              "#d8576b"
             ],
             [
              0.6666666666666666,
              "#ed7953"
             ],
             [
              0.7777777777777778,
              "#fb9f3a"
             ],
             [
              0.8888888888888888,
              "#fdca26"
             ],
             [
              1,
              "#f0f921"
             ]
            ],
            "type": "contour"
           }
          ],
          "contourcarpet": [
           {
            "colorbar": {
             "outlinewidth": 0,
             "ticks": ""
            },
            "type": "contourcarpet"
           }
          ],
          "heatmap": [
           {
            "colorbar": {
             "outlinewidth": 0,
             "ticks": ""
            },
            "colorscale": [
             [
              0,
              "#0d0887"
             ],
             [
              0.1111111111111111,
              "#46039f"
             ],
             [
              0.2222222222222222,
              "#7201a8"
             ],
             [
              0.3333333333333333,
              "#9c179e"
             ],
             [
              0.4444444444444444,
              "#bd3786"
             ],
             [
              0.5555555555555556,
              "#d8576b"
             ],
             [
              0.6666666666666666,
              "#ed7953"
             ],
             [
              0.7777777777777778,
              "#fb9f3a"
             ],
             [
              0.8888888888888888,
              "#fdca26"
             ],
             [
              1,
              "#f0f921"
             ]
            ],
            "type": "heatmap"
           }
          ],
          "heatmapgl": [
           {
            "colorbar": {
             "outlinewidth": 0,
             "ticks": ""
            },
            "colorscale": [
             [
              0,
              "#0d0887"
             ],
             [
              0.1111111111111111,
              "#46039f"
             ],
             [
              0.2222222222222222,
              "#7201a8"
             ],
             [
              0.3333333333333333,
              "#9c179e"
             ],
             [
              0.4444444444444444,
              "#bd3786"
             ],
             [
              0.5555555555555556,
              "#d8576b"
             ],
             [
              0.6666666666666666,
              "#ed7953"
             ],
             [
              0.7777777777777778,
              "#fb9f3a"
             ],
             [
              0.8888888888888888,
              "#fdca26"
             ],
             [
              1,
              "#f0f921"
             ]
            ],
            "type": "heatmapgl"
           }
          ],
          "histogram": [
           {
            "marker": {
             "pattern": {
              "fillmode": "overlay",
              "size": 10,
              "solidity": 0.2
             }
            },
            "type": "histogram"
           }
          ],
          "histogram2d": [
           {
            "colorbar": {
             "outlinewidth": 0,
             "ticks": ""
            },
            "colorscale": [
             [
              0,
              "#0d0887"
             ],
             [
              0.1111111111111111,
              "#46039f"
             ],
             [
              0.2222222222222222,
              "#7201a8"
             ],
             [
              0.3333333333333333,
              "#9c179e"
             ],
             [
              0.4444444444444444,
              "#bd3786"
             ],
             [
              0.5555555555555556,
              "#d8576b"
             ],
             [
              0.6666666666666666,
              "#ed7953"
             ],
             [
              0.7777777777777778,
              "#fb9f3a"
             ],
             [
              0.8888888888888888,
              "#fdca26"
             ],
             [
              1,
              "#f0f921"
             ]
            ],
            "type": "histogram2d"
           }
          ],
          "histogram2dcontour": [
           {
            "colorbar": {
             "outlinewidth": 0,
             "ticks": ""
            },
            "colorscale": [
             [
              0,
              "#0d0887"
             ],
             [
              0.1111111111111111,
              "#46039f"
             ],
             [
              0.2222222222222222,
              "#7201a8"
             ],
             [
              0.3333333333333333,
              "#9c179e"
             ],
             [
              0.4444444444444444,
              "#bd3786"
             ],
             [
              0.5555555555555556,
              "#d8576b"
             ],
             [
              0.6666666666666666,
              "#ed7953"
             ],
             [
              0.7777777777777778,
              "#fb9f3a"
             ],
             [
              0.8888888888888888,
              "#fdca26"
             ],
             [
              1,
              "#f0f921"
             ]
            ],
            "type": "histogram2dcontour"
           }
          ],
          "mesh3d": [
           {
            "colorbar": {
             "outlinewidth": 0,
             "ticks": ""
            },
            "type": "mesh3d"
           }
          ],
          "parcoords": [
           {
            "line": {
             "colorbar": {
              "outlinewidth": 0,
              "ticks": ""
             }
            },
            "type": "parcoords"
           }
          ],
          "pie": [
           {
            "automargin": true,
            "type": "pie"
           }
          ],
          "scatter": [
           {
            "fillpattern": {
             "fillmode": "overlay",
             "size": 10,
             "solidity": 0.2
            },
            "type": "scatter"
           }
          ],
          "scatter3d": [
           {
            "line": {
             "colorbar": {
              "outlinewidth": 0,
              "ticks": ""
             }
            },
            "marker": {
             "colorbar": {
              "outlinewidth": 0,
              "ticks": ""
             }
            },
            "type": "scatter3d"
           }
          ],
          "scattercarpet": [
           {
            "marker": {
             "colorbar": {
              "outlinewidth": 0,
              "ticks": ""
             }
            },
            "type": "scattercarpet"
           }
          ],
          "scattergeo": [
           {
            "marker": {
             "colorbar": {
              "outlinewidth": 0,
              "ticks": ""
             }
            },
            "type": "scattergeo"
           }
          ],
          "scattergl": [
           {
            "marker": {
             "colorbar": {
              "outlinewidth": 0,
              "ticks": ""
             }
            },
            "type": "scattergl"
           }
          ],
          "scattermapbox": [
           {
            "marker": {
             "colorbar": {
              "outlinewidth": 0,
              "ticks": ""
             }
            },
            "type": "scattermapbox"
           }
          ],
          "scatterpolar": [
           {
            "marker": {
             "colorbar": {
              "outlinewidth": 0,
              "ticks": ""
             }
            },
            "type": "scatterpolar"
           }
          ],
          "scatterpolargl": [
           {
            "marker": {
             "colorbar": {
              "outlinewidth": 0,
              "ticks": ""
             }
            },
            "type": "scatterpolargl"
           }
          ],
          "scatterternary": [
           {
            "marker": {
             "colorbar": {
              "outlinewidth": 0,
              "ticks": ""
             }
            },
            "type": "scatterternary"
           }
          ],
          "surface": [
           {
            "colorbar": {
             "outlinewidth": 0,
             "ticks": ""
            },
            "colorscale": [
             [
              0,
              "#0d0887"
             ],
             [
              0.1111111111111111,
              "#46039f"
             ],
             [
              0.2222222222222222,
              "#7201a8"
             ],
             [
              0.3333333333333333,
              "#9c179e"
             ],
             [
              0.4444444444444444,
              "#bd3786"
             ],
             [
              0.5555555555555556,
              "#d8576b"
             ],
             [
              0.6666666666666666,
              "#ed7953"
             ],
             [
              0.7777777777777778,
              "#fb9f3a"
             ],
             [
              0.8888888888888888,
              "#fdca26"
             ],
             [
              1,
              "#f0f921"
             ]
            ],
            "type": "surface"
           }
          ],
          "table": [
           {
            "cells": {
             "fill": {
              "color": "#EBF0F8"
             },
             "line": {
              "color": "white"
             }
            },
            "header": {
             "fill": {
              "color": "#C8D4E3"
             },
             "line": {
              "color": "white"
             }
            },
            "type": "table"
           }
          ]
         },
         "layout": {
          "annotationdefaults": {
           "arrowcolor": "#2a3f5f",
           "arrowhead": 0,
           "arrowwidth": 1
          },
          "autotypenumbers": "strict",
          "coloraxis": {
           "colorbar": {
            "outlinewidth": 0,
            "ticks": ""
           }
          },
          "colorscale": {
           "diverging": [
            [
             0,
             "#8e0152"
            ],
            [
             0.1,
             "#c51b7d"
            ],
            [
             0.2,
             "#de77ae"
            ],
            [
             0.3,
             "#f1b6da"
            ],
            [
             0.4,
             "#fde0ef"
            ],
            [
             0.5,
             "#f7f7f7"
            ],
            [
             0.6,
             "#e6f5d0"
            ],
            [
             0.7,
             "#b8e186"
            ],
            [
             0.8,
             "#7fbc41"
            ],
            [
             0.9,
             "#4d9221"
            ],
            [
             1,
             "#276419"
            ]
           ],
           "sequential": [
            [
             0,
             "#0d0887"
            ],
            [
             0.1111111111111111,
             "#46039f"
            ],
            [
             0.2222222222222222,
             "#7201a8"
            ],
            [
             0.3333333333333333,
             "#9c179e"
            ],
            [
             0.4444444444444444,
             "#bd3786"
            ],
            [
             0.5555555555555556,
             "#d8576b"
            ],
            [
             0.6666666666666666,
             "#ed7953"
            ],
            [
             0.7777777777777778,
             "#fb9f3a"
            ],
            [
             0.8888888888888888,
             "#fdca26"
            ],
            [
             1,
             "#f0f921"
            ]
           ],
           "sequentialminus": [
            [
             0,
             "#0d0887"
            ],
            [
             0.1111111111111111,
             "#46039f"
            ],
            [
             0.2222222222222222,
             "#7201a8"
            ],
            [
             0.3333333333333333,
             "#9c179e"
            ],
            [
             0.4444444444444444,
             "#bd3786"
            ],
            [
             0.5555555555555556,
             "#d8576b"
            ],
            [
             0.6666666666666666,
             "#ed7953"
            ],
            [
             0.7777777777777778,
             "#fb9f3a"
            ],
            [
             0.8888888888888888,
             "#fdca26"
            ],
            [
             1,
             "#f0f921"
            ]
           ]
          },
          "colorway": [
           "#636efa",
           "#EF553B",
           "#00cc96",
           "#ab63fa",
           "#FFA15A",
           "#19d3f3",
           "#FF6692",
           "#B6E880",
           "#FF97FF",
           "#FECB52"
          ],
          "font": {
           "color": "#2a3f5f"
          },
          "geo": {
           "bgcolor": "white",
           "lakecolor": "white",
           "landcolor": "#E5ECF6",
           "showlakes": true,
           "showland": true,
           "subunitcolor": "white"
          },
          "hoverlabel": {
           "align": "left"
          },
          "hovermode": "closest",
          "mapbox": {
           "style": "light"
          },
          "paper_bgcolor": "white",
          "plot_bgcolor": "#E5ECF6",
          "polar": {
           "angularaxis": {
            "gridcolor": "white",
            "linecolor": "white",
            "ticks": ""
           },
           "bgcolor": "#E5ECF6",
           "radialaxis": {
            "gridcolor": "white",
            "linecolor": "white",
            "ticks": ""
           }
          },
          "scene": {
           "xaxis": {
            "backgroundcolor": "#E5ECF6",
            "gridcolor": "white",
            "gridwidth": 2,
            "linecolor": "white",
            "showbackground": true,
            "ticks": "",
            "zerolinecolor": "white"
           },
           "yaxis": {
            "backgroundcolor": "#E5ECF6",
            "gridcolor": "white",
            "gridwidth": 2,
            "linecolor": "white",
            "showbackground": true,
            "ticks": "",
            "zerolinecolor": "white"
           },
           "zaxis": {
            "backgroundcolor": "#E5ECF6",
            "gridcolor": "white",
            "gridwidth": 2,
            "linecolor": "white",
            "showbackground": true,
            "ticks": "",
            "zerolinecolor": "white"
           }
          },
          "shapedefaults": {
           "line": {
            "color": "#2a3f5f"
           }
          },
          "ternary": {
           "aaxis": {
            "gridcolor": "white",
            "linecolor": "white",
            "ticks": ""
           },
           "baxis": {
            "gridcolor": "white",
            "linecolor": "white",
            "ticks": ""
           },
           "bgcolor": "#E5ECF6",
           "caxis": {
            "gridcolor": "white",
            "linecolor": "white",
            "ticks": ""
           }
          },
          "title": {
           "x": 0.05
          },
          "xaxis": {
           "automargin": true,
           "gridcolor": "white",
           "linecolor": "white",
           "ticks": "",
           "title": {
            "standoff": 15
           },
           "zerolinecolor": "white",
           "zerolinewidth": 2
          },
          "yaxis": {
           "automargin": true,
           "gridcolor": "white",
           "linecolor": "white",
           "ticks": "",
           "title": {
            "standoff": 15
           },
           "zerolinecolor": "white",
           "zerolinewidth": 2
          }
         }
        },
        "xaxis": {
         "anchor": "y",
         "domain": [
          0,
          1
         ],
         "title": {
          "text": "Dias Trabalhados"
         }
        },
        "yaxis": {
         "anchor": "x",
         "domain": [
          0,
          1
         ],
         "title": {
          "text": "Salário Recebido"
         }
        }
       }
      }
     },
     "metadata": {},
     "output_type": "display_data"
    }
   ],
   "source": [
    "grafico.add_scatter(x = x_dias_trab.ravel(), y = prev_sala.ravel(), name= 'previsões')\n",
    "grafico.show()"
   ]
  },
  {
   "attachments": {
    "image.png": {
     "image/png": "[encoded data removed]"
    }
   },
   "cell_type": "markdown",
   "metadata": {},
   "source": [
    "![image.png](attachment:image.png)"
   ]
  },
  {
   "cell_type": "code",
   "execution_count": 22,
   "metadata": {
    "colab": {
     "base_uri": "https://localhost:8080/"
    },
    "id": "Asm-OHWhZolu",
    "outputId": "8fa6f3cf-93d4-4b45-d91b-249fbca7458c"
   },
   "outputs": [
    {
     "name": "stdout",
     "output_type": "stream",
     "text": [
      "O maior valor residual absoluto é:\n",
      "dias_trabalhados       4.00\n",
      "salario_recebido    5101.45\n",
      "Name: 34, dtype: float64\n",
      "\n",
      "Diferença absoluta de:\n",
      "3823.147806451613\n"
     ]
    }
   ],
   "source": [
    "residuals = np.abs(y_salario_rec - prev_sala)\n",
    "max_residual_idx = np.argmax(residuals)\n",
    "max_residual_obs = df.loc[max_residual_idx]\n",
    "diferença = (df.loc[max_residual_idx].iloc[1] - prev_sala[max_residual_idx])\n",
    "\n",
    "print(\"O maior valor residual absoluto é:\")\n",
    "print(max_residual_obs)\n",
    "print('\\nDiferença absoluta de:')\n",
    "print(diferença[0])\n"
   ]
  },
  {
   "cell_type": "markdown",
   "metadata": {
    "id": "M6KzNuiXTpuw"
   },
   "source": [
    "valor preditivo de salario para 15 dias de trabalho "
   ]
  },
  {
   "cell_type": "code",
   "execution_count": 23,
   "metadata": {
    "colab": {
     "base_uri": "https://localhost:8080/"
    },
    "id": "g2X9MtSoTLdX",
    "outputId": "e4d18b59-80d4-437c-aa9a-1e2c9f1ec358"
   },
   "outputs": [
    {
     "data": {
      "text/plain": [
       "array([[1935.80448387]])"
      ]
     },
     "execution_count": 23,
     "metadata": {},
     "output_type": "execute_result"
    }
   ],
   "source": [
    "qz_dias_trab = 15\n",
    "previsao_salario.intercept_ + previsao_salario.coef_ * qz_dias_trab"
   ]
  },
  {
   "cell_type": "markdown",
   "metadata": {
    "id": "nvKT_D4tYa2F"
   },
   "source": [
    "another approch ->"
   ]
  },
  {
   "cell_type": "code",
   "execution_count": 24,
   "metadata": {
    "colab": {
     "base_uri": "https://localhost:8080/"
    },
    "id": "fMz5AR4_UJel",
    "outputId": "66fedaf0-5bca-43f8-e146-27f0ecacbb81"
   },
   "outputs": [
    {
     "data": {
      "text/plain": [
       "array([[1517.39393548]])"
      ]
     },
     "execution_count": 24,
     "metadata": {},
     "output_type": "execute_result"
    }
   ],
   "source": [
    "previsao_salario.predict([[8]])"
   ]
  },
  {
   "attachments": {},
   "cell_type": "markdown",
   "metadata": {
    "id": "478jh3oUU0r2"
   },
   "source": [
    "### Verificando qualidade do algoritmo\n",
    "quanto mais proximo de 1 melhor"
   ]
  },
  {
   "cell_type": "code",
   "execution_count": 25,
   "metadata": {
    "colab": {
     "base_uri": "https://localhost:8080/"
    },
    "id": "c0yCI_GnU3O7",
    "outputId": "6f2affb3-4c7e-4aa6-ff27-cef82cfff487"
   },
   "outputs": [
    {
     "data": {
      "text/plain": [
       "0.1472727975930357"
      ]
     },
     "execution_count": 25,
     "metadata": {},
     "output_type": "execute_result"
    }
   ],
   "source": [
    "previsao_salario.score(x_dias_trab, y_salario_rec)"
   ]
  },
  {
   "cell_type": "code",
   "execution_count": 26,
   "metadata": {
    "id": "jhoK469HVSql"
   },
   "outputs": [],
   "source": [
    "from sklearn.metrics import mean_squared_error, mean_absolute_error"
   ]
  },
  {
   "cell_type": "markdown",
   "metadata": {
    "id": "OYH1-0dcWQBj"
   },
   "source": [
    "Verificando o mean squared error do modelo"
   ]
  },
  {
   "cell_type": "code",
   "execution_count": 27,
   "metadata": {
    "colab": {
     "base_uri": "https://localhost:8080/"
    },
    "id": "ruiR-aG6VYiz",
    "outputId": "6fe372d6-0973-4bf8-be7e-e9736e15150c"
   },
   "outputs": [
    {
     "data": {
      "text/plain": [
       "1654957.0879975234"
      ]
     },
     "execution_count": 27,
     "metadata": {},
     "output_type": "execute_result"
    }
   ],
   "source": [
    "MSE = mean_squared_error(y_salario_rec, prev_sala)\n",
    "MSE"
   ]
  },
  {
   "cell_type": "code",
   "execution_count": 28,
   "metadata": {
    "colab": {
     "base_uri": "https://localhost:8080/"
    },
    "id": "Cq2Fi9RgWw7p",
    "outputId": "10398c08-3b5f-4bf1-a84c-a8fcdf1318ce"
   },
   "outputs": [
    {
     "data": {
      "text/plain": [
       "1286.4513546953585"
      ]
     },
     "execution_count": 28,
     "metadata": {},
     "output_type": "execute_result"
    }
   ],
   "source": [
    "np.sqrt(MSE)"
   ]
  },
  {
   "cell_type": "markdown",
   "metadata": {
    "id": "-CZgqjFbWRAy"
   },
   "source": [
    "Verificando o mean absolute error do modelo"
   ]
  },
  {
   "cell_type": "code",
   "execution_count": 29,
   "metadata": {
    "colab": {
     "base_uri": "https://localhost:8080/"
    },
    "id": "xx6kU692V50-",
    "outputId": "9c139a49-989c-4364-a43c-f1c1d5e5faf4"
   },
   "outputs": [
    {
     "data": {
      "text/plain": [
       "995.988272632674"
      ]
     },
     "execution_count": 29,
     "metadata": {},
     "output_type": "execute_result"
    }
   ],
   "source": [
    "MAE = mean_absolute_error(y_salario_rec, prev_sala)\n",
    "MAE"
   ]
  }
 ],
 "metadata": {
  "colab": {
   "provenance": [],
   "toc_visible": true
  },
  "kernelspec": {
   "display_name": "Python 3 (ipykernel)",
   "language": "python",
   "name": "python3"
  },
  "language_info": {
   "codemirror_mode": {
    "name": "ipython",
    "version": 3
   },
   "file_extension": ".py",
   "mimetype": "text/x-python",
   "name": "python",
   "nbconvert_exporter": "python",
   "pygments_lexer": "ipython3",
   "version": "3.10.6"
  }
 },
 "nbformat": 4,
 "nbformat_minor": 1
}
