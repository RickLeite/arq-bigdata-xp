{
 "cells": [
  {
   "cell_type": "code",
   "execution_count": 1,
   "metadata": {},
   "outputs": [],
   "source": [
    "import pandas as pd"
   ]
  },
  {
   "cell_type": "code",
   "execution_count": 2,
   "metadata": {},
   "outputs": [],
   "source": [
    "data = pd.read_csv('./data/airports.dat', header=None)"
   ]
  },
  {
   "cell_type": "code",
   "execution_count": 3,
   "metadata": {},
   "outputs": [
    {
     "data": {
      "text/html": [
       "<div>\n",
       "<style scoped>\n",
       "    .dataframe tbody tr th:only-of-type {\n",
       "        vertical-align: middle;\n",
       "    }\n",
       "\n",
       "    .dataframe tbody tr th {\n",
       "        vertical-align: top;\n",
       "    }\n",
       "\n",
       "    .dataframe thead th {\n",
       "        text-align: right;\n",
       "    }\n",
       "</style>\n",
       "<table border=\"1\" class=\"dataframe\">\n",
       "  <thead>\n",
       "    <tr style=\"text-align: right;\">\n",
       "      <th></th>\n",
       "      <th>id</th>\n",
       "      <th>name</th>\n",
       "      <th>city</th>\n",
       "      <th>country</th>\n",
       "      <th>iata</th>\n",
       "      <th>icao</th>\n",
       "      <th>latitude</th>\n",
       "      <th>longitude</th>\n",
       "      <th>altitude</th>\n",
       "      <th>timezone</th>\n",
       "      <th>dst</th>\n",
       "      <th>tz_timezone</th>\n",
       "      <th>type</th>\n",
       "      <th>source</th>\n",
       "    </tr>\n",
       "  </thead>\n",
       "  <tbody>\n",
       "    <tr>\n",
       "      <th>0</th>\n",
       "      <td>1</td>\n",
       "      <td>Goroka Airport</td>\n",
       "      <td>Goroka</td>\n",
       "      <td>Papua New Guinea</td>\n",
       "      <td>GKA</td>\n",
       "      <td>AYGA</td>\n",
       "      <td>-6.081690</td>\n",
       "      <td>145.391998</td>\n",
       "      <td>5282</td>\n",
       "      <td>10</td>\n",
       "      <td>U</td>\n",
       "      <td>Pacific/Port_Moresby</td>\n",
       "      <td>airport</td>\n",
       "      <td>OurAirports</td>\n",
       "    </tr>\n",
       "    <tr>\n",
       "      <th>1</th>\n",
       "      <td>2</td>\n",
       "      <td>Madang Airport</td>\n",
       "      <td>Madang</td>\n",
       "      <td>Papua New Guinea</td>\n",
       "      <td>MAG</td>\n",
       "      <td>AYMD</td>\n",
       "      <td>-5.207080</td>\n",
       "      <td>145.789001</td>\n",
       "      <td>20</td>\n",
       "      <td>10</td>\n",
       "      <td>U</td>\n",
       "      <td>Pacific/Port_Moresby</td>\n",
       "      <td>airport</td>\n",
       "      <td>OurAirports</td>\n",
       "    </tr>\n",
       "    <tr>\n",
       "      <th>2</th>\n",
       "      <td>3</td>\n",
       "      <td>Mount Hagen Kagamuga Airport</td>\n",
       "      <td>Mount Hagen</td>\n",
       "      <td>Papua New Guinea</td>\n",
       "      <td>HGU</td>\n",
       "      <td>AYMH</td>\n",
       "      <td>-5.826790</td>\n",
       "      <td>144.296005</td>\n",
       "      <td>5388</td>\n",
       "      <td>10</td>\n",
       "      <td>U</td>\n",
       "      <td>Pacific/Port_Moresby</td>\n",
       "      <td>airport</td>\n",
       "      <td>OurAirports</td>\n",
       "    </tr>\n",
       "    <tr>\n",
       "      <th>3</th>\n",
       "      <td>4</td>\n",
       "      <td>Nadzab Airport</td>\n",
       "      <td>Nadzab</td>\n",
       "      <td>Papua New Guinea</td>\n",
       "      <td>LAE</td>\n",
       "      <td>AYNZ</td>\n",
       "      <td>-6.569803</td>\n",
       "      <td>146.725977</td>\n",
       "      <td>239</td>\n",
       "      <td>10</td>\n",
       "      <td>U</td>\n",
       "      <td>Pacific/Port_Moresby</td>\n",
       "      <td>airport</td>\n",
       "      <td>OurAirports</td>\n",
       "    </tr>\n",
       "    <tr>\n",
       "      <th>4</th>\n",
       "      <td>5</td>\n",
       "      <td>Port Moresby Jacksons International Airport</td>\n",
       "      <td>Port Moresby</td>\n",
       "      <td>Papua New Guinea</td>\n",
       "      <td>POM</td>\n",
       "      <td>AYPY</td>\n",
       "      <td>-9.443380</td>\n",
       "      <td>147.220001</td>\n",
       "      <td>146</td>\n",
       "      <td>10</td>\n",
       "      <td>U</td>\n",
       "      <td>Pacific/Port_Moresby</td>\n",
       "      <td>airport</td>\n",
       "      <td>OurAirports</td>\n",
       "    </tr>\n",
       "  </tbody>\n",
       "</table>\n",
       "</div>"
      ],
      "text/plain": [
       "   id                                         name          city  \\\n",
       "0   1                               Goroka Airport        Goroka   \n",
       "1   2                               Madang Airport        Madang   \n",
       "2   3                 Mount Hagen Kagamuga Airport   Mount Hagen   \n",
       "3   4                               Nadzab Airport        Nadzab   \n",
       "4   5  Port Moresby Jacksons International Airport  Port Moresby   \n",
       "\n",
       "            country iata  icao  latitude   longitude  altitude timezone dst  \\\n",
       "0  Papua New Guinea  GKA  AYGA -6.081690  145.391998      5282       10   U   \n",
       "1  Papua New Guinea  MAG  AYMD -5.207080  145.789001        20       10   U   \n",
       "2  Papua New Guinea  HGU  AYMH -5.826790  144.296005      5388       10   U   \n",
       "3  Papua New Guinea  LAE  AYNZ -6.569803  146.725977       239       10   U   \n",
       "4  Papua New Guinea  POM  AYPY -9.443380  147.220001       146       10   U   \n",
       "\n",
       "            tz_timezone     type       source  \n",
       "0  Pacific/Port_Moresby  airport  OurAirports  \n",
       "1  Pacific/Port_Moresby  airport  OurAirports  \n",
       "2  Pacific/Port_Moresby  airport  OurAirports  \n",
       "3  Pacific/Port_Moresby  airport  OurAirports  \n",
       "4  Pacific/Port_Moresby  airport  OurAirports  "
      ]
     },
     "execution_count": 3,
     "metadata": {},
     "output_type": "execute_result"
    }
   ],
   "source": [
    "data.columns = ['id', 'name', 'city', 'country', 'iata', 'icao', 'latitude', 'longitude', 'altitude', 'timezone', 'dst', 'tz_timezone', 'type', 'source']\n",
    "\n",
    "data.head()"
   ]
  },
  {
   "cell_type": "code",
   "execution_count": 4,
   "metadata": {},
   "outputs": [
    {
     "name": "stdout",
     "output_type": "stream",
     "text": [
      "A diferença de altitude entre Jorge Newbery Airpark e Altamira Airport é de -106.98 metros.\n"
     ]
    }
   ],
   "source": [
    "import pandas as pd\n",
    "\n",
    "data = pd.read_csv('./data/airports.dat', header=None)\n",
    "data.columns = ['id', 'name', 'city', 'country', 'iata', 'icao', 'latitude', 'longitude', 'altitude', 'timezone', 'dst', 'tz_timezone', 'type', 'source']\n",
    "\n",
    "# Filtra os registros dos aeroportos Jorge Newbery Airpark e Altamira Airport\n",
    "jorge_newbery = data[data['name'] == 'Jorge Newbery Airpark']\n",
    "altamira = data[data['name'] == 'Altamira Airport']\n",
    "\n",
    "jorge_newbery_altitude = jorge_newbery['altitude'].iloc[0]\n",
    "altamira_altitude = altamira['altitude'].iloc[0]\n",
    "\n",
    "diff_altitude = (jorge_newbery_altitude - altamira_altitude) * 0.3048\n",
    "\n",
    "print(f\"A diferença de altitude entre Jorge Newbery Airpark e Altamira Airport é de {diff_altitude:.2f} metros.\")\n"
   ]
  },
  {
   "cell_type": "code",
   "execution_count": 5,
   "metadata": {},
   "outputs": [
    {
     "name": "stdout",
     "output_type": "stream",
     "text": [
      "Existem 3 aeroportos na cidade de São Paulo.\n"
     ]
    }
   ],
   "source": [
    "sao_paulo = data[data['city'].str.lower() == 'sao paulo']\n",
    "\n",
    "num_aeroportos = len(sao_paulo)\n",
    "\n",
    "print(f\"Existem {num_aeroportos} aeroportos na cidade de São Paulo.\")"
   ]
  },
  {
   "cell_type": "code",
   "execution_count": 6,
   "metadata": {},
   "outputs": [
    {
     "name": "stdout",
     "output_type": "stream",
     "text": [
      "O Brasil possui 264 aeroportos.\n"
     ]
    }
   ],
   "source": [
    "brazil = data[data['country'] == 'Brazil']\n",
    "\n",
    "num_aeroportos = len(brazil)\n",
    "\n",
    "print(f\"O Brasil possui {num_aeroportos} aeroportos.\")"
   ]
  },
  {
   "cell_type": "code",
   "execution_count": 7,
   "metadata": {},
   "outputs": [
    {
     "name": "stdout",
     "output_type": "stream",
     "text": [
      "A cidade com mais aeroportos é: London\n"
     ]
    }
   ],
   "source": [
    "count_by_city = data.groupby('city').size().reset_index(name='num_aeroportos')\n",
    "\n",
    "count_by_city = count_by_city.sort_values('num_aeroportos', ascending=False)\n",
    "\n",
    "cidade_com_mais_aeroportos = count_by_city.iloc[0]['city']\n",
    "\n",
    "print(f\"A cidade com mais aeroportos é: {cidade_com_mais_aeroportos}\")"
   ]
  },
  {
   "cell_type": "code",
   "execution_count": 8,
   "metadata": {},
   "outputs": [
    {
     "name": "stdout",
     "output_type": "stream",
     "text": [
      "O país com mais aeroportos é: United States\n"
     ]
    }
   ],
   "source": [
    "count_by_country = data.groupby('country').size().reset_index(name='num_aeroportos')\n",
    "\n",
    "count_by_country = count_by_country.sort_values('num_aeroportos', ascending=False)\n",
    "\n",
    "pais_com_mais_aeroportos = count_by_country.iloc[0]['country']\n",
    "\n",
    "print(f\"O país com mais aeroportos é: {pais_com_mais_aeroportos}\")"
   ]
  },
  {
   "cell_type": "code",
   "execution_count": 9,
   "metadata": {},
   "outputs": [
    {
     "name": "stdout",
     "output_type": "stream",
     "text": [
      "O aeroporto com maior altitude é: Daocheng Yading Airport\n"
     ]
    }
   ],
   "source": [
    "sorted_data = data.sort_values('altitude', ascending=False)\n",
    "\n",
    "aeroporto_com_maior_altitude = sorted_data.iloc[0]['name']\n",
    "\n",
    "print(f\"O aeroporto com maior altitude é: {aeroporto_com_maior_altitude}\")"
   ]
  },
  {
   "cell_type": "code",
   "execution_count": 10,
   "metadata": {},
   "outputs": [
    {
     "name": "stdout",
     "output_type": "stream",
     "text": [
      "A média da altitude dos aeroportos do Brasil é: 1126.22 metros.\n"
     ]
    }
   ],
   "source": [
    "brazilian_airports = data.loc[data['country'] == 'Brazil']\n",
    "\n",
    "mean_altitude = brazilian_airports['altitude'].mean()\n",
    "\n",
    "print(f\"A média da altitude dos aeroportos do Brasil é: {mean_altitude:.2f} metros.\")"
   ]
  },
  {
   "cell_type": "code",
   "execution_count": 11,
   "metadata": {},
   "outputs": [
    {
     "name": "stdout",
     "output_type": "stream",
     "text": [
      "Existem 7344 DST no dataset.\n"
     ]
    }
   ],
   "source": [
    "import csv\n",
    "\n",
    "with open('./data/airports.dat', 'r', encoding='utf8') as f:\n",
    "    reader = csv.reader(f)\n",
    "    next(reader) \n",
    "    dst_count = 0\n",
    "    for row in reader:\n",
    "        if row[10] != '\\\\N': \n",
    "            dst_count += 1\n",
    "            \n",
    "print(f'Existem {dst_count} DST no dataset.')"
   ]
  },
  {
   "cell_type": "code",
   "execution_count": 23,
   "metadata": {},
   "outputs": [
    {
     "name": "stdout",
     "output_type": "stream",
     "text": [
      "O dataset possui aeroportos de 237 países distintos.\n"
     ]
    }
   ],
   "source": [
    "num_paises = len(data['country'].unique())\n",
    "\n",
    "print(\"O dataset possui aeroportos de\", num_paises, \"países distintos.\")"
   ]
  }
 ],
 "metadata": {
  "kernelspec": {
   "display_name": "Python 3",
   "language": "python",
   "name": "python3"
  },
  "language_info": {
   "codemirror_mode": {
    "name": "ipython",
    "version": 3
   },
   "file_extension": ".py",
   "mimetype": "text/x-python",
   "name": "python",
   "nbconvert_exporter": "python",
   "pygments_lexer": "ipython3",
   "version": "3.10.6"
  },
  "orig_nbformat": 4
 },
 "nbformat": 4,
 "nbformat_minor": 2
}
